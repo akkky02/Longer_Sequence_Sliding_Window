{
  "cells": [
    {
      "cell_type": "code",
      "source": [
        "!nvidia-smi"
      ],
      "metadata": {
        "colab": {
          "base_uri": "https://localhost:8080/"
        },
        "id": "f4zD3M8D5LqX",
        "outputId": "b0a9f417-22ed-4f6d-a5b8-0559f21bd42e"
      },
      "id": "f4zD3M8D5LqX",
      "execution_count": 1,
      "outputs": [
        {
          "output_type": "stream",
          "name": "stdout",
          "text": [
            "Fri Nov 17 19:12:00 2023       \n",
            "+-----------------------------------------------------------------------------+\n",
            "| NVIDIA-SMI 525.105.17   Driver Version: 525.105.17   CUDA Version: 12.0     |\n",
            "|-------------------------------+----------------------+----------------------+\n",
            "| GPU  Name        Persistence-M| Bus-Id        Disp.A | Volatile Uncorr. ECC |\n",
            "| Fan  Temp  Perf  Pwr:Usage/Cap|         Memory-Usage | GPU-Util  Compute M. |\n",
            "|                               |                      |               MIG M. |\n",
            "|===============================+======================+======================|\n",
            "|   0  Tesla T4            Off  | 00000000:00:04.0 Off |                    0 |\n",
            "| N/A   54C    P8    10W /  70W |      0MiB / 15360MiB |      0%      Default |\n",
            "|                               |                      |                  N/A |\n",
            "+-------------------------------+----------------------+----------------------+\n",
            "                                                                               \n",
            "+-----------------------------------------------------------------------------+\n",
            "| Processes:                                                                  |\n",
            "|  GPU   GI   CI        PID   Type   Process name                  GPU Memory |\n",
            "|        ID   ID                                                   Usage      |\n",
            "|=============================================================================|\n",
            "|  No running processes found                                                 |\n",
            "+-----------------------------------------------------------------------------+\n"
          ]
        }
      ]
    },
    {
      "cell_type": "markdown",
      "id": "jUCip2ZWCASt",
      "metadata": {
        "id": "jUCip2ZWCASt"
      },
      "source": [
        "# <font color = 'pickle'>**Handling Long Sequence- Chunking** </font>"
      ]
    },
    {
      "cell_type": "markdown",
      "id": "b84121b7-f061-4e3b-8e4d-95e94859115b",
      "metadata": {
        "id": "b84121b7-f061-4e3b-8e4d-95e94859115b"
      },
      "source": [
        "# <font color = 'pickle'>**Binary Classification - Sentiment Analysis with the IMDB Dataset** </font>\n",
        "\n",
        "\n",
        "\n",
        "\n"
      ]
    },
    {
      "cell_type": "markdown",
      "id": "fj41POPjrtzA",
      "metadata": {
        "id": "fj41POPjrtzA"
      },
      "source": [
        "# <font color = 'pickle'> **Setting up the Environment** </font>"
      ]
    },
    {
      "cell_type": "code",
      "execution_count": 2,
      "id": "0d54de23-80e9-4e1b-816c-6f6916c92836",
      "metadata": {
        "colab": {
          "base_uri": "https://localhost:8080/"
        },
        "execution": {
          "iopub.execute_input": "2022-12-23T23:12:55.528562Z",
          "iopub.status.busy": "2022-12-23T23:12:55.528020Z",
          "iopub.status.idle": "2022-12-23T23:12:55.539182Z",
          "shell.execute_reply": "2022-12-23T23:12:55.538417Z",
          "shell.execute_reply.started": "2022-12-23T23:12:55.528532Z"
        },
        "id": "0d54de23-80e9-4e1b-816c-6f6916c92836",
        "outputId": "6ce80916-4e49-41a9-82c2-09ce2cbca848",
        "tags": []
      },
      "outputs": [
        {
          "output_type": "stream",
          "name": "stdout",
          "text": [
            "Drive already mounted at /content/drive; to attempt to forcibly remount, call drive.mount(\"/content/drive\", force_remount=True).\n"
          ]
        }
      ],
      "source": [
        "from pathlib import Path\n",
        "if 'google.colab' in str(get_ipython()):\n",
        "    from google.colab import drive\n",
        "    drive.mount(\"/content/drive\")\n",
        "    !pip install datasets transformers evaluate wandb accelerate -U -qq\n",
        "    base_folder = Path(\"/content/drive/MyDrive/BUAN 6342.501 - Applied Natural Language Processing (Harpreet Singh)/\")"
      ]
    },
    {
      "cell_type": "code",
      "source": [
        "# CHANGE FOLDERS TO WHERE YOU WANT TO SAVE DATA AND MODELS\n",
        "data_folder = base_folder/'Lectures/0_Data_Folder'\n",
        "model_folder = base_folder/'Assignments/HW7/models'\n",
        "model_folder.mkdir(exist_ok=True)"
      ],
      "metadata": {
        "id": "K7L4Gq9ZOntu"
      },
      "id": "K7L4Gq9ZOntu",
      "execution_count": 3,
      "outputs": []
    },
    {
      "cell_type": "code",
      "source": [
        "from transformers import AutoConfig, AutoModelForSequenceClassification, AutoTokenizer, Trainer, TrainingArguments\n",
        "from transformers import AutoTokenizer, DataCollatorWithPadding, pipeline\n",
        "from datasets import load_dataset, DatasetDict, Dataset, ClassLabel\n",
        "import evaluate\n",
        "\n",
        "import torch\n",
        "from torch.utils.data import DataLoader\n",
        "\n",
        "import wandb\n",
        "\n",
        "import numpy as np\n",
        "from sklearn.metrics import ConfusionMatrixDisplay\n",
        "import matplotlib.pyplot as plt\n",
        "import random\n",
        "\n",
        "import textwrap"
      ],
      "metadata": {
        "id": "Of-EsuD5QEhC"
      },
      "id": "Of-EsuD5QEhC",
      "execution_count": 4,
      "outputs": []
    },
    {
      "cell_type": "markdown",
      "id": "O_xxXoyw_2x1",
      "metadata": {
        "id": "O_xxXoyw_2x1"
      },
      "source": [
        "# <font color = 'pickle'> **Exploring and Understanding Dataset**"
      ]
    },
    {
      "cell_type": "markdown",
      "id": "b906904c-8f24-4de0-8e07-720863e8cd99",
      "metadata": {
        "id": "b906904c-8f24-4de0-8e07-720863e8cd99"
      },
      "source": [
        "## <font color = 'pickle'> **Load Data set**\n",
        "    \n"
      ]
    },
    {
      "cell_type": "code",
      "execution_count": 5,
      "id": "yC6lJrxYvxeF",
      "metadata": {
        "id": "yC6lJrxYvxeF"
      },
      "outputs": [],
      "source": [
        "from datasets import load_dataset, DatasetDict"
      ]
    },
    {
      "cell_type": "code",
      "execution_count": 6,
      "id": "1JpTLLoCvuAY",
      "metadata": {
        "id": "1JpTLLoCvuAY"
      },
      "outputs": [],
      "source": [
        "stack_dataset = load_dataset('csv', data_files= str(data_folder /'multiclass_hw_basic_clean.csv'))"
      ]
    },
    {
      "cell_type": "markdown",
      "id": "MluH2KHxHfF0",
      "metadata": {
        "id": "MluH2KHxHfF0"
      },
      "source": [
        "## <font color = 'pickle'> **Understanding your data**"
      ]
    },
    {
      "cell_type": "code",
      "execution_count": 7,
      "id": "13c259d6-3936-47d7-aae4-467cf479368d",
      "metadata": {
        "colab": {
          "base_uri": "https://localhost:8080/"
        },
        "execution": {
          "iopub.execute_input": "2022-12-23T23:13:19.870767Z",
          "iopub.status.busy": "2022-12-23T23:13:19.870527Z",
          "iopub.status.idle": "2022-12-23T23:13:20.007104Z",
          "shell.execute_reply": "2022-12-23T23:13:20.006616Z",
          "shell.execute_reply.started": "2022-12-23T23:13:19.870741Z"
        },
        "id": "13c259d6-3936-47d7-aae4-467cf479368d",
        "outputId": "bb18c116-a675-4483-b3ec-4f641aed9006",
        "tags": []
      },
      "outputs": [
        {
          "output_type": "stream",
          "name": "stdout",
          "text": [
            "DatasetDict({\n",
            "    train: Dataset({\n",
            "        features: ['Unnamed: 0.1', 'Unnamed: 0', 'Title', 'Body', 'cleaned_text', 'Tags', 'Tag_Number_final', 'combined_text', 'basic_cleaned_text'],\n",
            "        num_rows: 188878\n",
            "    })\n",
            "})\n"
          ]
        }
      ],
      "source": [
        "print(stack_dataset)"
      ]
    },
    {
      "cell_type": "markdown",
      "id": "G8mgUnP9fS7i",
      "metadata": {
        "id": "G8mgUnP9fS7i"
      },
      "source": [
        "## <font color = 'pickle'> **Understanding the datatype of columns**\n"
      ]
    },
    {
      "cell_type": "code",
      "execution_count": 8,
      "id": "wq_SXtXzeXWg",
      "metadata": {
        "colab": {
          "base_uri": "https://localhost:8080/"
        },
        "id": "wq_SXtXzeXWg",
        "outputId": "1a6ff85e-4eac-475c-a491-327fd4be19a2"
      },
      "outputs": [
        {
          "output_type": "execute_result",
          "data": {
            "text/plain": [
              "{'Unnamed: 0.1': Value(dtype='int64', id=None),\n",
              " 'Unnamed: 0': Value(dtype='int64', id=None),\n",
              " 'Title': Value(dtype='string', id=None),\n",
              " 'Body': Value(dtype='string', id=None),\n",
              " 'cleaned_text': Value(dtype='string', id=None),\n",
              " 'Tags': Value(dtype='string', id=None),\n",
              " 'Tag_Number_final': Value(dtype='int64', id=None),\n",
              " 'combined_text': Value(dtype='string', id=None),\n",
              " 'basic_cleaned_text': Value(dtype='string', id=None)}"
            ]
          },
          "metadata": {},
          "execution_count": 8
        }
      ],
      "source": [
        "stack_dataset['train'].features"
      ]
    },
    {
      "cell_type": "markdown",
      "id": "z80MwfKWSuxn",
      "metadata": {
        "id": "z80MwfKWSuxn"
      },
      "source": [
        "## <font color = 'pickle'> **Acess indivdual element** </font>\n",
        " The dataset behaves like an Python array or list. We can use the familiar indexing/slicing methods to access individual elements."
      ]
    },
    {
      "cell_type": "code",
      "execution_count": 9,
      "id": "McaQFKL94fff",
      "metadata": {
        "id": "McaQFKL94fff"
      },
      "outputs": [],
      "source": [
        "# Assuming 'stack_dataset' is a huggingface dataset\n",
        "# Select only the desired columns and rename them\n",
        "selected_columns = {\n",
        "    'text': stack_dataset['train']['basic_cleaned_text'],\n",
        "    'label': stack_dataset['train']['Tag_Number_final']\n",
        "}\n",
        "\n",
        "# Create a new dataset with the selected columns\n",
        "stack_selected_columns = Dataset.from_dict(selected_columns)\n"
      ]
    },
    {
      "cell_type": "code",
      "source": [
        "stack_selected_columns"
      ],
      "metadata": {
        "colab": {
          "base_uri": "https://localhost:8080/"
        },
        "id": "HUfQZ4TVxNGh",
        "outputId": "f485b41d-f532-442f-dd97-b7839dfad562"
      },
      "id": "HUfQZ4TVxNGh",
      "execution_count": 10,
      "outputs": [
        {
          "output_type": "execute_result",
          "data": {
            "text/plain": [
              "Dataset({\n",
              "    features: ['text', 'label'],\n",
              "    num_rows: 188878\n",
              "})"
            ]
          },
          "metadata": {},
          "execution_count": 10
        }
      ]
    },
    {
      "cell_type": "code",
      "execution_count": 11,
      "id": "qQnukZJUCTNh",
      "metadata": {
        "colab": {
          "base_uri": "https://localhost:8080/"
        },
        "id": "qQnukZJUCTNh",
        "outputId": "17e1c7b2-77c2-4e5c-b332-b813266b6bd5"
      },
      "outputs": [
        {
          "output_type": "execute_result",
          "data": {
            "text/plain": [
              "{'text': Value(dtype='string', id=None),\n",
              " 'label': Value(dtype='int64', id=None)}"
            ]
          },
          "metadata": {},
          "execution_count": 11
        }
      ],
      "source": [
        "stack_selected_columns.features"
      ]
    },
    {
      "cell_type": "markdown",
      "id": "CzxEpA9FCYjC",
      "metadata": {
        "id": "CzxEpA9FCYjC"
      },
      "source": [
        "## <font color = 'pickle'> **Exploratory Data Analysis (EDA)**"
      ]
    },
    {
      "cell_type": "markdown",
      "id": "cWJBOfEj4_lE",
      "metadata": {
        "id": "cWJBOfEj4_lE"
      },
      "source": [
        "### <font color = 'pickle'> **Change dataset format to Pandas**  </font>\n",
        "We will convert the datasets to Pandas DataFrames for visualization and Exploratory Data Analysis (EDA) because Pandas provides a wide range of tools and functions that simplify data manipulation, aggregation, and visualization, making it an ideal choice for these tasks"
      ]
    },
    {
      "cell_type": "code",
      "execution_count": 12,
      "id": "HjQ2Q-3d14UL",
      "metadata": {
        "id": "HjQ2Q-3d14UL"
      },
      "outputs": [],
      "source": [
        "# Set the format to Pandas\n",
        "stack_selected_columns.set_format(type = 'pandas')"
      ]
    },
    {
      "cell_type": "code",
      "execution_count": 13,
      "id": "nM-OqQ493Io9",
      "metadata": {
        "id": "nM-OqQ493Io9"
      },
      "outputs": [],
      "source": [
        "# get all rows the dataset\n",
        "df = stack_selected_columns[:]"
      ]
    },
    {
      "cell_type": "code",
      "execution_count": 14,
      "id": "Aah_Ji9EdgSQ",
      "metadata": {
        "colab": {
          "base_uri": "https://localhost:8080/",
          "height": 206
        },
        "id": "Aah_Ji9EdgSQ",
        "outputId": "43ecaf51-9acd-4959-b687-f7163632d76e"
      },
      "outputs": [
        {
          "output_type": "execute_result",
          "data": {
            "text/plain": [
              "                                                text  label\n",
              "0  detail disclosure indicator on UIButton Is the...      8\n",
              "1  hello world fails to show up in emulator I fol...      4\n",
              "2  Why is JSHint throwing a \"possible strict viol...      3\n",
              "3  Programmatically Make Bound Column Invisible I...      9\n",
              "4  More than one EditText - not getting focus, no...      4"
            ],
            "text/html": [
              "\n",
              "  <div id=\"df-b894b35d-8440-4c2b-8330-925cedd217f5\" class=\"colab-df-container\">\n",
              "    <div>\n",
              "<style scoped>\n",
              "    .dataframe tbody tr th:only-of-type {\n",
              "        vertical-align: middle;\n",
              "    }\n",
              "\n",
              "    .dataframe tbody tr th {\n",
              "        vertical-align: top;\n",
              "    }\n",
              "\n",
              "    .dataframe thead th {\n",
              "        text-align: right;\n",
              "    }\n",
              "</style>\n",
              "<table border=\"1\" class=\"dataframe\">\n",
              "  <thead>\n",
              "    <tr style=\"text-align: right;\">\n",
              "      <th></th>\n",
              "      <th>text</th>\n",
              "      <th>label</th>\n",
              "    </tr>\n",
              "  </thead>\n",
              "  <tbody>\n",
              "    <tr>\n",
              "      <th>0</th>\n",
              "      <td>detail disclosure indicator on UIButton Is the...</td>\n",
              "      <td>8</td>\n",
              "    </tr>\n",
              "    <tr>\n",
              "      <th>1</th>\n",
              "      <td>hello world fails to show up in emulator I fol...</td>\n",
              "      <td>4</td>\n",
              "    </tr>\n",
              "    <tr>\n",
              "      <th>2</th>\n",
              "      <td>Why is JSHint throwing a \"possible strict viol...</td>\n",
              "      <td>3</td>\n",
              "    </tr>\n",
              "    <tr>\n",
              "      <th>3</th>\n",
              "      <td>Programmatically Make Bound Column Invisible I...</td>\n",
              "      <td>9</td>\n",
              "    </tr>\n",
              "    <tr>\n",
              "      <th>4</th>\n",
              "      <td>More than one EditText - not getting focus, no...</td>\n",
              "      <td>4</td>\n",
              "    </tr>\n",
              "  </tbody>\n",
              "</table>\n",
              "</div>\n",
              "    <div class=\"colab-df-buttons\">\n",
              "\n",
              "  <div class=\"colab-df-container\">\n",
              "    <button class=\"colab-df-convert\" onclick=\"convertToInteractive('df-b894b35d-8440-4c2b-8330-925cedd217f5')\"\n",
              "            title=\"Convert this dataframe to an interactive table.\"\n",
              "            style=\"display:none;\">\n",
              "\n",
              "  <svg xmlns=\"http://www.w3.org/2000/svg\" height=\"24px\" viewBox=\"0 -960 960 960\">\n",
              "    <path d=\"M120-120v-720h720v720H120Zm60-500h600v-160H180v160Zm220 220h160v-160H400v160Zm0 220h160v-160H400v160ZM180-400h160v-160H180v160Zm440 0h160v-160H620v160ZM180-180h160v-160H180v160Zm440 0h160v-160H620v160Z\"/>\n",
              "  </svg>\n",
              "    </button>\n",
              "\n",
              "  <style>\n",
              "    .colab-df-container {\n",
              "      display:flex;\n",
              "      gap: 12px;\n",
              "    }\n",
              "\n",
              "    .colab-df-convert {\n",
              "      background-color: #E8F0FE;\n",
              "      border: none;\n",
              "      border-radius: 50%;\n",
              "      cursor: pointer;\n",
              "      display: none;\n",
              "      fill: #1967D2;\n",
              "      height: 32px;\n",
              "      padding: 0 0 0 0;\n",
              "      width: 32px;\n",
              "    }\n",
              "\n",
              "    .colab-df-convert:hover {\n",
              "      background-color: #E2EBFA;\n",
              "      box-shadow: 0px 1px 2px rgba(60, 64, 67, 0.3), 0px 1px 3px 1px rgba(60, 64, 67, 0.15);\n",
              "      fill: #174EA6;\n",
              "    }\n",
              "\n",
              "    .colab-df-buttons div {\n",
              "      margin-bottom: 4px;\n",
              "    }\n",
              "\n",
              "    [theme=dark] .colab-df-convert {\n",
              "      background-color: #3B4455;\n",
              "      fill: #D2E3FC;\n",
              "    }\n",
              "\n",
              "    [theme=dark] .colab-df-convert:hover {\n",
              "      background-color: #434B5C;\n",
              "      box-shadow: 0px 1px 3px 1px rgba(0, 0, 0, 0.15);\n",
              "      filter: drop-shadow(0px 1px 2px rgba(0, 0, 0, 0.3));\n",
              "      fill: #FFFFFF;\n",
              "    }\n",
              "  </style>\n",
              "\n",
              "    <script>\n",
              "      const buttonEl =\n",
              "        document.querySelector('#df-b894b35d-8440-4c2b-8330-925cedd217f5 button.colab-df-convert');\n",
              "      buttonEl.style.display =\n",
              "        google.colab.kernel.accessAllowed ? 'block' : 'none';\n",
              "\n",
              "      async function convertToInteractive(key) {\n",
              "        const element = document.querySelector('#df-b894b35d-8440-4c2b-8330-925cedd217f5');\n",
              "        const dataTable =\n",
              "          await google.colab.kernel.invokeFunction('convertToInteractive',\n",
              "                                                    [key], {});\n",
              "        if (!dataTable) return;\n",
              "\n",
              "        const docLinkHtml = 'Like what you see? Visit the ' +\n",
              "          '<a target=\"_blank\" href=https://colab.research.google.com/notebooks/data_table.ipynb>data table notebook</a>'\n",
              "          + ' to learn more about interactive tables.';\n",
              "        element.innerHTML = '';\n",
              "        dataTable['output_type'] = 'display_data';\n",
              "        await google.colab.output.renderOutput(dataTable, element);\n",
              "        const docLink = document.createElement('div');\n",
              "        docLink.innerHTML = docLinkHtml;\n",
              "        element.appendChild(docLink);\n",
              "      }\n",
              "    </script>\n",
              "  </div>\n",
              "\n",
              "\n",
              "<div id=\"df-b0d82771-c3e2-4808-9a39-4f4dc13c05fe\">\n",
              "  <button class=\"colab-df-quickchart\" onclick=\"quickchart('df-b0d82771-c3e2-4808-9a39-4f4dc13c05fe')\"\n",
              "            title=\"Suggest charts\"\n",
              "            style=\"display:none;\">\n",
              "\n",
              "<svg xmlns=\"http://www.w3.org/2000/svg\" height=\"24px\"viewBox=\"0 0 24 24\"\n",
              "     width=\"24px\">\n",
              "    <g>\n",
              "        <path d=\"M19 3H5c-1.1 0-2 .9-2 2v14c0 1.1.9 2 2 2h14c1.1 0 2-.9 2-2V5c0-1.1-.9-2-2-2zM9 17H7v-7h2v7zm4 0h-2V7h2v10zm4 0h-2v-4h2v4z\"/>\n",
              "    </g>\n",
              "</svg>\n",
              "  </button>\n",
              "\n",
              "<style>\n",
              "  .colab-df-quickchart {\n",
              "      --bg-color: #E8F0FE;\n",
              "      --fill-color: #1967D2;\n",
              "      --hover-bg-color: #E2EBFA;\n",
              "      --hover-fill-color: #174EA6;\n",
              "      --disabled-fill-color: #AAA;\n",
              "      --disabled-bg-color: #DDD;\n",
              "  }\n",
              "\n",
              "  [theme=dark] .colab-df-quickchart {\n",
              "      --bg-color: #3B4455;\n",
              "      --fill-color: #D2E3FC;\n",
              "      --hover-bg-color: #434B5C;\n",
              "      --hover-fill-color: #FFFFFF;\n",
              "      --disabled-bg-color: #3B4455;\n",
              "      --disabled-fill-color: #666;\n",
              "  }\n",
              "\n",
              "  .colab-df-quickchart {\n",
              "    background-color: var(--bg-color);\n",
              "    border: none;\n",
              "    border-radius: 50%;\n",
              "    cursor: pointer;\n",
              "    display: none;\n",
              "    fill: var(--fill-color);\n",
              "    height: 32px;\n",
              "    padding: 0;\n",
              "    width: 32px;\n",
              "  }\n",
              "\n",
              "  .colab-df-quickchart:hover {\n",
              "    background-color: var(--hover-bg-color);\n",
              "    box-shadow: 0 1px 2px rgba(60, 64, 67, 0.3), 0 1px 3px 1px rgba(60, 64, 67, 0.15);\n",
              "    fill: var(--button-hover-fill-color);\n",
              "  }\n",
              "\n",
              "  .colab-df-quickchart-complete:disabled,\n",
              "  .colab-df-quickchart-complete:disabled:hover {\n",
              "    background-color: var(--disabled-bg-color);\n",
              "    fill: var(--disabled-fill-color);\n",
              "    box-shadow: none;\n",
              "  }\n",
              "\n",
              "  .colab-df-spinner {\n",
              "    border: 2px solid var(--fill-color);\n",
              "    border-color: transparent;\n",
              "    border-bottom-color: var(--fill-color);\n",
              "    animation:\n",
              "      spin 1s steps(1) infinite;\n",
              "  }\n",
              "\n",
              "  @keyframes spin {\n",
              "    0% {\n",
              "      border-color: transparent;\n",
              "      border-bottom-color: var(--fill-color);\n",
              "      border-left-color: var(--fill-color);\n",
              "    }\n",
              "    20% {\n",
              "      border-color: transparent;\n",
              "      border-left-color: var(--fill-color);\n",
              "      border-top-color: var(--fill-color);\n",
              "    }\n",
              "    30% {\n",
              "      border-color: transparent;\n",
              "      border-left-color: var(--fill-color);\n",
              "      border-top-color: var(--fill-color);\n",
              "      border-right-color: var(--fill-color);\n",
              "    }\n",
              "    40% {\n",
              "      border-color: transparent;\n",
              "      border-right-color: var(--fill-color);\n",
              "      border-top-color: var(--fill-color);\n",
              "    }\n",
              "    60% {\n",
              "      border-color: transparent;\n",
              "      border-right-color: var(--fill-color);\n",
              "    }\n",
              "    80% {\n",
              "      border-color: transparent;\n",
              "      border-right-color: var(--fill-color);\n",
              "      border-bottom-color: var(--fill-color);\n",
              "    }\n",
              "    90% {\n",
              "      border-color: transparent;\n",
              "      border-bottom-color: var(--fill-color);\n",
              "    }\n",
              "  }\n",
              "</style>\n",
              "\n",
              "  <script>\n",
              "    async function quickchart(key) {\n",
              "      const quickchartButtonEl =\n",
              "        document.querySelector('#' + key + ' button');\n",
              "      quickchartButtonEl.disabled = true;  // To prevent multiple clicks.\n",
              "      quickchartButtonEl.classList.add('colab-df-spinner');\n",
              "      try {\n",
              "        const charts = await google.colab.kernel.invokeFunction(\n",
              "            'suggestCharts', [key], {});\n",
              "      } catch (error) {\n",
              "        console.error('Error during call to suggestCharts:', error);\n",
              "      }\n",
              "      quickchartButtonEl.classList.remove('colab-df-spinner');\n",
              "      quickchartButtonEl.classList.add('colab-df-quickchart-complete');\n",
              "    }\n",
              "    (() => {\n",
              "      let quickchartButtonEl =\n",
              "        document.querySelector('#df-b0d82771-c3e2-4808-9a39-4f4dc13c05fe button');\n",
              "      quickchartButtonEl.style.display =\n",
              "        google.colab.kernel.accessAllowed ? 'block' : 'none';\n",
              "    })();\n",
              "  </script>\n",
              "</div>\n",
              "    </div>\n",
              "  </div>\n"
            ]
          },
          "metadata": {},
          "execution_count": 14
        }
      ],
      "source": [
        "df.head()\n"
      ]
    },
    {
      "cell_type": "code",
      "execution_count": 15,
      "id": "SMuG9fuF3ccM",
      "metadata": {
        "colab": {
          "base_uri": "https://localhost:8080/"
        },
        "id": "SMuG9fuF3ccM",
        "outputId": "581bb330-5fdb-4583-beff-fe0df2eb24e9"
      },
      "outputs": [
        {
          "output_type": "stream",
          "name": "stdout",
          "text": [
            "<class 'pandas.core.frame.DataFrame'>\n",
            "RangeIndex: 188878 entries, 0 to 188877\n",
            "Data columns (total 2 columns):\n",
            " #   Column  Non-Null Count   Dtype \n",
            "---  ------  --------------   ----- \n",
            " 0   text    188874 non-null  object\n",
            " 1   label   188878 non-null  int64 \n",
            "dtypes: int64(1), object(1)\n",
            "memory usage: 2.9+ MB\n"
          ]
        }
      ],
      "source": [
        "df.info()"
      ]
    },
    {
      "cell_type": "markdown",
      "id": "el1bAydalv7j",
      "metadata": {
        "id": "el1bAydalv7j"
      },
      "source": [
        "### <font color = 'pickle'> **Visualize distribution of class labels** </font>\n",
        "It is important to undetrstand the distribution of the class labels to check if there is any imbalance among the categories."
      ]
    },
    {
      "cell_type": "code",
      "execution_count": 16,
      "id": "wVCtC-9qhbDg",
      "metadata": {
        "colab": {
          "base_uri": "https://localhost:8080/",
          "height": 447
        },
        "id": "wVCtC-9qhbDg",
        "outputId": "db6a6e96-4feb-4eae-88e1-1858b229369a"
      },
      "outputs": [
        {
          "output_type": "execute_result",
          "data": {
            "text/plain": [
              "<Axes: >"
            ]
          },
          "metadata": {},
          "execution_count": 16
        },
        {
          "output_type": "display_data",
          "data": {
            "text/plain": [
              "<Figure size 640x480 with 1 Axes>"
            ],
            "image/png": "[encoded data removed]"
          },
          "metadata": {}
        }
      ],
      "source": [
        "# Plot a horizontal bar chart showing the count of each unique value in the 'label' column of the dataframe 'df'.\n",
        "# The counts are displayed in ascending order for better visualization of the distribution.\n",
        "# CODE HERE\n",
        "df['label'].value_counts(ascending=True).plot.barh()\n"
      ]
    },
    {
      "cell_type": "code",
      "source": [
        "# 1. Compute the class frequencies:\n",
        "class_weights = df['label'].value_counts(normalize=True, sort=False)\n",
        "\n",
        "# 2. Sort weights by index (i.e., by label):\n",
        "class_weights = class_weights.sort_index()\n",
        "\n",
        "# 3. Compute the inverse of the class frequencies:\n",
        "class_weights = 1/class_weights\n",
        "\n",
        "# 4. Normalize the weights so they sum up to 1 (this step is optional but can be useful):\n",
        "class_weights = class_weights / class_weights.sum()\n",
        "\n",
        "# 5. Convert the weights to a PyTorch tensor:\n",
        "class_tensor_weights = torch.tensor(class_weights.values, dtype=torch.float)"
      ],
      "metadata": {
        "id": "c2fO2HV6cPsU"
      },
      "id": "c2fO2HV6cPsU",
      "execution_count": 17,
      "outputs": []
    },
    {
      "cell_type": "code",
      "source": [
        "class_tensor_weights"
      ],
      "metadata": {
        "colab": {
          "base_uri": "https://localhost:8080/"
        },
        "id": "F4sc0NmxcR-L",
        "outputId": "d760cf56-9c9e-46c8-cc94-a9afafd7b087"
      },
      "id": "F4sc0NmxcR-L",
      "execution_count": 18,
      "outputs": [
        {
          "output_type": "execute_result",
          "data": {
            "text/plain": [
              "tensor([0.0864, 0.0834, 0.0646, 0.0791, 0.0396, 0.0701, 0.1296, 0.1194, 0.1576,\n",
              "        0.1700])"
            ]
          },
          "metadata": {},
          "execution_count": 18
        }
      ]
    },
    {
      "cell_type": "markdown",
      "id": "FYl8PoBim3kC",
      "metadata": {
        "id": "FYl8PoBim3kC"
      },
      "source": [
        "### <font color = 'pickle'> **Check length of the reviews** </font>\n"
      ]
    },
    {
      "cell_type": "code",
      "execution_count": 19,
      "id": "WOF_nrp2oBvT",
      "metadata": {
        "id": "WOF_nrp2oBvT"
      },
      "outputs": [],
      "source": [
        "# Add empty strings for rows atht do not have any text\n",
        "df['text'] = df['text'].fillna('')\n",
        "# Add a new column to the dataframe 'df' named 'words_per_review'.\n",
        "# This column computes the number of words in each review in the 'text' column by splitting the text on spaces and counting the resulting words.\n",
        "df['words_per_review'] = df['text'].str.split().apply(len)"
      ]
    },
    {
      "cell_type": "code",
      "execution_count": 20,
      "id": "Pw7jn9U1YDJH",
      "metadata": {
        "colab": {
          "base_uri": "https://localhost:8080/",
          "height": 206
        },
        "id": "Pw7jn9U1YDJH",
        "outputId": "f2603142-b0ef-4d3d-8edb-da0f966d17e0"
      },
      "outputs": [
        {
          "output_type": "execute_result",
          "data": {
            "text/plain": [
              "                                                text  label  words_per_review\n",
              "0  detail disclosure indicator on UIButton Is the...      8                80\n",
              "1  hello world fails to show up in emulator I fol...      4               256\n",
              "2  Why is JSHint throwing a \"possible strict viol...      3                40\n",
              "3  Programmatically Make Bound Column Invisible I...      9                60\n",
              "4  More than one EditText - not getting focus, no...      4               197"
            ],
            "text/html": [
              "\n",
              "  <div id=\"df-7ea6d524-00b9-43b3-871f-67daefa10918\" class=\"colab-df-container\">\n",
              "    <div>\n",
              "<style scoped>\n",
              "    .dataframe tbody tr th:only-of-type {\n",
              "        vertical-align: middle;\n",
              "    }\n",
              "\n",
              "    .dataframe tbody tr th {\n",
              "        vertical-align: top;\n",
              "    }\n",
              "\n",
              "    .dataframe thead th {\n",
              "        text-align: right;\n",
              "    }\n",
              "</style>\n",
              "<table border=\"1\" class=\"dataframe\">\n",
              "  <thead>\n",
              "    <tr style=\"text-align: right;\">\n",
              "      <th></th>\n",
              "      <th>text</th>\n",
              "      <th>label</th>\n",
              "      <th>words_per_review</th>\n",
              "    </tr>\n",
              "  </thead>\n",
              "  <tbody>\n",
              "    <tr>\n",
              "      <th>0</th>\n",
              "      <td>detail disclosure indicator on UIButton Is the...</td>\n",
              "      <td>8</td>\n",
              "      <td>80</td>\n",
              "    </tr>\n",
              "    <tr>\n",
              "      <th>1</th>\n",
              "      <td>hello world fails to show up in emulator I fol...</td>\n",
              "      <td>4</td>\n",
              "      <td>256</td>\n",
              "    </tr>\n",
              "    <tr>\n",
              "      <th>2</th>\n",
              "      <td>Why is JSHint throwing a \"possible strict viol...</td>\n",
              "      <td>3</td>\n",
              "      <td>40</td>\n",
              "    </tr>\n",
              "    <tr>\n",
              "      <th>3</th>\n",
              "      <td>Programmatically Make Bound Column Invisible I...</td>\n",
              "      <td>9</td>\n",
              "      <td>60</td>\n",
              "    </tr>\n",
              "    <tr>\n",
              "      <th>4</th>\n",
              "      <td>More than one EditText - not getting focus, no...</td>\n",
              "      <td>4</td>\n",
              "      <td>197</td>\n",
              "    </tr>\n",
              "  </tbody>\n",
              "</table>\n",
              "</div>\n",
              "    <div class=\"colab-df-buttons\">\n",
              "\n",
              "  <div class=\"colab-df-container\">\n",
              "    <button class=\"colab-df-convert\" onclick=\"convertToInteractive('df-7ea6d524-00b9-43b3-871f-67daefa10918')\"\n",
              "            title=\"Convert this dataframe to an interactive table.\"\n",
              "            style=\"display:none;\">\n",
              "\n",
              "  <svg xmlns=\"http://www.w3.org/2000/svg\" height=\"24px\" viewBox=\"0 -960 960 960\">\n",
              "    <path d=\"M120-120v-720h720v720H120Zm60-500h600v-160H180v160Zm220 220h160v-160H400v160Zm0 220h160v-160H400v160ZM180-400h160v-160H180v160Zm440 0h160v-160H620v160ZM180-180h160v-160H180v160Zm440 0h160v-160H620v160Z\"/>\n",
              "  </svg>\n",
              "    </button>\n",
              "\n",
              "  <style>\n",
              "    .colab-df-container {\n",
              "      display:flex;\n",
              "      gap: 12px;\n",
              "    }\n",
              "\n",
              "    .colab-df-convert {\n",
              "      background-color: #E8F0FE;\n",
              "      border: none;\n",
              "      border-radius: 50%;\n",
              "      cursor: pointer;\n",
              "      display: none;\n",
              "      fill: #1967D2;\n",
              "      height: 32px;\n",
              "      padding: 0 0 0 0;\n",
              "      width: 32px;\n",
              "    }\n",
              "\n",
              "    .colab-df-convert:hover {\n",
              "      background-color: #E2EBFA;\n",
              "      box-shadow: 0px 1px 2px rgba(60, 64, 67, 0.3), 0px 1px 3px 1px rgba(60, 64, 67, 0.15);\n",
              "      fill: #174EA6;\n",
              "    }\n",
              "\n",
              "    .colab-df-buttons div {\n",
              "      margin-bottom: 4px;\n",
              "    }\n",
              "\n",
              "    [theme=dark] .colab-df-convert {\n",
              "      background-color: #3B4455;\n",
              "      fill: #D2E3FC;\n",
              "    }\n",
              "\n",
              "    [theme=dark] .colab-df-convert:hover {\n",
              "      background-color: #434B5C;\n",
              "      box-shadow: 0px 1px 3px 1px rgba(0, 0, 0, 0.15);\n",
              "      filter: drop-shadow(0px 1px 2px rgba(0, 0, 0, 0.3));\n",
              "      fill: #FFFFFF;\n",
              "    }\n",
              "  </style>\n",
              "\n",
              "    <script>\n",
              "      const buttonEl =\n",
              "        document.querySelector('#df-7ea6d524-00b9-43b3-871f-67daefa10918 button.colab-df-convert');\n",
              "      buttonEl.style.display =\n",
              "        google.colab.kernel.accessAllowed ? 'block' : 'none';\n",
              "\n",
              "      async function convertToInteractive(key) {\n",
              "        const element = document.querySelector('#df-7ea6d524-00b9-43b3-871f-67daefa10918');\n",
              "        const dataTable =\n",
              "          await google.colab.kernel.invokeFunction('convertToInteractive',\n",
              "                                                    [key], {});\n",
              "        if (!dataTable) return;\n",
              "\n",
              "        const docLinkHtml = 'Like what you see? Visit the ' +\n",
              "          '<a target=\"_blank\" href=https://colab.research.google.com/notebooks/data_table.ipynb>data table notebook</a>'\n",
              "          + ' to learn more about interactive tables.';\n",
              "        element.innerHTML = '';\n",
              "        dataTable['output_type'] = 'display_data';\n",
              "        await google.colab.output.renderOutput(dataTable, element);\n",
              "        const docLink = document.createElement('div');\n",
              "        docLink.innerHTML = docLinkHtml;\n",
              "        element.appendChild(docLink);\n",
              "      }\n",
              "    </script>\n",
              "  </div>\n",
              "\n",
              "\n",
              "<div id=\"df-8e69e4c0-add5-4e68-83d9-5cb7b306f51a\">\n",
              "  <button class=\"colab-df-quickchart\" onclick=\"quickchart('df-8e69e4c0-add5-4e68-83d9-5cb7b306f51a')\"\n",
              "            title=\"Suggest charts\"\n",
              "            style=\"display:none;\">\n",
              "\n",
              "<svg xmlns=\"http://www.w3.org/2000/svg\" height=\"24px\"viewBox=\"0 0 24 24\"\n",
              "     width=\"24px\">\n",
              "    <g>\n",
              "        <path d=\"M19 3H5c-1.1 0-2 .9-2 2v14c0 1.1.9 2 2 2h14c1.1 0 2-.9 2-2V5c0-1.1-.9-2-2-2zM9 17H7v-7h2v7zm4 0h-2V7h2v10zm4 0h-2v-4h2v4z\"/>\n",
              "    </g>\n",
              "</svg>\n",
              "  </button>\n",
              "\n",
              "<style>\n",
              "  .colab-df-quickchart {\n",
              "      --bg-color: #E8F0FE;\n",
              "      --fill-color: #1967D2;\n",
              "      --hover-bg-color: #E2EBFA;\n",
              "      --hover-fill-color: #174EA6;\n",
              "      --disabled-fill-color: #AAA;\n",
              "      --disabled-bg-color: #DDD;\n",
              "  }\n",
              "\n",
              "  [theme=dark] .colab-df-quickchart {\n",
              "      --bg-color: #3B4455;\n",
              "      --fill-color: #D2E3FC;\n",
              "      --hover-bg-color: #434B5C;\n",
              "      --hover-fill-color: #FFFFFF;\n",
              "      --disabled-bg-color: #3B4455;\n",
              "      --disabled-fill-color: #666;\n",
              "  }\n",
              "\n",
              "  .colab-df-quickchart {\n",
              "    background-color: var(--bg-color);\n",
              "    border: none;\n",
              "    border-radius: 50%;\n",
              "    cursor: pointer;\n",
              "    display: none;\n",
              "    fill: var(--fill-color);\n",
              "    height: 32px;\n",
              "    padding: 0;\n",
              "    width: 32px;\n",
              "  }\n",
              "\n",
              "  .colab-df-quickchart:hover {\n",
              "    background-color: var(--hover-bg-color);\n",
              "    box-shadow: 0 1px 2px rgba(60, 64, 67, 0.3), 0 1px 3px 1px rgba(60, 64, 67, 0.15);\n",
              "    fill: var(--button-hover-fill-color);\n",
              "  }\n",
              "\n",
              "  .colab-df-quickchart-complete:disabled,\n",
              "  .colab-df-quickchart-complete:disabled:hover {\n",
              "    background-color: var(--disabled-bg-color);\n",
              "    fill: var(--disabled-fill-color);\n",
              "    box-shadow: none;\n",
              "  }\n",
              "\n",
              "  .colab-df-spinner {\n",
              "    border: 2px solid var(--fill-color);\n",
              "    border-color: transparent;\n",
              "    border-bottom-color: var(--fill-color);\n",
              "    animation:\n",
              "      spin 1s steps(1) infinite;\n",
              "  }\n",
              "\n",
              "  @keyframes spin {\n",
              "    0% {\n",
              "      border-color: transparent;\n",
              "      border-bottom-color: var(--fill-color);\n",
              "      border-left-color: var(--fill-color);\n",
              "    }\n",
              "    20% {\n",
              "      border-color: transparent;\n",
              "      border-left-color: var(--fill-color);\n",
              "      border-top-color: var(--fill-color);\n",
              "    }\n",
              "    30% {\n",
              "      border-color: transparent;\n",
              "      border-left-color: var(--fill-color);\n",
              "      border-top-color: var(--fill-color);\n",
              "      border-right-color: var(--fill-color);\n",
              "    }\n",
              "    40% {\n",
              "      border-color: transparent;\n",
              "      border-right-color: var(--fill-color);\n",
              "      border-top-color: var(--fill-color);\n",
              "    }\n",
              "    60% {\n",
              "      border-color: transparent;\n",
              "      border-right-color: var(--fill-color);\n",
              "    }\n",
              "    80% {\n",
              "      border-color: transparent;\n",
              "      border-right-color: var(--fill-color);\n",
              "      border-bottom-color: var(--fill-color);\n",
              "    }\n",
              "    90% {\n",
              "      border-color: transparent;\n",
              "      border-bottom-color: var(--fill-color);\n",
              "    }\n",
              "  }\n",
              "</style>\n",
              "\n",
              "  <script>\n",
              "    async function quickchart(key) {\n",
              "      const quickchartButtonEl =\n",
              "        document.querySelector('#' + key + ' button');\n",
              "      quickchartButtonEl.disabled = true;  // To prevent multiple clicks.\n",
              "      quickchartButtonEl.classList.add('colab-df-spinner');\n",
              "      try {\n",
              "        const charts = await google.colab.kernel.invokeFunction(\n",
              "            'suggestCharts', [key], {});\n",
              "      } catch (error) {\n",
              "        console.error('Error during call to suggestCharts:', error);\n",
              "      }\n",
              "      quickchartButtonEl.classList.remove('colab-df-spinner');\n",
              "      quickchartButtonEl.classList.add('colab-df-quickchart-complete');\n",
              "    }\n",
              "    (() => {\n",
              "      let quickchartButtonEl =\n",
              "        document.querySelector('#df-8e69e4c0-add5-4e68-83d9-5cb7b306f51a button');\n",
              "      quickchartButtonEl.style.display =\n",
              "        google.colab.kernel.accessAllowed ? 'block' : 'none';\n",
              "    })();\n",
              "  </script>\n",
              "</div>\n",
              "    </div>\n",
              "  </div>\n"
            ]
          },
          "metadata": {},
          "execution_count": 20
        }
      ],
      "source": [
        "df.head()"
      ]
    },
    {
      "cell_type": "markdown",
      "id": "YhePLup4AuDo",
      "metadata": {
        "id": "YhePLup4AuDo"
      },
      "source": [
        "#### <font color = 'pickle'> **Plot the distribution of review length** </font>"
      ]
    },
    {
      "cell_type": "code",
      "execution_count": 21,
      "id": "6m_e5NU7pOr_",
      "metadata": {
        "colab": {
          "base_uri": "https://localhost:8080/",
          "height": 472
        },
        "id": "6m_e5NU7pOr_",
        "outputId": "9b713f5a-6653-4c2f-ed8c-5f606ccdc60c"
      },
      "outputs": [
        {
          "output_type": "display_data",
          "data": {
            "text/plain": [
              "<Figure size 640x480 with 1 Axes>"
            ],
            "image/png": "[encoded data removed]"
          },
          "metadata": {}
        }
      ],
      "source": [
        "# Plot a histogram of the 'words_per_review' column\n",
        "df['words_per_review'].hist(bins=50, edgecolor='black')\n",
        "\n",
        "# Adding labels and a title for clarity\n",
        "plt.xlabel('Number of Words')\n",
        "plt.ylabel('Frequency')\n",
        "plt.title('Distribution of Words per Review')\n",
        "\n",
        "# Display the plot\n",
        "plt.show()\n"
      ]
    },
    {
      "cell_type": "code",
      "execution_count": 22,
      "id": "yTYJqPgEpPQV",
      "metadata": {
        "colab": {
          "base_uri": "https://localhost:8080/"
        },
        "id": "yTYJqPgEpPQV",
        "outputId": "abf6a95b-a504-4c54-ab41-186f4e4722c5"
      },
      "outputs": [
        {
          "output_type": "stream",
          "name": "stdout",
          "text": [
            "Number of reviews with more than 400 words: 4772\n"
          ]
        }
      ],
      "source": [
        "# The model we are going to use has token (subwords) limit of 512.\n",
        "# Let us check how many reviews has more than 500 words\n",
        "\n",
        "count = (df['words_per_review'] > 400).sum()\n",
        "print(f\"Number of reviews with more than 400 words: {count}\")\n"
      ]
    },
    {
      "cell_type": "markdown",
      "id": "QuV3BOnD1GjF",
      "metadata": {
        "id": "QuV3BOnD1GjF"
      },
      "source": [
        "### <font color = 'pickle'> **Reset dataset format** </font>\n"
      ]
    },
    {
      "cell_type": "code",
      "execution_count": 23,
      "id": "S2XAL-2PyI-3",
      "metadata": {
        "id": "S2XAL-2PyI-3",
        "colab": {
          "base_uri": "https://localhost:8080/"
        },
        "outputId": "7ff76a75-a6bf-4a99-bcee-69b9fa6a63b7"
      },
      "outputs": [
        {
          "output_type": "execute_result",
          "data": {
            "text/plain": [
              "Dataset({\n",
              "    features: ['text', 'label'],\n",
              "    num_rows: 188878\n",
              "})"
            ]
          },
          "metadata": {},
          "execution_count": 23
        }
      ],
      "source": [
        "stack_selected_columns = stack_selected_columns.from_pandas(df).remove_columns('words_per_review')\n",
        "stack_selected_columns"
      ]
    },
    {
      "cell_type": "code",
      "execution_count": 24,
      "id": "uFO6-IFVyOtE",
      "metadata": {
        "colab": {
          "base_uri": "https://localhost:8080/"
        },
        "id": "uFO6-IFVyOtE",
        "outputId": "ef08faf0-c5de-4e96-aea5-90ff385aa736"
      },
      "outputs": [
        {
          "output_type": "execute_result",
          "data": {
            "text/plain": [
              "Dataset({\n",
              "    features: ['text', 'label'],\n",
              "    num_rows: 188878\n",
              "})"
            ]
          },
          "metadata": {},
          "execution_count": 24
        }
      ],
      "source": [
        "stack_selected_columns"
      ]
    },
    {
      "cell_type": "markdown",
      "id": "olD42nSSAwrM",
      "metadata": {
        "id": "olD42nSSAwrM"
      },
      "source": [
        "# <font color = 'pickle'> **Data Pre-processing**</font>"
      ]
    },
    {
      "cell_type": "markdown",
      "id": "bJnCcArQJ0Vd",
      "metadata": {
        "id": "bJnCcArQJ0Vd"
      },
      "source": [
        "## <font color = 'pickle'> **Filtering Larger Reviews**</font>"
      ]
    },
    {
      "cell_type": "code",
      "execution_count": 25,
      "id": "b65bc4be",
      "metadata": {
        "id": "b65bc4be",
        "colab": {
          "base_uri": "https://localhost:8080/",
          "height": 49,
          "referenced_widgets": [
            "7b5ec4f4055447e7ab85bca352570bf4",
            "629920a658764ea4801ca095a2994bd0",
            "445df996477848158b4b9286e24ed4b5",
            "b6212f7600ae4c468c676cea6b08d981",
            "70b68a4e282b438bb1b9b20c8ebadaa1",
            "a0ed26f07c234e3a9f40227cc8681925",
            "0b46066abf274cbaadbee64cb6b77c06",
            "d538228c20c44b52ba1d0e3cb49b4094",
            "94d96aec76504af29255d48cfbc1e1ae",
            "37dcbe32f7ac4732b69a4c1e35f93999",
            "f44bfc4ea2074ea180e09dd057bdb1df"
          ]
        },
        "outputId": "6f16d458-cb39-4590-f69f-c0d9cfa1fdce"
      },
      "outputs": [
        {
          "output_type": "display_data",
          "data": {
            "text/plain": [
              "Filter:   0%|          | 0/188878 [00:00<?, ? examples/s]"
            ],
            "application/vnd.jupyter.widget-view+json": {
              "version_major": 2,
              "version_minor": 0,
              "model_id": "7b5ec4f4055447e7ab85bca352570bf4"
            }
          },
          "metadata": {}
        }
      ],
      "source": [
        "def filter_long_samples(example):\n",
        "    return len(example['text'].split()) > 400\n",
        "\n",
        "stack_selected_columns_long = stack_selected_columns.filter(filter_long_samples)\n"
      ]
    },
    {
      "cell_type": "code",
      "execution_count": 26,
      "id": "387edf59",
      "metadata": {
        "colab": {
          "base_uri": "https://localhost:8080/"
        },
        "id": "387edf59",
        "outputId": "9db23578-b0d5-4a68-ef80-ed80cd2fa339"
      },
      "outputs": [
        {
          "output_type": "execute_result",
          "data": {
            "text/plain": [
              "Dataset({\n",
              "    features: ['text', 'label'],\n",
              "    num_rows: 4772\n",
              "})"
            ]
          },
          "metadata": {},
          "execution_count": 26
        }
      ],
      "source": [
        "stack_selected_columns_long"
      ]
    },
    {
      "cell_type": "code",
      "source": [
        "class_names = ['c#', 'java', 'php','javascript', 'android', 'jquery', 'c++',  'python', 'iphone', 'asp.net']\n",
        "stack_selected_columns_long = stack_selected_columns_long.cast_column('label', ClassLabel(names=class_names))"
      ],
      "metadata": {
        "colab": {
          "base_uri": "https://localhost:8080/",
          "height": 49,
          "referenced_widgets": [
            "b5443b859283462ba4531a5ae75e1d6c",
            "efee6010ce764b86923e40c7e8eea6e8",
            "7459e793fce14749b7e8a9f1fe6037fc",
            "70b1a7e685aa416c8b21ac3eb05e42e7",
            "85084378741a4c198e06ecc57cba9eae",
            "28db79f58bb94483bfedcd744a2b20db",
            "d033bbd51d914a6796bc12421450199a",
            "9150c7697cfa41b69e69c7ddfe93e033",
            "a7c4b1e6ce2a4ebabaa2fba8657f79d4",
            "19b6182779d24145bddea9fddca3a3eb",
            "63dfd25f109140e6b7ed5f2cc879af22"
          ]
        },
        "id": "QVBh0cKAX8Sh",
        "outputId": "9a31cf12-a8ae-453e-d81f-74e7efbc8c8e"
      },
      "id": "QVBh0cKAX8Sh",
      "execution_count": 27,
      "outputs": [
        {
          "output_type": "display_data",
          "data": {
            "text/plain": [
              "Casting the dataset:   0%|          | 0/4772 [00:00<?, ? examples/s]"
            ],
            "application/vnd.jupyter.widget-view+json": {
              "version_major": 2,
              "version_minor": 0,
              "model_id": "b5443b859283462ba4531a5ae75e1d6c"
            }
          },
          "metadata": {}
        }
      ]
    },
    {
      "cell_type": "markdown",
      "id": "F4Lpc6ItMyUi",
      "metadata": {
        "id": "F4Lpc6ItMyUi"
      },
      "source": [
        "### <font color = 'pickle'> **Create futher subdivions of the splits** </font>"
      ]
    },
    {
      "cell_type": "code",
      "execution_count": 28,
      "id": "3a8YTYKAMhaV",
      "metadata": {
        "id": "3a8YTYKAMhaV"
      },
      "outputs": [],
      "source": [
        "# Split the test set into test and validation sets\n",
        "# train_temp_split = stack_selected_columns_long.train_test_split(train_size = 0.6,test_size=0.4, seed=42,stratify_by_column='label')\n",
        "# test_val_splits = train_temp_split[\"test\"].train_test_split(test_size=0.4, seed=42,stratify_by_column='label')\n",
        "train_temp_split = stack_selected_columns_long.train_test_split(train_size = 0.6,test_size=0.4, seed=42)\n",
        "test_val_splits = train_temp_split[\"test\"].train_test_split(test_size=0.4, seed=42)\n",
        "\n",
        "# Extract the train,test and val split\n",
        "train_split = train_temp_split[\"train\"]\n",
        "valid_split = test_val_splits[\"train\"]\n",
        "test_split = test_val_splits[\"test\"]\n"
      ]
    },
    {
      "cell_type": "code",
      "execution_count": 29,
      "id": "5b6d9097",
      "metadata": {
        "colab": {
          "base_uri": "https://localhost:8080/"
        },
        "id": "5b6d9097",
        "outputId": "1982250f-c226-44ea-d778-762f2de6df7a"
      },
      "outputs": [
        {
          "output_type": "execute_result",
          "data": {
            "text/plain": [
              "(Dataset({\n",
              "     features: ['text', 'label'],\n",
              "     num_rows: 2863\n",
              " }),\n",
              " Dataset({\n",
              "     features: ['text', 'label'],\n",
              "     num_rows: 1145\n",
              " }),\n",
              " Dataset({\n",
              "     features: ['text', 'label'],\n",
              "     num_rows: 764\n",
              " }))"
            ]
          },
          "metadata": {},
          "execution_count": 29
        }
      ],
      "source": [
        "train_split,valid_split, test_split"
      ]
    },
    {
      "cell_type": "markdown",
      "id": "459a6dbc",
      "metadata": {
        "id": "459a6dbc"
      },
      "source": [
        "### <font color = 'pickle'> **Create subset for experimentation** </font>"
      ]
    },
    {
      "cell_type": "code",
      "execution_count": 30,
      "id": "2e99f071",
      "metadata": {
        "id": "2e99f071"
      },
      "outputs": [],
      "source": [
        "train_split_small = train_split.shuffle(seed=42).select(range(10))\n",
        "val_split_small = valid_split.shuffle(seed=42).select(range(10))\n",
        "test_split_small = test_split.shuffle(seed=42).select(range(10))\n"
      ]
    },
    {
      "cell_type": "markdown",
      "id": "wRsFEGFNM7lD",
      "metadata": {
        "id": "wRsFEGFNM7lD"
      },
      "source": [
        "### <font color = 'pickle'> **Combine splits**</font>\n",
        "\n"
      ]
    },
    {
      "cell_type": "code",
      "execution_count": 31,
      "id": "wqnIo4TDSkRv",
      "metadata": {
        "id": "wqnIo4TDSkRv"
      },
      "outputs": [],
      "source": [
        "train_val = DatasetDict(\n",
        "    {\"train\": train_split, \"valid\": valid_split})\n",
        "train_val_small = DatasetDict(\n",
        "    {\"train\": train_split_small, \"valid\": val_split_small})\n"
      ]
    },
    {
      "cell_type": "code",
      "execution_count": 32,
      "id": "497958f7",
      "metadata": {
        "colab": {
          "base_uri": "https://localhost:8080/"
        },
        "id": "497958f7",
        "outputId": "aeeda53a-6a10-4a20-9d0d-9a393477f694"
      },
      "outputs": [
        {
          "output_type": "execute_result",
          "data": {
            "text/plain": [
              "DatasetDict({\n",
              "    train: Dataset({\n",
              "        features: ['text', 'label'],\n",
              "        num_rows: 2863\n",
              "    })\n",
              "    valid: Dataset({\n",
              "        features: ['text', 'label'],\n",
              "        num_rows: 1145\n",
              "    })\n",
              "})"
            ]
          },
          "metadata": {},
          "execution_count": 32
        }
      ],
      "source": [
        "train_val"
      ]
    },
    {
      "cell_type": "code",
      "execution_count": 33,
      "id": "UVz4Aq_cUN_5",
      "metadata": {
        "colab": {
          "base_uri": "https://localhost:8080/"
        },
        "id": "UVz4Aq_cUN_5",
        "outputId": "9594979f-bbd6-4228-b6f6-a0801a148776"
      },
      "outputs": [
        {
          "output_type": "execute_result",
          "data": {
            "text/plain": [
              "DatasetDict({\n",
              "    train: Dataset({\n",
              "        features: ['text', 'label'],\n",
              "        num_rows: 10\n",
              "    })\n",
              "    valid: Dataset({\n",
              "        features: ['text', 'label'],\n",
              "        num_rows: 10\n",
              "    })\n",
              "})"
            ]
          },
          "metadata": {},
          "execution_count": 33
        }
      ],
      "source": [
        "train_val_small"
      ]
    },
    {
      "cell_type": "code",
      "execution_count": 34,
      "id": "8ebeeabc",
      "metadata": {
        "id": "8ebeeabc"
      },
      "outputs": [],
      "source": [
        "train_val.set_format(type='pandas')"
      ]
    },
    {
      "cell_type": "code",
      "execution_count": 35,
      "id": "244d30f4",
      "metadata": {
        "id": "244d30f4"
      },
      "outputs": [],
      "source": [
        "df_train = train_val['train'][:]"
      ]
    },
    {
      "cell_type": "code",
      "execution_count": 36,
      "id": "166e2288",
      "metadata": {
        "colab": {
          "base_uri": "https://localhost:8080/",
          "height": 447
        },
        "id": "166e2288",
        "outputId": "9e316e64-1671-46fb-e399-905725e32965"
      },
      "outputs": [
        {
          "output_type": "execute_result",
          "data": {
            "text/plain": [
              "<Axes: >"
            ]
          },
          "metadata": {},
          "execution_count": 36
        },
        {
          "output_type": "display_data",
          "data": {
            "text/plain": [
              "<Figure size 640x480 with 1 Axes>"
            ],
            "image/png": "[encoded data removed]"
          },
          "metadata": {}
        }
      ],
      "source": [
        "# check ditsribution of class labels in training dataset\n",
        "df_train['label'].value_counts(ascending=True).plot.barh()"
      ]
    },
    {
      "cell_type": "code",
      "execution_count": 37,
      "id": "32ac14ee",
      "metadata": {
        "id": "32ac14ee"
      },
      "outputs": [],
      "source": [
        "# check distribution of text length\n",
        "df_train['words_per_review'] = df_train['text'].str.split().apply(len)"
      ]
    },
    {
      "cell_type": "code",
      "execution_count": 38,
      "id": "2aa7ea1a",
      "metadata": {
        "colab": {
          "base_uri": "https://localhost:8080/",
          "height": 447
        },
        "id": "2aa7ea1a",
        "outputId": "983b5271-657c-4416-942f-36920e97422d"
      },
      "outputs": [
        {
          "output_type": "execute_result",
          "data": {
            "text/plain": [
              "<Axes: >"
            ]
          },
          "metadata": {},
          "execution_count": 38
        },
        {
          "output_type": "display_data",
          "data": {
            "text/plain": [
              "<Figure size 640x480 with 1 Axes>"
            ],
            "image/png": "[encoded data removed]"
          },
          "metadata": {}
        }
      ],
      "source": [
        "# Plot a histogram of the 'words_per_review' column\n",
        "df_train['words_per_review'].hist(bins=50, edgecolor='black')"
      ]
    },
    {
      "cell_type": "code",
      "execution_count": 39,
      "id": "af6bfecb",
      "metadata": {
        "colab": {
          "base_uri": "https://localhost:8080/"
        },
        "id": "af6bfecb",
        "outputId": "c9121586-1e94-4fd2-b6dc-6c0ce04f363e"
      },
      "outputs": [
        {
          "output_type": "stream",
          "name": "stdout",
          "text": [
            "Number of reviews with more than 400 words: 2863\n"
          ]
        }
      ],
      "source": [
        "count = (df_train['words_per_review'] > 400).sum()\n",
        "print(f\"Number of reviews with more than 400 words: {count}\")"
      ]
    },
    {
      "cell_type": "code",
      "execution_count": 40,
      "id": "33155b66",
      "metadata": {
        "colab": {
          "base_uri": "https://localhost:8080/"
        },
        "id": "33155b66",
        "outputId": "e9228cbe-7dd6-40c0-e42b-807d2cd25c13"
      },
      "outputs": [
        {
          "output_type": "stream",
          "name": "stdout",
          "text": [
            "Number of reviews with more than 400 words: 0\n"
          ]
        }
      ],
      "source": [
        "count = (df_train['words_per_review'] < 400).sum()\n",
        "print(f\"Number of reviews with more than 400 words: {count}\")"
      ]
    },
    {
      "cell_type": "code",
      "execution_count": 41,
      "id": "b351f813",
      "metadata": {
        "id": "b351f813"
      },
      "outputs": [],
      "source": [
        "train_val.reset_format()"
      ]
    },
    {
      "cell_type": "markdown",
      "id": "150ee1e9-7371-40b1-a526-30ec37cf0654",
      "metadata": {
        "id": "150ee1e9-7371-40b1-a526-30ec37cf0654"
      },
      "source": [
        "## <font color = 'pickle'> **Tokenization**</font>"
      ]
    },
    {
      "cell_type": "markdown",
      "id": "c7b02690-50f7-49bf-aab4-85dbbb21d182",
      "metadata": {
        "execution": {
          "iopub.execute_input": "2022-12-20T11:21:48.647438Z",
          "iopub.status.busy": "2022-12-20T11:21:48.646659Z",
          "iopub.status.idle": "2022-12-20T11:21:48.690232Z",
          "shell.execute_reply": "2022-12-20T11:21:48.689729Z",
          "shell.execute_reply.started": "2022-12-20T11:21:48.647414Z"
        },
        "id": "c7b02690-50f7-49bf-aab4-85dbbb21d182",
        "tags": []
      },
      "source": [
        "###  <font color = 'pickle'> **Load pre-trained Tokenizer** </font>"
      ]
    },
    {
      "cell_type": "code",
      "execution_count": 42,
      "id": "hzUiqZR6hI4o",
      "metadata": {
        "execution": {
          "iopub.execute_input": "2022-12-23T23:14:07.903271Z",
          "iopub.status.busy": "2022-12-23T23:14:07.902958Z",
          "iopub.status.idle": "2022-12-23T23:14:07.955695Z",
          "shell.execute_reply": "2022-12-23T23:14:07.955154Z",
          "shell.execute_reply.started": "2022-12-23T23:14:07.903251Z"
        },
        "id": "hzUiqZR6hI4o",
        "tags": []
      },
      "outputs": [],
      "source": [
        "from transformers import AutoTokenizer\n",
        "checkpoint = \"distilbert-base-uncased\"\n",
        "tokenizer = AutoTokenizer.from_pretrained(checkpoint)\n"
      ]
    },
    {
      "cell_type": "markdown",
      "id": "JDp4gu0uYZ1d",
      "metadata": {
        "id": "JDp4gu0uYZ1d"
      },
      "source": [
        "###  <font color = 'pickle'> **Understanding pre-trained Tokenizer**\n",
        "We will now understand how the tokenizer work by feeding one simple example."
      ]
    },
    {
      "cell_type": "code",
      "execution_count": 43,
      "id": "Pdd63KwJ1wKV",
      "metadata": {
        "id": "Pdd63KwJ1wKV"
      },
      "outputs": [],
      "source": [
        "text = [\"Tokenization is the process of splitting sequence to tokens\",\n",
        "        \"I like BUAN6482\"]"
      ]
    },
    {
      "cell_type": "code",
      "execution_count": 44,
      "id": "pe6_RHcPcs02",
      "metadata": {
        "colab": {
          "base_uri": "https://localhost:8080/"
        },
        "id": "pe6_RHcPcs02",
        "outputId": "7af34f90-1c80-4729-c8a2-70987d4d5962"
      },
      "outputs": [
        {
          "output_type": "stream",
          "name": "stdout",
          "text": [
            "Pretrained tokenizer vocab size 30522\n"
          ]
        }
      ],
      "source": [
        "# get the vocab size\n",
        "print(f'Pretrained tokenizer vocab size {tokenizer.vocab_size}')"
      ]
    },
    {
      "cell_type": "markdown",
      "id": "XCz50jkrcukz",
      "metadata": {
        "id": "XCz50jkrcukz"
      },
      "source": [
        "- <font color = 'indianblue'>The vocab size for the tokenizer for bert-base-uncased model is 30522."
      ]
    },
    {
      "cell_type": "code",
      "execution_count": 45,
      "id": "3SfjDfSr10tU",
      "metadata": {
        "id": "3SfjDfSr10tU"
      },
      "outputs": [],
      "source": [
        "encoded_text = tokenizer(\n",
        "    text, padding=True, truncation=False, return_tensors='pt')"
      ]
    },
    {
      "cell_type": "code",
      "execution_count": 46,
      "id": "7e2a2e62",
      "metadata": {
        "colab": {
          "base_uri": "https://localhost:8080/"
        },
        "id": "7e2a2e62",
        "outputId": "e1ee887b-ffa6-4cbd-d4be-d5f128d118d1"
      },
      "outputs": [
        {
          "output_type": "execute_result",
          "data": {
            "text/plain": [
              "{'input_ids': tensor([[  101, 19204,  3989,  2003,  1996,  2832,  1997, 14541,  5537,  2000,\n",
              "         19204,  2015,   102],\n",
              "        [  101,  1045,  2066, 20934,  2319, 21084,  2620,  2475,   102,     0,\n",
              "             0,     0,     0]]), 'attention_mask': tensor([[1, 1, 1, 1, 1, 1, 1, 1, 1, 1, 1, 1, 1],\n",
              "        [1, 1, 1, 1, 1, 1, 1, 1, 1, 0, 0, 0, 0]])}"
            ]
          },
          "metadata": {},
          "execution_count": 46
        }
      ],
      "source": [
        "encoded_text\n"
      ]
    },
    {
      "cell_type": "code",
      "execution_count": 47,
      "id": "jZ8xwmkfRHVA",
      "metadata": {
        "colab": {
          "base_uri": "https://localhost:8080/"
        },
        "id": "jZ8xwmkfRHVA",
        "outputId": "7abe20f9-32f7-495e-a18e-77361f9564c5"
      },
      "outputs": [
        {
          "output_type": "stream",
          "name": "stdout",
          "text": [
            "['[CLS]', 'token', '##ization', 'is', 'the', 'process', 'of', 'splitting', 'sequence', 'to', 'token', '##s', '[SEP]']\n",
            "['[CLS]', 'i', 'like', 'bu', '##an', '##64', '##8', '##2', '[SEP]', '[PAD]', '[PAD]', '[PAD]', '[PAD]']\n"
          ]
        }
      ],
      "source": [
        "tokens_first_sentence = tokenizer.convert_ids_to_tokens(\n",
        "    encoded_text.input_ids[0])\n",
        "tokens_second_sentence = tokenizer.convert_ids_to_tokens(\n",
        "    encoded_text.input_ids[1])\n",
        "\n",
        "print(tokens_first_sentence)\n",
        "print(tokens_second_sentence)\n"
      ]
    },
    {
      "cell_type": "code",
      "execution_count": 48,
      "id": "AgvkuoiI_6lH",
      "metadata": {
        "colab": {
          "base_uri": "https://localhost:8080/",
          "height": 35
        },
        "id": "AgvkuoiI_6lH",
        "outputId": "7b166297-8315-4fca-bef9-e2ead8e6c3fe"
      },
      "outputs": [
        {
          "output_type": "execute_result",
          "data": {
            "text/plain": [
              "'[CLS] tokenization is the process of splitting sequence to tokens [SEP]'"
            ],
            "application/vnd.google.colaboratory.intrinsic+json": {
              "type": "string"
            }
          },
          "metadata": {},
          "execution_count": 48
        }
      ],
      "source": [
        "tokenizer.convert_tokens_to_string(tokens_first_sentence)"
      ]
    },
    {
      "cell_type": "code",
      "execution_count": 49,
      "id": "17bf645f",
      "metadata": {
        "colab": {
          "base_uri": "https://localhost:8080/",
          "height": 35
        },
        "id": "17bf645f",
        "outputId": "dd9e675d-0623-4575-9969-a0d45abde3ca"
      },
      "outputs": [
        {
          "output_type": "execute_result",
          "data": {
            "text/plain": [
              "'[CLS] i like buan6482 [SEP] [PAD] [PAD] [PAD] [PAD]'"
            ],
            "application/vnd.google.colaboratory.intrinsic+json": {
              "type": "string"
            }
          },
          "metadata": {},
          "execution_count": 49
        }
      ],
      "source": [
        "tokenizer.convert_tokens_to_string(tokens_second_sentence)"
      ]
    },
    {
      "cell_type": "code",
      "source": [
        "special_tokens = tokenizer.all_special_tokens\n",
        "special_tokens_ids = tokenizer.all_special_ids\n",
        "print(special_tokens, special_tokens_ids)"
      ],
      "metadata": {
        "colab": {
          "base_uri": "https://localhost:8080/"
        },
        "id": "lHjVYw8lp2TL",
        "outputId": "a052a3b8-7402-411a-94ea-7c9d2826c423"
      },
      "id": "lHjVYw8lp2TL",
      "execution_count": 50,
      "outputs": [
        {
          "output_type": "stream",
          "name": "stdout",
          "text": [
            "['[UNK]', '[SEP]', '[PAD]', '[CLS]', '[MASK]'] [100, 102, 0, 101, 103]\n"
          ]
        }
      ]
    },
    {
      "cell_type": "markdown",
      "id": "2b4ce3b9-904f-42bd-9c3f-163328f47051",
      "metadata": {
        "execution": {
          "iopub.execute_input": "2022-12-20T11:22:33.679936Z",
          "iopub.status.busy": "2022-12-20T11:22:33.679764Z",
          "iopub.status.idle": "2022-12-20T11:22:33.723366Z",
          "shell.execute_reply": "2022-12-20T11:22:33.722847Z",
          "shell.execute_reply.started": "2022-12-20T11:22:33.679918Z"
        },
        "id": "2b4ce3b9-904f-42bd-9c3f-163328f47051"
      },
      "source": [
        "##  <font color = 'pickle'> **Create Custom_Collate function**"
      ]
    },
    {
      "cell_type": "code",
      "execution_count": 51,
      "id": "6568f480",
      "metadata": {
        "colab": {
          "base_uri": "https://localhost:8080/",
          "height": 87
        },
        "id": "6568f480",
        "outputId": "6e5ba83b-250d-4c3f-8ecb-2a0f98415b97"
      },
      "outputs": [
        {
          "output_type": "execute_result",
          "data": {
            "text/plain": [
              "'Fatal error: Call to a member function AddUser() on a non-object so after hours on the web searching for smallest details or solution for this error I still can\\'t fix it The errors : Notice: Undefined variable: Login in C:\\\\xampp\\\\htdocs\\\\up\\\\administration\\\\adduser.php on line 3  Fatal error: Call to a member function AddUser() on a non-object in C:\\\\xampp\\\\htdocs\\\\up\\\\administration\\\\adduser.php on line 3  These errors are from adduser.php which contains <?php require_once(\\'LoginClass.php\\'); $Login->AddUser(\\'Test\\',\\'test312\\'); ?>  And this is the LoginClass.php <?php  class Login {  //Username Variables private $username; private $password;  //MySQL Variables private $Host; private $MySQLUsername; private $MySQLPassword; private $Database; private $Conn;   //Constructor public function Login() {     session_start();     $this->Host = \"localhost\";     $this->MySQLUsername = \"root\";     $this->MySQLPassword = \"\";     $this->Database = \"up\";      $this->Connection();      unset($this->Host);     unset($this->MySQLUsername);     unset($this->MySQLPassword);     unset($this->Database); } //********************** //Mysql Functions //**********************  public function Connection() {     $this->Conn = @mysql_connect($this->Host,$this->MySQLUsername,$this->MySQLPassword);      if($this->Conn)     {         mysql_select_db($this->Database) OR die(\\'Could not select DB\\');     }     else     {         die(mysql_error());     }   }  public function Query($sql) {     $result = mysql_query($sql);      if(!$result)     {         die(mysql_error());     }      return $result; }  public function Disconnect() {     mysql_close($this->Conn); }  //Escapes bad values for MySQL to prevent SQL injections. public function EscapeString($badstring) {     if(!get_magic_quotes_gpc())     {         $goodstring = addslashes($badstring);     }     else     {         $goodstring = stripslashes($badstring);     }      $goodstring = mysql_real_escape_string($badstring);      return $goodstring; }  public function EncryptPassword($password) {   return sha1(md5($password));   }  //Check if the user can login public function CheckLogin($username,$password) {     $this->username = $this->EscapeString($username);      $this->password = $this->EscapeString($this->EncryptPassword(($password)));      $result = $this->Query(\"SELECT * FROM `users` WHERE `username` = \\'$this->username\\' AND `password` = \\'$this->password\\' LIMIT 1\");      //If we get one result we know the login is right.     if(mysql_num_rows($result) == 1)     {         $this->username = $username;         $_SESSION[\\'username\\'] = $this->username;         $_SESSION[\\'authorized\\'] = 1;           header(\\'location:Private.php\\');     }     else      {         die(\\'Invalid Login\\');     }  } //Add a user public function AddUser($username,$password) {     //$username = $this->EscapeString($username);     //$password = $this->EscapeString($this->EncryptPassword($password));     $username = $this->$username;     $password = $this->$this->EncryptPassword($password);      $result = $this->Query(\"INSERT INTO `users` (username,password) VALUES (\\'$username\\',\\'$password\\')\"); } //Takes the result of a query and puts the information into an array public function Result_To_Array($result) {     $result_array = array();      for ($i=0; $row = mysql_fetch_array($result); $i++)      {         $result_array[$i] = $row;     }      return $result_array;  } //Delete user public function DeleteUser($username) {     $username = $this->EscapeString($username);      $result = $this->Query(\"DELETE FROM `users` WHERE `username` = \\'$username\\' LIMIT 1\");  } //Checks if the user is authorized or not public function IsAuth() {     if(isset($_SESSION[\\'username\\']) && $_SESSION[\\'authorized\\'] == 1)     return true;      else     {         die(\\'You are not authorized to view this information\\');         header(\\'login.html\\');     }     } //Shows user\\'s IP public function GetIP() {     return $_SERVER[\\'REMOTE_ADDR\\']; } //Display all users public function ShowUsers() {     $users = $this->Result_To_Array($this->Query(\"SELECT * FROM `users`\"));      foreach($users as $user)     {         echo $user[\\'username\\'].\"<br />\";     }  }  public function LogOut() {       session_destroy();       header(\\'location:login.html\\'); } } ?>  '"
            ],
            "application/vnd.google.colaboratory.intrinsic+json": {
              "type": "string"
            }
          },
          "metadata": {},
          "execution_count": 51
        }
      ],
      "source": [
        "train_val['train']['text'][0]"
      ]
    },
    {
      "cell_type": "code",
      "execution_count": 52,
      "id": "d4e4abb0",
      "metadata": {
        "colab": {
          "base_uri": "https://localhost:8080/"
        },
        "id": "d4e4abb0",
        "outputId": "36bd5edd-39a6-490f-fedf-833aae33c34b"
      },
      "outputs": [
        {
          "output_type": "stream",
          "name": "stdout",
          "text": [
            "Dataset({\n",
            "    features: ['text', 'label'],\n",
            "    num_rows: 3\n",
            "})\n"
          ]
        }
      ],
      "source": [
        "from datasets import Dataset\n",
        "\n",
        "texts = [{\"text\": \"Tokenization is the process of splitting sequence to tokens. It's one of the fundamental tasks in natural language processing. However, there are various methods to achieve tokenization in different scenarios.\", \"label\": 1},\n",
        "         {\"text\": \"I like BUAN6482\", \"label\": 0},\n",
        "         {\"text\": \"Neural networks using attention mechanisms to process sequences, revolutionizing natural language processing tasks\", \"label\": 0}]\n",
        "\n",
        "# Convert list of dictionaries to dictionary of lists\n",
        "data = {\n",
        "    \"text\": [item[\"text\"] for item in texts],\n",
        "    \"label\": [item[\"label\"] for item in texts]\n",
        "}\n",
        "\n",
        "dataset_dummy = Dataset.from_dict(data)\n",
        "\n",
        "print(dataset_dummy)\n",
        "\n"
      ]
    },
    {
      "cell_type": "code",
      "execution_count": 53,
      "id": "BLDmZ39wS6QR",
      "metadata": {
        "colab": {
          "base_uri": "https://localhost:8080/",
          "height": 35
        },
        "id": "BLDmZ39wS6QR",
        "outputId": "016e9348-8297-4a46-f501-5fc68ffe5bb5"
      },
      "outputs": [
        {
          "output_type": "execute_result",
          "data": {
            "text/plain": [
              "'I like BUAN6482'"
            ],
            "application/vnd.google.colaboratory.intrinsic+json": {
              "type": "string"
            }
          },
          "metadata": {},
          "execution_count": 53
        }
      ],
      "source": [
        "dataset_dummy['text'][1]"
      ]
    },
    {
      "cell_type": "code",
      "execution_count": 54,
      "id": "8bAD2dsXhvAA",
      "metadata": {
        "execution": {
          "iopub.execute_input": "2022-12-23T23:14:12.134855Z",
          "iopub.status.busy": "2022-12-23T23:14:12.134613Z",
          "iopub.status.idle": "2022-12-23T23:14:12.186484Z",
          "shell.execute_reply": "2022-12-23T23:14:12.185866Z",
          "shell.execute_reply.started": "2022-12-23T23:14:12.134828Z"
        },
        "id": "8bAD2dsXhvAA",
        "tags": []
      },
      "outputs": [],
      "source": [
        "tokenized_outputs_dummy = tokenizer(dataset_dummy['text'],\n",
        "                        padding='longest',\n",
        "                        truncation=True,\n",
        "                        return_tensors='pt',\n",
        "                        max_length=10,\n",
        "                        return_overflowing_tokens=True,\n",
        "                        stride=3)"
      ]
    },
    {
      "cell_type": "code",
      "execution_count": 55,
      "id": "mlx3JxrOTsFg",
      "metadata": {
        "colab": {
          "base_uri": "https://localhost:8080/"
        },
        "id": "mlx3JxrOTsFg",
        "outputId": "df3ee912-08e0-4a7c-e3a0-c22b6a6886b4"
      },
      "outputs": [
        {
          "output_type": "execute_result",
          "data": {
            "text/plain": [
              "{'input_ids': tensor([[  101, 19204,  3989,  2003,  1996,  2832,  1997, 14541,  5537,   102],\n",
              "        [  101,  1997, 14541,  5537,  2000, 19204,  2015,  1012,  2009,   102],\n",
              "        [  101,  2015,  1012,  2009,  1005,  1055,  2028,  1997,  1996,   102],\n",
              "        [  101,  2028,  1997,  1996,  8050,  8518,  1999,  3019,  2653,   102],\n",
              "        [  101,  1999,  3019,  2653,  6364,  1012,  2174,  1010,  2045,   102],\n",
              "        [  101,  2174,  1010,  2045,  2024,  2536,  4725,  2000,  6162,   102],\n",
              "        [  101,  4725,  2000,  6162, 19204,  3989,  1999,  2367, 16820,   102],\n",
              "        [  101,  1999,  2367, 16820,  1012,   102,     0,     0,     0,     0],\n",
              "        [  101,  1045,  2066, 20934,  2319, 21084,  2620,  2475,   102,     0],\n",
              "        [  101, 15756,  6125,  2478,  3086, 10595,  2000,  2832, 10071,   102],\n",
              "        [  101,  2000,  2832, 10071,  1010,  4329,  6026,  3019,  2653,   102],\n",
              "        [  101,  6026,  3019,  2653,  6364,  8518,   102,     0,     0,     0]]), 'attention_mask': tensor([[1, 1, 1, 1, 1, 1, 1, 1, 1, 1],\n",
              "        [1, 1, 1, 1, 1, 1, 1, 1, 1, 1],\n",
              "        [1, 1, 1, 1, 1, 1, 1, 1, 1, 1],\n",
              "        [1, 1, 1, 1, 1, 1, 1, 1, 1, 1],\n",
              "        [1, 1, 1, 1, 1, 1, 1, 1, 1, 1],\n",
              "        [1, 1, 1, 1, 1, 1, 1, 1, 1, 1],\n",
              "        [1, 1, 1, 1, 1, 1, 1, 1, 1, 1],\n",
              "        [1, 1, 1, 1, 1, 1, 0, 0, 0, 0],\n",
              "        [1, 1, 1, 1, 1, 1, 1, 1, 1, 0],\n",
              "        [1, 1, 1, 1, 1, 1, 1, 1, 1, 1],\n",
              "        [1, 1, 1, 1, 1, 1, 1, 1, 1, 1],\n",
              "        [1, 1, 1, 1, 1, 1, 1, 0, 0, 0]]), 'overflow_to_sample_mapping': tensor([0, 0, 0, 0, 0, 0, 0, 0, 1, 2, 2, 2])}"
            ]
          },
          "metadata": {},
          "execution_count": 55
        }
      ],
      "source": [
        "tokenized_outputs_dummy"
      ]
    },
    {
      "cell_type": "code",
      "execution_count": 56,
      "id": "gNX-GxuMUyjK",
      "metadata": {
        "colab": {
          "base_uri": "https://localhost:8080/"
        },
        "id": "gNX-GxuMUyjK",
        "outputId": "b86f9f13-898a-4a30-afb3-3652f83ac995"
      },
      "outputs": [
        {
          "output_type": "execute_result",
          "data": {
            "text/plain": [
              "tensor([[  101, 19204,  3989,  2003,  1996,  2832,  1997, 14541,  5537,   102],\n",
              "        [  101,  1997, 14541,  5537,  2000, 19204,  2015,  1012,  2009,   102],\n",
              "        [  101,  2015,  1012,  2009,  1005,  1055,  2028,  1997,  1996,   102],\n",
              "        [  101,  2028,  1997,  1996,  8050,  8518,  1999,  3019,  2653,   102],\n",
              "        [  101,  1999,  3019,  2653,  6364,  1012,  2174,  1010,  2045,   102],\n",
              "        [  101,  2174,  1010,  2045,  2024,  2536,  4725,  2000,  6162,   102],\n",
              "        [  101,  4725,  2000,  6162, 19204,  3989,  1999,  2367, 16820,   102],\n",
              "        [  101,  1999,  2367, 16820,  1012,   102,     0,     0,     0,     0],\n",
              "        [  101,  1045,  2066, 20934,  2319, 21084,  2620,  2475,   102,     0],\n",
              "        [  101, 15756,  6125,  2478,  3086, 10595,  2000,  2832, 10071,   102],\n",
              "        [  101,  2000,  2832, 10071,  1010,  4329,  6026,  3019,  2653,   102],\n",
              "        [  101,  6026,  3019,  2653,  6364,  8518,   102,     0,     0,     0]])"
            ]
          },
          "metadata": {},
          "execution_count": 56
        }
      ],
      "source": [
        "tokenized_outputs_dummy['input_ids']"
      ]
    },
    {
      "cell_type": "code",
      "execution_count": 57,
      "id": "iQiKqFMTrG_Q",
      "metadata": {
        "colab": {
          "base_uri": "https://localhost:8080/"
        },
        "id": "iQiKqFMTrG_Q",
        "outputId": "d3a29d44-e7de-4e56-a0d4-41f3fef32cac"
      },
      "outputs": [
        {
          "output_type": "stream",
          "name": "stdout",
          "text": [
            "\n",
            "['[CLS]', 'token', '##ization', 'is', 'the', 'process', 'of', 'splitting', 'sequence', '[SEP]'] \n",
            "['[CLS]', 'of', 'splitting', 'sequence', 'to', 'token', '##s', '.', 'it', '[SEP]'] \n",
            "['[CLS]', '##s', '.', 'it', \"'\", 's', 'one', 'of', 'the', '[SEP]'] \n",
            "['[CLS]', 'one', 'of', 'the', 'fundamental', 'tasks', 'in', 'natural', 'language', '[SEP]'] \n",
            "['[CLS]', 'in', 'natural', 'language', 'processing', '.', 'however', ',', 'there', '[SEP]'] \n",
            "['[CLS]', 'however', ',', 'there', 'are', 'various', 'methods', 'to', 'achieve', '[SEP]'] \n",
            "['[CLS]', 'methods', 'to', 'achieve', 'token', '##ization', 'in', 'different', 'scenarios', '[SEP]'] \n",
            "['[CLS]', 'in', 'different', 'scenarios', '.', '[SEP]', '[PAD]', '[PAD]', '[PAD]', '[PAD]'] \n",
            "['[CLS]', 'i', 'like', 'bu', '##an', '##64', '##8', '##2', '[SEP]', '[PAD]'] \n",
            "['[CLS]', 'neural', 'networks', 'using', 'attention', 'mechanisms', 'to', 'process', 'sequences', '[SEP]'] \n",
            "['[CLS]', 'to', 'process', 'sequences', ',', 'revolution', '##izing', 'natural', 'language', '[SEP]'] \n",
            "['[CLS]', '##izing', 'natural', 'language', 'processing', 'tasks', '[SEP]', '[PAD]', '[PAD]', '[PAD]'] "
          ]
        }
      ],
      "source": [
        "for chunk in tokenized_outputs_dummy['input_ids']:\n",
        "    print(f'\\n{tokenizer.convert_ids_to_tokens(chunk)}', end = ' ')"
      ]
    },
    {
      "cell_type": "code",
      "execution_count": 58,
      "id": "7HTkPqc6yhR5",
      "metadata": {
        "id": "7HTkPqc6yhR5"
      },
      "outputs": [],
      "source": [
        "overflow_to_sample_mapping_dummy = tokenized_outputs_dummy.get(\"overflow_to_sample_mapping\", None)"
      ]
    },
    {
      "cell_type": "code",
      "execution_count": 59,
      "id": "3Jn54ru3rk9e",
      "metadata": {
        "colab": {
          "base_uri": "https://localhost:8080/"
        },
        "id": "3Jn54ru3rk9e",
        "outputId": "61f244bc-3ad8-4f59-d196-bbe5b4439f9d"
      },
      "outputs": [
        {
          "output_type": "execute_result",
          "data": {
            "text/plain": [
              "tensor([0, 0, 0, 0, 0, 0, 0, 0, 1, 2, 2, 2])"
            ]
          },
          "metadata": {},
          "execution_count": 59
        }
      ],
      "source": [
        "overflow_to_sample_mapping_dummy[:20]"
      ]
    },
    {
      "cell_type": "code",
      "execution_count": 60,
      "id": "6zQaoDWNsKNb",
      "metadata": {
        "id": "6zQaoDWNsKNb"
      },
      "outputs": [],
      "source": [
        "import torch\n",
        "doc_labels_dummy = torch.tensor(dataset_dummy['label'], dtype=torch.long)\n",
        "if overflow_to_sample_mapping_dummy is not None:\n",
        "    labels_dummy = doc_labels_dummy[overflow_to_sample_mapping_dummy]"
      ]
    },
    {
      "cell_type": "code",
      "execution_count": 61,
      "id": "A4copQCex8WZ",
      "metadata": {
        "colab": {
          "base_uri": "https://localhost:8080/"
        },
        "id": "A4copQCex8WZ",
        "outputId": "fdd60da4-dd03-4ac8-bd51-47d77ee50dc6"
      },
      "outputs": [
        {
          "output_type": "execute_result",
          "data": {
            "text/plain": [
              "tensor([1, 1, 1, 1, 1, 1, 1, 1, 0, 0, 0, 0])"
            ]
          },
          "metadata": {},
          "execution_count": 61
        }
      ],
      "source": [
        "labels_dummy"
      ]
    },
    {
      "cell_type": "code",
      "execution_count": 62,
      "id": "1396b5a6",
      "metadata": {
        "colab": {
          "base_uri": "https://localhost:8080/"
        },
        "id": "1396b5a6",
        "outputId": "07ddd444-1838-4287-c24b-6f2e6d4b3514"
      },
      "outputs": [
        {
          "output_type": "execute_result",
          "data": {
            "text/plain": [
              "tensor([1, 0, 0])"
            ]
          },
          "metadata": {},
          "execution_count": 62
        }
      ],
      "source": [
        "doc_labels_dummy"
      ]
    },
    {
      "cell_type": "code",
      "execution_count": 63,
      "id": "tpk5juQFyC4p",
      "metadata": {
        "id": "tpk5juQFyC4p"
      },
      "outputs": [],
      "source": [
        "model_inputs_dummy = {**tokenized_outputs_dummy, \"labels\": labels_dummy, \"doc_labels\": doc_labels_dummy}"
      ]
    },
    {
      "cell_type": "code",
      "execution_count": 64,
      "id": "rO5V_wK6yP0B",
      "metadata": {
        "colab": {
          "base_uri": "https://localhost:8080/"
        },
        "id": "rO5V_wK6yP0B",
        "outputId": "ce16feaa-765e-4a7c-890a-47716a31208a"
      },
      "outputs": [
        {
          "output_type": "execute_result",
          "data": {
            "text/plain": [
              "{'input_ids': tensor([[  101, 19204,  3989,  2003,  1996,  2832,  1997, 14541,  5537,   102],\n",
              "         [  101,  1997, 14541,  5537,  2000, 19204,  2015,  1012,  2009,   102],\n",
              "         [  101,  2015,  1012,  2009,  1005,  1055,  2028,  1997,  1996,   102],\n",
              "         [  101,  2028,  1997,  1996,  8050,  8518,  1999,  3019,  2653,   102],\n",
              "         [  101,  1999,  3019,  2653,  6364,  1012,  2174,  1010,  2045,   102],\n",
              "         [  101,  2174,  1010,  2045,  2024,  2536,  4725,  2000,  6162,   102],\n",
              "         [  101,  4725,  2000,  6162, 19204,  3989,  1999,  2367, 16820,   102],\n",
              "         [  101,  1999,  2367, 16820,  1012,   102,     0,     0,     0,     0],\n",
              "         [  101,  1045,  2066, 20934,  2319, 21084,  2620,  2475,   102,     0],\n",
              "         [  101, 15756,  6125,  2478,  3086, 10595,  2000,  2832, 10071,   102],\n",
              "         [  101,  2000,  2832, 10071,  1010,  4329,  6026,  3019,  2653,   102],\n",
              "         [  101,  6026,  3019,  2653,  6364,  8518,   102,     0,     0,     0]]),\n",
              " 'attention_mask': tensor([[1, 1, 1, 1, 1, 1, 1, 1, 1, 1],\n",
              "         [1, 1, 1, 1, 1, 1, 1, 1, 1, 1],\n",
              "         [1, 1, 1, 1, 1, 1, 1, 1, 1, 1],\n",
              "         [1, 1, 1, 1, 1, 1, 1, 1, 1, 1],\n",
              "         [1, 1, 1, 1, 1, 1, 1, 1, 1, 1],\n",
              "         [1, 1, 1, 1, 1, 1, 1, 1, 1, 1],\n",
              "         [1, 1, 1, 1, 1, 1, 1, 1, 1, 1],\n",
              "         [1, 1, 1, 1, 1, 1, 0, 0, 0, 0],\n",
              "         [1, 1, 1, 1, 1, 1, 1, 1, 1, 0],\n",
              "         [1, 1, 1, 1, 1, 1, 1, 1, 1, 1],\n",
              "         [1, 1, 1, 1, 1, 1, 1, 1, 1, 1],\n",
              "         [1, 1, 1, 1, 1, 1, 1, 0, 0, 0]]),\n",
              " 'overflow_to_sample_mapping': tensor([0, 0, 0, 0, 0, 0, 0, 0, 1, 2, 2, 2]),\n",
              " 'labels': tensor([1, 1, 1, 1, 1, 1, 1, 1, 0, 0, 0, 0]),\n",
              " 'doc_labels': tensor([1, 0, 0])}"
            ]
          },
          "metadata": {},
          "execution_count": 64
        }
      ],
      "source": [
        "model_inputs_dummy"
      ]
    },
    {
      "cell_type": "code",
      "execution_count": 65,
      "id": "K1XEA9hBdfCn",
      "metadata": {
        "id": "K1XEA9hBdfCn"
      },
      "outputs": [],
      "source": [
        "def collate_function(batch, tokenizer, max_length, stride):\n",
        "\n",
        "\n",
        "    text_batch = [item.get('text','') for item in batch]\n",
        "\n",
        "    # Check if any of the batch items has 'label', if so process labels.\n",
        "    if all('label' in item for item in batch):\n",
        "        label_batch = [item['label'] for item in batch]\n",
        "        doc_labels = torch.tensor(label_batch, dtype=torch.long)\n",
        "    else:\n",
        "        doc_labels = None\n",
        "\n",
        "\n",
        "    # Tokenize the batch of texts\n",
        "    tokenized = tokenizer(text_batch,\n",
        "                          padding='longest',\n",
        "                          truncation=True,\n",
        "                          return_tensors='pt',\n",
        "                          max_length=max_length,\n",
        "                          return_overflowing_tokens=True,\n",
        "                          stride=stride)\n",
        "\n",
        "    # Flatten the chunks if necessary using overflow_to_sample_mapping\n",
        "    overflow_to_sample_mapping = tokenized.get(\"overflow_to_sample_mapping\", None)\n",
        "\n",
        "    result = {\n",
        "        **tokenized,\n",
        "        \"overflow_to_sample_mapping\": overflow_to_sample_mapping,\n",
        "    }\n",
        "\n",
        "    # Repeat labels for the chunks based on overflow_to_sample_mapping, only if labels are present\n",
        "    if doc_labels is not None and overflow_to_sample_mapping is not None:\n",
        "        labels = doc_labels[overflow_to_sample_mapping]\n",
        "        result[\"labels\"] = labels\n",
        "        result[\"doc_labels\"] = doc_labels\n",
        "\n",
        "    return result"
      ]
    },
    {
      "cell_type": "markdown",
      "id": "O7-5sm2uBTN_",
      "metadata": {
        "id": "O7-5sm2uBTN_"
      },
      "source": [
        "#  <font color = 'pickle'> **Model Training**"
      ]
    },
    {
      "cell_type": "markdown",
      "id": "mWh_tjw87L7q",
      "metadata": {
        "id": "mWh_tjw87L7q"
      },
      "source": [
        "##  <font color = 'pickle'> **Model Config File**"
      ]
    },
    {
      "cell_type": "markdown",
      "id": "e15e2ca6-cfbf-46c0-bf81-ec65a9258567",
      "metadata": {
        "execution": {
          "iopub.execute_input": "2022-12-05T21:57:04.735277Z",
          "iopub.status.busy": "2022-12-05T21:57:04.735041Z",
          "iopub.status.idle": "2022-12-05T21:57:04.738230Z",
          "shell.execute_reply": "2022-12-05T21:57:04.737909Z",
          "shell.execute_reply.started": "2022-12-05T21:57:04.735252Z"
        },
        "id": "e15e2ca6-cfbf-46c0-bf81-ec65a9258567"
      },
      "source": [
        "###  <font color = 'pickle'> **Download config file of pre-trained Model**</font>\n",
        "\n"
      ]
    },
    {
      "cell_type": "code",
      "execution_count": 66,
      "id": "c53c0b07-85ea-403d-b967-571b62916ce5",
      "metadata": {
        "execution": {
          "iopub.execute_input": "2022-12-23T23:14:19.142120Z",
          "iopub.status.busy": "2022-12-23T23:14:19.141968Z",
          "iopub.status.idle": "2022-12-23T23:14:19.185148Z",
          "shell.execute_reply": "2022-12-23T23:14:19.184490Z",
          "shell.execute_reply.started": "2022-12-23T23:14:19.142106Z"
        },
        "id": "c53c0b07-85ea-403d-b967-571b62916ce5",
        "tags": []
      },
      "outputs": [],
      "source": [
        "from transformers import AutoConfig"
      ]
    },
    {
      "cell_type": "code",
      "execution_count": 67,
      "id": "02d5e0eb-ac4c-4593-946c-3e33a4e2a82e",
      "metadata": {
        "execution": {
          "iopub.execute_input": "2022-12-23T23:14:20.554756Z",
          "iopub.status.busy": "2022-12-23T23:14:20.554518Z",
          "iopub.status.idle": "2022-12-23T23:14:20.770843Z",
          "shell.execute_reply": "2022-12-23T23:14:20.770018Z",
          "shell.execute_reply.started": "2022-12-23T23:14:20.554730Z"
        },
        "id": "02d5e0eb-ac4c-4593-946c-3e33a4e2a82e",
        "tags": []
      },
      "outputs": [],
      "source": [
        "config = AutoConfig.from_pretrained(checkpoint)\n"
      ]
    },
    {
      "cell_type": "code",
      "execution_count": 68,
      "id": "2712bbf6-ab95-4c24-8fea-90162f5aa634",
      "metadata": {
        "colab": {
          "base_uri": "https://localhost:8080/"
        },
        "execution": {
          "iopub.execute_input": "2022-12-23T23:14:20.921199Z",
          "iopub.status.busy": "2022-12-23T23:14:20.920812Z",
          "iopub.status.idle": "2022-12-23T23:14:20.973833Z",
          "shell.execute_reply": "2022-12-23T23:14:20.973311Z",
          "shell.execute_reply.started": "2022-12-23T23:14:20.921170Z"
        },
        "id": "2712bbf6-ab95-4c24-8fea-90162f5aa634",
        "outputId": "338d53b9-20fb-48a6-829c-215b27705552",
        "tags": []
      },
      "outputs": [
        {
          "output_type": "execute_result",
          "data": {
            "text/plain": [
              "DistilBertConfig {\n",
              "  \"_name_or_path\": \"distilbert-base-uncased\",\n",
              "  \"activation\": \"gelu\",\n",
              "  \"architectures\": [\n",
              "    \"DistilBertForMaskedLM\"\n",
              "  ],\n",
              "  \"attention_dropout\": 0.1,\n",
              "  \"dim\": 768,\n",
              "  \"dropout\": 0.1,\n",
              "  \"hidden_dim\": 3072,\n",
              "  \"initializer_range\": 0.02,\n",
              "  \"max_position_embeddings\": 512,\n",
              "  \"model_type\": \"distilbert\",\n",
              "  \"n_heads\": 12,\n",
              "  \"n_layers\": 6,\n",
              "  \"pad_token_id\": 0,\n",
              "  \"qa_dropout\": 0.1,\n",
              "  \"seq_classif_dropout\": 0.2,\n",
              "  \"sinusoidal_pos_embds\": false,\n",
              "  \"tie_weights_\": true,\n",
              "  \"transformers_version\": \"4.35.2\",\n",
              "  \"vocab_size\": 30522\n",
              "}"
            ]
          },
          "metadata": {},
          "execution_count": 68
        }
      ],
      "source": [
        "config"
      ]
    },
    {
      "cell_type": "markdown",
      "id": "3dcbc384-25b5-4b71-9a7a-aaebca9bea5c",
      "metadata": {
        "id": "3dcbc384-25b5-4b71-9a7a-aaebca9bea5c"
      },
      "source": [
        "###  <font color = 'pickle'> **Modify Configuration File**</font>\n",
        "- We need to modify configuration fie to add ids to  label and label to ids mapping\n",
        "- Adding id2label and label2id to the configuration file provides a consistent, interpretable, and user-friendly way to handle model outputs."
      ]
    },
    {
      "cell_type": "code",
      "execution_count": 69,
      "id": "81bfce1a-9e54-4ea1-87cc-e32e9998c38c",
      "metadata": {
        "colab": {
          "base_uri": "https://localhost:8080/"
        },
        "execution": {
          "iopub.execute_input": "2022-12-23T23:14:22.607176Z",
          "iopub.status.busy": "2022-12-23T23:14:22.606789Z",
          "iopub.status.idle": "2022-12-23T23:14:22.656460Z",
          "shell.execute_reply": "2022-12-23T23:14:22.655931Z",
          "shell.execute_reply.started": "2022-12-23T23:14:22.607147Z"
        },
        "id": "81bfce1a-9e54-4ea1-87cc-e32e9998c38c",
        "outputId": "1d457b45-2c70-4288-dd6c-80170258b665",
        "tags": []
      },
      "outputs": [
        {
          "output_type": "execute_result",
          "data": {
            "text/plain": [
              "['c#',\n",
              " 'java',\n",
              " 'php',\n",
              " 'javascript',\n",
              " 'android',\n",
              " 'jquery',\n",
              " 'c++',\n",
              " 'python',\n",
              " 'iphone',\n",
              " 'asp.net']"
            ]
          },
          "metadata": {},
          "execution_count": 69
        }
      ],
      "source": [
        "class_names = train_val['train'].features['label'].names\n",
        "class_names\n"
      ]
    },
    {
      "cell_type": "code",
      "execution_count": 70,
      "id": "d3a8fd9a-882c-420c-a6a6-bb4f2fb2f2f4",
      "metadata": {
        "colab": {
          "base_uri": "https://localhost:8080/"
        },
        "execution": {
          "iopub.execute_input": "2022-12-23T23:14:23.046931Z",
          "iopub.status.busy": "2022-12-23T23:14:23.046612Z",
          "iopub.status.idle": "2022-12-23T23:14:23.096310Z",
          "shell.execute_reply": "2022-12-23T23:14:23.095776Z",
          "shell.execute_reply.started": "2022-12-23T23:14:23.046912Z"
        },
        "id": "d3a8fd9a-882c-420c-a6a6-bb4f2fb2f2f4",
        "outputId": "cf1cffc8-1fe8-4673-af17-86b5f44aca26",
        "tags": []
      },
      "outputs": [
        {
          "output_type": "execute_result",
          "data": {
            "text/plain": [
              "{'0': 'c#',\n",
              " '1': 'java',\n",
              " '2': 'php',\n",
              " '3': 'javascript',\n",
              " '4': 'android',\n",
              " '5': 'jquery',\n",
              " '6': 'c++',\n",
              " '7': 'python',\n",
              " '8': 'iphone',\n",
              " '9': 'asp.net'}"
            ]
          },
          "metadata": {},
          "execution_count": 70
        }
      ],
      "source": [
        "id2label = {}\n",
        "for id_, label_ in enumerate(class_names):\n",
        "    id2label[str(id_)] = label_\n",
        "id2label\n"
      ]
    },
    {
      "cell_type": "code",
      "execution_count": 71,
      "id": "8f34de4b-c12f-47a0-b8e6-decb6a1b9f95",
      "metadata": {
        "colab": {
          "base_uri": "https://localhost:8080/"
        },
        "execution": {
          "iopub.execute_input": "2022-12-23T23:14:23.480314Z",
          "iopub.status.busy": "2022-12-23T23:14:23.480072Z",
          "iopub.status.idle": "2022-12-23T23:14:23.525777Z",
          "shell.execute_reply": "2022-12-23T23:14:23.525135Z",
          "shell.execute_reply.started": "2022-12-23T23:14:23.480289Z"
        },
        "id": "8f34de4b-c12f-47a0-b8e6-decb6a1b9f95",
        "outputId": "73fdbc4d-efb9-4fad-84c2-60a52f8f9d1b",
        "tags": []
      },
      "outputs": [
        {
          "output_type": "execute_result",
          "data": {
            "text/plain": [
              "{'c#': 0,\n",
              " 'java': 1,\n",
              " 'php': 2,\n",
              " 'javascript': 3,\n",
              " 'android': 4,\n",
              " 'jquery': 5,\n",
              " 'c++': 6,\n",
              " 'python': 7,\n",
              " 'iphone': 8,\n",
              " 'asp.net': 9}"
            ]
          },
          "metadata": {},
          "execution_count": 71
        }
      ],
      "source": [
        "label2id = {}\n",
        "for id_, label_ in enumerate(class_names):\n",
        "    label2id[label_] = id_\n",
        "label2id\n"
      ]
    },
    {
      "cell_type": "code",
      "execution_count": 72,
      "id": "b1f11ed8-d5d2-4438-8d80-811a0dafceab",
      "metadata": {
        "execution": {
          "iopub.execute_input": "2022-12-23T23:14:24.265929Z",
          "iopub.status.busy": "2022-12-23T23:14:24.265546Z",
          "iopub.status.idle": "2022-12-23T23:14:24.318440Z",
          "shell.execute_reply": "2022-12-23T23:14:24.317882Z",
          "shell.execute_reply.started": "2022-12-23T23:14:24.265901Z"
        },
        "id": "b1f11ed8-d5d2-4438-8d80-811a0dafceab",
        "tags": []
      },
      "outputs": [],
      "source": [
        "config.id2label = id2label\n",
        "config.label2id = label2id\n"
      ]
    },
    {
      "cell_type": "code",
      "execution_count": 73,
      "id": "8996b4bc-2412-4cbd-9237-95fe830f6492",
      "metadata": {
        "colab": {
          "base_uri": "https://localhost:8080/"
        },
        "execution": {
          "iopub.execute_input": "2022-12-23T23:14:24.769204Z",
          "iopub.status.busy": "2022-12-23T23:14:24.768823Z",
          "iopub.status.idle": "2022-12-23T23:14:24.818312Z",
          "shell.execute_reply": "2022-12-23T23:14:24.817732Z",
          "shell.execute_reply.started": "2022-12-23T23:14:24.769176Z"
        },
        "id": "8996b4bc-2412-4cbd-9237-95fe830f6492",
        "outputId": "0c2cb6b4-b7e3-4131-d9d8-74dfb9683593",
        "tags": []
      },
      "outputs": [
        {
          "output_type": "execute_result",
          "data": {
            "text/plain": [
              "DistilBertConfig {\n",
              "  \"_name_or_path\": \"distilbert-base-uncased\",\n",
              "  \"activation\": \"gelu\",\n",
              "  \"architectures\": [\n",
              "    \"DistilBertForMaskedLM\"\n",
              "  ],\n",
              "  \"attention_dropout\": 0.1,\n",
              "  \"dim\": 768,\n",
              "  \"dropout\": 0.1,\n",
              "  \"hidden_dim\": 3072,\n",
              "  \"id2label\": {\n",
              "    \"0\": \"c#\",\n",
              "    \"1\": \"java\",\n",
              "    \"2\": \"php\",\n",
              "    \"3\": \"javascript\",\n",
              "    \"4\": \"android\",\n",
              "    \"5\": \"jquery\",\n",
              "    \"6\": \"c++\",\n",
              "    \"7\": \"python\",\n",
              "    \"8\": \"iphone\",\n",
              "    \"9\": \"asp.net\"\n",
              "  },\n",
              "  \"initializer_range\": 0.02,\n",
              "  \"label2id\": {\n",
              "    \"android\": 4,\n",
              "    \"asp.net\": 9,\n",
              "    \"c#\": 0,\n",
              "    \"c++\": 6,\n",
              "    \"iphone\": 8,\n",
              "    \"java\": 1,\n",
              "    \"javascript\": 3,\n",
              "    \"jquery\": 5,\n",
              "    \"php\": 2,\n",
              "    \"python\": 7\n",
              "  },\n",
              "  \"max_position_embeddings\": 512,\n",
              "  \"model_type\": \"distilbert\",\n",
              "  \"n_heads\": 12,\n",
              "  \"n_layers\": 6,\n",
              "  \"pad_token_id\": 0,\n",
              "  \"qa_dropout\": 0.1,\n",
              "  \"seq_classif_dropout\": 0.2,\n",
              "  \"sinusoidal_pos_embds\": false,\n",
              "  \"tie_weights_\": true,\n",
              "  \"transformers_version\": \"4.35.2\",\n",
              "  \"vocab_size\": 30522\n",
              "}"
            ]
          },
          "metadata": {},
          "execution_count": 73
        }
      ],
      "source": [
        "config\n"
      ]
    },
    {
      "cell_type": "markdown",
      "id": "cc2a39fc-6d87-43ca-8a6e-7129bd8214f1",
      "metadata": {
        "id": "cc2a39fc-6d87-43ca-8a6e-7129bd8214f1"
      },
      "source": [
        "##  <font color = 'pickle'> **Download pre-trained model**"
      ]
    },
    {
      "cell_type": "code",
      "execution_count": 74,
      "id": "6e7b8006-b2d4-40a2-ad3d-6d721e71c26e",
      "metadata": {
        "execution": {
          "iopub.execute_input": "2022-12-23T23:14:38.580615Z",
          "iopub.status.busy": "2022-12-23T23:14:38.580375Z",
          "iopub.status.idle": "2022-12-23T23:14:38.631722Z",
          "shell.execute_reply": "2022-12-23T23:14:38.631067Z",
          "shell.execute_reply.started": "2022-12-23T23:14:38.580589Z"
        },
        "id": "6e7b8006-b2d4-40a2-ad3d-6d721e71c26e",
        "tags": []
      },
      "outputs": [],
      "source": [
        "from transformers import AutoModelForSequenceClassification\n"
      ]
    },
    {
      "cell_type": "code",
      "execution_count": 75,
      "id": "58babf85",
      "metadata": {
        "colab": {
          "base_uri": "https://localhost:8080/",
          "height": 84,
          "referenced_widgets": [
            "189cf40c45234e459265ba49696be3ea",
            "02f8d19411e14b7f9ae8b366e6e48502",
            "30ee0aaef9f44fe68243c24b3a39f221",
            "bddf5f7d927d4eb6b2832c43298f1856",
            "658da8a4ed2c480887ba063981507a4a",
            "ec53d2bb75e2481893b5311449560e26",
            "74432326e11a47c28df3e09c1c550945",
            "ea89d2ca784b41e1973b7dd0680b4da6",
            "c3cb384502e04ac19ccd150606d0f33a",
            "ccc8ad2a35e4405f8dafe4f986b95813",
            "c8efe15c7f034936b383f14606f4c75c"
          ]
        },
        "id": "58babf85",
        "outputId": "96285bc2-8705-4aca-a5d4-95b17feb183f"
      },
      "outputs": [
        {
          "output_type": "display_data",
          "data": {
            "text/plain": [
              "model.safetensors:   0%|          | 0.00/268M [00:00<?, ?B/s]"
            ],
            "application/vnd.jupyter.widget-view+json": {
              "version_major": 2,
              "version_minor": 0,
              "model_id": "189cf40c45234e459265ba49696be3ea"
            }
          },
          "metadata": {}
        },
        {
          "output_type": "stream",
          "name": "stderr",
          "text": [
            "Some weights of DistilBertForSequenceClassification were not initialized from the model checkpoint at distilbert-base-uncased and are newly initialized: ['pre_classifier.weight', 'classifier.weight', 'pre_classifier.bias', 'classifier.bias']\n",
            "You should probably TRAIN this model on a down-stream task to be able to use it for predictions and inference.\n"
          ]
        }
      ],
      "source": [
        "model = AutoModelForSequenceClassification.from_pretrained(checkpoint, config=config)  # We are using the same checkpiont as we have used for tokenizer"
      ]
    },
    {
      "cell_type": "markdown",
      "id": "GTVu1FaL8H6m",
      "metadata": {
        "id": "GTVu1FaL8H6m"
      },
      "source": [
        "## <font color = 'pickle'> **Model Input/Collate Function** </font>"
      ]
    },
    {
      "cell_type": "code",
      "execution_count": 76,
      "id": "01dd01e8",
      "metadata": {
        "id": "01dd01e8"
      },
      "outputs": [],
      "source": [
        "from functools import partial"
      ]
    },
    {
      "cell_type": "code",
      "source": [
        "collate_fn_dummy = partial(collate_function, tokenizer= tokenizer, max_length = 10, stride = 5)\n",
        "# set seed for reproducibility\n",
        "torch.manual_seed(42)\n",
        "model_inputs_dummy = collate_fn_dummy(dataset_dummy)"
      ],
      "metadata": {
        "id": "shrY5eXV4h9V"
      },
      "id": "shrY5eXV4h9V",
      "execution_count": 77,
      "outputs": []
    },
    {
      "cell_type": "code",
      "execution_count": 78,
      "id": "EFpsqlHeMvkg",
      "metadata": {
        "colab": {
          "base_uri": "https://localhost:8080/"
        },
        "id": "EFpsqlHeMvkg",
        "outputId": "7038cfff-8a66-4f0a-d73a-63775666f020"
      },
      "outputs": [
        {
          "output_type": "execute_result",
          "data": {
            "text/plain": [
              "{'input_ids': tensor([[  101, 19204,  3989,  2003,  1996,  2832,  1997, 14541,  5537,   102],\n",
              "         [  101,  1996,  2832,  1997, 14541,  5537,  2000, 19204,  2015,   102],\n",
              "         [  101, 14541,  5537,  2000, 19204,  2015,  1012,  2009,  1005,   102],\n",
              "         [  101, 19204,  2015,  1012,  2009,  1005,  1055,  2028,  1997,   102],\n",
              "         [  101,  2009,  1005,  1055,  2028,  1997,  1996,  8050,  8518,   102],\n",
              "         [  101,  2028,  1997,  1996,  8050,  8518,  1999,  3019,  2653,   102],\n",
              "         [  101,  8050,  8518,  1999,  3019,  2653,  6364,  1012,  2174,   102],\n",
              "         [  101,  3019,  2653,  6364,  1012,  2174,  1010,  2045,  2024,   102],\n",
              "         [  101,  1012,  2174,  1010,  2045,  2024,  2536,  4725,  2000,   102],\n",
              "         [  101,  2045,  2024,  2536,  4725,  2000,  6162, 19204,  3989,   102],\n",
              "         [  101,  4725,  2000,  6162, 19204,  3989,  1999,  2367, 16820,   102],\n",
              "         [  101, 19204,  3989,  1999,  2367, 16820,  1012,   102,     0,     0],\n",
              "         [  101,  1045,  2066, 20934,  2319, 21084,  2620,  2475,   102,     0],\n",
              "         [  101, 15756,  6125,  2478,  3086, 10595,  2000,  2832, 10071,   102],\n",
              "         [  101,  3086, 10595,  2000,  2832, 10071,  1010,  4329,  6026,   102],\n",
              "         [  101,  2832, 10071,  1010,  4329,  6026,  3019,  2653,  6364,   102],\n",
              "         [  101,  4329,  6026,  3019,  2653,  6364,  8518,   102,     0,     0]]),\n",
              " 'attention_mask': tensor([[1, 1, 1, 1, 1, 1, 1, 1, 1, 1],\n",
              "         [1, 1, 1, 1, 1, 1, 1, 1, 1, 1],\n",
              "         [1, 1, 1, 1, 1, 1, 1, 1, 1, 1],\n",
              "         [1, 1, 1, 1, 1, 1, 1, 1, 1, 1],\n",
              "         [1, 1, 1, 1, 1, 1, 1, 1, 1, 1],\n",
              "         [1, 1, 1, 1, 1, 1, 1, 1, 1, 1],\n",
              "         [1, 1, 1, 1, 1, 1, 1, 1, 1, 1],\n",
              "         [1, 1, 1, 1, 1, 1, 1, 1, 1, 1],\n",
              "         [1, 1, 1, 1, 1, 1, 1, 1, 1, 1],\n",
              "         [1, 1, 1, 1, 1, 1, 1, 1, 1, 1],\n",
              "         [1, 1, 1, 1, 1, 1, 1, 1, 1, 1],\n",
              "         [1, 1, 1, 1, 1, 1, 1, 1, 0, 0],\n",
              "         [1, 1, 1, 1, 1, 1, 1, 1, 1, 0],\n",
              "         [1, 1, 1, 1, 1, 1, 1, 1, 1, 1],\n",
              "         [1, 1, 1, 1, 1, 1, 1, 1, 1, 1],\n",
              "         [1, 1, 1, 1, 1, 1, 1, 1, 1, 1],\n",
              "         [1, 1, 1, 1, 1, 1, 1, 1, 0, 0]]),\n",
              " 'overflow_to_sample_mapping': tensor([0, 0, 0, 0, 0, 0, 0, 0, 0, 0, 0, 0, 1, 2, 2, 2, 2]),\n",
              " 'labels': tensor([1, 1, 1, 1, 1, 1, 1, 1, 1, 1, 1, 1, 0, 0, 0, 0, 0]),\n",
              " 'doc_labels': tensor([1, 0, 0])}"
            ]
          },
          "metadata": {},
          "execution_count": 78
        }
      ],
      "source": [
        "model_inputs_dummy"
      ]
    },
    {
      "cell_type": "code",
      "execution_count": 79,
      "id": "ykhwkd-tM0CO",
      "metadata": {
        "id": "ykhwkd-tM0CO"
      },
      "outputs": [],
      "source": [
        "collate_fn = partial(collate_function, tokenizer=tokenizer,max_length = 512, stride = 256)"
      ]
    },
    {
      "cell_type": "code",
      "execution_count": 80,
      "id": "cea0c8f8",
      "metadata": {
        "colab": {
          "base_uri": "https://localhost:8080/"
        },
        "id": "cea0c8f8",
        "outputId": "ead20186-f252-422f-b51d-66500226e1e5"
      },
      "outputs": [
        {
          "output_type": "execute_result",
          "data": {
            "text/plain": [
              "Dataset({\n",
              "    features: ['text', 'label'],\n",
              "    num_rows: 2863\n",
              "})"
            ]
          },
          "metadata": {},
          "execution_count": 80
        }
      ],
      "source": [
        "train_val['train']"
      ]
    },
    {
      "cell_type": "code",
      "execution_count": 81,
      "id": "D2j4voKEOjXz",
      "metadata": {
        "id": "D2j4voKEOjXz"
      },
      "outputs": [],
      "source": [
        "model_inputs = collate_fn(train_val_small['train'])"
      ]
    },
    {
      "cell_type": "code",
      "execution_count": 82,
      "id": "8b727e07",
      "metadata": {
        "colab": {
          "base_uri": "https://localhost:8080/"
        },
        "id": "8b727e07",
        "outputId": "9de6f7fe-b587-4f9b-a943-bdab29d32cd5"
      },
      "outputs": [
        {
          "output_type": "execute_result",
          "data": {
            "text/plain": [
              "{'input_ids': tensor([[  101, 25718,  3746,  ...,  9381,  1002,   102],\n",
              "         [  101,  5714,  2290,  ...,  1027,  1006,   102],\n",
              "         [  101,  9381,  1002,  ...,  1012,  1013,   102],\n",
              "         ...,\n",
              "         [  101,  9262, 28619,  ...,  1012,  1000,   102],\n",
              "         [  101,  1025,  1065,  ...,  1013,  4638,   102],\n",
              "         [  101,  1012,  1000,  ...,     0,     0,     0]]),\n",
              " 'attention_mask': tensor([[1, 1, 1,  ..., 1, 1, 1],\n",
              "         [1, 1, 1,  ..., 1, 1, 1],\n",
              "         [1, 1, 1,  ..., 1, 1, 1],\n",
              "         ...,\n",
              "         [1, 1, 1,  ..., 1, 1, 1],\n",
              "         [1, 1, 1,  ..., 1, 1, 1],\n",
              "         [1, 1, 1,  ..., 0, 0, 0]]),\n",
              " 'overflow_to_sample_mapping': tensor([0, 0, 0, 0, 1, 1, 1, 1, 1, 1, 2, 2, 2, 2, 2, 3, 3, 4, 4, 4, 5, 5, 6, 6,\n",
              "         6, 6, 6, 6, 7, 7, 7, 7, 7, 7, 7, 7, 8, 8, 8, 8, 9, 9, 9]),\n",
              " 'labels': tensor([2, 2, 2, 2, 0, 0, 0, 0, 0, 0, 6, 6, 6, 6, 6, 3, 3, 2, 2, 2, 5, 5, 1, 1,\n",
              "         1, 1, 1, 1, 2, 2, 2, 2, 2, 2, 2, 2, 1, 1, 1, 1, 1, 1, 1]),\n",
              " 'doc_labels': tensor([2, 0, 6, 3, 2, 5, 1, 2, 1, 1])}"
            ]
          },
          "metadata": {},
          "execution_count": 82
        }
      ],
      "source": [
        "model_inputs"
      ]
    },
    {
      "cell_type": "code",
      "execution_count": 83,
      "id": "-cUJ5Q8OOiji",
      "metadata": {
        "colab": {
          "base_uri": "https://localhost:8080/"
        },
        "id": "-cUJ5Q8OOiji",
        "outputId": "607b75b8-5096-4ee8-8628-1595eb3abcae"
      },
      "outputs": [
        {
          "output_type": "execute_result",
          "data": {
            "text/plain": [
              "dict_keys(['input_ids', 'attention_mask', 'overflow_to_sample_mapping', 'labels', 'doc_labels'])"
            ]
          },
          "metadata": {},
          "execution_count": 83
        }
      ],
      "source": [
        "model_inputs.keys()"
      ]
    },
    {
      "cell_type": "code",
      "execution_count": 84,
      "id": "X0pl2TxWNX8j",
      "metadata": {
        "colab": {
          "base_uri": "https://localhost:8080/"
        },
        "id": "X0pl2TxWNX8j",
        "outputId": "9b7ea0ad-8a8f-47e0-9e32-cb90e9711ac5"
      },
      "outputs": [
        {
          "output_type": "stream",
          "name": "stdout",
          "text": [
            "tensor([  101, 25718,  3746, 24501,  4697,  5896, 16023,  2011,  5717,  2023])\n",
            "tensor([ 1002,  1060,  1027,  1030,  2131,  9581,  8449,  4697,  1006,  1002,\n",
            "        10047,  2290,  1007,  1025,  1013,  1013,  3746,  9381,  1002,   102])\n",
            "tensor([  101,  1027,  1006,  2531,  1013,  1006,  1002, 25430,  1013,  1002])\n",
            "tensor([0, 0, 0, 0, 0, 0, 0, 0, 0, 0, 0, 0, 0, 0, 0, 0, 0, 0, 0, 0])\n"
          ]
        }
      ],
      "source": [
        "print(model_inputs['input_ids'][0][0:10])\n",
        "print(model_inputs['input_ids'][0][-20:])\n",
        "print(model_inputs['input_ids'][3][0:10])\n",
        "print(model_inputs['input_ids'][3][-20:])"
      ]
    },
    {
      "cell_type": "code",
      "execution_count": 85,
      "id": "e8M8Y9S5SHho",
      "metadata": {
        "colab": {
          "base_uri": "https://localhost:8080/"
        },
        "id": "e8M8Y9S5SHho",
        "outputId": "0d1e0907-0252-46f3-df51-2bc1f4385db3"
      },
      "outputs": [
        {
          "output_type": "stream",
          "name": "stdout",
          "text": [
            "tensor([1, 1, 1, 1, 1, 1, 1, 1, 1, 1, 1, 1, 1, 1, 1, 1, 1, 1, 1, 1])\n",
            "tensor([0, 0, 0, 0, 0, 0, 0, 0, 0, 0, 0, 0, 0, 0, 0, 0, 0, 0, 0, 0])\n"
          ]
        }
      ],
      "source": [
        "print(model_inputs['attention_mask'][0][-20:])\n",
        "print(model_inputs['attention_mask'][3][-20:])"
      ]
    },
    {
      "cell_type": "code",
      "execution_count": 86,
      "id": "mf89s-QBSWAY",
      "metadata": {
        "colab": {
          "base_uri": "https://localhost:8080/"
        },
        "id": "mf89s-QBSWAY",
        "outputId": "7157bcfc-ea8e-475d-93ac-1396cd1b349f"
      },
      "outputs": [
        {
          "output_type": "stream",
          "name": "stdout",
          "text": [
            "['[CLS]', 'php', 'image', 'res', '##ize', 'script', 'dividing', 'by', 'zero', 'this']\n"
          ]
        }
      ],
      "source": [
        "print(tokenizer.convert_ids_to_tokens(model_inputs['input_ids'][0][0:10]))"
      ]
    },
    {
      "cell_type": "code",
      "execution_count": 87,
      "id": "wnTPkY2BSdsA",
      "metadata": {
        "colab": {
          "base_uri": "https://localhost:8080/"
        },
        "id": "wnTPkY2BSdsA",
        "outputId": "5c8be374-650e-463a-8e58-b0616e5ef2b5"
      },
      "outputs": [
        {
          "output_type": "stream",
          "name": "stdout",
          "text": [
            "['im', '##g', ')', ';', '/', '/', 'image', 'width', '$', '[SEP]']\n"
          ]
        }
      ],
      "source": [
        "print(tokenizer.convert_ids_to_tokens(model_inputs['input_ids'][0][-10:]))"
      ]
    },
    {
      "cell_type": "code",
      "execution_count": 88,
      "id": "7-ulominSkqX",
      "metadata": {
        "colab": {
          "base_uri": "https://localhost:8080/"
        },
        "id": "7-ulominSkqX",
        "outputId": "430df7ed-a205-41a2-d520-5b86cf61502a"
      },
      "outputs": [
        {
          "output_type": "stream",
          "name": "stdout",
          "text": [
            "['[CLS]', '=', '(', '100', '/', '(', '$', 'sw', '/', '$']\n"
          ]
        }
      ],
      "source": [
        "print(tokenizer.convert_ids_to_tokens(model_inputs['input_ids'][3][0:10]))"
      ]
    },
    {
      "cell_type": "code",
      "execution_count": 89,
      "id": "f9pcCLTaSl97",
      "metadata": {
        "colab": {
          "base_uri": "https://localhost:8080/"
        },
        "id": "f9pcCLTaSl97",
        "outputId": "3805bf29-6bfb-4ca3-ba54-a554f285fb68"
      },
      "outputs": [
        {
          "output_type": "stream",
          "name": "stdout",
          "text": [
            "['[PAD]', '[PAD]', '[PAD]', '[PAD]', '[PAD]', '[PAD]', '[PAD]', '[PAD]', '[PAD]', '[PAD]']\n"
          ]
        }
      ],
      "source": [
        "print(tokenizer.convert_ids_to_tokens(model_inputs['input_ids'][3][-10:]))"
      ]
    },
    {
      "cell_type": "code",
      "execution_count": 90,
      "id": "d6963b77",
      "metadata": {
        "colab": {
          "base_uri": "https://localhost:8080/"
        },
        "id": "d6963b77",
        "outputId": "3f904a0d-2dfc-4906-c18c-4d9807f279e4"
      },
      "outputs": [
        {
          "output_type": "execute_result",
          "data": {
            "text/plain": [
              "tensor([2, 2, 2, 2, 0, 0, 0, 0, 0, 0, 6, 6, 6, 6, 6, 3, 3, 2, 2, 2, 5, 5, 1, 1,\n",
              "        1, 1, 1, 1, 2, 2, 2, 2, 2, 2, 2, 2, 1, 1, 1, 1, 1, 1, 1])"
            ]
          },
          "metadata": {},
          "execution_count": 90
        }
      ],
      "source": [
        "model_inputs['labels']"
      ]
    },
    {
      "cell_type": "code",
      "execution_count": 91,
      "id": "7416a21b",
      "metadata": {
        "colab": {
          "base_uri": "https://localhost:8080/"
        },
        "id": "7416a21b",
        "outputId": "12cceff1-1cd0-4d79-be69-4c234f8d3a34"
      },
      "outputs": [
        {
          "output_type": "execute_result",
          "data": {
            "text/plain": [
              "tensor([2, 0, 6, 3, 2, 5, 1, 2, 1, 1])"
            ]
          },
          "metadata": {},
          "execution_count": 91
        }
      ],
      "source": [
        "model_inputs['doc_labels']"
      ]
    },
    {
      "cell_type": "code",
      "execution_count": 92,
      "id": "43a0cdb1",
      "metadata": {
        "colab": {
          "base_uri": "https://localhost:8080/"
        },
        "id": "43a0cdb1",
        "outputId": "de70bb35-babe-4f70-e529-83fc374c86e7"
      },
      "outputs": [
        {
          "output_type": "execute_result",
          "data": {
            "text/plain": [
              "tensor([0, 0, 0, 0, 1, 1, 1, 1, 1, 1, 2, 2, 2, 2, 2, 3, 3, 4, 4, 4, 5, 5, 6, 6,\n",
              "        6, 6, 6, 6, 7, 7, 7, 7, 7, 7, 7, 7, 8, 8, 8, 8, 9, 9, 9])"
            ]
          },
          "metadata": {},
          "execution_count": 92
        }
      ],
      "source": [
        "model_inputs['overflow_to_sample_mapping']"
      ]
    },
    {
      "cell_type": "markdown",
      "id": "Q_bLeRq38NGo",
      "metadata": {
        "id": "Q_bLeRq38NGo"
      },
      "source": [
        "##  <font color = 'pickle'> **Understanding Model Output**"
      ]
    },
    {
      "cell_type": "code",
      "execution_count": 93,
      "id": "Kp85pxcaanZr",
      "metadata": {
        "id": "Kp85pxcaanZr"
      },
      "outputs": [],
      "source": [
        "# model output\n",
        "torch.manual_seed(42)\n",
        "model=model.to(device='cpu')\n",
        "collate_fn_dummy = partial(collate_function, tokenizer= tokenizer, max_length = 10, stride = 5)\n",
        "model_inputs_dummy = collate_fn_dummy(dataset_dummy)\n",
        "model.eval()\n",
        "with torch.no_grad():\n",
        "    labels_dummy =  model_inputs_dummy['labels']\n",
        "    labels_doc_dummy = model_inputs_dummy.pop(\"doc_labels\", None)\n",
        "    overflow_to_sample_mapping_dummy = model_inputs_dummy.pop(\"overflow_to_sample_mapping\", None)\n",
        "    model_output_dummy = model(**model_inputs_dummy)\n",
        "    logits_dummy = model_output_dummy.logits"
      ]
    },
    {
      "cell_type": "code",
      "execution_count": 94,
      "id": "139e8238",
      "metadata": {
        "colab": {
          "base_uri": "https://localhost:8080/"
        },
        "id": "139e8238",
        "outputId": "fe389058-9d7d-4a3a-d63f-207190ef4334"
      },
      "outputs": [
        {
          "output_type": "execute_result",
          "data": {
            "text/plain": [
              "tensor([0, 0, 0, 0, 0, 0, 0, 0, 0, 0, 0, 0, 1, 2, 2, 2, 2])"
            ]
          },
          "metadata": {},
          "execution_count": 94
        }
      ],
      "source": [
        "overflow_to_sample_mapping_dummy"
      ]
    },
    {
      "cell_type": "code",
      "execution_count": 95,
      "id": "Ea8ElbBcan8v",
      "metadata": {
        "colab": {
          "base_uri": "https://localhost:8080/"
        },
        "id": "Ea8ElbBcan8v",
        "outputId": "f0572e00-1d19-4ee8-85c8-ba2dae527abc"
      },
      "outputs": [
        {
          "output_type": "execute_result",
          "data": {
            "text/plain": [
              "odict_keys(['loss', 'logits'])"
            ]
          },
          "metadata": {},
          "execution_count": 95
        }
      ],
      "source": [
        "# keys in model output\n",
        "model_output_dummy.keys()"
      ]
    },
    {
      "cell_type": "code",
      "execution_count": 96,
      "id": "lgHbL2aibE60",
      "metadata": {
        "colab": {
          "base_uri": "https://localhost:8080/"
        },
        "id": "lgHbL2aibE60",
        "outputId": "7e9b4be1-2d28-42d7-acce-e2a1c7d86721"
      },
      "outputs": [
        {
          "output_type": "execute_result",
          "data": {
            "text/plain": [
              "torch.Size([17, 10])"
            ]
          },
          "metadata": {},
          "execution_count": 96
        }
      ],
      "source": [
        "# let us look at logits\n",
        "logits_dummy.shape\n"
      ]
    },
    {
      "cell_type": "code",
      "execution_count": 97,
      "id": "-EG_42RUeqBC",
      "metadata": {
        "colab": {
          "base_uri": "https://localhost:8080/"
        },
        "id": "-EG_42RUeqBC",
        "outputId": "e74b1364-44b5-43b5-d1e1-a3520abe306a"
      },
      "outputs": [
        {
          "output_type": "execute_result",
          "data": {
            "text/plain": [
              "tensor([[ 7.2479e-02,  1.3533e-02, -1.3850e-01,  2.1512e-01, -1.4441e-01,\n",
              "          1.8857e-04,  9.1717e-02, -2.2960e-02, -6.5061e-02,  2.7126e-03],\n",
              "        [ 5.9254e-03, -1.8013e-02, -1.0408e-01,  2.3448e-01, -1.2487e-01,\n",
              "          2.4870e-02,  7.2786e-02, -3.4883e-02, -7.2898e-02, -3.8403e-03],\n",
              "        [ 3.6110e-02, -2.7063e-03, -9.8751e-02,  2.3630e-01, -2.0061e-01,\n",
              "          2.7750e-02,  1.1159e-01, -5.8321e-02, -7.1469e-02, -1.1007e-02],\n",
              "        [ 6.9719e-02, -3.3146e-02, -1.0279e-01,  2.0648e-01, -2.5812e-01,\n",
              "          8.6282e-02,  1.1106e-01, -5.9944e-02, -1.8444e-02, -4.4662e-02],\n",
              "        [ 9.5627e-02, -3.7025e-02, -1.0004e-01,  2.1870e-01, -2.3524e-01,\n",
              "          4.6283e-02,  4.5392e-02, -1.1263e-01, -2.3192e-02, -1.9153e-02],\n",
              "        [ 6.4537e-02, -2.9312e-02, -1.4315e-01,  2.0645e-01, -2.1538e-01,\n",
              "          1.7552e-02,  3.0124e-02, -1.0148e-01, -9.3179e-03, -1.9062e-02],\n",
              "        [ 3.7256e-02, -4.9991e-02, -1.7246e-01,  1.8960e-01, -1.9481e-01,\n",
              "         -4.1014e-03,  5.0601e-02, -1.0817e-01,  2.1830e-02, -1.0503e-02],\n",
              "        [ 4.6937e-02, -5.5954e-02, -1.4800e-01,  2.0954e-01, -2.5415e-01,\n",
              "          2.0236e-02,  6.0593e-02, -1.0016e-01,  4.5887e-03, -2.5060e-03],\n",
              "        [ 8.8846e-02, -3.4491e-02, -9.1948e-02,  2.0310e-01, -2.3135e-01,\n",
              "          4.9053e-02,  5.4697e-02, -8.8560e-02, -1.2625e-02, -1.2833e-02],\n",
              "        [ 6.4408e-02, -3.3532e-02, -7.4865e-02,  2.1677e-01, -2.0102e-01,\n",
              "          1.3538e-02,  7.2544e-02, -6.4448e-02, -1.4514e-02,  7.2460e-03],\n",
              "        [ 2.8057e-02, -5.4774e-02, -5.3265e-02,  2.2692e-01, -1.6598e-01,\n",
              "          8.8684e-03,  9.2199e-02, -9.0172e-03, -3.4674e-02,  2.2299e-02],\n",
              "        [ 1.0567e-02, -6.2028e-02, -7.7100e-02,  2.2766e-01, -1.7903e-01,\n",
              "         -7.2434e-04,  7.6879e-02, -3.0543e-02, -7.2610e-02,  4.8172e-02],\n",
              "        [ 7.8159e-02, -5.9822e-03, -9.9673e-02,  2.4390e-01, -2.3125e-01,\n",
              "          1.1333e-01,  3.4596e-02, -9.1077e-02,  1.5563e-02, -4.4893e-02],\n",
              "        [ 2.4368e-02, -1.2733e-02, -8.8956e-02,  2.4011e-01, -1.7292e-01,\n",
              "          5.0219e-02,  1.3903e-01, -6.4310e-02, -1.3257e-02, -8.8907e-03],\n",
              "        [ 3.2416e-02, -2.6882e-02, -7.2868e-02,  2.1611e-01, -1.2896e-01,\n",
              "          5.6419e-02,  7.4669e-02, -1.9553e-02, -6.2317e-02,  1.7756e-02],\n",
              "        [ 2.6158e-02, -4.2463e-02, -1.3420e-01,  2.3695e-01, -1.3261e-01,\n",
              "          1.4334e-02,  4.4122e-02, -9.5926e-03, -4.2998e-02, -1.1451e-03],\n",
              "        [ 2.5569e-02, -3.6593e-02, -8.4250e-02,  2.1041e-01, -1.9153e-01,\n",
              "          4.3084e-02,  1.7280e-02, -2.1928e-02, -2.6015e-02,  2.1042e-02]])"
            ]
          },
          "metadata": {},
          "execution_count": 97
        }
      ],
      "source": [
        "logits_dummy"
      ]
    },
    {
      "cell_type": "code",
      "execution_count": 98,
      "id": "e49d849c",
      "metadata": {
        "colab": {
          "base_uri": "https://localhost:8080/"
        },
        "id": "e49d849c",
        "outputId": "58eab57c-31db-4a79-e4ca-2353ca72d172"
      },
      "outputs": [
        {
          "output_type": "execute_result",
          "data": {
            "text/plain": [
              "tensor(2.3160)"
            ]
          },
          "metadata": {},
          "execution_count": 98
        }
      ],
      "source": [
        "model_output_dummy.loss"
      ]
    },
    {
      "cell_type": "code",
      "execution_count": 99,
      "id": "70894f13",
      "metadata": {
        "id": "70894f13"
      },
      "outputs": [],
      "source": [
        "log_probs_dummy = torch.nn.functional.log_softmax(logits_dummy, dim=-1)"
      ]
    },
    {
      "cell_type": "code",
      "execution_count": 100,
      "id": "a0ba5ec9",
      "metadata": {
        "colab": {
          "base_uri": "https://localhost:8080/"
        },
        "id": "a0ba5ec9",
        "outputId": "e2c3dcb6-7a4c-460f-d538-62f7145d6939"
      },
      "outputs": [
        {
          "output_type": "execute_result",
          "data": {
            "text/plain": [
              "tensor([[-2.2379, -2.2968, -2.4489, -2.0953, -2.4548, -2.3102, -2.2187, -2.3333,\n",
              "         -2.3754, -2.3077],\n",
              "        [-2.2995, -2.3234, -2.4095, -2.0709, -2.4303, -2.2805, -2.2326, -2.3403,\n",
              "         -2.3783, -2.3093],\n",
              "        [-2.2699, -2.3087, -2.4048, -2.0697, -2.5066, -2.2783, -2.1944, -2.3643,\n",
              "         -2.3775, -2.3170],\n",
              "        [-2.2360, -2.3388, -2.4085, -2.0992, -2.5638, -2.2194, -2.1946, -2.3656,\n",
              "         -2.3241, -2.3504],\n",
              "        [-2.2018, -2.3345, -2.3975, -2.0788, -2.5327, -2.2512, -2.2521, -2.4101,\n",
              "         -2.3207, -2.3166],\n",
              "        [-2.2243, -2.3182, -2.4320, -2.0824, -2.5042, -2.2713, -2.2587, -2.3903,\n",
              "         -2.2982, -2.3079],\n",
              "        [-2.2471, -2.3344, -2.4568, -2.0948, -2.4792, -2.2885, -2.2338, -2.3925,\n",
              "         -2.2625, -2.2949],\n",
              "        [-2.2410, -2.3439, -2.4359, -2.0784, -2.5421, -2.2677, -2.2273, -2.3881,\n",
              "         -2.2833, -2.2904],\n",
              "        [-2.2124, -2.3357, -2.3932, -2.0981, -2.5326, -2.2522, -2.2465, -2.3898,\n",
              "         -2.3138, -2.3140],\n",
              "        [-2.2422, -2.3402, -2.3815, -2.0899, -2.5077, -2.2931, -2.2341, -2.3711,\n",
              "         -2.3212, -2.2994],\n",
              "        [-2.2855, -2.3683, -2.3668, -2.0866, -2.4795, -2.3047, -2.2213, -2.3225,\n",
              "         -2.3482, -2.2912],\n",
              "        [-2.2917, -2.3643, -2.3793, -2.0746, -2.4813, -2.3030, -2.2253, -2.3328,\n",
              "         -2.3748, -2.2541],\n",
              "        [-2.2334, -2.3175, -2.4112, -2.0677, -2.5428, -2.1982, -2.2770, -2.4026,\n",
              "         -2.2960, -2.3565],\n",
              "        [-2.2937, -2.3308, -2.4070, -2.0779, -2.4910, -2.2678, -2.1790, -2.3824,\n",
              "         -2.3313, -2.3269],\n",
              "        [-2.2831, -2.3424, -2.3884, -2.0994, -2.4445, -2.2591, -2.2408, -2.3351,\n",
              "         -2.3778, -2.2978],\n",
              "        [-2.2774, -2.3460, -2.4377, -2.0666, -2.4361, -2.2892, -2.2594, -2.3131,\n",
              "         -2.3465, -2.3047],\n",
              "        [-2.2775, -2.3396, -2.3873, -2.0926, -2.4946, -2.2599, -2.2857, -2.3250,\n",
              "         -2.3290, -2.2820]])"
            ]
          },
          "metadata": {},
          "execution_count": 100
        }
      ],
      "source": [
        "log_probs_dummy"
      ]
    },
    {
      "cell_type": "code",
      "execution_count": 101,
      "id": "bdbded14",
      "metadata": {
        "id": "bdbded14"
      },
      "outputs": [],
      "source": [
        "probs_dummy = torch.nn.functional.softmax(logits_dummy, dim=-1)"
      ]
    },
    {
      "cell_type": "code",
      "execution_count": 102,
      "id": "36d7d2a3",
      "metadata": {
        "colab": {
          "base_uri": "https://localhost:8080/"
        },
        "id": "36d7d2a3",
        "outputId": "83149fb6-525e-4b16-e663-c171d45d0685"
      },
      "outputs": [
        {
          "output_type": "execute_result",
          "data": {
            "text/plain": [
              "tensor([[0.1067, 0.1006, 0.0864, 0.1230, 0.0859, 0.0992, 0.1088, 0.0970, 0.0930,\n",
              "         0.0995],\n",
              "        [0.1003, 0.0979, 0.0899, 0.1261, 0.0880, 0.1022, 0.1072, 0.0963, 0.0927,\n",
              "         0.0993],\n",
              "        [0.1033, 0.0994, 0.0903, 0.1262, 0.0815, 0.1025, 0.1114, 0.0940, 0.0928,\n",
              "         0.0986],\n",
              "        [0.1069, 0.0964, 0.0900, 0.1226, 0.0770, 0.1087, 0.1114, 0.0939, 0.0979,\n",
              "         0.0953],\n",
              "        [0.1106, 0.0969, 0.0909, 0.1251, 0.0794, 0.1053, 0.1052, 0.0898, 0.0982,\n",
              "         0.0986],\n",
              "        [0.1081, 0.0985, 0.0879, 0.1246, 0.0817, 0.1032, 0.1045, 0.0916, 0.1004,\n",
              "         0.0995],\n",
              "        [0.1057, 0.0969, 0.0857, 0.1231, 0.0838, 0.1014, 0.1071, 0.0914, 0.1041,\n",
              "         0.1008],\n",
              "        [0.1064, 0.0960, 0.0875, 0.1251, 0.0787, 0.1036, 0.1078, 0.0918, 0.1019,\n",
              "         0.1012],\n",
              "        [0.1094, 0.0967, 0.0913, 0.1227, 0.0795, 0.1052, 0.1058, 0.0917, 0.0989,\n",
              "         0.0989],\n",
              "        [0.1062, 0.0963, 0.0924, 0.1237, 0.0815, 0.1010, 0.1071, 0.0934, 0.0982,\n",
              "         0.1003],\n",
              "        [0.1017, 0.0936, 0.0938, 0.1241, 0.0838, 0.0998, 0.1085, 0.0980, 0.0955,\n",
              "         0.1011],\n",
              "        [0.1011, 0.0940, 0.0926, 0.1256, 0.0836, 0.1000, 0.1080, 0.0970, 0.0930,\n",
              "         0.1050],\n",
              "        [0.1072, 0.0985, 0.0897, 0.1265, 0.0786, 0.1110, 0.1026, 0.0905, 0.1007,\n",
              "         0.0948],\n",
              "        [0.1009, 0.0972, 0.0901, 0.1252, 0.0828, 0.1035, 0.1132, 0.0923, 0.0972,\n",
              "         0.0976],\n",
              "        [0.1020, 0.0961, 0.0918, 0.1225, 0.0868, 0.1044, 0.1064, 0.0968, 0.0928,\n",
              "         0.1005],\n",
              "        [0.1026, 0.0958, 0.0874, 0.1266, 0.0875, 0.1013, 0.1044, 0.0990, 0.0957,\n",
              "         0.0998],\n",
              "        [0.1025, 0.0964, 0.0919, 0.1234, 0.0825, 0.1044, 0.1017, 0.0978, 0.0974,\n",
              "         0.1021]])"
            ]
          },
          "metadata": {},
          "execution_count": 102
        }
      ],
      "source": [
        "probs_dummy"
      ]
    },
    {
      "cell_type": "code",
      "execution_count": 103,
      "id": "bc670af0",
      "metadata": {
        "id": "bc670af0"
      },
      "outputs": [],
      "source": [
        "unique_docs_dummy = torch.arange(doc_labels_dummy.size(0))"
      ]
    },
    {
      "cell_type": "code",
      "execution_count": 104,
      "id": "a3b28a23",
      "metadata": {
        "colab": {
          "base_uri": "https://localhost:8080/"
        },
        "id": "a3b28a23",
        "outputId": "682c3395-06a7-496a-d873-b6daa76b8e93"
      },
      "outputs": [
        {
          "output_type": "execute_result",
          "data": {
            "text/plain": [
              "tensor([0, 1, 2])"
            ]
          },
          "metadata": {},
          "execution_count": 104
        }
      ],
      "source": [
        "unique_docs_dummy"
      ]
    },
    {
      "cell_type": "code",
      "source": [
        "overflow_to_sample_mapping_dummy[:, None]"
      ],
      "metadata": {
        "colab": {
          "base_uri": "https://localhost:8080/"
        },
        "id": "db_6iuuFwpAI",
        "outputId": "152c81cd-df8b-4072-ff19-774ef0286279"
      },
      "id": "db_6iuuFwpAI",
      "execution_count": 105,
      "outputs": [
        {
          "output_type": "execute_result",
          "data": {
            "text/plain": [
              "tensor([[0],\n",
              "        [0],\n",
              "        [0],\n",
              "        [0],\n",
              "        [0],\n",
              "        [0],\n",
              "        [0],\n",
              "        [0],\n",
              "        [0],\n",
              "        [0],\n",
              "        [0],\n",
              "        [0],\n",
              "        [1],\n",
              "        [2],\n",
              "        [2],\n",
              "        [2],\n",
              "        [2]])"
            ]
          },
          "metadata": {},
          "execution_count": 105
        }
      ]
    },
    {
      "cell_type": "code",
      "source": [
        "overflow_to_sample_mapping_dummy[:, None].shape"
      ],
      "metadata": {
        "colab": {
          "base_uri": "https://localhost:8080/"
        },
        "id": "qXaknNqww30I",
        "outputId": "62982fbe-ad18-46ad-9e06-421e3b497013"
      },
      "id": "qXaknNqww30I",
      "execution_count": 106,
      "outputs": [
        {
          "output_type": "execute_result",
          "data": {
            "text/plain": [
              "torch.Size([17, 1])"
            ]
          },
          "metadata": {},
          "execution_count": 106
        }
      ]
    },
    {
      "cell_type": "code",
      "source": [
        "unique_docs_dummy[None, :]"
      ],
      "metadata": {
        "colab": {
          "base_uri": "https://localhost:8080/"
        },
        "id": "whFIIamFwp2Q",
        "outputId": "760a41a1-cd9b-4553-9525-857defbcc481"
      },
      "id": "whFIIamFwp2Q",
      "execution_count": 107,
      "outputs": [
        {
          "output_type": "execute_result",
          "data": {
            "text/plain": [
              "tensor([[0, 1, 2]])"
            ]
          },
          "metadata": {},
          "execution_count": 107
        }
      ]
    },
    {
      "cell_type": "code",
      "source": [
        "unique_docs_dummy[None, :].shape"
      ],
      "metadata": {
        "colab": {
          "base_uri": "https://localhost:8080/"
        },
        "id": "OV2RBkiuw67s",
        "outputId": "7e89c3c5-c2f8-4d22-d5bd-2e5c9cdc375f"
      },
      "id": "OV2RBkiuw67s",
      "execution_count": 108,
      "outputs": [
        {
          "output_type": "execute_result",
          "data": {
            "text/plain": [
              "torch.Size([1, 3])"
            ]
          },
          "metadata": {},
          "execution_count": 108
        }
      ]
    },
    {
      "cell_type": "code",
      "execution_count": 109,
      "id": "3672e967",
      "metadata": {
        "id": "3672e967"
      },
      "outputs": [],
      "source": [
        "mask_dummy = overflow_to_sample_mapping_dummy[:, None] == unique_docs_dummy[None, :]"
      ]
    },
    {
      "cell_type": "code",
      "execution_count": 110,
      "id": "91a81b58",
      "metadata": {
        "colab": {
          "base_uri": "https://localhost:8080/"
        },
        "id": "91a81b58",
        "outputId": "ca45f5ac-9a47-459e-b5af-744cff44e713"
      },
      "outputs": [
        {
          "output_type": "execute_result",
          "data": {
            "text/plain": [
              "tensor([[ True, False, False],\n",
              "        [ True, False, False],\n",
              "        [ True, False, False],\n",
              "        [ True, False, False],\n",
              "        [ True, False, False],\n",
              "        [ True, False, False],\n",
              "        [ True, False, False],\n",
              "        [ True, False, False],\n",
              "        [ True, False, False],\n",
              "        [ True, False, False],\n",
              "        [ True, False, False],\n",
              "        [ True, False, False],\n",
              "        [False,  True, False],\n",
              "        [False, False,  True],\n",
              "        [False, False,  True],\n",
              "        [False, False,  True],\n",
              "        [False, False,  True]])"
            ]
          },
          "metadata": {},
          "execution_count": 110
        }
      ],
      "source": [
        "mask_dummy"
      ]
    },
    {
      "cell_type": "code",
      "source": [
        "mask_dummy.shape"
      ],
      "metadata": {
        "colab": {
          "base_uri": "https://localhost:8080/"
        },
        "id": "rDNitI38xeyH",
        "outputId": "66d8d77a-8a8f-4e3c-d2fa-f195c8026a73"
      },
      "id": "rDNitI38xeyH",
      "execution_count": 111,
      "outputs": [
        {
          "output_type": "execute_result",
          "data": {
            "text/plain": [
              "torch.Size([17, 3])"
            ]
          },
          "metadata": {},
          "execution_count": 111
        }
      ]
    },
    {
      "cell_type": "markdown",
      "id": "0d13120a",
      "metadata": {
        "id": "0d13120a"
      },
      "source": [
        "###  <font color = 'pickle'> **Customizing loss and logits**"
      ]
    },
    {
      "cell_type": "markdown",
      "id": "e95ff70b",
      "metadata": {
        "id": "e95ff70b"
      },
      "source": [
        "####  <font color = 'pickle'> **Use average of log probabilities for classes across chunk in a Document**"
      ]
    },
    {
      "cell_type": "code",
      "execution_count": 112,
      "id": "34a80163",
      "metadata": {
        "id": "34a80163"
      },
      "outputs": [],
      "source": [
        "loss_fn = torch.nn.NLLLoss()"
      ]
    },
    {
      "cell_type": "code",
      "execution_count": 113,
      "id": "26111154",
      "metadata": {
        "colab": {
          "base_uri": "https://localhost:8080/"
        },
        "id": "26111154",
        "outputId": "883bbd7f-6738-4007-b96f-53e822b4f321"
      },
      "outputs": [
        {
          "output_type": "execute_result",
          "data": {
            "text/plain": [
              "torch.Size([17, 3, 1])"
            ]
          },
          "metadata": {},
          "execution_count": 113
        }
      ],
      "source": [
        "mask_dummy.unsqueeze(-1).shape"
      ]
    },
    {
      "cell_type": "code",
      "execution_count": 114,
      "id": "a91a4570",
      "metadata": {
        "colab": {
          "base_uri": "https://localhost:8080/"
        },
        "id": "a91a4570",
        "outputId": "1869265a-43a2-48a8-d859-9fe0115f2c4d"
      },
      "outputs": [
        {
          "output_type": "execute_result",
          "data": {
            "text/plain": [
              "torch.Size([17, 1, 10])"
            ]
          },
          "metadata": {},
          "execution_count": 114
        }
      ],
      "source": [
        "log_probs_dummy[:, None, :].shape"
      ]
    },
    {
      "cell_type": "code",
      "execution_count": 115,
      "id": "a937d0ee",
      "metadata": {
        "id": "a937d0ee"
      },
      "outputs": [],
      "source": [
        "avg_log_probs_dummy = (log_probs_dummy[:, None, :] * mask_dummy.unsqueeze(-1).float()).sum(0) / mask_dummy.sum(0, keepdim=True).T"
      ]
    },
    {
      "cell_type": "code",
      "execution_count": 116,
      "id": "b86aae0a",
      "metadata": {
        "colab": {
          "base_uri": "https://localhost:8080/"
        },
        "id": "b86aae0a",
        "outputId": "64abed2a-a8e9-4e88-ce39-7c5c3cf41afe"
      },
      "outputs": [
        {
          "output_type": "execute_result",
          "data": {
            "text/plain": [
              "tensor([[-2.2491, -2.3339, -2.4096, -2.0849, -2.5012, -2.2767, -2.2283, -2.3667,\n",
              "         -2.3315, -2.3044],\n",
              "        [-2.2334, -2.3175, -2.4112, -2.0677, -2.5428, -2.1982, -2.2770, -2.4026,\n",
              "         -2.2960, -2.3565],\n",
              "        [-2.2829, -2.3397, -2.4051, -2.0841, -2.4665, -2.2690, -2.2412, -2.3389,\n",
              "         -2.3462, -2.3028]])"
            ]
          },
          "metadata": {},
          "execution_count": 116
        }
      ],
      "source": [
        "avg_log_probs_dummy"
      ]
    },
    {
      "cell_type": "code",
      "execution_count": 117,
      "id": "0cbdbf99",
      "metadata": {
        "colab": {
          "base_uri": "https://localhost:8080/"
        },
        "id": "0cbdbf99",
        "outputId": "551b79cb-18e9-4103-8dc9-6d23db1379b7"
      },
      "outputs": [
        {
          "output_type": "stream",
          "name": "stdout",
          "text": [
            "tensor(-2.2491)\n",
            "tensor(-2.3339)\n"
          ]
        }
      ],
      "source": [
        "print(log_probs_dummy[0:12,0].mean())\n",
        "print(log_probs_dummy[0:12,1].mean())"
      ]
    },
    {
      "cell_type": "code",
      "execution_count": 118,
      "id": "8e749680",
      "metadata": {
        "colab": {
          "base_uri": "https://localhost:8080/"
        },
        "id": "8e749680",
        "outputId": "7abdef65-0697-4442-9948-af6920c83905"
      },
      "outputs": [
        {
          "output_type": "stream",
          "name": "stdout",
          "text": [
            "tensor(-2.2334)\n",
            "tensor(-2.3175)\n"
          ]
        }
      ],
      "source": [
        "print(log_probs_dummy[12,0].mean())\n",
        "print(log_probs_dummy[12,1].mean())"
      ]
    },
    {
      "cell_type": "code",
      "execution_count": 119,
      "id": "03ff253c",
      "metadata": {
        "colab": {
          "base_uri": "https://localhost:8080/"
        },
        "id": "03ff253c",
        "outputId": "ed1952de-6a6a-49c0-a6f8-dc7ad2d9424d"
      },
      "outputs": [
        {
          "output_type": "stream",
          "name": "stdout",
          "text": [
            "tensor(-2.2829)\n",
            "tensor(-2.3397)\n"
          ]
        }
      ],
      "source": [
        "print(log_probs_dummy[13:,0].mean())\n",
        "print(log_probs_dummy[13:,1].mean())"
      ]
    },
    {
      "cell_type": "code",
      "execution_count": 120,
      "id": "46317f50",
      "metadata": {
        "colab": {
          "base_uri": "https://localhost:8080/"
        },
        "id": "46317f50",
        "outputId": "d5101a9d-370f-479a-c885-d4176e435a2e"
      },
      "outputs": [
        {
          "output_type": "execute_result",
          "data": {
            "text/plain": [
              "tensor(2.2834)"
            ]
          },
          "metadata": {},
          "execution_count": 120
        }
      ],
      "source": [
        "loss_avg_log_dummy = loss_fn(avg_log_probs_dummy, doc_labels_dummy)\n",
        "loss_avg_log_dummy"
      ]
    },
    {
      "cell_type": "markdown",
      "id": "481d751d",
      "metadata": {
        "id": "481d751d"
      },
      "source": [
        "####  <font color = 'pickle'> **Use log of average of probabilities for classes across chunk in a Document**"
      ]
    },
    {
      "cell_type": "code",
      "execution_count": 122,
      "id": "ca9fd2fc",
      "metadata": {
        "id": "ca9fd2fc"
      },
      "outputs": [],
      "source": [
        "avg_probs_dummy = (probs_dummy[:, None, :] * mask_dummy.unsqueeze(-1).float()).sum(0) / mask_dummy.sum(0, keepdim=True).T\n"
      ]
    },
    {
      "cell_type": "code",
      "execution_count": 123,
      "id": "503330ce",
      "metadata": {
        "colab": {
          "base_uri": "https://localhost:8080/"
        },
        "id": "503330ce",
        "outputId": "38423211-34d1-419c-b446-a2bf70b4abd9"
      },
      "outputs": [
        {
          "output_type": "execute_result",
          "data": {
            "text/plain": [
              "tensor([[0.1055, 0.0969, 0.0899, 0.1243, 0.0820, 0.1027, 0.1077, 0.0938, 0.0972,\n",
              "         0.0998],\n",
              "        [0.1072, 0.0985, 0.0897, 0.1265, 0.0786, 0.1110, 0.1026, 0.0905, 0.1007,\n",
              "         0.0948],\n",
              "        [0.1020, 0.0964, 0.0903, 0.1244, 0.0849, 0.1034, 0.1064, 0.0965, 0.0958,\n",
              "         0.1000]])"
            ]
          },
          "metadata": {},
          "execution_count": 123
        }
      ],
      "source": [
        "avg_probs_dummy"
      ]
    },
    {
      "cell_type": "code",
      "execution_count": 124,
      "id": "b6646037",
      "metadata": {
        "colab": {
          "base_uri": "https://localhost:8080/"
        },
        "id": "b6646037",
        "outputId": "db853fbb-d4a1-48b5-a3a7-e6cf0090afd5"
      },
      "outputs": [
        {
          "output_type": "stream",
          "name": "stdout",
          "text": [
            "tensor(0.1055)\n",
            "tensor(0.0969)\n"
          ]
        }
      ],
      "source": [
        "print(probs_dummy[0:12,0].mean())\n",
        "print(probs_dummy[0:12,1].mean())"
      ]
    },
    {
      "cell_type": "code",
      "execution_count": 125,
      "id": "777e53c2",
      "metadata": {
        "colab": {
          "base_uri": "https://localhost:8080/"
        },
        "id": "777e53c2",
        "outputId": "47f2eb98-78cd-4779-d1a6-95ba61773a55"
      },
      "outputs": [
        {
          "output_type": "execute_result",
          "data": {
            "text/plain": [
              "tensor([[-2.2487, -2.3337, -2.4092, -2.0848, -2.5006, -2.2763, -2.2281, -2.3664,\n",
              "         -2.3308, -2.3042],\n",
              "        [-2.2334, -2.3175, -2.4112, -2.0677, -2.5428, -2.1982, -2.2770, -2.4026,\n",
              "         -2.2960, -2.3565],\n",
              "        [-2.2829, -2.3397, -2.4049, -2.0840, -2.4662, -2.2689, -2.2405, -2.3385,\n",
              "         -2.3460, -2.3027]])"
            ]
          },
          "metadata": {},
          "execution_count": 125
        }
      ],
      "source": [
        "log_avg_probs_dummy = torch.log(avg_probs_dummy)\n",
        "log_avg_probs_dummy"
      ]
    },
    {
      "cell_type": "code",
      "execution_count": 126,
      "id": "7ef35683",
      "metadata": {
        "colab": {
          "base_uri": "https://localhost:8080/"
        },
        "id": "7ef35683",
        "outputId": "e1102ff8-70a4-4951-a648-4eff145d9feb"
      },
      "outputs": [
        {
          "output_type": "execute_result",
          "data": {
            "text/plain": [
              "tensor(2.2833)"
            ]
          },
          "metadata": {},
          "execution_count": 126
        }
      ],
      "source": [
        "loss_log_avg_dummy = loss_fn(log_avg_probs_dummy, doc_labels_dummy)\n",
        "loss_log_avg_dummy"
      ]
    },
    {
      "cell_type": "markdown",
      "id": "6017ac81",
      "metadata": {
        "id": "6017ac81"
      },
      "source": [
        "####  <font color = 'pickle'> **Use max of logits of each chunk**"
      ]
    },
    {
      "cell_type": "code",
      "source": [
        "mask_dummy.unsqueeze(-1).shape"
      ],
      "metadata": {
        "colab": {
          "base_uri": "https://localhost:8080/"
        },
        "id": "kMdLjTHvVmTM",
        "outputId": "61bc60e9-4c54-4edd-b732-f77d94020dd4"
      },
      "id": "kMdLjTHvVmTM",
      "execution_count": 127,
      "outputs": [
        {
          "output_type": "execute_result",
          "data": {
            "text/plain": [
              "torch.Size([17, 3, 1])"
            ]
          },
          "metadata": {},
          "execution_count": 127
        }
      ]
    },
    {
      "cell_type": "code",
      "source": [
        "log_probs_dummy[:, None, :].shape"
      ],
      "metadata": {
        "colab": {
          "base_uri": "https://localhost:8080/"
        },
        "id": "_77UdbGWVhcA",
        "outputId": "f9a2e48f-30d1-408b-b028-bba3ed982c2c"
      },
      "id": "_77UdbGWVhcA",
      "execution_count": 128,
      "outputs": [
        {
          "output_type": "execute_result",
          "data": {
            "text/plain": [
              "torch.Size([17, 1, 10])"
            ]
          },
          "metadata": {},
          "execution_count": 128
        }
      ]
    },
    {
      "cell_type": "code",
      "execution_count": 129,
      "id": "zwd26NQgF3hJ",
      "metadata": {
        "id": "zwd26NQgF3hJ"
      },
      "outputs": [],
      "source": [
        "max_log_values_dummy = torch.where(mask_dummy.unsqueeze(-1), log_probs_dummy[:, None, :], torch.tensor(float('-inf')))\n"
      ]
    },
    {
      "cell_type": "code",
      "source": [
        "max_log_values_dummy.shape"
      ],
      "metadata": {
        "colab": {
          "base_uri": "https://localhost:8080/"
        },
        "id": "biYCN5Tqz7rp",
        "outputId": "a3024b36-7ca1-4acb-9715-77327ecb0a93"
      },
      "id": "biYCN5Tqz7rp",
      "execution_count": 130,
      "outputs": [
        {
          "output_type": "execute_result",
          "data": {
            "text/plain": [
              "torch.Size([17, 3, 10])"
            ]
          },
          "metadata": {},
          "execution_count": 130
        }
      ]
    },
    {
      "cell_type": "code",
      "source": [
        "max_log_values_dummy"
      ],
      "metadata": {
        "colab": {
          "base_uri": "https://localhost:8080/"
        },
        "id": "kDNN26YMWMA2",
        "outputId": "319168fa-d593-418d-b2cb-950f1afa0c79"
      },
      "id": "kDNN26YMWMA2",
      "execution_count": 131,
      "outputs": [
        {
          "output_type": "execute_result",
          "data": {
            "text/plain": [
              "tensor([[[-2.2379, -2.2968, -2.4489, -2.0953, -2.4548, -2.3102, -2.2187,\n",
              "          -2.3333, -2.3754, -2.3077],\n",
              "         [   -inf,    -inf,    -inf,    -inf,    -inf,    -inf,    -inf,\n",
              "             -inf,    -inf,    -inf],\n",
              "         [   -inf,    -inf,    -inf,    -inf,    -inf,    -inf,    -inf,\n",
              "             -inf,    -inf,    -inf]],\n",
              "\n",
              "        [[-2.2995, -2.3234, -2.4095, -2.0709, -2.4303, -2.2805, -2.2326,\n",
              "          -2.3403, -2.3783, -2.3093],\n",
              "         [   -inf,    -inf,    -inf,    -inf,    -inf,    -inf,    -inf,\n",
              "             -inf,    -inf,    -inf],\n",
              "         [   -inf,    -inf,    -inf,    -inf,    -inf,    -inf,    -inf,\n",
              "             -inf,    -inf,    -inf]],\n",
              "\n",
              "        [[-2.2699, -2.3087, -2.4048, -2.0697, -2.5066, -2.2783, -2.1944,\n",
              "          -2.3643, -2.3775, -2.3170],\n",
              "         [   -inf,    -inf,    -inf,    -inf,    -inf,    -inf,    -inf,\n",
              "             -inf,    -inf,    -inf],\n",
              "         [   -inf,    -inf,    -inf,    -inf,    -inf,    -inf,    -inf,\n",
              "             -inf,    -inf,    -inf]],\n",
              "\n",
              "        [[-2.2360, -2.3388, -2.4085, -2.0992, -2.5638, -2.2194, -2.1946,\n",
              "          -2.3656, -2.3241, -2.3504],\n",
              "         [   -inf,    -inf,    -inf,    -inf,    -inf,    -inf,    -inf,\n",
              "             -inf,    -inf,    -inf],\n",
              "         [   -inf,    -inf,    -inf,    -inf,    -inf,    -inf,    -inf,\n",
              "             -inf,    -inf,    -inf]],\n",
              "\n",
              "        [[-2.2018, -2.3345, -2.3975, -2.0788, -2.5327, -2.2512, -2.2521,\n",
              "          -2.4101, -2.3207, -2.3166],\n",
              "         [   -inf,    -inf,    -inf,    -inf,    -inf,    -inf,    -inf,\n",
              "             -inf,    -inf,    -inf],\n",
              "         [   -inf,    -inf,    -inf,    -inf,    -inf,    -inf,    -inf,\n",
              "             -inf,    -inf,    -inf]],\n",
              "\n",
              "        [[-2.2243, -2.3182, -2.4320, -2.0824, -2.5042, -2.2713, -2.2587,\n",
              "          -2.3903, -2.2982, -2.3079],\n",
              "         [   -inf,    -inf,    -inf,    -inf,    -inf,    -inf,    -inf,\n",
              "             -inf,    -inf,    -inf],\n",
              "         [   -inf,    -inf,    -inf,    -inf,    -inf,    -inf,    -inf,\n",
              "             -inf,    -inf,    -inf]],\n",
              "\n",
              "        [[-2.2471, -2.3344, -2.4568, -2.0948, -2.4792, -2.2885, -2.2338,\n",
              "          -2.3925, -2.2625, -2.2949],\n",
              "         [   -inf,    -inf,    -inf,    -inf,    -inf,    -inf,    -inf,\n",
              "             -inf,    -inf,    -inf],\n",
              "         [   -inf,    -inf,    -inf,    -inf,    -inf,    -inf,    -inf,\n",
              "             -inf,    -inf,    -inf]],\n",
              "\n",
              "        [[-2.2410, -2.3439, -2.4359, -2.0784, -2.5421, -2.2677, -2.2273,\n",
              "          -2.3881, -2.2833, -2.2904],\n",
              "         [   -inf,    -inf,    -inf,    -inf,    -inf,    -inf,    -inf,\n",
              "             -inf,    -inf,    -inf],\n",
              "         [   -inf,    -inf,    -inf,    -inf,    -inf,    -inf,    -inf,\n",
              "             -inf,    -inf,    -inf]],\n",
              "\n",
              "        [[-2.2124, -2.3357, -2.3932, -2.0981, -2.5326, -2.2522, -2.2465,\n",
              "          -2.3898, -2.3138, -2.3140],\n",
              "         [   -inf,    -inf,    -inf,    -inf,    -inf,    -inf,    -inf,\n",
              "             -inf,    -inf,    -inf],\n",
              "         [   -inf,    -inf,    -inf,    -inf,    -inf,    -inf,    -inf,\n",
              "             -inf,    -inf,    -inf]],\n",
              "\n",
              "        [[-2.2422, -2.3402, -2.3815, -2.0899, -2.5077, -2.2931, -2.2341,\n",
              "          -2.3711, -2.3212, -2.2994],\n",
              "         [   -inf,    -inf,    -inf,    -inf,    -inf,    -inf,    -inf,\n",
              "             -inf,    -inf,    -inf],\n",
              "         [   -inf,    -inf,    -inf,    -inf,    -inf,    -inf,    -inf,\n",
              "             -inf,    -inf,    -inf]],\n",
              "\n",
              "        [[-2.2855, -2.3683, -2.3668, -2.0866, -2.4795, -2.3047, -2.2213,\n",
              "          -2.3225, -2.3482, -2.2912],\n",
              "         [   -inf,    -inf,    -inf,    -inf,    -inf,    -inf,    -inf,\n",
              "             -inf,    -inf,    -inf],\n",
              "         [   -inf,    -inf,    -inf,    -inf,    -inf,    -inf,    -inf,\n",
              "             -inf,    -inf,    -inf]],\n",
              "\n",
              "        [[-2.2917, -2.3643, -2.3793, -2.0746, -2.4813, -2.3030, -2.2253,\n",
              "          -2.3328, -2.3748, -2.2541],\n",
              "         [   -inf,    -inf,    -inf,    -inf,    -inf,    -inf,    -inf,\n",
              "             -inf,    -inf,    -inf],\n",
              "         [   -inf,    -inf,    -inf,    -inf,    -inf,    -inf,    -inf,\n",
              "             -inf,    -inf,    -inf]],\n",
              "\n",
              "        [[   -inf,    -inf,    -inf,    -inf,    -inf,    -inf,    -inf,\n",
              "             -inf,    -inf,    -inf],\n",
              "         [-2.2334, -2.3175, -2.4112, -2.0677, -2.5428, -2.1982, -2.2770,\n",
              "          -2.4026, -2.2960, -2.3565],\n",
              "         [   -inf,    -inf,    -inf,    -inf,    -inf,    -inf,    -inf,\n",
              "             -inf,    -inf,    -inf]],\n",
              "\n",
              "        [[   -inf,    -inf,    -inf,    -inf,    -inf,    -inf,    -inf,\n",
              "             -inf,    -inf,    -inf],\n",
              "         [   -inf,    -inf,    -inf,    -inf,    -inf,    -inf,    -inf,\n",
              "             -inf,    -inf,    -inf],\n",
              "         [-2.2937, -2.3308, -2.4070, -2.0779, -2.4910, -2.2678, -2.1790,\n",
              "          -2.3824, -2.3313, -2.3269]],\n",
              "\n",
              "        [[   -inf,    -inf,    -inf,    -inf,    -inf,    -inf,    -inf,\n",
              "             -inf,    -inf,    -inf],\n",
              "         [   -inf,    -inf,    -inf,    -inf,    -inf,    -inf,    -inf,\n",
              "             -inf,    -inf,    -inf],\n",
              "         [-2.2831, -2.3424, -2.3884, -2.0994, -2.4445, -2.2591, -2.2408,\n",
              "          -2.3351, -2.3778, -2.2978]],\n",
              "\n",
              "        [[   -inf,    -inf,    -inf,    -inf,    -inf,    -inf,    -inf,\n",
              "             -inf,    -inf,    -inf],\n",
              "         [   -inf,    -inf,    -inf,    -inf,    -inf,    -inf,    -inf,\n",
              "             -inf,    -inf,    -inf],\n",
              "         [-2.2774, -2.3460, -2.4377, -2.0666, -2.4361, -2.2892, -2.2594,\n",
              "          -2.3131, -2.3465, -2.3047]],\n",
              "\n",
              "        [[   -inf,    -inf,    -inf,    -inf,    -inf,    -inf,    -inf,\n",
              "             -inf,    -inf,    -inf],\n",
              "         [   -inf,    -inf,    -inf,    -inf,    -inf,    -inf,    -inf,\n",
              "             -inf,    -inf,    -inf],\n",
              "         [-2.2775, -2.3396, -2.3873, -2.0926, -2.4946, -2.2599, -2.2857,\n",
              "          -2.3250, -2.3290, -2.2820]]])"
            ]
          },
          "metadata": {},
          "execution_count": 131
        }
      ]
    },
    {
      "cell_type": "code",
      "source": [
        "max_log_values_dummy.shape"
      ],
      "metadata": {
        "colab": {
          "base_uri": "https://localhost:8080/"
        },
        "id": "MNMp2XMR0IdY",
        "outputId": "ddd61784-4c14-4a2a-83db-2d06e2e25b62"
      },
      "id": "MNMp2XMR0IdY",
      "execution_count": 132,
      "outputs": [
        {
          "output_type": "execute_result",
          "data": {
            "text/plain": [
              "torch.Size([17, 3, 10])"
            ]
          },
          "metadata": {},
          "execution_count": 132
        }
      ]
    },
    {
      "cell_type": "code",
      "source": [
        "max_log_probs_dummy = max_log_values_dummy.max(dim=0).values"
      ],
      "metadata": {
        "id": "6eBEHU1pz6O6"
      },
      "id": "6eBEHU1pz6O6",
      "execution_count": 133,
      "outputs": []
    },
    {
      "cell_type": "code",
      "execution_count": 134,
      "id": "d7f0c5ed",
      "metadata": {
        "colab": {
          "base_uri": "https://localhost:8080/"
        },
        "id": "d7f0c5ed",
        "outputId": "c7cee303-c208-4a9d-e3e5-42a8c23233d4"
      },
      "outputs": [
        {
          "output_type": "execute_result",
          "data": {
            "text/plain": [
              "tensor([[-2.2018, -2.2968, -2.3668, -2.0697, -2.4303, -2.2194, -2.1944, -2.3225,\n",
              "         -2.2625, -2.2541],\n",
              "        [-2.2334, -2.3175, -2.4112, -2.0677, -2.5428, -2.1982, -2.2770, -2.4026,\n",
              "         -2.2960, -2.3565],\n",
              "        [-2.2774, -2.3308, -2.3873, -2.0666, -2.4361, -2.2591, -2.1790, -2.3131,\n",
              "         -2.3290, -2.2820]])"
            ]
          },
          "metadata": {},
          "execution_count": 134
        }
      ],
      "source": [
        "max_log_probs_dummy"
      ]
    },
    {
      "cell_type": "code",
      "execution_count": 135,
      "id": "PGBfHLmlG7aQ",
      "metadata": {
        "colab": {
          "base_uri": "https://localhost:8080/"
        },
        "id": "PGBfHLmlG7aQ",
        "outputId": "18ec3e3c-8d07-40e8-d136-9d5fc83ee865"
      },
      "outputs": [
        {
          "output_type": "execute_result",
          "data": {
            "text/plain": [
              "tensor(2.2692)"
            ]
          },
          "metadata": {},
          "execution_count": 135
        }
      ],
      "source": [
        "loss_max_dummy = loss_fn(max_log_probs_dummy, doc_labels_dummy)\n",
        "loss_max_dummy"
      ]
    },
    {
      "cell_type": "code",
      "execution_count": 136,
      "id": "b054cf49",
      "metadata": {
        "id": "b054cf49"
      },
      "outputs": [],
      "source": [
        "max_values_dummy = torch.where(mask_dummy.unsqueeze(-1), probs_dummy[:, None, :], torch.tensor(float('-inf')))\n",
        "max_probs_dummy = max_values_dummy.max(dim=0).values"
      ]
    },
    {
      "cell_type": "code",
      "execution_count": 137,
      "id": "9d34a7d6",
      "metadata": {
        "colab": {
          "base_uri": "https://localhost:8080/"
        },
        "id": "9d34a7d6",
        "outputId": "e17f00bc-27d7-42b5-9178-26cbc7f8fa65"
      },
      "outputs": [
        {
          "output_type": "execute_result",
          "data": {
            "text/plain": [
              "tensor([[0.1106, 0.1006, 0.0938, 0.1262, 0.0880, 0.1087, 0.1114, 0.0980, 0.1041,\n",
              "         0.1050],\n",
              "        [0.1072, 0.0985, 0.0897, 0.1265, 0.0786, 0.1110, 0.1026, 0.0905, 0.1007,\n",
              "         0.0948],\n",
              "        [0.1026, 0.0972, 0.0919, 0.1266, 0.0875, 0.1044, 0.1132, 0.0990, 0.0974,\n",
              "         0.1021]])"
            ]
          },
          "metadata": {},
          "execution_count": 137
        }
      ],
      "source": [
        "max_probs_dummy"
      ]
    },
    {
      "cell_type": "code",
      "execution_count": 138,
      "id": "da75d11d",
      "metadata": {
        "colab": {
          "base_uri": "https://localhost:8080/"
        },
        "id": "da75d11d",
        "outputId": "595f04e4-2a77-4627-dbdf-275f5d241a73"
      },
      "outputs": [
        {
          "output_type": "execute_result",
          "data": {
            "text/plain": [
              "tensor([[-2.2018, -2.2968, -2.3668, -2.0697, -2.4303, -2.2194, -2.1944, -2.3225,\n",
              "         -2.2625, -2.2541],\n",
              "        [-2.2334, -2.3175, -2.4112, -2.0677, -2.5428, -2.1982, -2.2770, -2.4026,\n",
              "         -2.2960, -2.3565],\n",
              "        [-2.2774, -2.3308, -2.3873, -2.0666, -2.4361, -2.2591, -2.1790, -2.3131,\n",
              "         -2.3290, -2.2820]])"
            ]
          },
          "metadata": {},
          "execution_count": 138
        }
      ],
      "source": [
        "torch.log(max_probs_dummy)"
      ]
    },
    {
      "cell_type": "markdown",
      "id": "eec03d94",
      "metadata": {
        "id": "eec03d94"
      },
      "source": [
        "####  <font color = 'pickle'> **Loss per chunk and then take average**"
      ]
    },
    {
      "cell_type": "code",
      "execution_count": 139,
      "id": "021e669e",
      "metadata": {
        "colab": {
          "base_uri": "https://localhost:8080/"
        },
        "id": "021e669e",
        "outputId": "11eecc53-3394-4906-ce6a-10f326adec6f"
      },
      "outputs": [
        {
          "output_type": "execute_result",
          "data": {
            "text/plain": [
              "tensor(2.3160)"
            ]
          },
          "metadata": {},
          "execution_count": 139
        }
      ],
      "source": [
        "loss_per_chunk_dummy = loss_fn(log_probs_dummy, labels_dummy.view(-1))\n",
        "loss_per_chunk_dummy"
      ]
    },
    {
      "cell_type": "code",
      "execution_count": 140,
      "id": "d11ff884",
      "metadata": {
        "colab": {
          "base_uri": "https://localhost:8080/"
        },
        "id": "d11ff884",
        "outputId": "0b4d61e2-f286-4901-967b-7ce2e22dd569"
      },
      "outputs": [
        {
          "output_type": "execute_result",
          "data": {
            "text/plain": [
              "tensor(2.3160)"
            ]
          },
          "metadata": {},
          "execution_count": 140
        }
      ],
      "source": [
        "model_output_dummy.loss"
      ]
    },
    {
      "cell_type": "markdown",
      "id": "4c2cd6ba",
      "metadata": {
        "id": "4c2cd6ba"
      },
      "source": [
        "##  <font color = 'pickle'> **Aggregate Predictions** </font>"
      ]
    },
    {
      "cell_type": "code",
      "execution_count": 141,
      "id": "a4f73943",
      "metadata": {
        "id": "a4f73943"
      },
      "outputs": [],
      "source": [
        "import evaluate\n",
        "import numpy as np\n",
        "from scipy.special import softmax\n",
        "from scipy.special import logsumexp\n",
        "\n"
      ]
    },
    {
      "cell_type": "markdown",
      "id": "2abc315d",
      "metadata": {
        "id": "2abc315d"
      },
      "source": [
        "### <font color = 'pickle'> **Digression - Understanding stable Softmax**"
      ]
    },
    {
      "cell_type": "code",
      "execution_count": 142,
      "id": "4df922bb",
      "metadata": {
        "colab": {
          "base_uri": "https://localhost:8080/"
        },
        "id": "4df922bb",
        "outputId": "27a61d31-ea4b-4740-dedc-1ed04d554001"
      },
      "outputs": [
        {
          "output_type": "stream",
          "name": "stdout",
          "text": [
            "Example 1 - Direct Softmax: [0.29502533 0.48641453 0.21856014]\n",
            "Example 1 - Stable Softmax: [0.29502533 0.48641453 0.21856014]\n",
            "Example 1 - Scipy Softmax: [0.29502533 0.48641453 0.21856014]\n",
            "\n",
            "Example 2 - Direct Softmax: [nan nan nan]\n",
            "Example 2 - Stable Softmax: [7.31058579e-01 2.68941421e-01 1.23469352e-48]\n",
            "Example 2 - Scipy Softmax: [7.31058579e-01 2.68941421e-01 1.23469352e-48]\n"
          ]
        },
        {
          "output_type": "stream",
          "name": "stderr",
          "text": [
            "<ipython-input-142-9b9737c2a13b>:24: RuntimeWarning: overflow encountered in exp\n",
            "  exp_logits_large = np.exp(logits_example_large)\n",
            "<ipython-input-142-9b9737c2a13b>:25: RuntimeWarning: invalid value encountered in divide\n",
            "  probabilities_large_direct = exp_logits_large / exp_logits_large.sum()\n"
          ]
        }
      ],
      "source": [
        "import numpy as np\n",
        "from scipy.special import softmax\n",
        "# Example 1: Small Logit Values\n",
        "logits_example = np.array([0.5, 1.0, 0.2])\n",
        "\n",
        "# Direct Softmax Calculation\n",
        "exp_logits = np.exp(logits_example)\n",
        "probabilities_direct = exp_logits / exp_logits.sum()\n",
        "print(\"Example 1 - Direct Softmax:\", probabilities_direct)\n",
        "\n",
        "# Numerically Stable Softmax Calculation\n",
        "exp_logits_stable = np.exp(logits_example - np.max(logits_example))\n",
        "probabilities_stable = exp_logits_stable / exp_logits_stable.sum()\n",
        "print(\"Example 1 - Stable Softmax:\", probabilities_stable)\n",
        "\n",
        "scipy_probs = softmax(logits_example)\n",
        "print(\"Example 1 - Scipy Softmax:\", scipy_probs)\n",
        "\n",
        "\n",
        "# Example 2: Large Logit Values\n",
        "logits_example_large = np.array([5000, 4999,4890])\n",
        "\n",
        "# Direct Softmax Calculation\n",
        "exp_logits_large = np.exp(logits_example_large)\n",
        "probabilities_large_direct = exp_logits_large / exp_logits_large.sum()\n",
        "print(\"\\nExample 2 - Direct Softmax:\", probabilities_large_direct)\n",
        "\n",
        "# Numerically Stable Softmax Calculation\n",
        "exp_logits_large_stable = np.exp(logits_example_large - np.max(logits_example_large))\n",
        "probabilities_large_stable = exp_logits_large_stable / exp_logits_large_stable.sum()\n",
        "print(\"Example 2 - Stable Softmax:\", probabilities_large_stable)\n",
        "\n",
        "scipy_probs = softmax(logits_example_large)\n",
        "print(\"Example 2 - Scipy Softmax:\", scipy_probs)"
      ]
    },
    {
      "cell_type": "markdown",
      "id": "74ad04ff",
      "metadata": {
        "id": "74ad04ff"
      },
      "source": [
        "### <font color = 'pickle'> **Calculating probabilies and logits for each chink in each document**"
      ]
    },
    {
      "cell_type": "code",
      "execution_count": 143,
      "id": "4cc2047d",
      "metadata": {
        "id": "4cc2047d"
      },
      "outputs": [],
      "source": [
        "from scipy.special import logsumexp\n",
        "def stable_log_softmax(x):\n",
        "    # Subtract the max for numerical stability along the last axis (axis=-1)\n",
        "    x_max = np.max(x, axis=-1, keepdims=True)\n",
        "    # Use logsumexp for better numerical stability\n",
        "    log_softmax = x - x_max - logsumexp(x - x_max, axis=-1, keepdims=True)\n",
        "    return log_softmax"
      ]
    },
    {
      "cell_type": "code",
      "execution_count": 144,
      "id": "2e853637",
      "metadata": {
        "id": "2e853637"
      },
      "outputs": [],
      "source": [
        "logits_dummy_np = np.array(model_output_dummy.logits)\n",
        "labels_dummy_np = np.array(model_inputs_dummy['labels'])\n",
        "labels_doc_dummy_np = np.array(labels_doc_dummy)\n",
        "overflow_to_sample_mapping_dummy_np = np.array(overflow_to_sample_mapping_dummy)"
      ]
    },
    {
      "cell_type": "code",
      "execution_count": 145,
      "id": "e6a72f82",
      "metadata": {
        "colab": {
          "base_uri": "https://localhost:8080/"
        },
        "id": "e6a72f82",
        "outputId": "c10640f9-c9ca-405e-fb18-9e2fe8816aa5"
      },
      "outputs": [
        {
          "output_type": "execute_result",
          "data": {
            "text/plain": [
              "array([[ 7.24788234e-02,  1.35328043e-02, -1.38502374e-01,\n",
              "         2.15118796e-01, -1.44412950e-01,  1.88566744e-04,\n",
              "         9.17168409e-02, -2.29604393e-02, -6.50611669e-02,\n",
              "         2.71264976e-03],\n",
              "       [ 5.92540950e-03, -1.80131551e-02, -1.04079857e-01,\n",
              "         2.34479308e-01, -1.24869406e-01,  2.48696655e-02,\n",
              "         7.27855265e-02, -3.48832272e-02, -7.28981793e-02,\n",
              "        -3.84030398e-03],\n",
              "       [ 3.61101851e-02, -2.70631420e-03, -9.87510532e-02,\n",
              "         2.36295328e-01, -2.00609639e-01,  2.77497619e-02,\n",
              "         1.11588784e-01, -5.83209284e-02, -7.14691579e-02,\n",
              "        -1.10067241e-02],\n",
              "       [ 6.97194636e-02, -3.31458896e-02, -1.02785349e-01,\n",
              "         2.06482768e-01, -2.58123070e-01,  8.62823874e-02,\n",
              "         1.11061379e-01, -5.99439330e-02, -1.84437484e-02,\n",
              "        -4.46623825e-02],\n",
              "       [ 9.56270620e-02, -3.70252356e-02, -1.00037217e-01,\n",
              "         2.18701974e-01, -2.35241085e-01,  4.62826639e-02,\n",
              "         4.53924611e-02, -1.12631187e-01, -2.31921189e-02,\n",
              "        -1.91533249e-02],\n",
              "       [ 6.45374283e-02, -2.93115340e-02, -1.43154532e-01,\n",
              "         2.06445485e-01, -2.15384185e-01,  1.75519735e-02,\n",
              "         3.01242210e-02, -1.01484843e-01, -9.31790844e-03,\n",
              "        -1.90622360e-02],\n",
              "       [ 3.72561291e-02, -4.99910191e-02, -1.72455147e-01,\n",
              "         1.89596519e-01, -1.94814876e-01, -4.10140678e-03,\n",
              "         5.06011397e-02, -1.08172111e-01,  2.18300298e-02,\n",
              "        -1.05029959e-02],\n",
              "       [ 4.69369218e-02, -5.59538901e-02, -1.48003161e-01,\n",
              "         2.09540546e-01, -2.54150093e-01,  2.02357769e-02,\n",
              "         6.05929010e-02, -1.00164160e-01,  4.58869711e-03,\n",
              "        -2.50598509e-03],\n",
              "       [ 8.88457298e-02, -3.44910398e-02, -9.19481367e-02,\n",
              "         2.03102320e-01, -2.31350064e-01,  4.90530469e-02,\n",
              "         5.46969622e-02, -8.85603577e-02, -1.26247555e-02,\n",
              "        -1.28333978e-02],\n",
              "       [ 6.44077510e-02, -3.35324779e-02, -7.48651102e-02,\n",
              "         2.16774255e-01, -2.01016694e-01,  1.35382861e-02,\n",
              "         7.25440532e-02, -6.44475445e-02, -1.45135559e-02,\n",
              "         7.24600628e-03],\n",
              "       [ 2.80567594e-02, -5.47737554e-02, -5.32646179e-02,\n",
              "         2.26916611e-01, -1.65984005e-01,  8.86838883e-03,\n",
              "         9.21988189e-02, -9.01721697e-03, -3.46735083e-02,\n",
              "         2.22988445e-02],\n",
              "       [ 1.05670169e-02, -6.20283931e-02, -7.70998895e-02,\n",
              "         2.27664590e-01, -1.79032400e-01, -7.24337995e-04,\n",
              "         7.68793747e-02, -3.05428263e-02, -7.26099983e-02,\n",
              "         4.81720604e-02],\n",
              "       [ 7.81585500e-02, -5.98215219e-03, -9.96731296e-02,\n",
              "         2.43899167e-01, -2.31253922e-01,  1.13327824e-01,\n",
              "         3.45961154e-02, -9.10770670e-02,  1.55629069e-02,\n",
              "        -4.48932461e-02],\n",
              "       [ 2.43681520e-02, -1.27328932e-02, -8.89559835e-02,\n",
              "         2.40106061e-01, -1.72924563e-01,  5.02190664e-02,\n",
              "         1.39034957e-01, -6.43098727e-02, -1.32572427e-02,\n",
              "        -8.89072195e-03],\n",
              "       [ 3.24163921e-02, -2.68816799e-02, -7.28676617e-02,\n",
              "         2.16106653e-01, -1.28955290e-01,  5.64189143e-02,\n",
              "         7.46689662e-02, -1.95532516e-02, -6.23169914e-02,\n",
              "         1.77555904e-02],\n",
              "       [ 2.61581130e-02, -4.24634181e-02, -1.34201199e-01,\n",
              "         2.36953810e-01, -1.32605806e-01,  1.43339559e-02,\n",
              "         4.41224836e-02, -9.59261972e-03, -4.29981053e-02,\n",
              "        -1.14507973e-03],\n",
              "       [ 2.55692489e-02, -3.65926214e-02, -8.42501670e-02,\n",
              "         2.10411876e-01, -1.91531464e-01,  4.30836156e-02,\n",
              "         1.72803551e-02, -2.19279416e-02, -2.60149837e-02,\n",
              "         2.10417155e-02]], dtype=float32)"
            ]
          },
          "metadata": {},
          "execution_count": 145
        }
      ],
      "source": [
        "logits_dummy_np"
      ]
    },
    {
      "cell_type": "code",
      "execution_count": 146,
      "id": "1d4d830b",
      "metadata": {
        "id": "1d4d830b"
      },
      "outputs": [],
      "source": [
        "# Split logits based on overflow_to_sample_mapping\n",
        "probs_dummy_np = softmax(logits_dummy_np, axis= -1)"
      ]
    },
    {
      "cell_type": "code",
      "execution_count": 147,
      "id": "9690084b",
      "metadata": {
        "colab": {
          "base_uri": "https://localhost:8080/"
        },
        "id": "9690084b",
        "outputId": "fcf775d2-283e-46f5-cd3d-6fa1518ae979"
      },
      "outputs": [
        {
          "output_type": "execute_result",
          "data": {
            "text/plain": [
              "array([[0.10668205, 0.10057533, 0.08638999, 0.12303796, 0.08588088,\n",
              "        0.09924214, 0.10875427, 0.09697116, 0.09297336, 0.09949294],\n",
              "       [0.10030974, 0.09793697, 0.08986041, 0.12606739, 0.08801154,\n",
              "        0.10222813, 0.10724574, 0.09629862, 0.09270655, 0.0993349 ],\n",
              "       [0.10332125, 0.09938752, 0.09028593, 0.12622023, 0.08154241,\n",
              "        0.10246103, 0.11142165, 0.09401101, 0.09278301, 0.09856597],\n",
              "       [0.1068871 , 0.09643872, 0.08995128, 0.12255213, 0.07700964,\n",
              "        0.10867221, 0.11139865, 0.09388867, 0.09786706, 0.09533446],\n",
              "       [0.11059851, 0.09685881, 0.09094386, 0.1250835 , 0.0794429 ,\n",
              "        0.10527355, 0.10517988, 0.08980568, 0.09820797, 0.09860542],\n",
              "       [0.10814205, 0.09845471, 0.08786079, 0.12463053, 0.0817384 ,\n",
              "        0.10317847, 0.10448384, 0.09159926, 0.10044298, 0.09946898],\n",
              "       [0.10570441, 0.09687286, 0.08570708, 0.12309877, 0.08381195,\n",
              "        0.1014219 , 0.10712449, 0.09139753, 0.10408632, 0.10077471],\n",
              "       [0.1063536 , 0.09595492, 0.08751666, 0.12513247, 0.07870308,\n",
              "        0.1035514 , 0.10781591, 0.09180513, 0.10194374, 0.10122304],\n",
              "       [0.10944148, 0.09674254, 0.09134067, 0.12268825, 0.07945526,\n",
              "        0.10517202, 0.10576728, 0.09165063, 0.09888124, 0.09886061],\n",
              "       [0.10622039, 0.09631035, 0.09241074, 0.12370288, 0.08145833,\n",
              "        0.10095215, 0.10708815, 0.09337845, 0.0981596 , 0.10031892],\n",
              "       [0.10172591, 0.09363941, 0.09378084, 0.12410671, 0.08378392,\n",
              "        0.09979255, 0.10846461, 0.09802356, 0.09554064, 0.10114185],\n",
              "       [0.10109829, 0.09401908, 0.0926127 , 0.12561111, 0.08363765,\n",
              "        0.09996317, 0.10802963, 0.09702642, 0.09302945, 0.10497247],\n",
              "       [0.10716335, 0.09851547, 0.08970465, 0.12648135, 0.07864483,\n",
              "        0.11099926, 0.10259526, 0.09047907, 0.10066102, 0.09475575],\n",
              "       [0.10089436, 0.09721966, 0.09008466, 0.12518741, 0.08282926,\n",
              "        0.10353657, 0.113153  , 0.09233247, 0.0971687 , 0.0975939 ],\n",
              "       [0.10196815, 0.09609742, 0.09177834, 0.12252936, 0.0867724 ,\n",
              "        0.10444524, 0.10636888, 0.09680425, 0.09275179, 0.10048412],\n",
              "       [0.10255489, 0.09575345, 0.08736012, 0.12662044, 0.08749961,\n",
              "        0.10134941, 0.10441388, 0.09895325, 0.09570227, 0.0997927 ],\n",
              "       [0.10254478, 0.09636448, 0.0918797 , 0.12336435, 0.08253305,\n",
              "        0.1043566 , 0.10169831, 0.09778804, 0.0973892 , 0.10208155]],\n",
              "      dtype=float32)"
            ]
          },
          "metadata": {},
          "execution_count": 147
        }
      ],
      "source": [
        "probs_dummy_np"
      ]
    },
    {
      "cell_type": "code",
      "execution_count": 148,
      "id": "67dd6e3f",
      "metadata": {
        "id": "67dd6e3f"
      },
      "outputs": [],
      "source": [
        "log_probs_dummy_np = stable_log_softmax(logits_dummy_np)"
      ]
    },
    {
      "cell_type": "code",
      "execution_count": 149,
      "id": "e2e655bb",
      "metadata": {
        "colab": {
          "base_uri": "https://localhost:8080/"
        },
        "id": "e2e655bb",
        "outputId": "c5013872-738b-472e-f207-ee2190dd5644"
      },
      "outputs": [
        {
          "output_type": "execute_result",
          "data": {
            "text/plain": [
              "array([[-2.2379022, -2.2968483, -2.4488835, -2.0952623, -2.454794 ,\n",
              "        -2.3101926, -2.2186642, -2.3333416, -2.3754423, -2.3076684],\n",
              "       [-2.2994924, -2.323431 , -2.4094977, -2.0709386, -2.4302874,\n",
              "        -2.2805483, -2.2326324, -2.340301 , -2.3783162, -2.3092582],\n",
              "       [-2.2699122, -2.308729 , -2.4047735, -2.0697272, -2.506632 ,\n",
              "        -2.2782726, -2.1944337, -2.3643434, -2.3774917, -2.3170292],\n",
              "       [-2.2359822, -2.3388474, -2.4084868, -2.0992188, -2.5638247,\n",
              "        -2.2194192, -2.1946402, -2.3656456, -2.3241453, -2.350364 ],\n",
              "       [-2.2018487, -2.334501 , -2.397513 , -2.0787737, -2.5327168,\n",
              "        -2.251193 , -2.2520833, -2.410107 , -2.3206677, -2.316629 ],\n",
              "       [-2.22431  , -2.3181589, -2.4320018, -2.0824018, -2.5042315,\n",
              "        -2.2712953, -2.258723 , -2.390332 , -2.298165 , -2.3079095],\n",
              "       [-2.2471087, -2.3343558, -2.45682  , -2.0947683, -2.4791796,\n",
              "        -2.2884662, -2.2337637, -2.3925369, -2.2625349, -2.2948678],\n",
              "       [-2.2409859, -2.3438766, -2.435926 , -2.0783823, -2.5420728,\n",
              "        -2.267687 , -2.22733  , -2.388087 , -2.283334 , -2.2904289],\n",
              "       [-2.2123654, -2.3357022, -2.3931592, -2.0981088, -2.532561 ,\n",
              "        -2.2521582, -2.246514 , -2.3897715, -2.3138359, -2.3140445],\n",
              "       [-2.2422392, -2.3401794, -2.3815122, -2.0898728, -2.5076637,\n",
              "        -2.2931087, -2.234103 , -2.3710947, -2.3211606, -2.299401 ],\n",
              "       [-2.2854733, -2.3683038, -2.3667946, -2.0866134, -2.4795141,\n",
              "        -2.3046618, -2.2213311, -2.3225472, -2.3482037, -2.2912312],\n",
              "       [-2.291662 , -2.3642573, -2.379329 , -2.0745645, -2.4812615,\n",
              "        -2.3029535, -2.2253497, -2.3327718, -2.374839 , -2.254057 ],\n",
              "       [-2.2334008, -2.3175416, -2.4112327, -2.0676603, -2.5428133,\n",
              "        -2.1982317, -2.2769635, -2.4026365, -2.2959967, -2.3564527],\n",
              "       [-2.2936811, -2.3307824, -2.4070053, -2.0779433, -2.490974 ,\n",
              "        -2.2678304, -2.1790144, -2.3823593, -2.3313067, -2.32694  ],\n",
              "       [-2.283095 , -2.342393 , -2.3883789, -2.0994046, -2.4444666,\n",
              "        -2.2590923, -2.2408423, -2.3350644, -2.3778281, -2.2977557],\n",
              "       [-2.277357 , -2.3459787, -2.4377165, -2.0665615, -2.436121 ,\n",
              "        -2.2891812, -2.2593927, -2.313108 , -2.3465133, -2.3046603],\n",
              "       [-2.2774558, -2.3396177, -2.3872752, -2.0926132, -2.4945564,\n",
              "        -2.2599416, -2.2857447, -2.324953 , -2.32904  , -2.2819834]],\n",
              "      dtype=float32)"
            ]
          },
          "metadata": {},
          "execution_count": 149
        }
      ],
      "source": [
        "log_probs_dummy_np"
      ]
    },
    {
      "cell_type": "code",
      "execution_count": 150,
      "id": "3911eabc",
      "metadata": {
        "colab": {
          "base_uri": "https://localhost:8080/"
        },
        "id": "3911eabc",
        "outputId": "0d82c49e-620e-48f9-b178-e5215ced371f"
      },
      "outputs": [
        {
          "output_type": "execute_result",
          "data": {
            "text/plain": [
              "array([[-2.2379024, -2.2968483, -2.4488835, -2.0952623, -2.4547942,\n",
              "        -2.3101926, -2.2186644, -2.3333416, -2.3754423, -2.3076687],\n",
              "       [-2.2994926, -2.3234313, -2.4094977, -2.0709388, -2.4302874,\n",
              "        -2.2805483, -2.2326324, -2.3403013, -2.3783162, -2.3092582],\n",
              "       [-2.2699122, -2.3087287, -2.4047737, -2.0697272, -2.506632 ,\n",
              "        -2.2782726, -2.1944337, -2.3643434, -2.3774917, -2.3170292],\n",
              "       [-2.2359822, -2.3388476, -2.408487 , -2.0992188, -2.5638247,\n",
              "        -2.2194192, -2.1946402, -2.3656456, -2.3241453, -2.350364 ],\n",
              "       [-2.2018487, -2.334501 , -2.397513 , -2.0787737, -2.5327168,\n",
              "        -2.251193 , -2.2520833, -2.4101071, -2.320668 , -2.3166292],\n",
              "       [-2.2243097, -2.3181586, -2.4320016, -2.0824018, -2.5042315,\n",
              "        -2.271295 , -2.2587228, -2.390332 , -2.298165 , -2.3079095],\n",
              "       [-2.2471087, -2.3343558, -2.4568198, -2.0947683, -2.4791796,\n",
              "        -2.2884662, -2.2337637, -2.3925369, -2.2625349, -2.2948678],\n",
              "       [-2.2409859, -2.3438768, -2.4359262, -2.0783823, -2.542073 ,\n",
              "        -2.2676873, -2.22733  , -2.388087 , -2.2833343, -2.2904289],\n",
              "       [-2.2123654, -2.335702 , -2.3931592, -2.0981088, -2.532561 ,\n",
              "        -2.252158 , -2.246514 , -2.3897715, -2.3138356, -2.3140445],\n",
              "       [-2.2422392, -2.3401794, -2.3815122, -2.0898726, -2.5076637,\n",
              "        -2.2931087, -2.234103 , -2.3710947, -2.3211606, -2.299401 ],\n",
              "       [-2.2854733, -2.368304 , -2.3667948, -2.0866134, -2.4795141,\n",
              "        -2.3046618, -2.2213314, -2.3225474, -2.3482037, -2.2912314],\n",
              "       [-2.291662 , -2.3642576, -2.379329 , -2.0745645, -2.4812615,\n",
              "        -2.3029535, -2.22535  , -2.332772 , -2.3748393, -2.2540572],\n",
              "       [-2.2334008, -2.3175416, -2.4112327, -2.0676603, -2.5428135,\n",
              "        -2.1982317, -2.2769635, -2.4026368, -2.2959967, -2.3564527],\n",
              "       [-2.2936811, -2.3307824, -2.4070053, -2.0779433, -2.490974 ,\n",
              "        -2.2678304, -2.1790144, -2.3823593, -2.3313067, -2.3269403],\n",
              "       [-2.2830946, -2.342393 , -2.388379 , -2.0994046, -2.4444666,\n",
              "        -2.2590923, -2.240842 , -2.3350644, -2.3778281, -2.2977557],\n",
              "       [-2.277357 , -2.3459785, -2.4377165, -2.0665612, -2.436121 ,\n",
              "        -2.2891812, -2.2593927, -2.3131077, -2.3465133, -2.3046603],\n",
              "       [-2.2774558, -2.3396177, -2.3872752, -2.092613 , -2.4945564,\n",
              "        -2.2599413, -2.2857447, -2.324953 , -2.32904  , -2.2819834]],\n",
              "      dtype=float32)"
            ]
          },
          "metadata": {},
          "execution_count": 150
        }
      ],
      "source": [
        "np.log(probs_dummy_np)"
      ]
    },
    {
      "cell_type": "code",
      "execution_count": 151,
      "id": "7d44536c",
      "metadata": {
        "id": "7d44536c"
      },
      "outputs": [],
      "source": [
        "unique_docs_dummy_np, inverse_indices_dummy_np = np.unique(overflow_to_sample_mapping_dummy, return_inverse=True)\n",
        "num_docs_np = unique_docs_dummy_np.size"
      ]
    },
    {
      "cell_type": "code",
      "execution_count": 152,
      "id": "c5e314bd",
      "metadata": {
        "colab": {
          "base_uri": "https://localhost:8080/"
        },
        "id": "c5e314bd",
        "outputId": "989b0375-daa6-42a8-f63c-3ebbc11fd1d9"
      },
      "outputs": [
        {
          "output_type": "execute_result",
          "data": {
            "text/plain": [
              "(array([0, 1, 2]), 3)"
            ]
          },
          "metadata": {},
          "execution_count": 152
        }
      ],
      "source": [
        "unique_docs_dummy_np, num_docs_np"
      ]
    },
    {
      "cell_type": "code",
      "execution_count": 153,
      "id": "3774192c",
      "metadata": {
        "colab": {
          "base_uri": "https://localhost:8080/"
        },
        "id": "3774192c",
        "outputId": "7a4bdd1e-1c24-4c9c-bfd2-65046484ca7e"
      },
      "outputs": [
        {
          "output_type": "execute_result",
          "data": {
            "text/plain": [
              "array([0, 0, 0, 0, 0, 0, 0, 0, 0, 0, 0, 0, 1, 2, 2, 2, 2])"
            ]
          },
          "metadata": {},
          "execution_count": 153
        }
      ],
      "source": [
        "inverse_indices_dummy_np"
      ]
    },
    {
      "cell_type": "code",
      "execution_count": 154,
      "id": "6685ad3f",
      "metadata": {
        "id": "6685ad3f"
      },
      "outputs": [],
      "source": [
        "mask_dummy_np = overflow_to_sample_mapping_dummy_np[:, None] == unique_docs_dummy_np[None, :]"
      ]
    },
    {
      "cell_type": "code",
      "execution_count": 155,
      "id": "f3f0ab70",
      "metadata": {
        "colab": {
          "base_uri": "https://localhost:8080/"
        },
        "id": "f3f0ab70",
        "outputId": "5b6cda38-32ee-418c-b0bc-fe31848ddbaa"
      },
      "outputs": [
        {
          "output_type": "execute_result",
          "data": {
            "text/plain": [
              "array([[ True, False, False],\n",
              "       [ True, False, False],\n",
              "       [ True, False, False],\n",
              "       [ True, False, False],\n",
              "       [ True, False, False],\n",
              "       [ True, False, False],\n",
              "       [ True, False, False],\n",
              "       [ True, False, False],\n",
              "       [ True, False, False],\n",
              "       [ True, False, False],\n",
              "       [ True, False, False],\n",
              "       [ True, False, False],\n",
              "       [False,  True, False],\n",
              "       [False, False,  True],\n",
              "       [False, False,  True],\n",
              "       [False, False,  True],\n",
              "       [False, False,  True]])"
            ]
          },
          "metadata": {},
          "execution_count": 155
        }
      ],
      "source": [
        "mask_dummy_np"
      ]
    },
    {
      "cell_type": "markdown",
      "id": "de4c86e3",
      "metadata": {
        "id": "de4c86e3"
      },
      "source": [
        "###  <font color = 'pickle'> **Prediction based on Average Log Probability** </font>"
      ]
    },
    {
      "cell_type": "code",
      "execution_count": 156,
      "id": "bbb0e879",
      "metadata": {
        "id": "bbb0e879"
      },
      "outputs": [],
      "source": [
        "avg_log_probs_dummy_np = (log_probs_dummy_np[:, None, :] * mask_dummy_np[:, :, None].astype(float)).sum(axis=0) / mask_dummy_np.sum(axis=0, keepdims=True).transpose((1, 0))"
      ]
    },
    {
      "cell_type": "code",
      "execution_count": 157,
      "id": "096850d2",
      "metadata": {
        "colab": {
          "base_uri": "https://localhost:8080/"
        },
        "id": "096850d2",
        "outputId": "817c1892-0bd5-48bf-af03-0552604668da"
      },
      "outputs": [
        {
          "output_type": "execute_result",
          "data": {
            "text/plain": [
              "array([[-2.24910684, -2.33393256, -2.4095581 , -2.08488603, -2.50122825,\n",
              "        -2.27666305, -2.22829735, -2.36673997, -2.33151136, -2.30440738],\n",
              "       [-2.23340082, -2.3175416 , -2.41123271, -2.06766033, -2.5428133 ,\n",
              "        -2.1982317 , -2.27696347, -2.40263653, -2.29599667, -2.3564527 ],\n",
              "       [-2.28289723, -2.33969295, -2.40509397, -2.08413064, -2.46652949,\n",
              "        -2.26901138, -2.24124855, -2.33887118, -2.34617203, -2.30283487]])"
            ]
          },
          "metadata": {},
          "execution_count": 157
        }
      ],
      "source": [
        "avg_log_probs_dummy_np"
      ]
    },
    {
      "cell_type": "code",
      "execution_count": 158,
      "id": "b077f2a6",
      "metadata": {
        "colab": {
          "base_uri": "https://localhost:8080/"
        },
        "id": "b077f2a6",
        "outputId": "bac57c04-7d28-4326-a12c-541eae4c6f3c"
      },
      "outputs": [
        {
          "output_type": "execute_result",
          "data": {
            "text/plain": [
              "(-2.249107, -2.3339326)"
            ]
          },
          "metadata": {},
          "execution_count": 158
        }
      ],
      "source": [
        "log_probs_dummy_np[0:12, 0].mean(), log_probs_dummy_np[0:12, 1].mean()"
      ]
    },
    {
      "cell_type": "code",
      "execution_count": 159,
      "id": "9656e4bb",
      "metadata": {
        "colab": {
          "base_uri": "https://localhost:8080/"
        },
        "id": "9656e4bb",
        "outputId": "91f13ecf-fdca-4963-cbce-6f2166bb35e1"
      },
      "outputs": [
        {
          "output_type": "execute_result",
          "data": {
            "text/plain": [
              "(-2.2334008, -2.3175416)"
            ]
          },
          "metadata": {},
          "execution_count": 159
        }
      ],
      "source": [
        "log_probs_dummy_np[12, 0].mean(), log_probs_dummy_np[12, 1].mean()"
      ]
    },
    {
      "cell_type": "code",
      "execution_count": 160,
      "id": "06a1d169",
      "metadata": {
        "colab": {
          "base_uri": "https://localhost:8080/"
        },
        "id": "06a1d169",
        "outputId": "735f752c-b70a-4498-ea52-556b14ebf71d"
      },
      "outputs": [
        {
          "output_type": "execute_result",
          "data": {
            "text/plain": [
              "(-2.2828972, -2.339693)"
            ]
          },
          "metadata": {},
          "execution_count": 160
        }
      ],
      "source": [
        "log_probs_dummy_np[13:, 0].mean(), log_probs_dummy_np[13:, 1].mean()"
      ]
    },
    {
      "cell_type": "code",
      "execution_count": 161,
      "id": "9d31eed0",
      "metadata": {
        "id": "9d31eed0"
      },
      "outputs": [],
      "source": [
        "predicitions_dummy_np = np.argmax(avg_log_probs_dummy_np, axis=-1)"
      ]
    },
    {
      "cell_type": "code",
      "execution_count": 162,
      "id": "dc9e6cef",
      "metadata": {
        "colab": {
          "base_uri": "https://localhost:8080/"
        },
        "id": "dc9e6cef",
        "outputId": "f3734b81-007a-474a-85b7-07244ee5909f"
      },
      "outputs": [
        {
          "output_type": "execute_result",
          "data": {
            "text/plain": [
              "array([3, 3, 3])"
            ]
          },
          "metadata": {},
          "execution_count": 162
        }
      ],
      "source": [
        "predicitions_dummy_np"
      ]
    },
    {
      "cell_type": "code",
      "source": [
        "scores = np.exp(avg_log_probs_dummy_np).max(axis=-1)\n",
        "scores"
      ],
      "metadata": {
        "colab": {
          "base_uri": "https://localhost:8080/"
        },
        "id": "U1D9e15wZ0Kq",
        "outputId": "e94d802a-6f90-428d-936f-6d5cb0c982f2"
      },
      "id": "U1D9e15wZ0Kq",
      "execution_count": 163,
      "outputs": [
        {
          "output_type": "execute_result",
          "data": {
            "text/plain": [
              "array([0.12432129, 0.12648136, 0.12441523])"
            ]
          },
          "metadata": {},
          "execution_count": 163
        }
      ]
    },
    {
      "cell_type": "markdown",
      "id": "0c21dff1",
      "metadata": {
        "id": "0c21dff1"
      },
      "source": [
        "## <font color = 'pickle'> **Final Functions**</font>"
      ]
    },
    {
      "cell_type": "code",
      "execution_count": 186,
      "id": "fd971772",
      "metadata": {
        "id": "fd971772"
      },
      "outputs": [],
      "source": [
        "# import functional from torch as F\n",
        "import torch.nn.functional as F\n",
        "\n",
        "\n",
        "def collate_function(batch, tokenizer, max_length, stride):\n",
        "\n",
        "\n",
        "    text_batch = [item.get('text','') for item in batch]\n",
        "\n",
        "    # Check if any of the batch items has 'label', if so process labels.\n",
        "    if all('label' in item for item in batch):\n",
        "        label_batch = [item['label'] for item in batch]\n",
        "        doc_labels = torch.tensor(label_batch, dtype=torch.long)\n",
        "    else:\n",
        "        doc_labels = None\n",
        "\n",
        "\n",
        "    # Tokenize the batch of texts\n",
        "    tokenized = tokenizer(text_batch,\n",
        "                          padding='longest',\n",
        "                          truncation=True,\n",
        "                          return_tensors='pt',\n",
        "                          max_length=max_length,\n",
        "                          return_overflowing_tokens=True,\n",
        "                          stride=stride)\n",
        "\n",
        "    # Flatten the chunks if necessary using overflow_to_sample_mapping\n",
        "    overflow_to_sample_mapping = tokenized.get(\"overflow_to_sample_mapping\", None)\n",
        "\n",
        "    result = {\n",
        "        **tokenized,\n",
        "        \"overflow_to_sample_mapping\": overflow_to_sample_mapping,\n",
        "    }\n",
        "\n",
        "    # Repeat labels for the chunks based on overflow_to_sample_mapping, only if labels are present\n",
        "    if doc_labels is not None and overflow_to_sample_mapping is not None:\n",
        "        labels = doc_labels[overflow_to_sample_mapping]\n",
        "        result[\"labels\"] = labels\n",
        "        result[\"doc_labels\"] = doc_labels\n",
        "\n",
        "    return result\n",
        "\n",
        "\n",
        "import numpy as np\n",
        "from scipy.special import softmax\n",
        "from scipy.special import logsumexp\n",
        "\n",
        "def stable_log_softmax(x):\n",
        "    # Subtract the max for numerical stability along the last axis (axis=-1)\n",
        "    x_max = np.max(x, axis=-1, keepdims=True)\n",
        "    # Use logsumexp for better numerical stability\n",
        "    log_softmax = x - x_max - logsumexp(x - x_max, axis=-1, keepdims=True)\n",
        "    return log_softmax\n",
        "\n",
        "\n",
        "def aggregate_predictions (logits, aggregation_method, overflow_to_sample_mapping):\n",
        "\n",
        "    probabilities = softmax(logits, axis=-1)\n",
        "    log_probabilities = stable_log_softmax(logits)\n",
        "\n",
        "    # print('log_probs', log_probabilities.shape)\n",
        "    # print('overflow_to_sample_mapping', overflow_to_sample_mapping.shape)\n",
        "\n",
        "    # Get unique documents\n",
        "\n",
        "    unique_docs, inverse_indices = np.unique(overflow_to_sample_mapping, return_inverse=True)\n",
        "    num_docs = unique_docs.size\n",
        "\n",
        "    # Create a mask for documents\n",
        "    mask = overflow_to_sample_mapping[:, None] == unique_docs[None, :]\n",
        "\n",
        "    # Initialize the aggregated_predictions variable\n",
        "    aggregated_predictions = None\n",
        "\n",
        "    if aggregation_method == \"average_log_probs\":\n",
        "        # Compute average probabilities using NumPy\n",
        "        avg_log_probs = (log_probabilities[:, None, :] * mask[:, :, None].astype(float)).sum(axis=0) / mask.sum(axis=0, keepdims=True).transpose((1, 0))\n",
        "        aggregated_predictions = np.argmax(avg_log_probs, axis=-1)\n",
        "        scores = np.exp(avg_log_probs.max(axis=-1))\n",
        "\n",
        "    # elif aggregation_method == \"average_probs\":\n",
        "    #     # Compute average probabilities using NumPy\n",
        "    #     avg_probs = (probabilities[:, None, :] * mask[:, :, None].astype(float)).sum(axis=0) / mask.sum(axis=0, keepdims=True).transpose((1, 0))\n",
        "    #     aggregated_predictions = np.argmax(avg_probs, axis=-1)\n",
        "    #     scores  = avg_probs.max(axis=-1)\n",
        "\n",
        "    # elif aggregation_method == \"max_probs\":\n",
        "    #     # Compute max probabilities per document\n",
        "    #     max_values = np.where(mask[:, :, None], log_probabilities[:, None, :], float('-inf'))\n",
        "    #     max_log_probs = np.max(max_values, axis=0)\n",
        "    #     aggregated_predictions = np.argmax(max_log_probs, axis=-1)\n",
        "    #     scores = np.exp(max_log_probs.max(axis=-1))\n",
        "\n",
        "    # elif aggregation_method == \"majority_vote\":\n",
        "    #     # Convert logits to actual predictions before voting\n",
        "    #     predictions = np.argmax(logits, axis=1)\n",
        "    #     # Tally the votes for each document\n",
        "    #     vote_tally = np.zeros((num_docs, logits.shape[-1]), dtype=int)\n",
        "    #     np.add.at(vote_tally, overflow_to_sample_mapping, np.eye(logits.shape[-1], dtype=int)[predictions])\n",
        "    #     # Determine the majority vote for each document\n",
        "    #     aggregated_predictions = np.argmax(vote_tally, axis=1)\n",
        "    #     scores = vote_tally.max(axis=-1) / vote_tally.sum(axis=-1)\n",
        "    else:\n",
        "        raise ValueError(f\"Unsupported aggregation_method: {aggregation_method}\")\n",
        "\n",
        "    # # Calculate evaluation metrics using document-level labels\n",
        "    # metrics = evaluate.combine([\n",
        "    #     evaluate.load(\"accuracy\"),\n",
        "    #     evaluate.load(\"f1\", average=\"macro\")\n",
        "    # ])\n",
        "    # evaluations = metrics.compute(predictions=aggregated_predictions, references=doc_labels)\n",
        "\n",
        "    # return evaluations\n",
        "\n",
        "    return aggregated_predictions, scores\n"
      ]
    },
    {
      "cell_type": "code",
      "execution_count": 188,
      "id": "d94efb24",
      "metadata": {
        "id": "d94efb24"
      },
      "outputs": [],
      "source": [
        "from transformers import Trainer\n",
        "import torch\n",
        "import torch.nn as nn\n",
        "from transformers.trainer_utils import EvalPrediction\n",
        "import torch.nn.functional as F\n",
        "\n",
        "class CustomTrainer(Trainer):\n",
        "    def __init__(self, *args, loss_type=\"average_log_probs\", class_weights=None, **kwargs):\n",
        "        super(CustomTrainer, self).__init__(*args, **kwargs)\n",
        "        self.loss_type = loss_type\n",
        "        self.class_weights = class_weights\n",
        "        if self.class_weights is not None:\n",
        "            self.class_weights = self.class_weights.to(self.model.device)\n",
        "        self.nll_loss = nn.NLLLoss(weight=self.class_weights)\n",
        "\n",
        "    def compute_loss(self, model, inputs, return_outputs=False):\n",
        "        labels = inputs[\"labels\"]\n",
        "        overflow_to_sample_mapping = inputs.pop(\"overflow_to_sample_mapping\", None)\n",
        "        doc_labels = inputs.pop(\"doc_labels\", None)\n",
        "        logits = model(**inputs).logits\n",
        "\n",
        "        # convert logits to log probabilities, probabilities\n",
        "        log_probabilities = F.log_softmax(logits, dim=-1)\n",
        "        probabilities = F.softmax(logits, dim=-1)\n",
        "\n",
        "        # Number of unique documents and chunks\n",
        "        num_docs = doc_labels.size(0)\n",
        "        num_chunks = overflow_to_sample_mapping.size(0)\n",
        "\n",
        "        # Ensure overflow_to_sample_mapping is on the same device as doc_labels\n",
        "        overflow_to_sample_mapping = overflow_to_sample_mapping.to(doc_labels.device)\n",
        "\n",
        "        # Create a tensor representing each unique doc\n",
        "        unique_docs = torch.arange(num_docs).to(doc_labels.device)\n",
        "\n",
        "        # Create the mask\n",
        "        mask = overflow_to_sample_mapping[:, None] == unique_docs[None, :]\n",
        "\n",
        "        if self.loss_type == \"average_log_probs\":\n",
        "            avg_log_probs = (log_probabilities[:, None, :] * mask.unsqueeze(-1).float()).sum(0) / mask.sum(0, keepdim=True).T\n",
        "            loss = self.nll_loss(avg_log_probs, doc_labels)\n",
        "\n",
        "        # elif self.loss_type == \"average_probs\":\n",
        "        #     avg_probs = (probabilities[:, None, :] * mask.unsqueeze(-1).float()).sum(0) / mask.sum(0, keepdim=True).T\n",
        "        #     avg_log_probs = torch.log(avg_probs)\n",
        "        #     loss = self.nll_loss(avg_log_probs, doc_labels)\n",
        "\n",
        "        # elif self.loss_type == \"max\":\n",
        "        #     max_values = torch.where(mask.unsqueeze(-1), log_probabilities[:, None, :], torch.tensor(float('-inf'), device=log_probabilities.device))\n",
        "        #     max_log_probs = max_values.max(dim=0).values\n",
        "        #     loss = self.nll_loss(max_log_probs, doc_labels)\n",
        "\n",
        "        # elif self.loss_type == \"loss_per_chunk\":\n",
        "        #     loss = self.nll_loss(log_probabilities, labels.view(-1))\n",
        "\n",
        "        else:\n",
        "            raise ValueError(f\"Unsupported loss_type: {self.loss_type}\")\n",
        "\n",
        "        return (loss, logits) if return_outputs else loss"
      ]
    },
    {
      "cell_type": "markdown",
      "id": "IGDxeCI38uqm",
      "metadata": {
        "id": "IGDxeCI38uqm"
      },
      "source": [
        "## <font color = 'pickle'> **Set up Logger for experiments**</font>"
      ]
    },
    {
      "cell_type": "code",
      "execution_count": 189,
      "id": "S8CaRySh81mi",
      "metadata": {
        "colab": {
          "base_uri": "https://localhost:8080/",
          "height": 121
        },
        "id": "S8CaRySh81mi",
        "outputId": "95ff5523-a60b-4043-b763-e82de3bf21e9"
      },
      "outputs": [
        {
          "output_type": "display_data",
          "data": {
            "text/plain": [
              "<IPython.core.display.Javascript object>"
            ],
            "application/javascript": [
              "\n",
              "        window._wandbApiKey = new Promise((resolve, reject) => {\n",
              "            function loadScript(url) {\n",
              "            return new Promise(function(resolve, reject) {\n",
              "                let newScript = document.createElement(\"script\");\n",
              "                newScript.onerror = reject;\n",
              "                newScript.onload = resolve;\n",
              "                document.body.appendChild(newScript);\n",
              "                newScript.src = url;\n",
              "            });\n",
              "            }\n",
              "            loadScript(\"https://cdn.jsdelivr.net/npm/postmate/build/postmate.min.js\").then(() => {\n",
              "            const iframe = document.createElement('iframe')\n",
              "            iframe.style.cssText = \"width:0;height:0;border:none\"\n",
              "            document.body.appendChild(iframe)\n",
              "            const handshake = new Postmate({\n",
              "                container: iframe,\n",
              "                url: 'https://wandb.ai/authorize'\n",
              "            });\n",
              "            const timeout = setTimeout(() => reject(\"Couldn't auto authenticate\"), 5000)\n",
              "            handshake.then(function(child) {\n",
              "                child.on('authorize', data => {\n",
              "                    clearTimeout(timeout)\n",
              "                    resolve(data)\n",
              "                });\n",
              "            });\n",
              "            })\n",
              "        });\n",
              "    "
            ]
          },
          "metadata": {}
        },
        {
          "output_type": "stream",
          "name": "stderr",
          "text": [
            "\u001b[34m\u001b[1mwandb\u001b[0m: Logging into wandb.ai. (Learn how to deploy a W&B server locally: https://wandb.me/wandb-server)\n",
            "\u001b[34m\u001b[1mwandb\u001b[0m: You can find your API key in your browser here: https://wandb.ai/authorize\n",
            "wandb: Paste an API key from your profile and hit enter, or press ctrl+c to quit:"
          ]
        },
        {
          "name": "stdout",
          "output_type": "stream",
          "text": [
            " ··········\n"
          ]
        },
        {
          "output_type": "stream",
          "name": "stderr",
          "text": [
            "\u001b[34m\u001b[1mwandb\u001b[0m: Appending key for api.wandb.ai to your netrc file: /root/.netrc\n"
          ]
        },
        {
          "output_type": "stream",
          "name": "stdout",
          "text": [
            "env: WANDB_PROJECT=nlp_course_HW7_PartA\n"
          ]
        }
      ],
      "source": [
        "import wandb\n",
        "# setup wandb\n",
        "wandb.login()  # you will need to craete wandb account first\n",
        "# Set project name for logging\n",
        "%env WANDB_PROJECT = nlp_course_HW7_PartA"
      ]
    },
    {
      "cell_type": "markdown",
      "id": "Jwwp80UgmLjr",
      "metadata": {
        "id": "Jwwp80UgmLjr"
      },
      "source": [
        "## <font color = 'pickle'> **Hyperparameters and Checkpointing**</font>"
      ]
    },
    {
      "cell_type": "code",
      "execution_count": 190,
      "id": "hIXDbzK8O4x9",
      "metadata": {
        "id": "hIXDbzK8O4x9"
      },
      "outputs": [],
      "source": [
        "from transformers import TrainingArguments\n",
        "\n",
        "# Define the directory where model checkpoints will be saved\n",
        "model_folder = base_folder/'Assignments/HW7/models'\n",
        "model_folder = model_folder/\"distilbert-base-uncased\"\n",
        "# Create the directory if it doesn't exist\n",
        "model_folder.mkdir(exist_ok=True)\n",
        "\n",
        "# Configure training parameters\n",
        "training_args = TrainingArguments(\n",
        "    # Training-specific configurations\n",
        "    num_train_epochs=1,  # Total number of training epochs\n",
        "    # Number of samples per training batch for each device\n",
        "    per_device_train_batch_size=5,\n",
        "    # Number of samples per evaluation batch for each device\n",
        "    per_device_eval_batch_size=5,\n",
        "    gradient_accumulation_steps=1,\n",
        "    weight_decay=0.01,  # Apply L2 regularization to prevent overfitting\n",
        "    learning_rate=1e-5,  # Step size for the optimizer during training\n",
        "    optim='adamw_torch',  # Optimizer,\n",
        "    fp16= True, # Use mixed precision training for memroy optimization\n",
        "    # argument for EvalPred to include inputs and outputs\n",
        "    remove_unused_columns=False,\n",
        "\n",
        "\n",
        "    # Checkpoint saving and model evaluation settings\n",
        "    output_dir=str(model_folder),  # Directory to save model checkpoints\n",
        "    evaluation_strategy='steps',  # Evaluate model at specified step intervals\n",
        "    eval_steps=1,  # Perform evaluation every 20 training steps\n",
        "    save_strategy=\"steps\",  # Save model checkpoint at specified step intervals\n",
        "    save_steps=1,  # Save a model checkpoint every 20 training steps\n",
        "    load_best_model_at_end=True,  # Reload the best model at the end of training\n",
        "    save_total_limit=2,  # Retain only the best and the most recent model checkpoints\n",
        "\n",
        "    # Use 'accuracy' as the metric to determine the best model\n",
        "    # metric_for_best_model=\"accuracy\",\n",
        "    # greater_is_better=True,  # A model is 'better' if its accuracy is higher\n",
        "\n",
        "\n",
        "    # Experiment logging configurations (commented out in this example)\n",
        "    logging_strategy='steps',\n",
        "    logging_steps=1,\n",
        "    report_to='wandb',  # Log metrics and results to Weights & Biases platform\n",
        "    run_name='stack_long_seq_imbalance',  # Experiment name for Weights & Biases\n",
        ")\n"
      ]
    },
    {
      "cell_type": "code",
      "source": [
        "import gc\n",
        "gc.collect()\n",
        "for device_id in range(torch.cuda.device_count()):\n",
        "    torch.cuda.set_device(device_id)\n",
        "    torch.cuda.empty_cache()\n",
        "gc.collect()"
      ],
      "metadata": {
        "colab": {
          "base_uri": "https://localhost:8080/"
        },
        "id": "TmrpldzMnCab",
        "outputId": "e7aa95b6-d754-43b2-ffbe-e485efcdfb9e"
      },
      "id": "TmrpldzMnCab",
      "execution_count": 191,
      "outputs": [
        {
          "output_type": "execute_result",
          "data": {
            "text/plain": [
              "0"
            ]
          },
          "metadata": {},
          "execution_count": 191
        }
      ]
    },
    {
      "cell_type": "markdown",
      "id": "J_hMcxgrFNyT",
      "metadata": {
        "id": "J_hMcxgrFNyT"
      },
      "source": [
        "##  <font color = 'pickle'> **Initialize Trainer**</font>"
      ]
    },
    {
      "cell_type": "code",
      "execution_count": 192,
      "id": "syJ7458-On05",
      "metadata": {
        "id": "syJ7458-On05",
        "outputId": "f75e7aea-8589-4d25-b32c-47e73799158a",
        "colab": {
          "base_uri": "https://localhost:8080/"
        }
      },
      "outputs": [
        {
          "output_type": "stream",
          "name": "stderr",
          "text": [
            "Some weights of DistilBertForSequenceClassification were not initialized from the model checkpoint at distilbert-base-uncased and are newly initialized: ['pre_classifier.weight', 'classifier.weight', 'pre_classifier.bias', 'classifier.bias']\n",
            "You should probably TRAIN this model on a down-stream task to be able to use it for predictions and inference.\n"
          ]
        }
      ],
      "source": [
        "checkpoint = \"distilbert-base-uncased\"\n",
        "model = AutoModelForSequenceClassification.from_pretrained(checkpoint, config = config)\n",
        "tokenizer = AutoTokenizer.from_pretrained(checkpoint)\n",
        "collate_fn = partial(collate_function, tokenizer=tokenizer,max_length = 512, stride = 100)\n",
        "trainer = CustomTrainer(\n",
        "    loss_type = \"average_log_probs\",\n",
        "    # loss_type = \"average_probs\",\n",
        "    # loss_type = \"max\",\n",
        "    # loss_type = \"loss_per_chunk\",\n",
        "    class_weights=class_tensor_weights,\n",
        "    model=model,\n",
        "    args=training_args,\n",
        "    train_dataset=train_val_small[\"train\"],\n",
        "    eval_dataset=train_val_small[\"valid\"],\n",
        "    data_collator=collate_fn,\n",
        "    tokenizer=tokenizer,\n",
        "\n",
        ")\n"
      ]
    },
    {
      "cell_type": "markdown",
      "id": "ty027fT4DFGn",
      "metadata": {
        "id": "ty027fT4DFGn"
      },
      "source": [
        "##  <font color = 'pickle'> **Start Training**"
      ]
    },
    {
      "cell_type": "code",
      "source": [
        "train_val_small"
      ],
      "metadata": {
        "colab": {
          "base_uri": "https://localhost:8080/"
        },
        "id": "O9tHhJTsDkcM",
        "outputId": "de11cd21-2028-4068-f18b-731b835db45b"
      },
      "id": "O9tHhJTsDkcM",
      "execution_count": 193,
      "outputs": [
        {
          "output_type": "execute_result",
          "data": {
            "text/plain": [
              "DatasetDict({\n",
              "    train: Dataset({\n",
              "        features: ['text', 'label'],\n",
              "        num_rows: 10\n",
              "    })\n",
              "    valid: Dataset({\n",
              "        features: ['text', 'label'],\n",
              "        num_rows: 10\n",
              "    })\n",
              "})"
            ]
          },
          "metadata": {},
          "execution_count": 193
        }
      ]
    },
    {
      "cell_type": "code",
      "execution_count": 194,
      "id": "MHNSotl_CyW7",
      "metadata": {
        "colab": {
          "base_uri": "https://localhost:8080/",
          "height": 277
        },
        "id": "MHNSotl_CyW7",
        "outputId": "69ee6ea3-2c83-42e3-fde7-11f15454c114"
      },
      "outputs": [
        {
          "output_type": "display_data",
          "data": {
            "text/plain": [
              "<IPython.core.display.HTML object>"
            ],
            "text/html": [
              "Changes to your `wandb` environment variables will be ignored because your `wandb` session has already started. For more information on how to modify your settings with `wandb.init()` arguments, please refer to <a href='https://wandb.me/wandb-init' target=\"_blank\">the W&B docs</a>."
            ]
          },
          "metadata": {}
        },
        {
          "output_type": "stream",
          "name": "stderr",
          "text": [
            "\u001b[34m\u001b[1mwandb\u001b[0m: Currently logged in as: \u001b[33makshat_patil\u001b[0m. Use \u001b[1m`wandb login --relogin`\u001b[0m to force relogin\n"
          ]
        },
        {
          "output_type": "display_data",
          "data": {
            "text/plain": [
              "<IPython.core.display.HTML object>"
            ],
            "text/html": [
              "Tracking run with wandb version 0.16.0"
            ]
          },
          "metadata": {}
        },
        {
          "output_type": "display_data",
          "data": {
            "text/plain": [
              "<IPython.core.display.HTML object>"
            ],
            "text/html": [
              "Run data is saved locally in <code>/content/wandb/run-20231117_191755-ukxcydk4</code>"
            ]
          },
          "metadata": {}
        },
        {
          "output_type": "display_data",
          "data": {
            "text/plain": [
              "<IPython.core.display.HTML object>"
            ],
            "text/html": [
              "Syncing run <strong><a href='https://wandb.ai/akshat_patil/nlp_course_HW7_PartA/runs/ukxcydk4' target=\"_blank\">stack_long_seq_imbalance</a></strong> to <a href='https://wandb.ai/akshat_patil/nlp_course_HW7_PartA' target=\"_blank\">Weights & Biases</a> (<a href='https://wandb.me/run' target=\"_blank\">docs</a>)<br/>"
            ]
          },
          "metadata": {}
        },
        {
          "output_type": "display_data",
          "data": {
            "text/plain": [
              "<IPython.core.display.HTML object>"
            ],
            "text/html": [
              " View project at <a href='https://wandb.ai/akshat_patil/nlp_course_HW7_PartA' target=\"_blank\">https://wandb.ai/akshat_patil/nlp_course_HW7_PartA</a>"
            ]
          },
          "metadata": {}
        },
        {
          "output_type": "display_data",
          "data": {
            "text/plain": [
              "<IPython.core.display.HTML object>"
            ],
            "text/html": [
              " View run at <a href='https://wandb.ai/akshat_patil/nlp_course_HW7_PartA/runs/ukxcydk4' target=\"_blank\">https://wandb.ai/akshat_patil/nlp_course_HW7_PartA/runs/ukxcydk4</a>"
            ]
          },
          "metadata": {}
        },
        {
          "output_type": "display_data",
          "data": {
            "text/plain": [
              "<IPython.core.display.HTML object>"
            ],
            "text/html": [
              "\n",
              "    <div>\n",
              "      \n",
              "      <progress value='2' max='2' style='width:300px; height:20px; vertical-align: middle;'></progress>\n",
              "      [2/2 00:16, Epoch 1/1]\n",
              "    </div>\n",
              "    <table border=\"1\" class=\"dataframe\">\n",
              "  <thead>\n",
              " <tr style=\"text-align: left;\">\n",
              "      <th>Step</th>\n",
              "      <th>Training Loss</th>\n",
              "      <th>Validation Loss</th>\n",
              "    </tr>\n",
              "  </thead>\n",
              "  <tbody>\n",
              "    <tr>\n",
              "      <td>1</td>\n",
              "      <td>2.306000</td>\n",
              "      <td>2.311734</td>\n",
              "    </tr>\n",
              "    <tr>\n",
              "      <td>2</td>\n",
              "      <td>2.314100</td>\n",
              "      <td>2.311279</td>\n",
              "    </tr>\n",
              "  </tbody>\n",
              "</table><p>"
            ]
          },
          "metadata": {}
        },
        {
          "output_type": "execute_result",
          "data": {
            "text/plain": [
              "TrainOutput(global_step=2, training_loss=2.310037612915039, metrics={'train_runtime': 21.2809, 'train_samples_per_second': 0.47, 'train_steps_per_second': 0.094, 'total_flos': 4107075225600.0, 'train_loss': 2.310037612915039, 'epoch': 1.0})"
            ]
          },
          "metadata": {},
          "execution_count": 194
        }
      ],
      "source": [
        "trainer.train() # start training"
      ]
    },
    {
      "cell_type": "code",
      "execution_count": 195,
      "id": "UyHSbAeLd4oe",
      "metadata": {
        "colab": {
          "base_uri": "https://localhost:8080/"
        },
        "id": "UyHSbAeLd4oe",
        "outputId": "d561e15e-94e0-4697-e581-2b0a41efe809"
      },
      "outputs": [
        {
          "output_type": "stream",
          "name": "stdout",
          "text": [
            "The best model was saved at step 2.\n"
          ]
        }
      ],
      "source": [
        "best_model_checkpoint_step = trainer.state.best_model_checkpoint.split('-')[-1]\n",
        "print(f\"The best model was saved at step {best_model_checkpoint_step}.\")"
      ]
    },
    {
      "cell_type": "markdown",
      "id": "42c32c3f",
      "metadata": {
        "id": "42c32c3f"
      },
      "source": [
        "## <font color = 'pickle'> **Evaluation**\n"
      ]
    },
    {
      "cell_type": "markdown",
      "id": "ade3b145",
      "metadata": {
        "id": "ade3b145"
      },
      "source": [
        "### <font color = 'pickle'> **Check performance on validation set**</font>\n"
      ]
    },
    {
      "cell_type": "code",
      "execution_count": 196,
      "metadata": {
        "id": "m8iRDP3Xjfdw",
        "outputId": "1d5b7eba-6f93-4ce7-ba81-999774934137",
        "colab": {
          "base_uri": "https://localhost:8080/"
        }
      },
      "outputs": [
        {
          "output_type": "execute_result",
          "data": {
            "text/plain": [
              "Dataset({\n",
              "    features: ['text', 'label'],\n",
              "    num_rows: 10\n",
              "})"
            ]
          },
          "metadata": {},
          "execution_count": 196
        }
      ],
      "source": [
        "train_val_small['train']"
      ],
      "id": "m8iRDP3Xjfdw"
    },
    {
      "cell_type": "code",
      "execution_count": 197,
      "metadata": {
        "id": "sMKQv8WJjfdw",
        "outputId": "3e0bce15-f219-484c-a791-47d552d1f174",
        "colab": {
          "base_uri": "https://localhost:8080/"
        }
      },
      "outputs": [
        {
          "output_type": "stream",
          "name": "stdout",
          "text": [
            "torch.Size([14, 512])\n",
            "torch.Size([14])\n",
            "torch.Size([5])\n",
            "dict_keys(['input_ids', 'attention_mask', 'overflow_to_sample_mapping', 'labels', 'doc_labels'])\n",
            "tensor([0, 0, 0, 1, 1, 1, 1, 2, 2, 2, 3, 3, 4, 4], device='cuda:0')\n",
            "torch.Size([17, 512])\n",
            "torch.Size([17])\n",
            "torch.Size([5])\n",
            "dict_keys(['input_ids', 'attention_mask', 'overflow_to_sample_mapping', 'labels', 'doc_labels'])\n",
            "tensor([0, 0, 1, 1, 1, 1, 2, 2, 2, 2, 2, 3, 3, 3, 4, 4, 4], device='cuda:0')\n"
          ]
        }
      ],
      "source": [
        "num_obs = 0\n",
        "chunks = 0\n",
        "batches = 0\n",
        "for x in trainer.get_test_dataloader(train_val_small['train']):\n",
        "    print(x['input_ids'].shape)\n",
        "    print(x['labels'].shape)\n",
        "    print(x['doc_labels'].shape)\n",
        "    print(x.keys())\n",
        "    num_obs += x['doc_labels'].shape[0]\n",
        "    chunks += x['input_ids'].shape[0]\n",
        "    print(x['overflow_to_sample_mapping'])\n",
        "    batches += 1\n"
      ],
      "id": "sMKQv8WJjfdw"
    },
    {
      "cell_type": "code",
      "execution_count": 199,
      "id": "557Wif8clK69",
      "metadata": {
        "id": "557Wif8clK69"
      },
      "outputs": [],
      "source": [
        "from torch.utils.data import DataLoader\n",
        "from transformers import PreTrainedModel\n",
        "from evaluate import load\n",
        "\n",
        "def evaluate_model(dataloader: DataLoader, model: PreTrainedModel, metric_only: bool = True, aggregation_method: str ='average_log_probs'):\n",
        "    # Load the accuracy metric\n",
        "    accuracy_metric = load(\"accuracy\")\n",
        "    device = 'cuda' if torch.cuda.is_available() else 'cpu'\n",
        "    model = model.to(device=device)\n",
        "\n",
        "    predictions = []\n",
        "    all_doc_labels = []\n",
        "\n",
        "    # Loop over batches\n",
        "    for batch in dataloader:\n",
        "        model.eval()\n",
        "        doc_labels = batch.pop(\"doc_labels\", None).cpu().numpy()\n",
        "        overflow_to_sample_mapping = batch.pop(\"overflow_to_sample_mapping\", None).cpu().numpy()\n",
        "        batch = {k: v.to(device) for k, v in batch.items()}\n",
        "\n",
        "        with torch.no_grad():\n",
        "            outputs = model(**batch)\n",
        "            logits = outputs.logits.cpu().numpy()\n",
        "            aggregated_predictions, scores = aggregate_predictions(logits=logits,\n",
        "                                                            aggregation_method=aggregation_method,\n",
        "                                                            overflow_to_sample_mapping=overflow_to_sample_mapping)\n",
        "\n",
        "            accuracy_metric.add_batch(predictions=aggregated_predictions, references=doc_labels)\n",
        "            if not metric_only:\n",
        "                predictions.extend(aggregated_predictions)\n",
        "                all_doc_labels.extend(doc_labels)\n",
        "\n",
        "    # Calculate and return the final accuracy.\n",
        "    final_accuracy = accuracy_metric.compute()['accuracy']\n",
        "\n",
        "    if metric_only:\n",
        "        return final_accuracy\n",
        "    else:\n",
        "        return final_accuracy, predictions, all_doc_labels"
      ]
    },
    {
      "cell_type": "code",
      "execution_count": 200,
      "metadata": {
        "id": "6eUZauuvjfdx",
        "outputId": "0ec2a5d6-1733-4a6e-9b4b-f0e0bad718d6",
        "colab": {
          "base_uri": "https://localhost:8080/"
        }
      },
      "outputs": [
        {
          "output_type": "execute_result",
          "data": {
            "text/plain": [
              "0.3"
            ]
          },
          "metadata": {},
          "execution_count": 200
        }
      ],
      "source": [
        "train_accuracy = evaluate_model(trainer.get_test_dataloader(train_val_small['train']), model, metric_only=True)\n",
        "train_accuracy"
      ],
      "id": "6eUZauuvjfdx"
    },
    {
      "cell_type": "code",
      "execution_count": 201,
      "metadata": {
        "id": "kIGYfLivjfdx",
        "outputId": "c9f88f70-5827-491b-92cf-92e62a4794f0",
        "colab": {
          "base_uri": "https://localhost:8080/"
        }
      },
      "outputs": [
        {
          "output_type": "execute_result",
          "data": {
            "text/plain": [
              "0.3"
            ]
          },
          "metadata": {},
          "execution_count": 201
        }
      ],
      "source": [
        "val_accuracy, val_predictions, val_labels = evaluate_model(trainer.get_test_dataloader(train_val_small['train']), model, metric_only=False)\n",
        "val_accuracy"
      ],
      "id": "kIGYfLivjfdx"
    },
    {
      "cell_type": "code",
      "execution_count": 202,
      "metadata": {
        "id": "nG5qukRmjfdx",
        "outputId": "51cef6cf-13c4-413a-cba6-3d1689cbeb68",
        "colab": {
          "base_uri": "https://localhost:8080/"
        }
      },
      "outputs": [
        {
          "output_type": "execute_result",
          "data": {
            "text/plain": [
              "[2, 2, 2, 2, 2, 2, 2, 2, 2, 2]"
            ]
          },
          "metadata": {},
          "execution_count": 202
        }
      ],
      "source": [
        "val_predictions"
      ],
      "id": "nG5qukRmjfdx"
    },
    {
      "cell_type": "code",
      "execution_count": 203,
      "metadata": {
        "id": "y_VNLllGjfdx",
        "outputId": "abc66f4a-d933-4ac8-fb75-ccb56c758451",
        "colab": {
          "base_uri": "https://localhost:8080/"
        }
      },
      "outputs": [
        {
          "output_type": "execute_result",
          "data": {
            "text/plain": [
              "[2, 0, 6, 3, 2, 5, 1, 2, 1, 1]"
            ]
          },
          "metadata": {},
          "execution_count": 203
        }
      ],
      "source": [
        "val_labels"
      ],
      "id": "y_VNLllGjfdx"
    },
    {
      "cell_type": "code",
      "source": [
        "aggregation_method = \"average_log_probs\"\n",
        "# aggregation_method = \"average_probs\"\n",
        "# aggregation_method = \"max_probs\"\n",
        "# aggregation_method = \"majority_vote\"\n",
        "\n",
        "# val_accuracy, val_predictions, val_labels = evaluate_model(trainer.get_test_dataloader(train_val_small['train']),\n",
        "#                                                            model, metric_only=False,aggregation_method=aggregation_method)\n",
        "# print(val_accuracy, val_predictions, val_labels)\n",
        "\n",
        "val_accuracy = evaluate_model(trainer.get_test_dataloader(train_val_small['train']),\n",
        "                                                           model, metric_only=True,aggregation_method=aggregation_method)\n",
        "print(val_accuracy)"
      ],
      "metadata": {
        "colab": {
          "base_uri": "https://localhost:8080/"
        },
        "id": "m_55MGZUnm8u",
        "outputId": "3345287d-2c1d-4db0-f7e0-606a5c977591"
      },
      "id": "m_55MGZUnm8u",
      "execution_count": 204,
      "outputs": [
        {
          "output_type": "stream",
          "name": "stdout",
          "text": [
            "0.3\n"
          ]
        }
      ]
    },
    {
      "cell_type": "code",
      "execution_count": 205,
      "id": "d02fd4a7",
      "metadata": {
        "id": "d02fd4a7"
      },
      "outputs": [],
      "source": [
        "from sklearn.metrics import confusion_matrix\n",
        "import matplotlib.pyplot as plt\n",
        "import seaborn as sns\n",
        "%matplotlib inline\n"
      ]
    },
    {
      "cell_type": "code",
      "execution_count": 213,
      "id": "7681bc84",
      "metadata": {
        "colab": {
          "base_uri": "https://localhost:8080/",
          "height": 608
        },
        "id": "7681bc84",
        "outputId": "2ea4abfc-2d7f-4d5e-a6ef-55eac790d946"
      },
      "outputs": [
        {
          "output_type": "display_data",
          "data": {
            "text/plain": [
              "<Figure size 800x600 with 2 Axes>"
            ],
            "image/png": "[encoded data removed]"
          },
          "metadata": {}
        }
      ],
      "source": [
        "#  Generate the confusion matrix\n",
        "cm = confusion_matrix(val_labels, val_predictions,normalize='true')\n",
        "\n",
        "# Plotting the confusion matrix\n",
        "plt.figure(figsize=(8, 6))\n",
        "ax= sns.heatmap(cm, annot=True, fmt=\".2f\", cmap=\"Blues\", xticklabels=class_names, yticklabels=class_names)\n",
        "# Ensure x-labels are vertical\n",
        "ax.set_xticklabels(ax.get_xticklabels(), rotation=45)\n",
        "\n",
        "# Ensure y-labels are horizontal\n",
        "ax.set_yticklabels(ax.get_yticklabels(), rotation=0)\n",
        "plt.xlabel('Predicted Labels')\n",
        "plt.ylabel('True Labels')\n",
        "plt.title('Confusion Matrix')\n",
        "plt.show()"
      ]
    },
    {
      "cell_type": "code",
      "execution_count": 207,
      "id": "a61cd63e",
      "metadata": {
        "id": "a61cd63e"
      },
      "outputs": [],
      "source": [
        "# log the Confusion Matrix to Wandb\n",
        "wandb.log({\"conf_mat\": wandb.plot.confusion_matrix(\n",
        "    preds=val_predictions, y_true=val_labels,\n",
        "    class_names=class_names)})\n"
      ]
    },
    {
      "cell_type": "code",
      "execution_count": 208,
      "id": "573785ef",
      "metadata": {
        "colab": {
          "base_uri": "https://localhost:8080/",
          "height": 444,
          "referenced_widgets": [
            "40127888035a47948c4ba11c65dff382",
            "8c2e0a0cf6e94f9e9d828311ee7fda45",
            "3eddfee016a94996aa294d196b4e8db9",
            "73279354f01548e19648175e7c7d2f6f",
            "cfee317daaab49c88eebfd9515995184",
            "96ec42cd4c1d45b1abac68fc3b5db2eb",
            "1f437a9434d044318aaf7ef4c3298609",
            "f24df6d550a9472cbb7072d891f14a94"
          ]
        },
        "id": "573785ef",
        "outputId": "53536263-e729-40fc-c904-7a667dee01a0"
      },
      "outputs": [
        {
          "output_type": "display_data",
          "data": {
            "text/plain": [
              "VBox(children=(Label(value='0.007 MB of 0.007 MB uploaded\\r'), FloatProgress(value=1.0, max=1.0)))"
            ],
            "application/vnd.jupyter.widget-view+json": {
              "version_major": 2,
              "version_minor": 0,
              "model_id": "40127888035a47948c4ba11c65dff382"
            }
          },
          "metadata": {}
        },
        {
          "output_type": "display_data",
          "data": {
            "text/plain": [
              "<IPython.core.display.HTML object>"
            ],
            "text/html": [
              "<style>\n",
              "    table.wandb td:nth-child(1) { padding: 0 10px; text-align: left ; width: auto;} td:nth-child(2) {text-align: left ; width: 100%}\n",
              "    .wandb-row { display: flex; flex-direction: row; flex-wrap: wrap; justify-content: flex-start; width: 100% }\n",
              "    .wandb-col { display: flex; flex-direction: column; flex-basis: 100%; flex: 1; padding: 10px; }\n",
              "    </style>\n",
              "<div class=\"wandb-row\"><div class=\"wandb-col\"><h3>Run history:</h3><br/><table class=\"wandb\"><tr><td>eval/loss</td><td>█▁</td></tr><tr><td>eval/runtime</td><td>▁█</td></tr><tr><td>eval/samples_per_second</td><td>█▁</td></tr><tr><td>eval/steps_per_second</td><td>█▁</td></tr><tr><td>train/epoch</td><td>▁▁███</td></tr><tr><td>train/global_step</td><td>▁▁████</td></tr><tr><td>train/learning_rate</td><td>█▁</td></tr><tr><td>train/loss</td><td>▁█</td></tr><tr><td>train/total_flos</td><td>▁</td></tr><tr><td>train/train_loss</td><td>▁</td></tr><tr><td>train/train_runtime</td><td>▁</td></tr><tr><td>train/train_samples_per_second</td><td>▁</td></tr><tr><td>train/train_steps_per_second</td><td>▁</td></tr></table><br/></div><div class=\"wandb-col\"><h3>Run summary:</h3><br/><table class=\"wandb\"><tr><td>eval/loss</td><td>2.31128</td></tr><tr><td>eval/runtime</td><td>0.4235</td></tr><tr><td>eval/samples_per_second</td><td>23.615</td></tr><tr><td>eval/steps_per_second</td><td>4.723</td></tr><tr><td>train/epoch</td><td>1.0</td></tr><tr><td>train/global_step</td><td>2</td></tr><tr><td>train/learning_rate</td><td>0.0</td></tr><tr><td>train/loss</td><td>2.3141</td></tr><tr><td>train/total_flos</td><td>4107075225600.0</td></tr><tr><td>train/train_loss</td><td>2.31004</td></tr><tr><td>train/train_runtime</td><td>21.2809</td></tr><tr><td>train/train_samples_per_second</td><td>0.47</td></tr><tr><td>train/train_steps_per_second</td><td>0.094</td></tr></table><br/></div></div>"
            ]
          },
          "metadata": {}
        },
        {
          "output_type": "display_data",
          "data": {
            "text/plain": [
              "<IPython.core.display.HTML object>"
            ],
            "text/html": [
              " View run <strong style=\"color:#cdcd00\">stack_long_seq_imbalance</strong> at: <a href='https://wandb.ai/akshat_patil/nlp_course_HW7_PartA/runs/ukxcydk4' target=\"_blank\">https://wandb.ai/akshat_patil/nlp_course_HW7_PartA/runs/ukxcydk4</a><br/>Synced 5 W&B file(s), 1 media file(s), 1 artifact file(s) and 0 other file(s)"
            ]
          },
          "metadata": {}
        },
        {
          "output_type": "display_data",
          "data": {
            "text/plain": [
              "<IPython.core.display.HTML object>"
            ],
            "text/html": [
              "Find logs at: <code>./wandb/run-20231117_191755-ukxcydk4/logs</code>"
            ]
          },
          "metadata": {}
        }
      ],
      "source": [
        "wandb.finish()\n"
      ]
    },
    {
      "cell_type": "markdown",
      "id": "ef42e718",
      "metadata": {
        "id": "ef42e718"
      },
      "source": [
        "### <font color = 'pickle'> **Check the best saved model**</font>\n"
      ]
    },
    {
      "cell_type": "code",
      "execution_count": null,
      "id": "42a722fd",
      "metadata": {
        "colab": {
          "base_uri": "https://localhost:8080/"
        },
        "id": "42a722fd",
        "outputId": "ff240401-a006-442c-db04-566a8697fc5b"
      },
      "outputs": [
        {
          "output_type": "stream",
          "name": "stdout",
          "text": [
            "The best model was saved at step 2.\n"
          ]
        }
      ],
      "source": [
        "# After training, let us check the best checkpoint\n",
        "# We need this for Predioctions and Evaluations\n",
        "best_model_checkpoint_step = trainer.state.best_model_checkpoint.split('-')[-1]\n",
        "print(f\"The best model was saved at step {best_model_checkpoint_step}.\")\n"
      ]
    }
  ],
  "metadata": {
    "accelerator": "GPU",
    "colab": {
      "gpuType": "T4",
      "machine_shape": "hm",
      "provenance": [],
      "toc_visible": true
    },
    "kernelspec": {
      "display_name": "Python 3",
      "name": "python3"
    },
    "language_info": {
      "codemirror_mode": {
        "name": "ipython",
        "version": 3
      },
      "file_extension": ".py",
      "mimetype": "text/x-python",
      "name": "python",
      "nbconvert_exporter": "python",
      "pygments_lexer": "ipython3",
      "version": "3.10.10"
    },
    "widgets": {
      "application/vnd.jupyter.widget-state+json": {
        "7b5ec4f4055447e7ab85bca352570bf4": {
          "model_module": "@jupyter-widgets/controls",
          "model_name": "HBoxModel",
          "model_module_version": "1.5.0",
          "state": {
            "_dom_classes": [],
            "_model_module": "@jupyter-widgets/controls",
            "_model_module_version": "1.5.0",
            "_model_name": "HBoxModel",
            "_view_count": null,
            "_view_module": "@jupyter-widgets/controls",
            "_view_module_version": "1.5.0",
            "_view_name": "HBoxView",
            "box_style": "",
            "children": [
              "IPY_MODEL_629920a658764ea4801ca095a2994bd0",
              "IPY_MODEL_445df996477848158b4b9286e24ed4b5",
              "IPY_MODEL_b6212f7600ae4c468c676cea6b08d981"
            ],
            "layout": "IPY_MODEL_70b68a4e282b438bb1b9b20c8ebadaa1"
          }
        },
        "629920a658764ea4801ca095a2994bd0": {
          "model_module": "@jupyter-widgets/controls",
          "model_name": "HTMLModel",
          "model_module_version": "1.5.0",
          "state": {
            "_dom_classes": [],
            "_model_module": "@jupyter-widgets/controls",
            "_model_module_version": "1.5.0",
            "_model_name": "HTMLModel",
            "_view_count": null,
            "_view_module": "@jupyter-widgets/controls",
            "_view_module_version": "1.5.0",
            "_view_name": "HTMLView",
            "description": "",
            "description_tooltip": null,
            "layout": "IPY_MODEL_a0ed26f07c234e3a9f40227cc8681925",
            "placeholder": "​",
            "style": "IPY_MODEL_0b46066abf274cbaadbee64cb6b77c06",
            "value": "Filter: 100%"
          }
        },
        "445df996477848158b4b9286e24ed4b5": {
          "model_module": "@jupyter-widgets/controls",
          "model_name": "FloatProgressModel",
          "model_module_version": "1.5.0",
          "state": {
            "_dom_classes": [],
            "_model_module": "@jupyter-widgets/controls",
            "_model_module_version": "1.5.0",
            "_model_name": "FloatProgressModel",
            "_view_count": null,
            "_view_module": "@jupyter-widgets/controls",
            "_view_module_version": "1.5.0",
            "_view_name": "ProgressView",
            "bar_style": "success",
            "description": "",
            "description_tooltip": null,
            "layout": "IPY_MODEL_d538228c20c44b52ba1d0e3cb49b4094",
            "max": 188878,
            "min": 0,
            "orientation": "horizontal",
            "style": "IPY_MODEL_94d96aec76504af29255d48cfbc1e1ae",
            "value": 188878
          }
        },
        "b6212f7600ae4c468c676cea6b08d981": {
          "model_module": "@jupyter-widgets/controls",
          "model_name": "HTMLModel",
          "model_module_version": "1.5.0",
          "state": {
            "_dom_classes": [],
            "_model_module": "@jupyter-widgets/controls",
            "_model_module_version": "1.5.0",
            "_model_name": "HTMLModel",
            "_view_count": null,
            "_view_module": "@jupyter-widgets/controls",
            "_view_module_version": "1.5.0",
            "_view_name": "HTMLView",
            "description": "",
            "description_tooltip": null,
            "layout": "IPY_MODEL_37dcbe32f7ac4732b69a4c1e35f93999",
            "placeholder": "​",
            "style": "IPY_MODEL_f44bfc4ea2074ea180e09dd057bdb1df",
            "value": " 188878/188878 [00:06&lt;00:00, 29118.85 examples/s]"
          }
        },
        "70b68a4e282b438bb1b9b20c8ebadaa1": {
          "model_module": "@jupyter-widgets/base",
          "model_name": "LayoutModel",
          "model_module_version": "1.2.0",
          "state": {
            "_model_module": "@jupyter-widgets/base",
            "_model_module_version": "1.2.0",
            "_model_name": "LayoutModel",
            "_view_count": null,
            "_view_module": "@jupyter-widgets/base",
            "_view_module_version": "1.2.0",
            "_view_name": "LayoutView",
            "align_content": null,
            "align_items": null,
            "align_self": null,
            "border": null,
            "bottom": null,
            "display": null,
            "flex": null,
            "flex_flow": null,
            "grid_area": null,
            "grid_auto_columns": null,
            "grid_auto_flow": null,
            "grid_auto_rows": null,
            "grid_column": null,
            "grid_gap": null,
            "grid_row": null,
            "grid_template_areas": null,
            "grid_template_columns": null,
            "grid_template_rows": null,
            "height": null,
            "justify_content": null,
            "justify_items": null,
            "left": null,
            "margin": null,
            "max_height": null,
            "max_width": null,
            "min_height": null,
            "min_width": null,
            "object_fit": null,
            "object_position": null,
            "order": null,
            "overflow": null,
            "overflow_x": null,
            "overflow_y": null,
            "padding": null,
            "right": null,
            "top": null,
            "visibility": null,
            "width": null
          }
        },
        "a0ed26f07c234e3a9f40227cc8681925": {
          "model_module": "@jupyter-widgets/base",
          "model_name": "LayoutModel",
          "model_module_version": "1.2.0",
          "state": {
            "_model_module": "@jupyter-widgets/base",
            "_model_module_version": "1.2.0",
            "_model_name": "LayoutModel",
            "_view_count": null,
            "_view_module": "@jupyter-widgets/base",
            "_view_module_version": "1.2.0",
            "_view_name": "LayoutView",
            "align_content": null,
            "align_items": null,
            "align_self": null,
            "border": null,
            "bottom": null,
            "display": null,
            "flex": null,
            "flex_flow": null,
            "grid_area": null,
            "grid_auto_columns": null,
            "grid_auto_flow": null,
            "grid_auto_rows": null,
            "grid_column": null,
            "grid_gap": null,
            "grid_row": null,
            "grid_template_areas": null,
            "grid_template_columns": null,
            "grid_template_rows": null,
            "height": null,
            "justify_content": null,
            "justify_items": null,
            "left": null,
            "margin": null,
            "max_height": null,
            "max_width": null,
            "min_height": null,
            "min_width": null,
            "object_fit": null,
            "object_position": null,
            "order": null,
            "overflow": null,
            "overflow_x": null,
            "overflow_y": null,
            "padding": null,
            "right": null,
            "top": null,
            "visibility": null,
            "width": null
          }
        },
        "0b46066abf274cbaadbee64cb6b77c06": {
          "model_module": "@jupyter-widgets/controls",
          "model_name": "DescriptionStyleModel",
          "model_module_version": "1.5.0",
          "state": {
            "_model_module": "@jupyter-widgets/controls",
            "_model_module_version": "1.5.0",
            "_model_name": "DescriptionStyleModel",
            "_view_count": null,
            "_view_module": "@jupyter-widgets/base",
            "_view_module_version": "1.2.0",
            "_view_name": "StyleView",
            "description_width": ""
          }
        },
        "d538228c20c44b52ba1d0e3cb49b4094": {
          "model_module": "@jupyter-widgets/base",
          "model_name": "LayoutModel",
          "model_module_version": "1.2.0",
          "state": {
            "_model_module": "@jupyter-widgets/base",
            "_model_module_version": "1.2.0",
            "_model_name": "LayoutModel",
            "_view_count": null,
            "_view_module": "@jupyter-widgets/base",
            "_view_module_version": "1.2.0",
            "_view_name": "LayoutView",
            "align_content": null,
            "align_items": null,
            "align_self": null,
            "border": null,
            "bottom": null,
            "display": null,
            "flex": null,
            "flex_flow": null,
            "grid_area": null,
            "grid_auto_columns": null,
            "grid_auto_flow": null,
            "grid_auto_rows": null,
            "grid_column": null,
            "grid_gap": null,
            "grid_row": null,
            "grid_template_areas": null,
            "grid_template_columns": null,
            "grid_template_rows": null,
            "height": null,
            "justify_content": null,
            "justify_items": null,
            "left": null,
            "margin": null,
            "max_height": null,
            "max_width": null,
            "min_height": null,
            "min_width": null,
            "object_fit": null,
            "object_position": null,
            "order": null,
            "overflow": null,
            "overflow_x": null,
            "overflow_y": null,
            "padding": null,
            "right": null,
            "top": null,
            "visibility": null,
            "width": null
          }
        },
        "94d96aec76504af29255d48cfbc1e1ae": {
          "model_module": "@jupyter-widgets/controls",
          "model_name": "ProgressStyleModel",
          "model_module_version": "1.5.0",
          "state": {
            "_model_module": "@jupyter-widgets/controls",
            "_model_module_version": "1.5.0",
            "_model_name": "ProgressStyleModel",
            "_view_count": null,
            "_view_module": "@jupyter-widgets/base",
            "_view_module_version": "1.2.0",
            "_view_name": "StyleView",
            "bar_color": null,
            "description_width": ""
          }
        },
        "37dcbe32f7ac4732b69a4c1e35f93999": {
          "model_module": "@jupyter-widgets/base",
          "model_name": "LayoutModel",
          "model_module_version": "1.2.0",
          "state": {
            "_model_module": "@jupyter-widgets/base",
            "_model_module_version": "1.2.0",
            "_model_name": "LayoutModel",
            "_view_count": null,
            "_view_module": "@jupyter-widgets/base",
            "_view_module_version": "1.2.0",
            "_view_name": "LayoutView",
            "align_content": null,
            "align_items": null,
            "align_self": null,
            "border": null,
            "bottom": null,
            "display": null,
            "flex": null,
            "flex_flow": null,
            "grid_area": null,
            "grid_auto_columns": null,
            "grid_auto_flow": null,
            "grid_auto_rows": null,
            "grid_column": null,
            "grid_gap": null,
            "grid_row": null,
            "grid_template_areas": null,
            "grid_template_columns": null,
            "grid_template_rows": null,
            "height": null,
            "justify_content": null,
            "justify_items": null,
            "left": null,
            "margin": null,
            "max_height": null,
            "max_width": null,
            "min_height": null,
            "min_width": null,
            "object_fit": null,
            "object_position": null,
            "order": null,
            "overflow": null,
            "overflow_x": null,
            "overflow_y": null,
            "padding": null,
            "right": null,
            "top": null,
            "visibility": null,
            "width": null
          }
        },
        "f44bfc4ea2074ea180e09dd057bdb1df": {
          "model_module": "@jupyter-widgets/controls",
          "model_name": "DescriptionStyleModel",
          "model_module_version": "1.5.0",
          "state": {
            "_model_module": "@jupyter-widgets/controls",
            "_model_module_version": "1.5.0",
            "_model_name": "DescriptionStyleModel",
            "_view_count": null,
            "_view_module": "@jupyter-widgets/base",
            "_view_module_version": "1.2.0",
            "_view_name": "StyleView",
            "description_width": ""
          }
        },
        "b5443b859283462ba4531a5ae75e1d6c": {
          "model_module": "@jupyter-widgets/controls",
          "model_name": "HBoxModel",
          "model_module_version": "1.5.0",
          "state": {
            "_dom_classes": [],
            "_model_module": "@jupyter-widgets/controls",
            "_model_module_version": "1.5.0",
            "_model_name": "HBoxModel",
            "_view_count": null,
            "_view_module": "@jupyter-widgets/controls",
            "_view_module_version": "1.5.0",
            "_view_name": "HBoxView",
            "box_style": "",
            "children": [
              "IPY_MODEL_efee6010ce764b86923e40c7e8eea6e8",
              "IPY_MODEL_7459e793fce14749b7e8a9f1fe6037fc",
              "IPY_MODEL_70b1a7e685aa416c8b21ac3eb05e42e7"
            ],
            "layout": "IPY_MODEL_85084378741a4c198e06ecc57cba9eae"
          }
        },
        "efee6010ce764b86923e40c7e8eea6e8": {
          "model_module": "@jupyter-widgets/controls",
          "model_name": "HTMLModel",
          "model_module_version": "1.5.0",
          "state": {
            "_dom_classes": [],
            "_model_module": "@jupyter-widgets/controls",
            "_model_module_version": "1.5.0",
            "_model_name": "HTMLModel",
            "_view_count": null,
            "_view_module": "@jupyter-widgets/controls",
            "_view_module_version": "1.5.0",
            "_view_name": "HTMLView",
            "description": "",
            "description_tooltip": null,
            "layout": "IPY_MODEL_28db79f58bb94483bfedcd744a2b20db",
            "placeholder": "​",
            "style": "IPY_MODEL_d033bbd51d914a6796bc12421450199a",
            "value": "Casting the dataset: 100%"
          }
        },
        "7459e793fce14749b7e8a9f1fe6037fc": {
          "model_module": "@jupyter-widgets/controls",
          "model_name": "FloatProgressModel",
          "model_module_version": "1.5.0",
          "state": {
            "_dom_classes": [],
            "_model_module": "@jupyter-widgets/controls",
            "_model_module_version": "1.5.0",
            "_model_name": "FloatProgressModel",
            "_view_count": null,
            "_view_module": "@jupyter-widgets/controls",
            "_view_module_version": "1.5.0",
            "_view_name": "ProgressView",
            "bar_style": "success",
            "description": "",
            "description_tooltip": null,
            "layout": "IPY_MODEL_9150c7697cfa41b69e69c7ddfe93e033",
            "max": 4772,
            "min": 0,
            "orientation": "horizontal",
            "style": "IPY_MODEL_a7c4b1e6ce2a4ebabaa2fba8657f79d4",
            "value": 4772
          }
        },
        "70b1a7e685aa416c8b21ac3eb05e42e7": {
          "model_module": "@jupyter-widgets/controls",
          "model_name": "HTMLModel",
          "model_module_version": "1.5.0",
          "state": {
            "_dom_classes": [],
            "_model_module": "@jupyter-widgets/controls",
            "_model_module_version": "1.5.0",
            "_model_name": "HTMLModel",
            "_view_count": null,
            "_view_module": "@jupyter-widgets/controls",
            "_view_module_version": "1.5.0",
            "_view_name": "HTMLView",
            "description": "",
            "description_tooltip": null,
            "layout": "IPY_MODEL_19b6182779d24145bddea9fddca3a3eb",
            "placeholder": "​",
            "style": "IPY_MODEL_63dfd25f109140e6b7ed5f2cc879af22",
            "value": " 4772/4772 [00:00&lt;00:00, 19682.77 examples/s]"
          }
        },
        "85084378741a4c198e06ecc57cba9eae": {
          "model_module": "@jupyter-widgets/base",
          "model_name": "LayoutModel",
          "model_module_version": "1.2.0",
          "state": {
            "_model_module": "@jupyter-widgets/base",
            "_model_module_version": "1.2.0",
            "_model_name": "LayoutModel",
            "_view_count": null,
            "_view_module": "@jupyter-widgets/base",
            "_view_module_version": "1.2.0",
            "_view_name": "LayoutView",
            "align_content": null,
            "align_items": null,
            "align_self": null,
            "border": null,
            "bottom": null,
            "display": null,
            "flex": null,
            "flex_flow": null,
            "grid_area": null,
            "grid_auto_columns": null,
            "grid_auto_flow": null,
            "grid_auto_rows": null,
            "grid_column": null,
            "grid_gap": null,
            "grid_row": null,
            "grid_template_areas": null,
            "grid_template_columns": null,
            "grid_template_rows": null,
            "height": null,
            "justify_content": null,
            "justify_items": null,
            "left": null,
            "margin": null,
            "max_height": null,
            "max_width": null,
            "min_height": null,
            "min_width": null,
            "object_fit": null,
            "object_position": null,
            "order": null,
            "overflow": null,
            "overflow_x": null,
            "overflow_y": null,
            "padding": null,
            "right": null,
            "top": null,
            "visibility": null,
            "width": null
          }
        },
        "28db79f58bb94483bfedcd744a2b20db": {
          "model_module": "@jupyter-widgets/base",
          "model_name": "LayoutModel",
          "model_module_version": "1.2.0",
          "state": {
            "_model_module": "@jupyter-widgets/base",
            "_model_module_version": "1.2.0",
            "_model_name": "LayoutModel",
            "_view_count": null,
            "_view_module": "@jupyter-widgets/base",
            "_view_module_version": "1.2.0",
            "_view_name": "LayoutView",
            "align_content": null,
            "align_items": null,
            "align_self": null,
            "border": null,
            "bottom": null,
            "display": null,
            "flex": null,
            "flex_flow": null,
            "grid_area": null,
            "grid_auto_columns": null,
            "grid_auto_flow": null,
            "grid_auto_rows": null,
            "grid_column": null,
            "grid_gap": null,
            "grid_row": null,
            "grid_template_areas": null,
            "grid_template_columns": null,
            "grid_template_rows": null,
            "height": null,
            "justify_content": null,
            "justify_items": null,
            "left": null,
            "margin": null,
            "max_height": null,
            "max_width": null,
            "min_height": null,
            "min_width": null,
            "object_fit": null,
            "object_position": null,
            "order": null,
            "overflow": null,
            "overflow_x": null,
            "overflow_y": null,
            "padding": null,
            "right": null,
            "top": null,
            "visibility": null,
            "width": null
          }
        },
        "d033bbd51d914a6796bc12421450199a": {
          "model_module": "@jupyter-widgets/controls",
          "model_name": "DescriptionStyleModel",
          "model_module_version": "1.5.0",
          "state": {
            "_model_module": "@jupyter-widgets/controls",
            "_model_module_version": "1.5.0",
            "_model_name": "DescriptionStyleModel",
            "_view_count": null,
            "_view_module": "@jupyter-widgets/base",
            "_view_module_version": "1.2.0",
            "_view_name": "StyleView",
            "description_width": ""
          }
        },
        "9150c7697cfa41b69e69c7ddfe93e033": {
          "model_module": "@jupyter-widgets/base",
          "model_name": "LayoutModel",
          "model_module_version": "1.2.0",
          "state": {
            "_model_module": "@jupyter-widgets/base",
            "_model_module_version": "1.2.0",
            "_model_name": "LayoutModel",
            "_view_count": null,
            "_view_module": "@jupyter-widgets/base",
            "_view_module_version": "1.2.0",
            "_view_name": "LayoutView",
            "align_content": null,
            "align_items": null,
            "align_self": null,
            "border": null,
            "bottom": null,
            "display": null,
            "flex": null,
            "flex_flow": null,
            "grid_area": null,
            "grid_auto_columns": null,
            "grid_auto_flow": null,
            "grid_auto_rows": null,
            "grid_column": null,
            "grid_gap": null,
            "grid_row": null,
            "grid_template_areas": null,
            "grid_template_columns": null,
            "grid_template_rows": null,
            "height": null,
            "justify_content": null,
            "justify_items": null,
            "left": null,
            "margin": null,
            "max_height": null,
            "max_width": null,
            "min_height": null,
            "min_width": null,
            "object_fit": null,
            "object_position": null,
            "order": null,
            "overflow": null,
            "overflow_x": null,
            "overflow_y": null,
            "padding": null,
            "right": null,
            "top": null,
            "visibility": null,
            "width": null
          }
        },
        "a7c4b1e6ce2a4ebabaa2fba8657f79d4": {
          "model_module": "@jupyter-widgets/controls",
          "model_name": "ProgressStyleModel",
          "model_module_version": "1.5.0",
          "state": {
            "_model_module": "@jupyter-widgets/controls",
            "_model_module_version": "1.5.0",
            "_model_name": "ProgressStyleModel",
            "_view_count": null,
            "_view_module": "@jupyter-widgets/base",
            "_view_module_version": "1.2.0",
            "_view_name": "StyleView",
            "bar_color": null,
            "description_width": ""
          }
        },
        "19b6182779d24145bddea9fddca3a3eb": {
          "model_module": "@jupyter-widgets/base",
          "model_name": "LayoutModel",
          "model_module_version": "1.2.0",
          "state": {
            "_model_module": "@jupyter-widgets/base",
            "_model_module_version": "1.2.0",
            "_model_name": "LayoutModel",
            "_view_count": null,
            "_view_module": "@jupyter-widgets/base",
            "_view_module_version": "1.2.0",
            "_view_name": "LayoutView",
            "align_content": null,
            "align_items": null,
            "align_self": null,
            "border": null,
            "bottom": null,
            "display": null,
            "flex": null,
            "flex_flow": null,
            "grid_area": null,
            "grid_auto_columns": null,
            "grid_auto_flow": null,
            "grid_auto_rows": null,
            "grid_column": null,
            "grid_gap": null,
            "grid_row": null,
            "grid_template_areas": null,
            "grid_template_columns": null,
            "grid_template_rows": null,
            "height": null,
            "justify_content": null,
            "justify_items": null,
            "left": null,
            "margin": null,
            "max_height": null,
            "max_width": null,
            "min_height": null,
            "min_width": null,
            "object_fit": null,
            "object_position": null,
            "order": null,
            "overflow": null,
            "overflow_x": null,
            "overflow_y": null,
            "padding": null,
            "right": null,
            "top": null,
            "visibility": null,
            "width": null
          }
        },
        "63dfd25f109140e6b7ed5f2cc879af22": {
          "model_module": "@jupyter-widgets/controls",
          "model_name": "DescriptionStyleModel",
          "model_module_version": "1.5.0",
          "state": {
            "_model_module": "@jupyter-widgets/controls",
            "_model_module_version": "1.5.0",
            "_model_name": "DescriptionStyleModel",
            "_view_count": null,
            "_view_module": "@jupyter-widgets/base",
            "_view_module_version": "1.2.0",
            "_view_name": "StyleView",
            "description_width": ""
          }
        },
        "189cf40c45234e459265ba49696be3ea": {
          "model_module": "@jupyter-widgets/controls",
          "model_name": "HBoxModel",
          "model_module_version": "1.5.0",
          "state": {
            "_dom_classes": [],
            "_model_module": "@jupyter-widgets/controls",
            "_model_module_version": "1.5.0",
            "_model_name": "HBoxModel",
            "_view_count": null,
            "_view_module": "@jupyter-widgets/controls",
            "_view_module_version": "1.5.0",
            "_view_name": "HBoxView",
            "box_style": "",
            "children": [
              "IPY_MODEL_02f8d19411e14b7f9ae8b366e6e48502",
              "IPY_MODEL_30ee0aaef9f44fe68243c24b3a39f221",
              "IPY_MODEL_bddf5f7d927d4eb6b2832c43298f1856"
            ],
            "layout": "IPY_MODEL_658da8a4ed2c480887ba063981507a4a"
          }
        },
        "02f8d19411e14b7f9ae8b366e6e48502": {
          "model_module": "@jupyter-widgets/controls",
          "model_name": "HTMLModel",
          "model_module_version": "1.5.0",
          "state": {
            "_dom_classes": [],
            "_model_module": "@jupyter-widgets/controls",
            "_model_module_version": "1.5.0",
            "_model_name": "HTMLModel",
            "_view_count": null,
            "_view_module": "@jupyter-widgets/controls",
            "_view_module_version": "1.5.0",
            "_view_name": "HTMLView",
            "description": "",
            "description_tooltip": null,
            "layout": "IPY_MODEL_ec53d2bb75e2481893b5311449560e26",
            "placeholder": "​",
            "style": "IPY_MODEL_74432326e11a47c28df3e09c1c550945",
            "value": "model.safetensors: 100%"
          }
        },
        "30ee0aaef9f44fe68243c24b3a39f221": {
          "model_module": "@jupyter-widgets/controls",
          "model_name": "FloatProgressModel",
          "model_module_version": "1.5.0",
          "state": {
            "_dom_classes": [],
            "_model_module": "@jupyter-widgets/controls",
            "_model_module_version": "1.5.0",
            "_model_name": "FloatProgressModel",
            "_view_count": null,
            "_view_module": "@jupyter-widgets/controls",
            "_view_module_version": "1.5.0",
            "_view_name": "ProgressView",
            "bar_style": "success",
            "description": "",
            "description_tooltip": null,
            "layout": "IPY_MODEL_ea89d2ca784b41e1973b7dd0680b4da6",
            "max": 267954768,
            "min": 0,
            "orientation": "horizontal",
            "style": "IPY_MODEL_c3cb384502e04ac19ccd150606d0f33a",
            "value": 267954768
          }
        },
        "bddf5f7d927d4eb6b2832c43298f1856": {
          "model_module": "@jupyter-widgets/controls",
          "model_name": "HTMLModel",
          "model_module_version": "1.5.0",
          "state": {
            "_dom_classes": [],
            "_model_module": "@jupyter-widgets/controls",
            "_model_module_version": "1.5.0",
            "_model_name": "HTMLModel",
            "_view_count": null,
            "_view_module": "@jupyter-widgets/controls",
            "_view_module_version": "1.5.0",
            "_view_name": "HTMLView",
            "description": "",
            "description_tooltip": null,
            "layout": "IPY_MODEL_ccc8ad2a35e4405f8dafe4f986b95813",
            "placeholder": "​",
            "style": "IPY_MODEL_c8efe15c7f034936b383f14606f4c75c",
            "value": " 268M/268M [00:02&lt;00:00, 68.0MB/s]"
          }
        },
        "658da8a4ed2c480887ba063981507a4a": {
          "model_module": "@jupyter-widgets/base",
          "model_name": "LayoutModel",
          "model_module_version": "1.2.0",
          "state": {
            "_model_module": "@jupyter-widgets/base",
            "_model_module_version": "1.2.0",
            "_model_name": "LayoutModel",
            "_view_count": null,
            "_view_module": "@jupyter-widgets/base",
            "_view_module_version": "1.2.0",
            "_view_name": "LayoutView",
            "align_content": null,
            "align_items": null,
            "align_self": null,
            "border": null,
            "bottom": null,
            "display": null,
            "flex": null,
            "flex_flow": null,
            "grid_area": null,
            "grid_auto_columns": null,
            "grid_auto_flow": null,
            "grid_auto_rows": null,
            "grid_column": null,
            "grid_gap": null,
            "grid_row": null,
            "grid_template_areas": null,
            "grid_template_columns": null,
            "grid_template_rows": null,
            "height": null,
            "justify_content": null,
            "justify_items": null,
            "left": null,
            "margin": null,
            "max_height": null,
            "max_width": null,
            "min_height": null,
            "min_width": null,
            "object_fit": null,
            "object_position": null,
            "order": null,
            "overflow": null,
            "overflow_x": null,
            "overflow_y": null,
            "padding": null,
            "right": null,
            "top": null,
            "visibility": null,
            "width": null
          }
        },
        "ec53d2bb75e2481893b5311449560e26": {
          "model_module": "@jupyter-widgets/base",
          "model_name": "LayoutModel",
          "model_module_version": "1.2.0",
          "state": {
            "_model_module": "@jupyter-widgets/base",
            "_model_module_version": "1.2.0",
            "_model_name": "LayoutModel",
            "_view_count": null,
            "_view_module": "@jupyter-widgets/base",
            "_view_module_version": "1.2.0",
            "_view_name": "LayoutView",
            "align_content": null,
            "align_items": null,
            "align_self": null,
            "border": null,
            "bottom": null,
            "display": null,
            "flex": null,
            "flex_flow": null,
            "grid_area": null,
            "grid_auto_columns": null,
            "grid_auto_flow": null,
            "grid_auto_rows": null,
            "grid_column": null,
            "grid_gap": null,
            "grid_row": null,
            "grid_template_areas": null,
            "grid_template_columns": null,
            "grid_template_rows": null,
            "height": null,
            "justify_content": null,
            "justify_items": null,
            "left": null,
            "margin": null,
            "max_height": null,
            "max_width": null,
            "min_height": null,
            "min_width": null,
            "object_fit": null,
            "object_position": null,
            "order": null,
            "overflow": null,
            "overflow_x": null,
            "overflow_y": null,
            "padding": null,
            "right": null,
            "top": null,
            "visibility": null,
            "width": null
          }
        },
        "74432326e11a47c28df3e09c1c550945": {
          "model_module": "@jupyter-widgets/controls",
          "model_name": "DescriptionStyleModel",
          "model_module_version": "1.5.0",
          "state": {
            "_model_module": "@jupyter-widgets/controls",
            "_model_module_version": "1.5.0",
            "_model_name": "DescriptionStyleModel",
            "_view_count": null,
            "_view_module": "@jupyter-widgets/base",
            "_view_module_version": "1.2.0",
            "_view_name": "StyleView",
            "description_width": ""
          }
        },
        "ea89d2ca784b41e1973b7dd0680b4da6": {
          "model_module": "@jupyter-widgets/base",
          "model_name": "LayoutModel",
          "model_module_version": "1.2.0",
          "state": {
            "_model_module": "@jupyter-widgets/base",
            "_model_module_version": "1.2.0",
            "_model_name": "LayoutModel",
            "_view_count": null,
            "_view_module": "@jupyter-widgets/base",
            "_view_module_version": "1.2.0",
            "_view_name": "LayoutView",
            "align_content": null,
            "align_items": null,
            "align_self": null,
            "border": null,
            "bottom": null,
            "display": null,
            "flex": null,
            "flex_flow": null,
            "grid_area": null,
            "grid_auto_columns": null,
            "grid_auto_flow": null,
            "grid_auto_rows": null,
            "grid_column": null,
            "grid_gap": null,
            "grid_row": null,
            "grid_template_areas": null,
            "grid_template_columns": null,
            "grid_template_rows": null,
            "height": null,
            "justify_content": null,
            "justify_items": null,
            "left": null,
            "margin": null,
            "max_height": null,
            "max_width": null,
            "min_height": null,
            "min_width": null,
            "object_fit": null,
            "object_position": null,
            "order": null,
            "overflow": null,
            "overflow_x": null,
            "overflow_y": null,
            "padding": null,
            "right": null,
            "top": null,
            "visibility": null,
            "width": null
          }
        },
        "c3cb384502e04ac19ccd150606d0f33a": {
          "model_module": "@jupyter-widgets/controls",
          "model_name": "ProgressStyleModel",
          "model_module_version": "1.5.0",
          "state": {
            "_model_module": "@jupyter-widgets/controls",
            "_model_module_version": "1.5.0",
            "_model_name": "ProgressStyleModel",
            "_view_count": null,
            "_view_module": "@jupyter-widgets/base",
            "_view_module_version": "1.2.0",
            "_view_name": "StyleView",
            "bar_color": null,
            "description_width": ""
          }
        },
        "ccc8ad2a35e4405f8dafe4f986b95813": {
          "model_module": "@jupyter-widgets/base",
          "model_name": "LayoutModel",
          "model_module_version": "1.2.0",
          "state": {
            "_model_module": "@jupyter-widgets/base",
            "_model_module_version": "1.2.0",
            "_model_name": "LayoutModel",
            "_view_count": null,
            "_view_module": "@jupyter-widgets/base",
            "_view_module_version": "1.2.0",
            "_view_name": "LayoutView",
            "align_content": null,
            "align_items": null,
            "align_self": null,
            "border": null,
            "bottom": null,
            "display": null,
            "flex": null,
            "flex_flow": null,
            "grid_area": null,
            "grid_auto_columns": null,
            "grid_auto_flow": null,
            "grid_auto_rows": null,
            "grid_column": null,
            "grid_gap": null,
            "grid_row": null,
            "grid_template_areas": null,
            "grid_template_columns": null,
            "grid_template_rows": null,
            "height": null,
            "justify_content": null,
            "justify_items": null,
            "left": null,
            "margin": null,
            "max_height": null,
            "max_width": null,
            "min_height": null,
            "min_width": null,
            "object_fit": null,
            "object_position": null,
            "order": null,
            "overflow": null,
            "overflow_x": null,
            "overflow_y": null,
            "padding": null,
            "right": null,
            "top": null,
            "visibility": null,
            "width": null
          }
        },
        "c8efe15c7f034936b383f14606f4c75c": {
          "model_module": "@jupyter-widgets/controls",
          "model_name": "DescriptionStyleModel",
          "model_module_version": "1.5.0",
          "state": {
            "_model_module": "@jupyter-widgets/controls",
            "_model_module_version": "1.5.0",
            "_model_name": "DescriptionStyleModel",
            "_view_count": null,
            "_view_module": "@jupyter-widgets/base",
            "_view_module_version": "1.2.0",
            "_view_name": "StyleView",
            "description_width": ""
          }
        },
        "40127888035a47948c4ba11c65dff382": {
          "model_module": "@jupyter-widgets/controls",
          "model_name": "VBoxModel",
          "model_module_version": "1.5.0",
          "state": {
            "_dom_classes": [],
            "_model_module": "@jupyter-widgets/controls",
            "_model_module_version": "1.5.0",
            "_model_name": "VBoxModel",
            "_view_count": null,
            "_view_module": "@jupyter-widgets/controls",
            "_view_module_version": "1.5.0",
            "_view_name": "VBoxView",
            "box_style": "",
            "children": [
              "IPY_MODEL_8c2e0a0cf6e94f9e9d828311ee7fda45",
              "IPY_MODEL_3eddfee016a94996aa294d196b4e8db9"
            ],
            "layout": "IPY_MODEL_73279354f01548e19648175e7c7d2f6f"
          }
        },
        "8c2e0a0cf6e94f9e9d828311ee7fda45": {
          "model_module": "@jupyter-widgets/controls",
          "model_name": "LabelModel",
          "model_module_version": "1.5.0",
          "state": {
            "_dom_classes": [],
            "_model_module": "@jupyter-widgets/controls",
            "_model_module_version": "1.5.0",
            "_model_name": "LabelModel",
            "_view_count": null,
            "_view_module": "@jupyter-widgets/controls",
            "_view_module_version": "1.5.0",
            "_view_name": "LabelView",
            "description": "",
            "description_tooltip": null,
            "layout": "IPY_MODEL_cfee317daaab49c88eebfd9515995184",
            "placeholder": "​",
            "style": "IPY_MODEL_96ec42cd4c1d45b1abac68fc3b5db2eb",
            "value": "0.028 MB of 0.028 MB uploaded\r"
          }
        },
        "3eddfee016a94996aa294d196b4e8db9": {
          "model_module": "@jupyter-widgets/controls",
          "model_name": "FloatProgressModel",
          "model_module_version": "1.5.0",
          "state": {
            "_dom_classes": [],
            "_model_module": "@jupyter-widgets/controls",
            "_model_module_version": "1.5.0",
            "_model_name": "FloatProgressModel",
            "_view_count": null,
            "_view_module": "@jupyter-widgets/controls",
            "_view_module_version": "1.5.0",
            "_view_name": "ProgressView",
            "bar_style": "",
            "description": "",
            "description_tooltip": null,
            "layout": "IPY_MODEL_1f437a9434d044318aaf7ef4c3298609",
            "max": 1,
            "min": 0,
            "orientation": "horizontal",
            "style": "IPY_MODEL_f24df6d550a9472cbb7072d891f14a94",
            "value": 1
          }
        },
        "73279354f01548e19648175e7c7d2f6f": {
          "model_module": "@jupyter-widgets/base",
          "model_name": "LayoutModel",
          "model_module_version": "1.2.0",
          "state": {
            "_model_module": "@jupyter-widgets/base",
            "_model_module_version": "1.2.0",
            "_model_name": "LayoutModel",
            "_view_count": null,
            "_view_module": "@jupyter-widgets/base",
            "_view_module_version": "1.2.0",
            "_view_name": "LayoutView",
            "align_content": null,
            "align_items": null,
            "align_self": null,
            "border": null,
            "bottom": null,
            "display": null,
            "flex": null,
            "flex_flow": null,
            "grid_area": null,
            "grid_auto_columns": null,
            "grid_auto_flow": null,
            "grid_auto_rows": null,
            "grid_column": null,
            "grid_gap": null,
            "grid_row": null,
            "grid_template_areas": null,
            "grid_template_columns": null,
            "grid_template_rows": null,
            "height": null,
            "justify_content": null,
            "justify_items": null,
            "left": null,
            "margin": null,
            "max_height": null,
            "max_width": null,
            "min_height": null,
            "min_width": null,
            "object_fit": null,
            "object_position": null,
            "order": null,
            "overflow": null,
            "overflow_x": null,
            "overflow_y": null,
            "padding": null,
            "right": null,
            "top": null,
            "visibility": null,
            "width": null
          }
        },
        "cfee317daaab49c88eebfd9515995184": {
          "model_module": "@jupyter-widgets/base",
          "model_name": "LayoutModel",
          "model_module_version": "1.2.0",
          "state": {
            "_model_module": "@jupyter-widgets/base",
            "_model_module_version": "1.2.0",
            "_model_name": "LayoutModel",
            "_view_count": null,
            "_view_module": "@jupyter-widgets/base",
            "_view_module_version": "1.2.0",
            "_view_name": "LayoutView",
            "align_content": null,
            "align_items": null,
            "align_self": null,
            "border": null,
            "bottom": null,
            "display": null,
            "flex": null,
            "flex_flow": null,
            "grid_area": null,
            "grid_auto_columns": null,
            "grid_auto_flow": null,
            "grid_auto_rows": null,
            "grid_column": null,
            "grid_gap": null,
            "grid_row": null,
            "grid_template_areas": null,
            "grid_template_columns": null,
            "grid_template_rows": null,
            "height": null,
            "justify_content": null,
            "justify_items": null,
            "left": null,
            "margin": null,
            "max_height": null,
            "max_width": null,
            "min_height": null,
            "min_width": null,
            "object_fit": null,
            "object_position": null,
            "order": null,
            "overflow": null,
            "overflow_x": null,
            "overflow_y": null,
            "padding": null,
            "right": null,
            "top": null,
            "visibility": null,
            "width": null
          }
        },
        "96ec42cd4c1d45b1abac68fc3b5db2eb": {
          "model_module": "@jupyter-widgets/controls",
          "model_name": "DescriptionStyleModel",
          "model_module_version": "1.5.0",
          "state": {
            "_model_module": "@jupyter-widgets/controls",
            "_model_module_version": "1.5.0",
            "_model_name": "DescriptionStyleModel",
            "_view_count": null,
            "_view_module": "@jupyter-widgets/base",
            "_view_module_version": "1.2.0",
            "_view_name": "StyleView",
            "description_width": ""
          }
        },
        "1f437a9434d044318aaf7ef4c3298609": {
          "model_module": "@jupyter-widgets/base",
          "model_name": "LayoutModel",
          "model_module_version": "1.2.0",
          "state": {
            "_model_module": "@jupyter-widgets/base",
            "_model_module_version": "1.2.0",
            "_model_name": "LayoutModel",
            "_view_count": null,
            "_view_module": "@jupyter-widgets/base",
            "_view_module_version": "1.2.0",
            "_view_name": "LayoutView",
            "align_content": null,
            "align_items": null,
            "align_self": null,
            "border": null,
            "bottom": null,
            "display": null,
            "flex": null,
            "flex_flow": null,
            "grid_area": null,
            "grid_auto_columns": null,
            "grid_auto_flow": null,
            "grid_auto_rows": null,
            "grid_column": null,
            "grid_gap": null,
            "grid_row": null,
            "grid_template_areas": null,
            "grid_template_columns": null,
            "grid_template_rows": null,
            "height": null,
            "justify_content": null,
            "justify_items": null,
            "left": null,
            "margin": null,
            "max_height": null,
            "max_width": null,
            "min_height": null,
            "min_width": null,
            "object_fit": null,
            "object_position": null,
            "order": null,
            "overflow": null,
            "overflow_x": null,
            "overflow_y": null,
            "padding": null,
            "right": null,
            "top": null,
            "visibility": null,
            "width": null
          }
        },
        "f24df6d550a9472cbb7072d891f14a94": {
          "model_module": "@jupyter-widgets/controls",
          "model_name": "ProgressStyleModel",
          "model_module_version": "1.5.0",
          "state": {
            "_model_module": "@jupyter-widgets/controls",
            "_model_module_version": "1.5.0",
            "_model_name": "ProgressStyleModel",
            "_view_count": null,
            "_view_module": "@jupyter-widgets/base",
            "_view_module_version": "1.2.0",
            "_view_name": "StyleView",
            "bar_color": null,
            "description_width": ""
          }
        }
      }
    }
  },
  "nbformat": 4,
  "nbformat_minor": 5
}