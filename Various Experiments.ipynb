{
  "cells": [
    {
      "cell_type": "code",
      "execution_count": null,
      "id": "TQYa6Cu7Wdod",
      "metadata": {
        "colab": {
          "base_uri": "https://localhost:8080/"
        },
        "id": "TQYa6Cu7Wdod",
        "outputId": "5381945c-3977-486a-e2cb-aad4a18ac911"
      },
      "outputs": [
        {
          "name": "stdout",
          "output_type": "stream",
          "text": [
            "Fri Nov 10 05:08:27 2023       \n",
            "+-----------------------------------------------------------------------------+\n",
            "| NVIDIA-SMI 525.105.17   Driver Version: 525.105.17   CUDA Version: 12.0     |\n",
            "|-------------------------------+----------------------+----------------------+\n",
            "| GPU  Name        Persistence-M| Bus-Id        Disp.A | Volatile Uncorr. ECC |\n",
            "| Fan  Temp  Perf  Pwr:Usage/Cap|         Memory-Usage | GPU-Util  Compute M. |\n",
            "|                               |                      |               MIG M. |\n",
            "|===============================+======================+======================|\n",
            "|   0  Tesla T4            Off  | 00000000:00:04.0 Off |                    0 |\n",
            "| N/A   44C    P8     9W /  70W |      0MiB / 15360MiB |      0%      Default |\n",
            "|                               |                      |                  N/A |\n",
            "+-------------------------------+----------------------+----------------------+\n",
            "                                                                               \n",
            "+-----------------------------------------------------------------------------+\n",
            "| Processes:                                                                  |\n",
            "|  GPU   GI   CI        PID   Type   Process name                  GPU Memory |\n",
            "|        ID   ID                                                   Usage      |\n",
            "|=============================================================================|\n",
            "|  No running processes found                                                 |\n",
            "+-----------------------------------------------------------------------------+\n"
          ]
        }
      ],
      "source": [
        "!nvidia-smi"
      ]
    },
    {
      "cell_type": "markdown",
      "id": "jUCip2ZWCASt",
      "metadata": {
        "id": "jUCip2ZWCASt"
      },
      "source": [
        "# <font color = 'pickle'>**Handling Long Sequence- Chunking** </font>"
      ]
    },
    {
      "cell_type": "markdown",
      "id": "fj41POPjrtzA",
      "metadata": {
        "id": "fj41POPjrtzA"
      },
      "source": [
        "## <font color = 'pickle'> **Setting up the Environment** </font>"
      ]
    },
    {
      "cell_type": "code",
      "execution_count": null,
      "id": "0d54de23-80e9-4e1b-816c-6f6916c92836",
      "metadata": {
        "colab": {
          "base_uri": "https://localhost:8080/"
        },
        "execution": {
          "iopub.execute_input": "2022-12-23T23:12:55.528562Z",
          "iopub.status.busy": "2022-12-23T23:12:55.528020Z",
          "iopub.status.idle": "2022-12-23T23:12:55.539182Z",
          "shell.execute_reply": "2022-12-23T23:12:55.538417Z",
          "shell.execute_reply.started": "2022-12-23T23:12:55.528532Z"
        },
        "id": "0d54de23-80e9-4e1b-816c-6f6916c92836",
        "outputId": "1cce070e-30d8-4fea-ffdc-b59cee49d169",
        "tags": []
      },
      "outputs": [
        {
          "name": "stdout",
          "output_type": "stream",
          "text": [
            "Drive already mounted at /content/drive; to attempt to forcibly remount, call drive.mount(\"/content/drive\", force_remount=True).\n"
          ]
        }
      ],
      "source": [
        "from pathlib import Path\n",
        "import sys\n",
        "if 'google.colab' in str(get_ipython()):\n",
        "    from google.colab import drive\n",
        "    drive.mount(\"/content/drive\")\n",
        "    !pip install datasets transformers evaluate wandb accelerate bitsandbytes -U -qq\n",
        "    base_folder = Path(\"/content/drive/MyDrive/\")\n",
        "\n",
        "\n",
        "from transformers import AutoConfig, AutoModelForSequenceClassification, AutoTokenizer, Trainer, TrainingArguments\n",
        "from transformers import AutoTokenizer, DataCollatorWithPadding, pipeline\n",
        "from datasets import load_dataset, DatasetDict, Dataset, ClassLabel\n",
        "import evaluate\n",
        "\n",
        "import torch\n",
        "from torch.utils.data import DataLoader\n",
        "\n",
        "import wandb\n",
        "\n",
        "import numpy as np\n",
        "from sklearn.metrics import ConfusionMatrixDisplay\n",
        "import matplotlib.pyplot as plt\n",
        "import random\n",
        "\n",
        "import textwrap\n",
        "import warnings\n",
        "warnings.filterwarnings('ignore')\n",
        "\n",
        "# CHANGE FOLDERS TO WHERE YOU WANT TO SAVE DATA AND MODELS\n",
        "data_folder = base_folder/'data'\n",
        "model_folder = base_folder/'/models'\n",
        "model_folder.mkdir(exist_ok=True)"
      ]
    },
    {
      "cell_type": "markdown",
      "id": "O_xxXoyw_2x1",
      "metadata": {
        "id": "O_xxXoyw_2x1"
      },
      "source": [
        "## <font color = 'pickle'> **Function to Load Dataset**"
      ]
    },
    {
      "cell_type": "code",
      "execution_count": null,
      "id": "Ai7w4rzASYS1",
      "metadata": {
        "id": "Ai7w4rzASYS1"
      },
      "outputs": [],
      "source": [
        "def load_custom_dataset(data_path, label_columns_name, text_column_name, class_names=None):\n",
        "    from datasets import load_dataset\n",
        "    dataset = load_dataset('csv', data_files=str(data_path))\n",
        "    selected_columns = {\n",
        "    'text': dataset['train'][text_column_name],\n",
        "    'label': dataset['train'][label_columns_name]\n",
        "    }\n",
        "\n",
        "    # Create a new dataset with the selected columns\n",
        "    dataset_selected_columns = Dataset.from_dict(selected_columns)\n",
        "    dataset_selected_columns.set_format(type='pandas')\n",
        "    df = dataset_selected_columns[:]\n",
        "    df['text'] = df['text'].fillna('')\n",
        "    dataset_selected_columns=dataset_selected_columns.from_pandas(df)\n",
        "\n",
        "    # 1. Compute the class frequencies:\n",
        "    class_weights = df['label'].value_counts(normalize=True, sort=False)\n",
        "\n",
        "    # 2. Sort weights by index (i.e., by label):\n",
        "    class_weights = class_weights.sort_index()\n",
        "\n",
        "    # 3. Compute the inverse of the class frequencies:\n",
        "    class_weights = 1/class_weights\n",
        "\n",
        "    # 4. Normalize the weights so they sum up to 1 (this step is optional but can be useful):\n",
        "    class_weights = class_weights / class_weights.sum()\n",
        "\n",
        "    # 5. Convert the weights to a PyTorch tensor:\n",
        "    class_tensor_weights = torch.tensor(class_weights.values, dtype=torch.float)\n",
        "\n",
        "    if class_names:\n",
        "        dataset_selected_columns = dataset_selected_columns.cast_column('label', ClassLabel(names = class_names))\n",
        "\n",
        "    def filter_long_samples(example):\n",
        "        return len(example['text'].split()) > 400\n",
        "\n",
        "    stack_selected_columns_long = dataset_selected_columns.filter(filter_long_samples)\n",
        "    return stack_selected_columns_long, class_tensor_weights\n"
      ]
    },
    {
      "cell_type": "markdown",
      "id": "b906904c-8f24-4de0-8e07-720863e8cd99",
      "metadata": {
        "id": "b906904c-8f24-4de0-8e07-720863e8cd99"
      },
      "source": [
        "## <font color = 'pickle'> **Function to Split Dataset**\n",
        "    \n"
      ]
    },
    {
      "cell_type": "code",
      "execution_count": null,
      "id": "1JpTLLoCvuAY",
      "metadata": {
        "id": "1JpTLLoCvuAY"
      },
      "outputs": [],
      "source": [
        "def split_dataset(dataset, train_size, val_size, test_size):\n",
        "    test_val_splits = dataset.train_test_split(train_size=train_size, seed=42, stratify_by_column='label')\n",
        "    train_split= test_val_splits['train']\n",
        "    test_size_new =test_size/(test_size + val_size)\n",
        "    test_val_splits = test_val_splits['test'].train_test_split(test_size=test_size_new, seed=42, stratify_by_column='label')\n",
        "    val_split = test_val_splits['train']\n",
        "    test_split = test_val_splits['test']\n",
        "\n",
        "    train_val_dataset = DatasetDict({'train': train_split, 'val': val_split})\n",
        "    test_dataset = DatasetDict({'test': test_split})\n",
        "\n",
        "    return train_val_dataset, test_dataset"
      ]
    },
    {
      "cell_type": "markdown",
      "id": "iufKo_6FUnPC",
      "metadata": {
        "id": "iufKo_6FUnPC"
      },
      "source": [
        "## <font color = 'pickle'> **Function to Create Small Subset**\n",
        "    \n"
      ]
    },
    {
      "cell_type": "code",
      "execution_count": null,
      "id": "SXSbzn9ZUrQ2",
      "metadata": {
        "id": "SXSbzn9ZUrQ2"
      },
      "outputs": [],
      "source": [
        "def get_small_subset(train_val_dataset, test_dataset, train_size, val_size, test_size):\n",
        "    train_split_small = train_val_dataset['train'].shuffle(seed=42).select(range(train_size))\n",
        "    val_split_small = train_val_dataset['val'].shuffle(seed=42).select(range(val_size))\n",
        "    test_split_small = test_dataset['test'].shuffle(seed=42).select(range(test_size))\n",
        "\n",
        "    # combine train, val splits into one dataset\n",
        "    train_val_subset = DatasetDict({'train': train_split_small, 'val': val_split_small})\n",
        "\n",
        "    # create test dataset from test split\n",
        "    test_subset= DatasetDict({'test': test_split_small})\n",
        "\n",
        "    return train_val_subset, test_subset"
      ]
    },
    {
      "cell_type": "markdown",
      "id": "U0npnJr3ThBa",
      "metadata": {
        "id": "U0npnJr3ThBa"
      },
      "source": [
        "## <font color = 'pickle'> **Function to Create Datasets**\n",
        "    \n"
      ]
    },
    {
      "cell_type": "code",
      "execution_count": null,
      "id": "LJQ7cIR4Tgef",
      "metadata": {
        "id": "LJQ7cIR4Tgef"
      },
      "outputs": [],
      "source": [
        "def setup_dataset(data_folder, class_names):\n",
        "\n",
        "    # Constants for loading and splitting\n",
        "    data_path = data_folder / 'multiclass_basic_clean.csv'\n",
        "    label_columns_name = 'Tag_Number_final'\n",
        "    text_column_name = 'basic_cleaned_text'\n",
        "\n",
        "    # 1. Load Dataset\n",
        "    dataset,class_tensor_weights = load_custom_dataset(data_path, label_columns_name, text_column_name, class_names=class_names)\n",
        "\n",
        "    # 2. Split Dataset\n",
        "    train_val_dataset, test_dataset = split_dataset(dataset, train_size=0.8, val_size=0.1, test_size=0.1)\n",
        "\n",
        "    # 3. Get Small Balanced Subset\n",
        "    train_val_subset, test_subset = get_small_subset(train_val_dataset, test_dataset,50,50,50)\n",
        "\n",
        "    return train_val_dataset, test_dataset, class_tensor_weights ,train_val_subset, test_subset"
      ]
    },
    {
      "cell_type": "markdown",
      "id": "YCc8HW0xWnC0",
      "metadata": {
        "id": "YCc8HW0xWnC0"
      },
      "source": [
        "## <font color = 'pickle'> **Function for Custom Collate**\n",
        "    \n"
      ]
    },
    {
      "cell_type": "code",
      "execution_count": null,
      "id": "2szCrLgFWunF",
      "metadata": {
        "id": "2szCrLgFWunF"
      },
      "outputs": [],
      "source": [
        "def collate_function(batch, tokenizer, max_length, stride):\n",
        "\n",
        "\n",
        "    text_batch = [item.get('text','') for item in batch]\n",
        "\n",
        "    # Check if any of the batch items has 'label', if so process labels.\n",
        "    if all('label' in item for item in batch):\n",
        "        label_batch = [item['label'] for item in batch]\n",
        "        doc_labels = torch.tensor(label_batch, dtype=torch.long)\n",
        "    else:\n",
        "        doc_labels = None\n",
        "\n",
        "\n",
        "    # Tokenize the batch of texts\n",
        "    tokenized = tokenizer(text_batch,\n",
        "                          padding='longest',\n",
        "                          truncation=True,\n",
        "                          return_tensors='pt',\n",
        "                          max_length=max_length,\n",
        "                          return_overflowing_tokens=True,\n",
        "                          stride=stride)\n",
        "\n",
        "    # Flatten the chunks if necessary using overflow_to_sample_mapping\n",
        "    overflow_to_sample_mapping = tokenized.get(\"overflow_to_sample_mapping\", None)\n",
        "\n",
        "    result = {\n",
        "        **tokenized,\n",
        "        \"overflow_to_sample_mapping\": overflow_to_sample_mapping,\n",
        "    }\n",
        "\n",
        "    # Repeat labels for the chunks based on overflow_to_sample_mapping, only if labels are present\n",
        "    if doc_labels is not None and overflow_to_sample_mapping is not None:\n",
        "        labels = doc_labels[overflow_to_sample_mapping]\n",
        "        result[\"labels\"] = labels\n",
        "        result[\"doc_labels\"] = doc_labels\n",
        "\n",
        "    return result"
      ]
    },
    {
      "cell_type": "markdown",
      "id": "YxcZxe8aWYf0",
      "metadata": {
        "id": "YxcZxe8aWYf0"
      },
      "source": [
        "## <font color = 'pickle'> **Function to Initialize Model**\n",
        "    \n"
      ]
    },
    {
      "cell_type": "code",
      "execution_count": null,
      "id": "jkBK5aUUWYXj",
      "metadata": {
        "id": "jkBK5aUUWYXj"
      },
      "outputs": [],
      "source": [
        "def initialize_model(checkpoint, class_names):\n",
        "    config = AutoConfig.from_pretrained(checkpoint)\n",
        "    id2label = {}\n",
        "    for id_, label_ in enumerate(class_names):\n",
        "        id2label[str(id_)] = label_\n",
        "\n",
        "    label2id = {}\n",
        "    for id_, label_ in enumerate(class_names):\n",
        "        label2id[label_] = id_\n",
        "\n",
        "    config.id2label = id2label\n",
        "    config.label2id = label2id\n",
        "\n",
        "    model = AutoModelForSequenceClassification.from_pretrained(checkpoint, config=config)\n",
        "    return model"
      ]
    },
    {
      "cell_type": "markdown",
      "id": "FKLEmWwqY4yL",
      "metadata": {
        "id": "FKLEmWwqY4yL"
      },
      "source": [
        "## <font color = 'pickle'> **Subclass Trainer**\n",
        "    \n"
      ]
    },
    {
      "cell_type": "code",
      "execution_count": null,
      "id": "pr5GhmogYzze",
      "metadata": {
        "id": "pr5GhmogYzze"
      },
      "outputs": [],
      "source": [
        "from transformers import Trainer\n",
        "import torch\n",
        "import torch.nn as nn\n",
        "from transformers.trainer_utils import EvalPrediction\n",
        "import torch.nn.functional as F\n",
        "\n",
        "class CustomTrainer(Trainer):\n",
        "    def __init__(self, *args, loss_type=\"average_log_probs\", class_weights=None, **kwargs):\n",
        "        super(CustomTrainer, self).__init__(*args, **kwargs)\n",
        "        self.loss_type = loss_type\n",
        "        self.class_weights = class_weights\n",
        "        if self.class_weights is not None:\n",
        "            self.class_weights = self.class_weights.to(self.model.device)\n",
        "        self.nll_loss = nn.NLLLoss(weight=self.class_weights)\n",
        "\n",
        "    def compute_loss(self, model, inputs, return_outputs=False):\n",
        "        labels = inputs[\"labels\"]\n",
        "        overflow_to_sample_mapping = inputs.pop(\"overflow_to_sample_mapping\", None)\n",
        "        doc_labels = inputs.pop(\"doc_labels\", None)\n",
        "        logits = model(**inputs).logits\n",
        "\n",
        "        # convert logits to log probabilities, probabilities\n",
        "        log_probabilities = F.log_softmax(logits, dim=-1)\n",
        "        probabilities = F.softmax(logits, dim=-1)\n",
        "\n",
        "        # Number of unique documents and chunks\n",
        "        num_docs = doc_labels.size(0)\n",
        "        num_chunks = overflow_to_sample_mapping.size(0)\n",
        "\n",
        "        # Ensure overflow_to_sample_mapping is on the same device as doc_labels\n",
        "        overflow_to_sample_mapping = overflow_to_sample_mapping.to(doc_labels.device)\n",
        "\n",
        "        # Create a tensor representing each unique doc\n",
        "        unique_docs = torch.arange(num_docs).to(doc_labels.device)\n",
        "\n",
        "        # Create the mask\n",
        "        mask = overflow_to_sample_mapping[:, None] == unique_docs[None, :]\n",
        "\n",
        "        if self.loss_type == \"average_log_probs\":\n",
        "            avg_log_probs = (log_probabilities[:, None, :] * mask.unsqueeze(-1).float()).sum(0) / mask.sum(0, keepdim=True).T\n",
        "            loss = self.nll_loss(avg_log_probs, doc_labels)\n",
        "\n",
        "        elif self.loss_type == \"average_probs\":\n",
        "            avg_probs = (probabilities[:, None, :] * mask.unsqueeze(-1).float()).sum(0) / mask.sum(0, keepdim=True).T\n",
        "            avg_log_probs = torch.log(avg_probs)\n",
        "            loss = self.nll_loss(avg_log_probs, doc_labels)\n",
        "\n",
        "        elif self.loss_type == \"max\":\n",
        "            max_values = torch.where(mask.unsqueeze(-1), log_probabilities[:, None, :], torch.tensor(float('-inf'), device=log_probabilities.device))\n",
        "            max_log_probs = max_values.max(dim=0).values\n",
        "            loss = self.nll_loss(max_log_probs, doc_labels)\n",
        "\n",
        "        elif self.loss_type == \"loss_per_chunk\":\n",
        "            loss = self.nll_loss(log_probabilities, labels.view(-1))\n",
        "\n",
        "        else:\n",
        "            raise ValueError(f\"Unsupported loss_type: {self.loss_type}\")\n",
        "\n",
        "        return (loss, logits) if return_outputs else loss"
      ]
    },
    {
      "cell_type": "markdown",
      "id": "rd-9WXFVYPZv",
      "metadata": {
        "id": "rd-9WXFVYPZv"
      },
      "source": [
        "## <font color = 'pickle'> **Function for Aggregate Prediction**\n",
        "    \n"
      ]
    },
    {
      "cell_type": "code",
      "execution_count": null,
      "id": "z1tY_4UXYMqX",
      "metadata": {
        "id": "z1tY_4UXYMqX"
      },
      "outputs": [],
      "source": [
        "import numpy as np\n",
        "from scipy.special import softmax\n",
        "from scipy.special import logsumexp\n",
        "\n",
        "def stable_log_softmax(x):\n",
        "    # Subtract the max for numerical stability along the last axis (axis=-1)\n",
        "    x_max = np.max(x, axis=-1, keepdims=True)\n",
        "    # Use logsumexp for better numerical stability\n",
        "    log_softmax = x - x_max - logsumexp(x - x_max, axis=-1, keepdims=True)\n",
        "    return log_softmax\n",
        "\n",
        "\n",
        "def aggregate_predictions (logits, aggregation_method, overflow_to_sample_mapping):\n",
        "\n",
        "    probabilities = softmax(logits, axis=-1)\n",
        "    log_probabilities = stable_log_softmax(logits)\n",
        "\n",
        "    # print('log_probs', log_probabilities.shape)\n",
        "    # print('overflow_to_sample_mapping', overflow_to_sample_mapping.shape)\n",
        "\n",
        "    # Get unique documents\n",
        "\n",
        "    unique_docs, inverse_indices = np.unique(overflow_to_sample_mapping, return_inverse=True)\n",
        "    num_docs = unique_docs.size\n",
        "\n",
        "    # Create a mask for documents\n",
        "    mask = overflow_to_sample_mapping[:, None] == unique_docs[None, :]\n",
        "\n",
        "    # Initialize the aggregated_predictions variable\n",
        "    aggregated_predictions = None\n",
        "\n",
        "    if aggregation_method == \"average_log_probs\":\n",
        "        # Compute average probabilities using NumPy\n",
        "        avg_log_probs = (log_probabilities[:, None, :] * mask[:, :, None].astype(float)).sum(axis=0) / mask.sum(axis=0, keepdims=True).transpose((1, 0))\n",
        "        aggregated_predictions = np.argmax(avg_log_probs, axis=-1)\n",
        "        scores = np.exp(avg_log_probs.max(axis=-1))\n",
        "\n",
        "    elif aggregation_method == \"average_probs\":\n",
        "        # Compute average probabilities using NumPy\n",
        "        avg_probs = (probabilities[:, None, :] * mask[:, :, None].astype(float)).sum(axis=0) / mask.sum(axis=0, keepdims=True).transpose((1, 0))\n",
        "        aggregated_predictions = np.argmax(avg_probs, axis=-1)\n",
        "        scores  = avg_probs.max(axis=-1)\n",
        "\n",
        "    elif aggregation_method == \"max_probs\":\n",
        "        # Compute max probabilities per document\n",
        "        max_values = np.where(mask[:, :, None], log_probabilities[:, None, :], float('-inf'))\n",
        "        max_log_probs = np.max(max_values, axis=0)\n",
        "        aggregated_predictions = np.argmax(max_log_probs, axis=-1)\n",
        "        scores = np.exp(max_log_probs.max(axis=-1))\n",
        "\n",
        "    elif aggregation_method == \"majority_vote\":\n",
        "        # Convert logits to actual predictions before voting\n",
        "        predictions = np.argmax(logits, axis=1)\n",
        "        # Tally the votes for each document\n",
        "        vote_tally = np.zeros((num_docs, logits.shape[-1]), dtype=int)\n",
        "        np.add.at(vote_tally, overflow_to_sample_mapping, np.eye(logits.shape[-1], dtype=int)[predictions])\n",
        "        # Determine the majority vote for each document\n",
        "        aggregated_predictions = np.argmax(vote_tally, axis=1)\n",
        "        scores = vote_tally.max(axis=-1) / vote_tally.sum(axis=-1)\n",
        "    else:\n",
        "        raise ValueError(f\"Unsupported aggregation_method: {aggregation_method}\")\n",
        "\n",
        "    # # Calculate evaluation metrics using document-level labels\n",
        "    # metrics = evaluate.combine([\n",
        "    #     evaluate.load(\"accuracy\"),\n",
        "    #     evaluate.load(\"f1\", average=\"macro\")\n",
        "    # ])\n",
        "    # evaluations = metrics.compute(predictions=aggregated_predictions, references=doc_labels)\n",
        "\n",
        "    # return evaluations\n",
        "\n",
        "    return aggregated_predictions, scores\n"
      ]
    },
    {
      "cell_type": "markdown",
      "id": "vcfb6OCAfRNz",
      "metadata": {
        "id": "vcfb6OCAfRNz"
      },
      "source": [
        "## <font color = 'pickle'> **Function for Evaluation**\n",
        "    \n"
      ]
    },
    {
      "cell_type": "code",
      "execution_count": null,
      "id": "IOzWvTmufOgK",
      "metadata": {
        "id": "IOzWvTmufOgK"
      },
      "outputs": [],
      "source": [
        "from torch.utils.data import DataLoader\n",
        "from transformers import PreTrainedModel\n",
        "from evaluate import load\n",
        "\n",
        "def evaluate_model(dataloader: DataLoader, model: PreTrainedModel, metric_only: bool = True, aggregation_method: str ='average_log_probs'):\n",
        "    # Load the accuracy metric\n",
        "    accuracy_metric = load(\"accuracy\")\n",
        "    f1_macro_metric = load(\"f1\")\n",
        "    f1_weighted_metric = load(\"f1\")\n",
        "    device = 'cuda' if torch.cuda.is_available() else 'cpu'\n",
        "    model = model.to(device=device)\n",
        "\n",
        "    predictions = []\n",
        "    all_doc_labels = []\n",
        "\n",
        "    # Loop over batches\n",
        "    for batch in dataloader:\n",
        "        model.eval()\n",
        "        doc_labels = batch.pop(\"doc_labels\", None).cpu().numpy()\n",
        "        overflow_to_sample_mapping = batch.pop(\"overflow_to_sample_mapping\", None).cpu().numpy()\n",
        "        batch = {k: v.to(device) for k, v in batch.items()}\n",
        "\n",
        "        with torch.no_grad():\n",
        "            outputs = model(**batch)\n",
        "            logits = outputs.logits.cpu().numpy()\n",
        "            aggregated_predictions, scores = aggregate_predictions(logits=logits,\n",
        "                                                            aggregation_method=aggregation_method,\n",
        "                                                            overflow_to_sample_mapping=overflow_to_sample_mapping)\n",
        "\n",
        "            accuracy_metric.add_batch(predictions=aggregated_predictions, references=doc_labels)\n",
        "            f1_macro_metric.add_batch(predictions=aggregated_predictions, references=doc_labels)\n",
        "            f1_weighted_metric.add_batch(predictions=aggregated_predictions, references=doc_labels)\n",
        "            if not metric_only:\n",
        "                predictions.extend(aggregated_predictions)\n",
        "                all_doc_labels.extend(doc_labels)\n",
        "\n",
        "    # Calculate and return the final accuracy.\n",
        "    final_accuracy = accuracy_metric.compute()['accuracy']\n",
        "    f1_macro = f1_macro_metric.compute(average = 'macro')['f1']\n",
        "    f1_weighted = f1_weighted_metric.compute(average = 'weighted')['f1']\n",
        "\n",
        "    metrics = {\n",
        "        \"accuracy\": final_accuracy,\n",
        "        \"f1_macro\": f1_macro,\n",
        "        \"f1_weighted\": f1_weighted\n",
        "        }\n",
        "\n",
        "    if metric_only:\n",
        "        return metrics\n",
        "    else:\n",
        "        return metrics, predictions, all_doc_labels"
      ]
    },
    {
      "cell_type": "markdown",
      "id": "MfP2PXzrfs40",
      "metadata": {
        "id": "MfP2PXzrfs40"
      },
      "source": [
        "## <font color = 'pickle'> **Function to plot confusion matrix**\n",
        "    \n"
      ]
    },
    {
      "cell_type": "code",
      "execution_count": null,
      "id": "vVRD4Sy7fqto",
      "metadata": {
        "id": "vVRD4Sy7fqto"
      },
      "outputs": [],
      "source": [
        "from sklearn.metrics import confusion_matrix\n",
        "import matplotlib.pyplot as plt\n",
        "import seaborn as sns\n",
        "%matplotlib inline\n",
        "\n",
        "def log_and_plot_confusion_matrix(val_labels, val_predictions, class_names):\n",
        "    cm = confusion_matrix(val_labels, val_predictions,normalize='true')\n",
        "\n",
        "    # Plotting the confusion matrix\n",
        "    plt.figure(figsize=(8,6))\n",
        "    ax= sns.heatmap(cm, annot=True, fmt=\".2f\", cmap=\"Blues\", xticklabels=class_names, yticklabels=class_names)\n",
        "    # Ensure x-labels are vertical\n",
        "    ax.set_xticklabels(ax.get_xticklabels(), rotation=45)\n",
        "\n",
        "    # Ensure y-labels are horizontal\n",
        "    ax.set_yticklabels(ax.get_yticklabels(), rotation=0)\n",
        "    plt.xlabel('Predicted Labels')\n",
        "    plt.ylabel('True Labels')\n",
        "    plt.title('Confusion Matrix')\n",
        "    plt.show()"
      ]
    },
    {
      "cell_type": "markdown",
      "id": "neK0Ye_If0cG",
      "metadata": {
        "id": "neK0Ye_If0cG"
      },
      "source": [
        "## <font color = 'pickle'> **Function to free memory**\n",
        "    \n"
      ]
    },
    {
      "cell_type": "code",
      "execution_count": null,
      "id": "7200c892",
      "metadata": {
        "id": "7200c892"
      },
      "outputs": [],
      "source": [
        "import gc\n",
        "def free_memory():\n",
        "    \"\"\"\n",
        "    Attempts to free up memory by deleting variables and running Python's garbage collector.\n",
        "    \"\"\"\n",
        "    gc.collect()\n",
        "    for device_id in range(torch.cuda.device_count()):\n",
        "        torch.cuda.set_device(device_id)\n",
        "        torch.cuda.empty_cache()\n",
        "    gc.collect()\n"
      ]
    },
    {
      "cell_type": "markdown",
      "id": "7cef1674",
      "metadata": {
        "id": "7cef1674"
      },
      "source": [
        "## Function to tokenize dataset and, train and eval models"
      ]
    },
    {
      "cell_type": "code",
      "execution_count": null,
      "id": "VL7o6EzsfZnZ",
      "metadata": {
        "id": "VL7o6EzsfZnZ"
      },
      "outputs": [],
      "source": [
        "from functools import partial\n",
        "def tokenize_train_evaluate_log(training_args, checkpoint, base_folder,\n",
        "                                train_val_subset, class_tensor_weights):\n",
        "    # 1. Free memory\n",
        "    free_memory()\n",
        "\n",
        "    # 2. Setup wandb\n",
        "    wandb.login()\n",
        "    %env WANDB_PROJECT = nlp_course-HW7-Part-B\n",
        "\n",
        "    ######################## ALLOWED TO CHANGE THIS BLOCK ################################################\n",
        "\n",
        "    # MAKE SURE THE BASE FOLDER IS SETUP CORRECTLY\n",
        "    #  YOU CAN CHANGE THIS LINE IF YOU WANT TO SAVE IN A DIFFERENT FOLDER\n",
        "\n",
        "    model_folder = base_folder/'models/stack/checkpoint'\n",
        "    model_folder.mkdir(exist_ok=True,parents=True)\n",
        "\n",
        "    ######################## ALLOWED TO CHANGE THIS BLOCK ################################################\n",
        "\n",
        "\n",
        "    # 4. Initialize Model and Tokenizer\n",
        "    model = initialize_model(checkpoint, class_names)\n",
        "    tokenizer = AutoTokenizer.from_pretrained(checkpoint)\n",
        "\n",
        "    # 5. Initialize Trainer\n",
        "    collate_fn = partial(collate_function, tokenizer=tokenizer,max_length = 512, stride = 100)\n",
        "    trainer = CustomTrainer(\n",
        "        loss_type = \"average_log_probs\",\n",
        "        # loss_type = \"average_probs\",\n",
        "        # loss_type = \"max\",\n",
        "        # loss_type = \"loss_per_chunk\",\n",
        "        class_weights=class_tensor_weights,\n",
        "        model=model,\n",
        "        args=training_args,\n",
        "        train_dataset=train_val_subset[\"train\"],\n",
        "        eval_dataset=train_val_subset[\"val\"],\n",
        "        data_collator=collate_fn,\n",
        "        tokenizer=tokenizer,\n",
        "        )\n",
        "\n",
        "    # 6. Train and Evaluate\n",
        "    trainer.train()\n",
        "    train_metrics = evaluate_model(trainer.get_test_dataloader(train_val_subset['train']), model, metric_only=True)\n",
        "    val_metrics, val_predictions, val_labels = evaluate_model(trainer.get_test_dataloader(train_val_subset['train']), model, metric_only=False)\n",
        "\n",
        "    # 7. Log Metrics and Plot\n",
        "    log_and_plot_confusion_matrix(val_labels, val_predictions, class_names)\n",
        "    # log the Confusion Matrix to Wandb\n",
        "    wandb.log({\"conf_mat\": wandb.plot.confusion_matrix(preds=val_predictions, y_true=val_labels,class_names=class_names)})\n",
        "\n",
        "    print(f\"Train Metrics: {train_metrics}\")\n",
        "    print(f\"Validation Metrics: {val_metrics}\")\n",
        "\n",
        "    # best_model_checkpoint_step = trainer.state.best_model_checkpoint.split('-')[-1]\n",
        "    # wandb.log({\"best_model_checkpoint_step\": best_model_checkpoint_step})\n",
        "    # print(f\"The best model was saved at step {best_model_checkpoint_step}.\")\n",
        "\n",
        "    wandb.finish()\n"
      ]
    },
    {
      "cell_type": "markdown",
      "id": "648be75c",
      "metadata": {
        "id": "648be75c"
      },
      "source": [
        "## Initial Training Arguments\n",
        "\n",
        "DO NOT CHANGE ANY ARGUMENTS"
      ]
    },
    {
      "cell_type": "code",
      "execution_count": null,
      "id": "a81746c2",
      "metadata": {
        "id": "a81746c2"
      },
      "outputs": [],
      "source": [
        "# Configure training parameters\n",
        "training_args = TrainingArguments(\n",
        "    # Training-specific configurations\n",
        "    num_train_epochs=2,  # Total number of training epochs\n",
        "    # Number of samples per training batch for each device\n",
        "    per_device_train_batch_size=8,\n",
        "    # Number of samples per evaluation batch for each device\n",
        "    per_device_eval_batch_size=8,\n",
        "    gradient_accumulation_steps=4,\n",
        "    weight_decay=0.01,  # Apply L2 regularization to prevent overfitting\n",
        "    learning_rate=2e-5,  # Step size for the optimizer during training\n",
        "    optim='adamw_torch',  # Optimizer,\n",
        "    fp16= True, # Use mixed precision training for memroy optimization\n",
        "    # argument for EvalPred to include inputs and outputs\n",
        "    remove_unused_columns=False,\n",
        "    gradient_checkpointing=True,\n",
        "    # torch_compile=True,\n",
        "\n",
        "\n",
        "    # Checkpoint saving and model evaluation settings\n",
        "    output_dir=str(model_folder),  # Directory to save model checkpoints\n",
        "    evaluation_strategy='steps',  # Evaluate model at specified step intervals\n",
        "    eval_steps=20,  # Perform evaluation every 20 training steps\n",
        "    # save_strategy=\"steps\",  # Save model checkpoint at specified step intervals\n",
        "    # save_steps=50,  # Save a model checkpoint every 20 training steps\n",
        "    # load_best_model_at_end=True,  # Reload the best model at the end of training\n",
        "    # save_total_limit=1, # Retain only the best and the most recent model checkpoints\n",
        "\n",
        "    # Use 'accuracy' as the metric to determine the best model\n",
        "    # metric_for_best_model=\"accuracy\",\n",
        "    # greater_is_better=True,  # A model is 'better' if its accuracy is higher\n",
        "\n",
        "\n",
        "    # Experiment logging configurations (commented out in this example)\n",
        "    logging_strategy='steps',\n",
        "    logging_steps=20,\n",
        "    report_to='wandb',  # Log metrics and results to Weights & Biases platform\n",
        "    run_name='stack_long_seq_imbalance',  # Experiment name for Weights & Biases\n",
        ")"
      ]
    },
    {
      "cell_type": "markdown",
      "id": "1e09e994",
      "metadata": {
        "id": "1e09e994"
      },
      "source": [
        "# Experiments"
      ]
    },
    {
      "cell_type": "markdown",
      "id": "9cf49386",
      "metadata": {
        "id": "9cf49386"
      },
      "source": [
        "## Dataset hyperparameters"
      ]
    },
    {
      "cell_type": "code",
      "execution_count": null,
      "id": "0e15f38c",
      "metadata": {
        "colab": {
          "base_uri": "https://localhost:8080/",
          "height": 81,
          "referenced_widgets": [
            "9b15a6de8a8f49eba38e4324695a4e2c",
            "0c3d6972be5740c18bb30ffd7f861b60",
            "274d5178abff4ca39b300673083fa3f5",
            "f6a754af598b467fa62d3f8945b5bc6d",
            "086934ea6fc447fda886f4baccfbcc5e",
            "e61f898d0766491a8c7cc0f6ede11ad2",
            "6940e9cd9cbd4ff4ab97877bbefc1594",
            "0825c91e2f2a4d37870897dbd59f852e",
            "a29d66c43aeb44d8885389a3057f28c8",
            "41e74aaff2c045b19a4cfde07b5c9e8e",
            "a914cefc067049fabcb40cb16923b394",
            "97b046eaf5664e3a95da1b0175c1c7f4",
            "ed7c0151c7904b3cb8c9641955d31c4c",
            "8fd470e62bd446a79db5d58aa0587597",
            "c7b4fb376c214bb6892e4c1f43649653",
            "ed058522087a4a66903c60d9ddd1feff",
            "4e61db194d8f45d481ac39c0accd8778",
            "caeb6fed5431445a92698a97319c0e47",
            "c101806b79714245a6439028e401ad68",
            "0d6588d585c247b19e63ac6f37c30cb8",
            "fcd90b38e07c4d059ff1d8d2cf60512d",
            "19087984742e444bb708b592baa03240"
          ]
        },
        "id": "0e15f38c",
        "outputId": "65a9cd2e-1a76-4c1e-ee4b-74e51e5f5026"
      },
      "outputs": [
        {
          "data": {
            "application/vnd.jupyter.widget-view+json": {
              "model_id": "9b15a6de8a8f49eba38e4324695a4e2c",
              "version_major": 2,
              "version_minor": 0
            },
            "text/plain": [
              "Casting the dataset:   0%|          | 0/188878 [00:00<?, ? examples/s]"
            ]
          },
          "metadata": {},
          "output_type": "display_data"
        },
        {
          "data": {
            "application/vnd.jupyter.widget-view+json": {
              "model_id": "97b046eaf5664e3a95da1b0175c1c7f4",
              "version_major": 2,
              "version_minor": 0
            },
            "text/plain": [
              "Filter:   0%|          | 0/188878 [00:00<?, ? examples/s]"
            ]
          },
          "metadata": {},
          "output_type": "display_data"
        }
      ],
      "source": [
        "class_names = ['c#', 'java', 'php','javascript', 'android', 'jquery', 'c++',  'python', 'iphone', 'asp.net']\n",
        "train_val_dataset, test_dataset,class_tensor_weights,train_val_subset, test_subset = setup_dataset(data_folder,class_names)"
      ]
    },
    {
      "cell_type": "code",
      "execution_count": null,
      "id": "b-P4OqLtpkW9",
      "metadata": {
        "colab": {
          "base_uri": "https://localhost:8080/"
        },
        "id": "b-P4OqLtpkW9",
        "outputId": "db6bc480-0b9f-4bf9-8d71-95cc495cf9e2"
      },
      "outputs": [
        {
          "data": {
            "text/plain": [
              "(DatasetDict({\n",
              "     train: Dataset({\n",
              "         features: ['text', 'label'],\n",
              "         num_rows: 3817\n",
              "     })\n",
              "     val: Dataset({\n",
              "         features: ['text', 'label'],\n",
              "         num_rows: 477\n",
              "     })\n",
              " }),\n",
              " DatasetDict({\n",
              "     test: Dataset({\n",
              "         features: ['text', 'label'],\n",
              "         num_rows: 478\n",
              "     })\n",
              " }),\n",
              " tensor([0.0864, 0.0834, 0.0646, 0.0791, 0.0396, 0.0701, 0.1296, 0.1194, 0.1576,\n",
              "         0.1700]),\n",
              " DatasetDict({\n",
              "     train: Dataset({\n",
              "         features: ['text', 'label'],\n",
              "         num_rows: 50\n",
              "     })\n",
              "     val: Dataset({\n",
              "         features: ['text', 'label'],\n",
              "         num_rows: 50\n",
              "     })\n",
              " }),\n",
              " DatasetDict({\n",
              "     test: Dataset({\n",
              "         features: ['text', 'label'],\n",
              "         num_rows: 50\n",
              "     })\n",
              " }))"
            ]
          },
          "execution_count": 17,
          "metadata": {},
          "output_type": "execute_result"
        }
      ],
      "source": [
        "train_val_dataset, test_dataset,class_tensor_weights,train_val_subset, test_subset"
      ]
    },
    {
      "cell_type": "markdown",
      "id": "7d562e17",
      "metadata": {
        "id": "7d562e17"
      },
      "source": [
        "## Experiment 1 : distilbert-base-uncased with 3817 sample size\n",
        "per_device_eval_batch_size=8, per_device_train_batch_size=8, and gradient_accumulation_steps=2,epochs = 1"
      ]
    },
    {
      "cell_type": "markdown",
      "id": "2784e7fe",
      "metadata": {
        "id": "2784e7fe"
      },
      "source": [
        "### Trainer hyperparameters"
      ]
    },
    {
      "cell_type": "code",
      "execution_count": null,
      "id": "59c49186",
      "metadata": {
        "id": "59c49186"
      },
      "outputs": [],
      "source": [
        "checkpoint = \"distilbert-base-uncased\"\n",
        "training_args_dict = training_args.to_dict() # Convert TrainingArguments to dictionary\n",
        "training_args_dict['run_name'] = f'{checkpoint}-{3817}' # Update the run_name\n",
        "new_training_args = TrainingArguments(**training_args_dict)"
      ]
    },
    {
      "cell_type": "code",
      "execution_count": null,
      "id": "bfb9a11b",
      "metadata": {
        "colab": {
          "base_uri": "https://localhost:8080/",
          "height": 1000,
          "referenced_widgets": [
            "f48f550103a84099ab7fb3088e6f2c89",
            "98821d8b62e24f7d82487cdedace92b0",
            "dbaf1c2647c44049b06311f245887c2b",
            "962abf0edc5b43db8a5f273d3f00ed48",
            "b306818af6234b3f9acbb77028e0775c",
            "a283201dd7914b5c954b649d67df58e1",
            "73e700bb24db4c969bcf1433df6c4a90",
            "503e4fca8300416ebbbdd377ecfe80a5"
          ]
        },
        "id": "bfb9a11b",
        "outputId": "c7ea0e28-2046-4674-a2e4-cfb7eaf20ef3"
      },
      "outputs": [
        {
          "name": "stderr",
          "output_type": "stream",
          "text": [
            "\u001b[34m\u001b[1mwandb\u001b[0m: Currently logged in as: \u001b[33makshat_patil\u001b[0m. Use \u001b[1m`wandb login --relogin`\u001b[0m to force relogin\n"
          ]
        },
        {
          "name": "stdout",
          "output_type": "stream",
          "text": [
            "env: WANDB_PROJECT=nlp_course-HW7-Part-B\n"
          ]
        },
        {
          "name": "stderr",
          "output_type": "stream",
          "text": [
            "Some weights of DistilBertForSequenceClassification were not initialized from the model checkpoint at distilbert-base-uncased and are newly initialized: ['classifier.bias', 'pre_classifier.bias', 'classifier.weight', 'pre_classifier.weight']\n",
            "You should probably TRAIN this model on a down-stream task to be able to use it for predictions and inference.\n"
          ]
        },
        {
          "data": {
            "text/html": [
              "Changes to your `wandb` environment variables will be ignored because your `wandb` session has already started. For more information on how to modify your settings with `wandb.init()` arguments, please refer to <a href='https://wandb.me/wandb-init' target=\"_blank\">the W&B docs</a>."
            ],
            "text/plain": [
              "<IPython.core.display.HTML object>"
            ]
          },
          "metadata": {},
          "output_type": "display_data"
        },
        {
          "data": {
            "text/html": [
              "Tracking run with wandb version 0.16.0"
            ],
            "text/plain": [
              "<IPython.core.display.HTML object>"
            ]
          },
          "metadata": {},
          "output_type": "display_data"
        },
        {
          "data": {
            "text/html": [
              "Run data is saved locally in <code>/content/wandb/run-20231110_035203-v5ajyuzb</code>"
            ],
            "text/plain": [
              "<IPython.core.display.HTML object>"
            ]
          },
          "metadata": {},
          "output_type": "display_data"
        },
        {
          "data": {
            "text/html": [
              "Syncing run <strong><a href='https://wandb.ai/akshat_patil/nlp_course-HW7-Part-B/runs/v5ajyuzb' target=\"_blank\">stack_long_seq_imbalance</a></strong> to <a href='https://wandb.ai/akshat_patil/nlp_course-HW7-Part-B' target=\"_blank\">Weights & Biases</a> (<a href='https://wandb.me/run' target=\"_blank\">docs</a>)<br/>"
            ],
            "text/plain": [
              "<IPython.core.display.HTML object>"
            ]
          },
          "metadata": {},
          "output_type": "display_data"
        },
        {
          "data": {
            "text/html": [
              " View project at <a href='https://wandb.ai/akshat_patil/nlp_course-HW7-Part-B' target=\"_blank\">https://wandb.ai/akshat_patil/nlp_course-HW7-Part-B</a>"
            ],
            "text/plain": [
              "<IPython.core.display.HTML object>"
            ]
          },
          "metadata": {},
          "output_type": "display_data"
        },
        {
          "data": {
            "text/html": [
              " View run at <a href='https://wandb.ai/akshat_patil/nlp_course-HW7-Part-B/runs/v5ajyuzb' target=\"_blank\">https://wandb.ai/akshat_patil/nlp_course-HW7-Part-B/runs/v5ajyuzb</a>"
            ],
            "text/plain": [
              "<IPython.core.display.HTML object>"
            ]
          },
          "metadata": {},
          "output_type": "display_data"
        },
        {
          "data": {
            "text/html": [
              "\n",
              "    <div>\n",
              "      \n",
              "      <progress value='239' max='239' style='width:300px; height:20px; vertical-align: middle;'></progress>\n",
              "      [239/239 10:49, Epoch 1/1]\n",
              "    </div>\n",
              "    <table border=\"1\" class=\"dataframe\">\n",
              "  <thead>\n",
              " <tr style=\"text-align: left;\">\n",
              "      <th>Step</th>\n",
              "      <th>Training Loss</th>\n",
              "      <th>Validation Loss</th>\n",
              "    </tr>\n",
              "  </thead>\n",
              "  <tbody>\n",
              "    <tr>\n",
              "      <td>20</td>\n",
              "      <td>2.234100</td>\n",
              "      <td>2.148221</td>\n",
              "    </tr>\n",
              "    <tr>\n",
              "      <td>40</td>\n",
              "      <td>2.130800</td>\n",
              "      <td>2.007630</td>\n",
              "    </tr>\n",
              "    <tr>\n",
              "      <td>60</td>\n",
              "      <td>1.929000</td>\n",
              "      <td>1.779286</td>\n",
              "    </tr>\n",
              "    <tr>\n",
              "      <td>80</td>\n",
              "      <td>1.751100</td>\n",
              "      <td>1.603490</td>\n",
              "    </tr>\n",
              "    <tr>\n",
              "      <td>100</td>\n",
              "      <td>1.603200</td>\n",
              "      <td>1.457784</td>\n",
              "    </tr>\n",
              "    <tr>\n",
              "      <td>120</td>\n",
              "      <td>1.416500</td>\n",
              "      <td>1.352330</td>\n",
              "    </tr>\n",
              "    <tr>\n",
              "      <td>140</td>\n",
              "      <td>1.350300</td>\n",
              "      <td>1.262330</td>\n",
              "    </tr>\n",
              "    <tr>\n",
              "      <td>160</td>\n",
              "      <td>1.219400</td>\n",
              "      <td>1.190571</td>\n",
              "    </tr>\n",
              "    <tr>\n",
              "      <td>180</td>\n",
              "      <td>1.211200</td>\n",
              "      <td>1.125129</td>\n",
              "    </tr>\n",
              "    <tr>\n",
              "      <td>200</td>\n",
              "      <td>1.089300</td>\n",
              "      <td>1.096805</td>\n",
              "    </tr>\n",
              "    <tr>\n",
              "      <td>220</td>\n",
              "      <td>1.122500</td>\n",
              "      <td>1.070552</td>\n",
              "    </tr>\n",
              "  </tbody>\n",
              "</table><p>"
            ],
            "text/plain": [
              "<IPython.core.display.HTML object>"
            ]
          },
          "metadata": {},
          "output_type": "display_data"
        },
        {
          "data": {
            "image/png": "[encoded data removed]",
            "text/plain": [
              "<Figure size 800x600 with 2 Axes>"
            ]
          },
          "metadata": {},
          "output_type": "display_data"
        },
        {
          "name": "stdout",
          "output_type": "stream",
          "text": [
            "Train Metrics: {'accuracy': 0.7791459261199896, 'f1_macro': 0.6112439567870334, 'f1_weighted': 0.7329096662540521}\n",
            "Validation Metrics: {'accuracy': 0.7791459261199896, 'f1_macro': 0.6112439567870334, 'f1_weighted': 0.7329096662540521}\n"
          ]
        },
        {
          "data": {
            "application/vnd.jupyter.widget-view+json": {
              "model_id": "f48f550103a84099ab7fb3088e6f2c89",
              "version_major": 2,
              "version_minor": 0
            },
            "text/plain": [
              "VBox(children=(Label(value='0.004 MB of 0.007 MB uploaded\\r'), FloatProgress(value=0.6186609686609686, max=1.0…"
            ]
          },
          "metadata": {},
          "output_type": "display_data"
        },
        {
          "data": {
            "text/html": [
              "<style>\n",
              "    table.wandb td:nth-child(1) { padding: 0 10px; text-align: left ; width: auto;} td:nth-child(2) {text-align: left ; width: 100%}\n",
              "    .wandb-row { display: flex; flex-direction: row; flex-wrap: wrap; justify-content: flex-start; width: 100% }\n",
              "    .wandb-col { display: flex; flex-direction: column; flex-basis: 100%; flex: 1; padding: 10px; }\n",
              "    </style>\n",
              "<div class=\"wandb-row\"><div class=\"wandb-col\"><h3>Run history:</h3><br/><table class=\"wandb\"><tr><td>eval/loss</td><td>█▇▆▄▄▃▂▂▁▁▁</td></tr><tr><td>eval/runtime</td><td>▁▇▂▂▂▄█▃▃▃▃</td></tr><tr><td>eval/samples_per_second</td><td>█▂▇▇▆▄▁▆▆▆▆</td></tr><tr><td>eval/steps_per_second</td><td>█▂▇▇▆▄▁▆▆▆▆</td></tr><tr><td>train/epoch</td><td>▁▁▂▂▂▂▃▃▄▄▄▄▅▅▅▅▆▆▇▇▇▇█</td></tr><tr><td>train/global_step</td><td>▁▁▂▂▂▂▃▃▄▄▄▄▅▅▅▅▆▆▇▇▇▇██</td></tr><tr><td>train/learning_rate</td><td>█▇▇▆▅▅▄▃▂▂▁</td></tr><tr><td>train/loss</td><td>█▇▆▅▄▃▃▂▂▁▁</td></tr><tr><td>train/total_flos</td><td>▁</td></tr><tr><td>train/train_loss</td><td>▁</td></tr><tr><td>train/train_runtime</td><td>▁</td></tr><tr><td>train/train_samples_per_second</td><td>▁</td></tr><tr><td>train/train_steps_per_second</td><td>▁</td></tr></table><br/></div><div class=\"wandb-col\"><h3>Run summary:</h3><br/><table class=\"wandb\"><tr><td>eval/loss</td><td>1.07055</td></tr><tr><td>eval/runtime</td><td>17.0506</td></tr><tr><td>eval/samples_per_second</td><td>27.976</td></tr><tr><td>eval/steps_per_second</td><td>3.519</td></tr><tr><td>train/epoch</td><td>1.0</td></tr><tr><td>train/global_step</td><td>239</td></tr><tr><td>train/learning_rate</td><td>0.0</td></tr><tr><td>train/loss</td><td>1.1225</td></tr><tr><td>train/total_flos</td><td>2627203281408000.0</td></tr><tr><td>train/train_loss</td><td>1.51517</td></tr><tr><td>train/train_runtime</td><td>654.7204</td></tr><tr><td>train/train_samples_per_second</td><td>5.83</td></tr><tr><td>train/train_steps_per_second</td><td>0.365</td></tr></table><br/></div></div>"
            ],
            "text/plain": [
              "<IPython.core.display.HTML object>"
            ]
          },
          "metadata": {},
          "output_type": "display_data"
        },
        {
          "data": {
            "text/html": [
              " View run <strong style=\"color:#cdcd00\">stack_long_seq_imbalance</strong> at: <a href='https://wandb.ai/akshat_patil/nlp_course-HW7-Part-B/runs/v5ajyuzb' target=\"_blank\">https://wandb.ai/akshat_patil/nlp_course-HW7-Part-B/runs/v5ajyuzb</a><br/>Synced 5 W&B file(s), 1 media file(s), 1 artifact file(s) and 0 other file(s)"
            ],
            "text/plain": [
              "<IPython.core.display.HTML object>"
            ]
          },
          "metadata": {},
          "output_type": "display_data"
        },
        {
          "data": {
            "text/html": [
              "Find logs at: <code>./wandb/run-20231110_035203-v5ajyuzb/logs</code>"
            ],
            "text/plain": [
              "<IPython.core.display.HTML object>"
            ]
          },
          "metadata": {},
          "output_type": "display_data"
        }
      ],
      "source": [
        "tokenize_train_evaluate_log(new_training_args, checkpoint, base_folder,train_val_dataset, class_tensor_weights)"
      ]
    },
    {
      "cell_type": "markdown",
      "id": "vL7Cq4G_VeK5",
      "metadata": {
        "id": "vL7Cq4G_VeK5"
      },
      "source": [
        "## Experiment 2 : distilbert-base-uncased with 3817 sample size\n",
        "per_device_eval_batch_size=8, per_device_train_batch_size=8, and gradient_accumulation_steps=4,epochs = 1"
      ]
    },
    {
      "cell_type": "markdown",
      "id": "XgaAhoFVVeK_",
      "metadata": {
        "id": "XgaAhoFVVeK_"
      },
      "source": [
        "### Trainer hyperparameters"
      ]
    },
    {
      "cell_type": "code",
      "execution_count": null,
      "id": "-CSC5wLRVeK_",
      "metadata": {
        "id": "-CSC5wLRVeK_"
      },
      "outputs": [],
      "source": [
        "checkpoint = \"distilbert-base-uncased\"\n",
        "training_args_dict = training_args.to_dict() # Convert TrainingArguments to dictionary\n",
        "training_args_dict['run_name'] = f'{checkpoint}-{3817}' # Update the run_name\n",
        "new_training_args = TrainingArguments(**training_args_dict)"
      ]
    },
    {
      "cell_type": "code",
      "execution_count": null,
      "id": "g7L_W32dVeLA",
      "metadata": {
        "colab": {
          "base_uri": "https://localhost:8080/",
          "height": 1000,
          "referenced_widgets": [
            "e81a9ef7558d40be90954cf7dc2f7393",
            "907467cdd10b41588491451fc0ff4196",
            "79e3718f75ae4ab8950a12509f749ec8",
            "9eed33268e344af0a7dad311df7ee8a4",
            "8536ed8ff4bc450b9f149ccf6af5ba7c",
            "71175256ad384d66ae5e5ede77b1150c",
            "f96de17bc5944b3da6a20659b2454a57",
            "afd8d620646d498ebce6946ec9b1db81"
          ]
        },
        "id": "g7L_W32dVeLA",
        "outputId": "cbf933e4-bbdf-4c61-9ab4-fbe71f8b62ff"
      },
      "outputs": [
        {
          "name": "stdout",
          "output_type": "stream",
          "text": [
            "env: WANDB_PROJECT=nlp_course-HW7-Part-B\n"
          ]
        },
        {
          "name": "stderr",
          "output_type": "stream",
          "text": [
            "Some weights of DistilBertForSequenceClassification were not initialized from the model checkpoint at distilbert-base-uncased and are newly initialized: ['classifier.bias', 'pre_classifier.bias', 'classifier.weight', 'pre_classifier.weight']\n",
            "You should probably TRAIN this model on a down-stream task to be able to use it for predictions and inference.\n"
          ]
        },
        {
          "data": {
            "text/html": [
              "Changes to your `wandb` environment variables will be ignored because your `wandb` session has already started. For more information on how to modify your settings with `wandb.init()` arguments, please refer to <a href='https://wandb.me/wandb-init' target=\"_blank\">the W&B docs</a>."
            ],
            "text/plain": [
              "<IPython.core.display.HTML object>"
            ]
          },
          "metadata": {},
          "output_type": "display_data"
        },
        {
          "data": {
            "text/html": [
              "Tracking run with wandb version 0.16.0"
            ],
            "text/plain": [
              "<IPython.core.display.HTML object>"
            ]
          },
          "metadata": {},
          "output_type": "display_data"
        },
        {
          "data": {
            "text/html": [
              "Run data is saved locally in <code>/content/wandb/run-20231110_040946-l7grgkx8</code>"
            ],
            "text/plain": [
              "<IPython.core.display.HTML object>"
            ]
          },
          "metadata": {},
          "output_type": "display_data"
        },
        {
          "data": {
            "text/html": [
              "Syncing run <strong><a href='https://wandb.ai/akshat_patil/nlp_course-HW7-Part-B/runs/l7grgkx8' target=\"_blank\">distilbert-base-uncased-3817</a></strong> to <a href='https://wandb.ai/akshat_patil/nlp_course-HW7-Part-B' target=\"_blank\">Weights & Biases</a> (<a href='https://wandb.me/run' target=\"_blank\">docs</a>)<br/>"
            ],
            "text/plain": [
              "<IPython.core.display.HTML object>"
            ]
          },
          "metadata": {},
          "output_type": "display_data"
        },
        {
          "data": {
            "text/html": [
              " View project at <a href='https://wandb.ai/akshat_patil/nlp_course-HW7-Part-B' target=\"_blank\">https://wandb.ai/akshat_patil/nlp_course-HW7-Part-B</a>"
            ],
            "text/plain": [
              "<IPython.core.display.HTML object>"
            ]
          },
          "metadata": {},
          "output_type": "display_data"
        },
        {
          "data": {
            "text/html": [
              " View run at <a href='https://wandb.ai/akshat_patil/nlp_course-HW7-Part-B/runs/l7grgkx8' target=\"_blank\">https://wandb.ai/akshat_patil/nlp_course-HW7-Part-B/runs/l7grgkx8</a>"
            ],
            "text/plain": [
              "<IPython.core.display.HTML object>"
            ]
          },
          "metadata": {},
          "output_type": "display_data"
        },
        {
          "data": {
            "text/html": [
              "\n",
              "    <div>\n",
              "      \n",
              "      <progress value='119' max='119' style='width:300px; height:20px; vertical-align: middle;'></progress>\n",
              "      [119/119 08:53, Epoch 0/1]\n",
              "    </div>\n",
              "    <table border=\"1\" class=\"dataframe\">\n",
              "  <thead>\n",
              " <tr style=\"text-align: left;\">\n",
              "      <th>Step</th>\n",
              "      <th>Training Loss</th>\n",
              "      <th>Validation Loss</th>\n",
              "    </tr>\n",
              "  </thead>\n",
              "  <tbody>\n",
              "    <tr>\n",
              "      <td>20</td>\n",
              "      <td>2.228900</td>\n",
              "      <td>2.114640</td>\n",
              "    </tr>\n",
              "    <tr>\n",
              "      <td>40</td>\n",
              "      <td>2.049300</td>\n",
              "      <td>1.911504</td>\n",
              "    </tr>\n",
              "    <tr>\n",
              "      <td>60</td>\n",
              "      <td>1.832800</td>\n",
              "      <td>1.685907</td>\n",
              "    </tr>\n",
              "    <tr>\n",
              "      <td>80</td>\n",
              "      <td>1.636300</td>\n",
              "      <td>1.523634</td>\n",
              "    </tr>\n",
              "    <tr>\n",
              "      <td>100</td>\n",
              "      <td>1.489900</td>\n",
              "      <td>1.438852</td>\n",
              "    </tr>\n",
              "  </tbody>\n",
              "</table><p>"
            ],
            "text/plain": [
              "<IPython.core.display.HTML object>"
            ]
          },
          "metadata": {},
          "output_type": "display_data"
        },
        {
          "data": {
            "image/png": "[encoded data removed]",
            "text/plain": [
              "<Figure size 800x600 with 2 Axes>"
            ]
          },
          "metadata": {},
          "output_type": "display_data"
        },
        {
          "name": "stdout",
          "output_type": "stream",
          "text": [
            "Train Metrics: {'accuracy': 0.7070998166099031, 'f1_macro': 0.4395096836866065, 'f1_weighted': 0.6238494539529748}\n",
            "Validation Metrics: {'accuracy': 0.7070998166099031, 'f1_macro': 0.4395096836866065, 'f1_weighted': 0.6238494539529748}\n"
          ]
        },
        {
          "data": {
            "application/vnd.jupyter.widget-view+json": {
              "model_id": "e81a9ef7558d40be90954cf7dc2f7393",
              "version_major": 2,
              "version_minor": 0
            },
            "text/plain": [
              "VBox(children=(Label(value='0.004 MB of 0.007 MB uploaded\\r'), FloatProgress(value=0.6187963491158015, max=1.0…"
            ]
          },
          "metadata": {},
          "output_type": "display_data"
        },
        {
          "data": {
            "text/html": [
              "<style>\n",
              "    table.wandb td:nth-child(1) { padding: 0 10px; text-align: left ; width: auto;} td:nth-child(2) {text-align: left ; width: 100%}\n",
              "    .wandb-row { display: flex; flex-direction: row; flex-wrap: wrap; justify-content: flex-start; width: 100% }\n",
              "    .wandb-col { display: flex; flex-direction: column; flex-basis: 100%; flex: 1; padding: 10px; }\n",
              "    </style>\n",
              "<div class=\"wandb-row\"><div class=\"wandb-col\"><h3>Run history:</h3><br/><table class=\"wandb\"><tr><td>eval/loss</td><td>█▆▄▂▁</td></tr><tr><td>eval/runtime</td><td>▁▆▆██</td></tr><tr><td>eval/samples_per_second</td><td>█▃▃▁▁</td></tr><tr><td>eval/steps_per_second</td><td>█▃▃▁▁</td></tr><tr><td>train/epoch</td><td>▁▁▂▂▄▄▅▅▇▇█</td></tr><tr><td>train/global_step</td><td>▁▁▂▂▄▄▅▅▇▇██</td></tr><tr><td>train/learning_rate</td><td>█▆▄▃▁</td></tr><tr><td>train/loss</td><td>█▆▄▂▁</td></tr><tr><td>train/total_flos</td><td>▁</td></tr><tr><td>train/train_loss</td><td>▁</td></tr><tr><td>train/train_runtime</td><td>▁</td></tr><tr><td>train/train_samples_per_second</td><td>▁</td></tr><tr><td>train/train_steps_per_second</td><td>▁</td></tr></table><br/></div><div class=\"wandb-col\"><h3>Run summary:</h3><br/><table class=\"wandb\"><tr><td>eval/loss</td><td>1.43885</td></tr><tr><td>eval/runtime</td><td>16.9525</td></tr><tr><td>eval/samples_per_second</td><td>28.137</td></tr><tr><td>eval/steps_per_second</td><td>3.539</td></tr><tr><td>train/epoch</td><td>1.0</td></tr><tr><td>train/global_step</td><td>119</td></tr><tr><td>train/learning_rate</td><td>0.0</td></tr><tr><td>train/loss</td><td>1.4899</td></tr><tr><td>train/total_flos</td><td>2620446480230400.0</td></tr><tr><td>train/train_loss</td><td>1.78585</td></tr><tr><td>train/train_runtime</td><td>539.3735</td></tr><tr><td>train/train_samples_per_second</td><td>7.077</td></tr><tr><td>train/train_steps_per_second</td><td>0.221</td></tr></table><br/></div></div>"
            ],
            "text/plain": [
              "<IPython.core.display.HTML object>"
            ]
          },
          "metadata": {},
          "output_type": "display_data"
        },
        {
          "data": {
            "text/html": [
              " View run <strong style=\"color:#cdcd00\">distilbert-base-uncased-3817</strong> at: <a href='https://wandb.ai/akshat_patil/nlp_course-HW7-Part-B/runs/l7grgkx8' target=\"_blank\">https://wandb.ai/akshat_patil/nlp_course-HW7-Part-B/runs/l7grgkx8</a><br/>Synced 5 W&B file(s), 1 media file(s), 1 artifact file(s) and 0 other file(s)"
            ],
            "text/plain": [
              "<IPython.core.display.HTML object>"
            ]
          },
          "metadata": {},
          "output_type": "display_data"
        },
        {
          "data": {
            "text/html": [
              "Find logs at: <code>./wandb/run-20231110_040946-l7grgkx8/logs</code>"
            ],
            "text/plain": [
              "<IPython.core.display.HTML object>"
            ]
          },
          "metadata": {},
          "output_type": "display_data"
        }
      ],
      "source": [
        "tokenize_train_evaluate_log(new_training_args, checkpoint, base_folder,train_val_dataset, class_tensor_weights)"
      ]
    },
    {
      "cell_type": "markdown",
      "id": "X5yPAbYzoWr7",
      "metadata": {
        "id": "X5yPAbYzoWr7"
      },
      "source": [
        "# Conclusion\n",
        "In conducting two experiments on a multiclass classification task for longer sequence, Experiment 1, characterized by a smaller effective batch size and fewer gradient accumulation steps, outperformed Experiment 2 in terms of accuracy, f1_macro, and f1_weighted metrics. The superior performance of Experiment 1 suggests that a more nuanced handling of the imbalanced dataset was achieved, reflected in higher sensitivity to minority classes. Both experiments benefited from advanced training techniques such as mixed precision training (fp16) and gradient checkpointing, highlighting the importance of modern practices in optimizing deep learning model training. While these results showcase the efficacy of Experiment 1, further exploration with diverse hyperparameter configurations, including two epochs, and a different model (bert-base-uncased) is done in the additional experiments to see if we can get an increase in the accuracy and f1_macro scores.\n",
        "\n",
        "\n",
        "\n"
      ]
    },
    {
      "cell_type": "markdown",
      "id": "BNScqLXw2Flo",
      "metadata": {
        "id": "BNScqLXw2Flo"
      },
      "source": [
        "## Experiment 3 : distilbert-base-uncased\n",
        "2 epochs  gradient_accumulation_steps=2"
      ]
    },
    {
      "cell_type": "markdown",
      "id": "XvsiGfYq2Flp",
      "metadata": {
        "id": "XvsiGfYq2Flp"
      },
      "source": [
        "### Trainer hyperparameters"
      ]
    },
    {
      "cell_type": "code",
      "execution_count": null,
      "id": "4svlLZCp2Flp",
      "metadata": {
        "id": "4svlLZCp2Flp"
      },
      "outputs": [],
      "source": [
        "checkpoint = \"distilbert-base-uncased\"\n",
        "training_args_dict = training_args.to_dict() # Convert TrainingArguments to dictionary\n",
        "training_args_dict['run_name'] = f'{checkpoint}-{3817}-2epochs' # Update the run_name\n",
        "new_training_args = TrainingArguments(**training_args_dict)"
      ]
    },
    {
      "cell_type": "code",
      "execution_count": null,
      "id": "FgDEJtjD2Flp",
      "metadata": {
        "colab": {
          "base_uri": "https://localhost:8080/",
          "height": 1000,
          "referenced_widgets": [
            "9becc2028b834ebd8538b99cc131861d",
            "32deb16b7ad746e2b8554defe1812efb",
            "08ce12e9e71c4701955820dc52d4aff7",
            "a58a11bca2814b6dbf13774e888f25ea",
            "69b8b91561ec4f478baab4b5b501e1a7",
            "d223f527a7d346859044cf1595f8d13f",
            "2021000b684047b9a8905d90d8fe8d28",
            "cdc7b03bfd444f3f9cd5cf193bc47069"
          ]
        },
        "id": "FgDEJtjD2Flp",
        "outputId": "e1d407a6-74a3-4a4e-87b6-a018472aff97"
      },
      "outputs": [
        {
          "name": "stderr",
          "output_type": "stream",
          "text": [
            "\u001b[34m\u001b[1mwandb\u001b[0m: Currently logged in as: \u001b[33makshat_patil\u001b[0m. Use \u001b[1m`wandb login --relogin`\u001b[0m to force relogin\n"
          ]
        },
        {
          "name": "stdout",
          "output_type": "stream",
          "text": [
            "env: WANDB_PROJECT=nlp_course-HW7-Part-B\n"
          ]
        },
        {
          "name": "stderr",
          "output_type": "stream",
          "text": [
            "Some weights of DistilBertForSequenceClassification were not initialized from the model checkpoint at distilbert-base-uncased and are newly initialized: ['classifier.weight', 'pre_classifier.weight', 'classifier.bias', 'pre_classifier.bias']\n",
            "You should probably TRAIN this model on a down-stream task to be able to use it for predictions and inference.\n"
          ]
        },
        {
          "data": {
            "text/html": [
              "Changes to your `wandb` environment variables will be ignored because your `wandb` session has already started. For more information on how to modify your settings with `wandb.init()` arguments, please refer to <a href='https://wandb.me/wandb-init' target=\"_blank\">the W&B docs</a>."
            ],
            "text/plain": [
              "<IPython.core.display.HTML object>"
            ]
          },
          "metadata": {},
          "output_type": "display_data"
        },
        {
          "data": {
            "text/html": [
              "Tracking run with wandb version 0.16.0"
            ],
            "text/plain": [
              "<IPython.core.display.HTML object>"
            ]
          },
          "metadata": {},
          "output_type": "display_data"
        },
        {
          "data": {
            "text/html": [
              "Run data is saved locally in <code>/content/wandb/run-20231110_050950-1nmb6lbv</code>"
            ],
            "text/plain": [
              "<IPython.core.display.HTML object>"
            ]
          },
          "metadata": {},
          "output_type": "display_data"
        },
        {
          "data": {
            "text/html": [
              "Syncing run <strong><a href='https://wandb.ai/akshat_patil/nlp_course-HW7-Part-B/runs/1nmb6lbv' target=\"_blank\">distilbert-base-uncased-3817-2epochs</a></strong> to <a href='https://wandb.ai/akshat_patil/nlp_course-HW7-Part-B' target=\"_blank\">Weights & Biases</a> (<a href='https://wandb.me/run' target=\"_blank\">docs</a>)<br/>"
            ],
            "text/plain": [
              "<IPython.core.display.HTML object>"
            ]
          },
          "metadata": {},
          "output_type": "display_data"
        },
        {
          "data": {
            "text/html": [
              " View project at <a href='https://wandb.ai/akshat_patil/nlp_course-HW7-Part-B' target=\"_blank\">https://wandb.ai/akshat_patil/nlp_course-HW7-Part-B</a>"
            ],
            "text/plain": [
              "<IPython.core.display.HTML object>"
            ]
          },
          "metadata": {},
          "output_type": "display_data"
        },
        {
          "data": {
            "text/html": [
              " View run at <a href='https://wandb.ai/akshat_patil/nlp_course-HW7-Part-B/runs/1nmb6lbv' target=\"_blank\">https://wandb.ai/akshat_patil/nlp_course-HW7-Part-B/runs/1nmb6lbv</a>"
            ],
            "text/plain": [
              "<IPython.core.display.HTML object>"
            ]
          },
          "metadata": {},
          "output_type": "display_data"
        },
        {
          "data": {
            "text/html": [
              "\n",
              "    <div>\n",
              "      \n",
              "      <progress value='478' max='478' style='width:300px; height:20px; vertical-align: middle;'></progress>\n",
              "      [478/478 21:55, Epoch 2/2]\n",
              "    </div>\n",
              "    <table border=\"1\" class=\"dataframe\">\n",
              "  <thead>\n",
              " <tr style=\"text-align: left;\">\n",
              "      <th>Step</th>\n",
              "      <th>Training Loss</th>\n",
              "      <th>Validation Loss</th>\n",
              "    </tr>\n",
              "  </thead>\n",
              "  <tbody>\n",
              "    <tr>\n",
              "      <td>20</td>\n",
              "      <td>2.236300</td>\n",
              "      <td>2.142621</td>\n",
              "    </tr>\n",
              "    <tr>\n",
              "      <td>40</td>\n",
              "      <td>2.115500</td>\n",
              "      <td>1.987993</td>\n",
              "    </tr>\n",
              "    <tr>\n",
              "      <td>60</td>\n",
              "      <td>1.896800</td>\n",
              "      <td>1.737291</td>\n",
              "    </tr>\n",
              "    <tr>\n",
              "      <td>80</td>\n",
              "      <td>1.709200</td>\n",
              "      <td>1.514506</td>\n",
              "    </tr>\n",
              "    <tr>\n",
              "      <td>100</td>\n",
              "      <td>1.494100</td>\n",
              "      <td>1.328156</td>\n",
              "    </tr>\n",
              "    <tr>\n",
              "      <td>120</td>\n",
              "      <td>1.279300</td>\n",
              "      <td>1.195200</td>\n",
              "    </tr>\n",
              "    <tr>\n",
              "      <td>140</td>\n",
              "      <td>1.227600</td>\n",
              "      <td>1.104616</td>\n",
              "    </tr>\n",
              "    <tr>\n",
              "      <td>160</td>\n",
              "      <td>1.070300</td>\n",
              "      <td>0.986245</td>\n",
              "    </tr>\n",
              "    <tr>\n",
              "      <td>180</td>\n",
              "      <td>1.019100</td>\n",
              "      <td>0.916849</td>\n",
              "    </tr>\n",
              "    <tr>\n",
              "      <td>200</td>\n",
              "      <td>0.836800</td>\n",
              "      <td>0.863207</td>\n",
              "    </tr>\n",
              "    <tr>\n",
              "      <td>220</td>\n",
              "      <td>0.902600</td>\n",
              "      <td>0.780555</td>\n",
              "    </tr>\n",
              "    <tr>\n",
              "      <td>240</td>\n",
              "      <td>0.825200</td>\n",
              "      <td>0.755168</td>\n",
              "    </tr>\n",
              "    <tr>\n",
              "      <td>260</td>\n",
              "      <td>0.742200</td>\n",
              "      <td>0.697584</td>\n",
              "    </tr>\n",
              "    <tr>\n",
              "      <td>280</td>\n",
              "      <td>0.733000</td>\n",
              "      <td>0.662571</td>\n",
              "    </tr>\n",
              "    <tr>\n",
              "      <td>300</td>\n",
              "      <td>0.694200</td>\n",
              "      <td>0.643129</td>\n",
              "    </tr>\n",
              "    <tr>\n",
              "      <td>320</td>\n",
              "      <td>0.619100</td>\n",
              "      <td>0.643725</td>\n",
              "    </tr>\n",
              "    <tr>\n",
              "      <td>340</td>\n",
              "      <td>0.653600</td>\n",
              "      <td>0.602315</td>\n",
              "    </tr>\n",
              "    <tr>\n",
              "      <td>360</td>\n",
              "      <td>0.640700</td>\n",
              "      <td>0.593566</td>\n",
              "    </tr>\n",
              "    <tr>\n",
              "      <td>380</td>\n",
              "      <td>0.556600</td>\n",
              "      <td>0.583840</td>\n",
              "    </tr>\n",
              "    <tr>\n",
              "      <td>400</td>\n",
              "      <td>0.567300</td>\n",
              "      <td>0.571037</td>\n",
              "    </tr>\n",
              "    <tr>\n",
              "      <td>420</td>\n",
              "      <td>0.621700</td>\n",
              "      <td>0.559740</td>\n",
              "    </tr>\n",
              "    <tr>\n",
              "      <td>440</td>\n",
              "      <td>0.560500</td>\n",
              "      <td>0.561498</td>\n",
              "    </tr>\n",
              "    <tr>\n",
              "      <td>460</td>\n",
              "      <td>0.560500</td>\n",
              "      <td>0.551842</td>\n",
              "    </tr>\n",
              "  </tbody>\n",
              "</table><p>"
            ],
            "text/plain": [
              "<IPython.core.display.HTML object>"
            ]
          },
          "metadata": {},
          "output_type": "display_data"
        },
        {
          "data": {
            "image/png": "[encoded data removed]",
            "text/plain": [
              "<Figure size 800x600 with 2 Axes>"
            ]
          },
          "metadata": {},
          "output_type": "display_data"
        },
        {
          "name": "stdout",
          "output_type": "stream",
          "text": [
            "Train Metrics: {'accuracy': 0.9428870840974587, 'f1_macro': 0.909241794613717, 'f1_weighted': 0.9425478876587784}\n",
            "Validation Metrics: {'accuracy': 0.9428870840974587, 'f1_macro': 0.909241794613717, 'f1_weighted': 0.9425478876587784}\n"
          ]
        },
        {
          "data": {
            "application/vnd.jupyter.widget-view+json": {
              "model_id": "9becc2028b834ebd8538b99cc131861d",
              "version_major": 2,
              "version_minor": 0
            },
            "text/plain": [
              "VBox(children=(Label(value='0.004 MB of 0.007 MB uploaded\\r'), FloatProgress(value=0.619, max=1.0)))"
            ]
          },
          "metadata": {},
          "output_type": "display_data"
        },
        {
          "data": {
            "text/html": [
              "<style>\n",
              "    table.wandb td:nth-child(1) { padding: 0 10px; text-align: left ; width: auto;} td:nth-child(2) {text-align: left ; width: 100%}\n",
              "    .wandb-row { display: flex; flex-direction: row; flex-wrap: wrap; justify-content: flex-start; width: 100% }\n",
              "    .wandb-col { display: flex; flex-direction: column; flex-basis: 100%; flex: 1; padding: 10px; }\n",
              "    </style>\n",
              "<div class=\"wandb-row\"><div class=\"wandb-col\"><h3>Run history:</h3><br/><table class=\"wandb\"><tr><td>eval/loss</td><td>█▇▆▅▄▄▃▃▃▂▂▂▂▁▁▁▁▁▁▁▁▁▁</td></tr><tr><td>eval/runtime</td><td>█▁▃▄▄▄▄▄▄▄▄█▄▄▄▅▅▅▄▄▅▅▅</td></tr><tr><td>eval/samples_per_second</td><td>▁█▆▅▅▅▅▅▅▅▄▁▅▅▅▄▄▄▅▅▄▄▃</td></tr><tr><td>eval/steps_per_second</td><td>▁█▆▅▅▅▅▅▅▅▄▁▅▅▅▄▄▄▅▅▄▄▃</td></tr><tr><td>train/epoch</td><td>▁▁▁▁▂▂▂▂▂▃▃▃▃▃▃▃▄▄▄▄▄▅▅▅▅▅▆▆▆▆▆▇▇▇▇▇▇▇██</td></tr><tr><td>train/global_step</td><td>▁▁▁▁▂▂▂▂▂▃▃▃▃▃▃▄▄▄▄▄▅▅▅▅▅▆▆▆▆▆▇▇▇▇▇▇▇███</td></tr><tr><td>train/learning_rate</td><td>██▇▇▇▆▆▆▅▅▅▄▄▄▄▃▃▃▂▂▂▁▁</td></tr><tr><td>train/loss</td><td>█▇▇▆▅▄▄▃▃▂▂▂▂▂▂▁▁▁▁▁▁▁▁</td></tr><tr><td>train/total_flos</td><td>▁</td></tr><tr><td>train/train_loss</td><td>▁</td></tr><tr><td>train/train_runtime</td><td>▁</td></tr><tr><td>train/train_samples_per_second</td><td>▁</td></tr><tr><td>train/train_steps_per_second</td><td>▁</td></tr></table><br/></div><div class=\"wandb-col\"><h3>Run summary:</h3><br/><table class=\"wandb\"><tr><td>eval/loss</td><td>0.55184</td></tr><tr><td>eval/runtime</td><td>17.3069</td></tr><tr><td>eval/samples_per_second</td><td>27.561</td></tr><tr><td>eval/steps_per_second</td><td>3.467</td></tr><tr><td>train/epoch</td><td>2.0</td></tr><tr><td>train/global_step</td><td>478</td></tr><tr><td>train/learning_rate</td><td>0.0</td></tr><tr><td>train/loss</td><td>0.5605</td></tr><tr><td>train/total_flos</td><td>5254406562816000.0</td></tr><tr><td>train/train_loss</td><td>1.00813</td></tr><tr><td>train/train_runtime</td><td>1321.1804</td></tr><tr><td>train/train_samples_per_second</td><td>5.778</td></tr><tr><td>train/train_steps_per_second</td><td>0.362</td></tr></table><br/></div></div>"
            ],
            "text/plain": [
              "<IPython.core.display.HTML object>"
            ]
          },
          "metadata": {},
          "output_type": "display_data"
        },
        {
          "data": {
            "text/html": [
              " View run <strong style=\"color:#cdcd00\">distilbert-base-uncased-3817-2epochs</strong> at: <a href='https://wandb.ai/akshat_patil/nlp_course-HW7-Part-B/runs/1nmb6lbv' target=\"_blank\">https://wandb.ai/akshat_patil/nlp_course-HW7-Part-B/runs/1nmb6lbv</a><br/>Synced 5 W&B file(s), 1 media file(s), 1 artifact file(s) and 0 other file(s)"
            ],
            "text/plain": [
              "<IPython.core.display.HTML object>"
            ]
          },
          "metadata": {},
          "output_type": "display_data"
        },
        {
          "data": {
            "text/html": [
              "Find logs at: <code>./wandb/run-20231110_050950-1nmb6lbv/logs</code>"
            ],
            "text/plain": [
              "<IPython.core.display.HTML object>"
            ]
          },
          "metadata": {},
          "output_type": "display_data"
        }
      ],
      "source": [
        "tokenize_train_evaluate_log(new_training_args, checkpoint, base_folder,train_val_dataset, class_tensor_weights)"
      ]
    },
    {
      "cell_type": "markdown",
      "id": "S9vRp4idumIe",
      "metadata": {
        "id": "S9vRp4idumIe"
      },
      "source": [
        "## Experiment 4 : distilbert-base-uncased\n",
        "2 epochs  gradient_accumulation_steps=4"
      ]
    },
    {
      "cell_type": "markdown",
      "id": "ib3UlJLpumIe",
      "metadata": {
        "id": "ib3UlJLpumIe"
      },
      "source": [
        "### Trainer hyperparameters"
      ]
    },
    {
      "cell_type": "code",
      "execution_count": null,
      "id": "zYAZ9tjpumIe",
      "metadata": {
        "id": "zYAZ9tjpumIe"
      },
      "outputs": [],
      "source": [
        "checkpoint = \"distilbert-base-uncased\"\n",
        "training_args_dict = training_args.to_dict() # Convert TrainingArguments to dictionary\n",
        "training_args_dict['run_name'] = f'{checkpoint}-{3817}-2epochs' # Update the run_name\n",
        "new_training_args = TrainingArguments(**training_args_dict)"
      ]
    },
    {
      "cell_type": "code",
      "execution_count": null,
      "id": "lJuHYTqJumIf",
      "metadata": {
        "colab": {
          "base_uri": "https://localhost:8080/",
          "height": 1000,
          "referenced_widgets": [
            "4290550404ac4dcb8820a0e132bce857",
            "d459401c80104c37aa6cef45a27aff65",
            "22f2e784e8df42f78336c49804885660",
            "8255c296b55f450db6bc1383145a6735",
            "b364748e094644faab970ba63356e637",
            "91a23b61279d47e284c89dc3b0c5ec17",
            "29f4d469de8246c0a0e3b3728f30dafe",
            "6e8a56360e4e45d5849fbbfefd7705b6"
          ]
        },
        "id": "lJuHYTqJumIf",
        "outputId": "64ca832b-606c-42af-9ba3-25c757d4cccc"
      },
      "outputs": [
        {
          "name": "stdout",
          "output_type": "stream",
          "text": [
            "env: WANDB_PROJECT=nlp_course-HW7-Part-B\n"
          ]
        },
        {
          "name": "stderr",
          "output_type": "stream",
          "text": [
            "Some weights of DistilBertForSequenceClassification were not initialized from the model checkpoint at distilbert-base-uncased and are newly initialized: ['classifier.weight', 'pre_classifier.weight', 'classifier.bias', 'pre_classifier.bias']\n",
            "You should probably TRAIN this model on a down-stream task to be able to use it for predictions and inference.\n"
          ]
        },
        {
          "data": {
            "text/html": [
              "Changes to your `wandb` environment variables will be ignored because your `wandb` session has already started. For more information on how to modify your settings with `wandb.init()` arguments, please refer to <a href='https://wandb.me/wandb-init' target=\"_blank\">the W&B docs</a>."
            ],
            "text/plain": [
              "<IPython.core.display.HTML object>"
            ]
          },
          "metadata": {},
          "output_type": "display_data"
        },
        {
          "data": {
            "text/html": [
              "Tracking run with wandb version 0.16.0"
            ],
            "text/plain": [
              "<IPython.core.display.HTML object>"
            ]
          },
          "metadata": {},
          "output_type": "display_data"
        },
        {
          "data": {
            "text/html": [
              "Run data is saved locally in <code>/content/wandb/run-20231110_053948-7ipg5eyv</code>"
            ],
            "text/plain": [
              "<IPython.core.display.HTML object>"
            ]
          },
          "metadata": {},
          "output_type": "display_data"
        },
        {
          "data": {
            "text/html": [
              "Syncing run <strong><a href='https://wandb.ai/akshat_patil/nlp_course-HW7-Part-B/runs/7ipg5eyv' target=\"_blank\">distilbert-base-uncased-3817-2epochs</a></strong> to <a href='https://wandb.ai/akshat_patil/nlp_course-HW7-Part-B' target=\"_blank\">Weights & Biases</a> (<a href='https://wandb.me/run' target=\"_blank\">docs</a>)<br/>"
            ],
            "text/plain": [
              "<IPython.core.display.HTML object>"
            ]
          },
          "metadata": {},
          "output_type": "display_data"
        },
        {
          "data": {
            "text/html": [
              " View project at <a href='https://wandb.ai/akshat_patil/nlp_course-HW7-Part-B' target=\"_blank\">https://wandb.ai/akshat_patil/nlp_course-HW7-Part-B</a>"
            ],
            "text/plain": [
              "<IPython.core.display.HTML object>"
            ]
          },
          "metadata": {},
          "output_type": "display_data"
        },
        {
          "data": {
            "text/html": [
              " View run at <a href='https://wandb.ai/akshat_patil/nlp_course-HW7-Part-B/runs/7ipg5eyv' target=\"_blank\">https://wandb.ai/akshat_patil/nlp_course-HW7-Part-B/runs/7ipg5eyv</a>"
            ],
            "text/plain": [
              "<IPython.core.display.HTML object>"
            ]
          },
          "metadata": {},
          "output_type": "display_data"
        },
        {
          "data": {
            "text/html": [
              "\n",
              "    <div>\n",
              "      \n",
              "      <progress value='238' max='238' style='width:300px; height:20px; vertical-align: middle;'></progress>\n",
              "      [238/238 18:22, Epoch 1/2]\n",
              "    </div>\n",
              "    <table border=\"1\" class=\"dataframe\">\n",
              "  <thead>\n",
              " <tr style=\"text-align: left;\">\n",
              "      <th>Step</th>\n",
              "      <th>Training Loss</th>\n",
              "      <th>Validation Loss</th>\n",
              "    </tr>\n",
              "  </thead>\n",
              "  <tbody>\n",
              "    <tr>\n",
              "      <td>20</td>\n",
              "      <td>2.198200</td>\n",
              "      <td>2.081406</td>\n",
              "    </tr>\n",
              "    <tr>\n",
              "      <td>40</td>\n",
              "      <td>1.996600</td>\n",
              "      <td>1.832880</td>\n",
              "    </tr>\n",
              "    <tr>\n",
              "      <td>60</td>\n",
              "      <td>1.733600</td>\n",
              "      <td>1.551164</td>\n",
              "    </tr>\n",
              "    <tr>\n",
              "      <td>80</td>\n",
              "      <td>1.497500</td>\n",
              "      <td>1.360465</td>\n",
              "    </tr>\n",
              "    <tr>\n",
              "      <td>100</td>\n",
              "      <td>1.288100</td>\n",
              "      <td>1.197248</td>\n",
              "    </tr>\n",
              "    <tr>\n",
              "      <td>120</td>\n",
              "      <td>1.192600</td>\n",
              "      <td>1.079965</td>\n",
              "    </tr>\n",
              "    <tr>\n",
              "      <td>140</td>\n",
              "      <td>1.041000</td>\n",
              "      <td>0.991629</td>\n",
              "    </tr>\n",
              "    <tr>\n",
              "      <td>160</td>\n",
              "      <td>0.990900</td>\n",
              "      <td>0.918664</td>\n",
              "    </tr>\n",
              "    <tr>\n",
              "      <td>180</td>\n",
              "      <td>0.913400</td>\n",
              "      <td>0.876500</td>\n",
              "    </tr>\n",
              "    <tr>\n",
              "      <td>200</td>\n",
              "      <td>0.901200</td>\n",
              "      <td>0.844422</td>\n",
              "    </tr>\n",
              "    <tr>\n",
              "      <td>220</td>\n",
              "      <td>0.860900</td>\n",
              "      <td>0.817926</td>\n",
              "    </tr>\n",
              "  </tbody>\n",
              "</table><p>"
            ],
            "text/plain": [
              "<IPython.core.display.HTML object>"
            ]
          },
          "metadata": {},
          "output_type": "display_data"
        },
        {
          "data": {
            "image/png": "[encoded data removed]",
            "text/plain": [
              "<Figure size 800x600 with 2 Axes>"
            ]
          },
          "metadata": {},
          "output_type": "display_data"
        },
        {
          "name": "stdout",
          "output_type": "stream",
          "text": [
            "Train Metrics: {'accuracy': 0.8862981399004454, 'f1_macro': 0.8335169118092554, 'f1_weighted': 0.8791950388019903}\n",
            "Validation Metrics: {'accuracy': 0.8862981399004454, 'f1_macro': 0.8335169118092554, 'f1_weighted': 0.8791950388019903}\n"
          ]
        },
        {
          "data": {
            "application/vnd.jupyter.widget-view+json": {
              "model_id": "4290550404ac4dcb8820a0e132bce857",
              "version_major": 2,
              "version_minor": 0
            },
            "text/plain": [
              "VBox(children=(Label(value='0.004 MB of 0.007 MB uploaded\\r'), FloatProgress(value=0.6186947848389854, max=1.0…"
            ]
          },
          "metadata": {},
          "output_type": "display_data"
        },
        {
          "data": {
            "text/html": [
              "<style>\n",
              "    table.wandb td:nth-child(1) { padding: 0 10px; text-align: left ; width: auto;} td:nth-child(2) {text-align: left ; width: 100%}\n",
              "    .wandb-row { display: flex; flex-direction: row; flex-wrap: wrap; justify-content: flex-start; width: 100% }\n",
              "    .wandb-col { display: flex; flex-direction: column; flex-basis: 100%; flex: 1; padding: 10px; }\n",
              "    </style>\n",
              "<div class=\"wandb-row\"><div class=\"wandb-col\"><h3>Run history:</h3><br/><table class=\"wandb\"><tr><td>eval/loss</td><td>█▇▅▄▃▂▂▂▁▁▁</td></tr><tr><td>eval/runtime</td><td>▁█▅█▇▇▇▇▇▇▇</td></tr><tr><td>eval/samples_per_second</td><td>█▁▄▁▂▂▂▂▂▂▂</td></tr><tr><td>eval/steps_per_second</td><td>█▁▄▁▂▂▂▂▂▂▂</td></tr><tr><td>train/epoch</td><td>▁▁▂▂▂▂▃▃▄▄▄▄▅▅▆▆▆▆▇▇▇▇█</td></tr><tr><td>train/global_step</td><td>▁▁▂▂▂▂▃▃▄▄▄▄▅▅▅▅▆▆▇▇▇▇██</td></tr><tr><td>train/learning_rate</td><td>█▇▇▆▅▄▄▃▂▂▁</td></tr><tr><td>train/loss</td><td>█▇▆▄▃▃▂▂▁▁▁</td></tr><tr><td>train/total_flos</td><td>▁</td></tr><tr><td>train/train_loss</td><td>▁</td></tr><tr><td>train/train_runtime</td><td>▁</td></tr><tr><td>train/train_samples_per_second</td><td>▁</td></tr><tr><td>train/train_steps_per_second</td><td>▁</td></tr></table><br/></div><div class=\"wandb-col\"><h3>Run summary:</h3><br/><table class=\"wandb\"><tr><td>eval/loss</td><td>0.81793</td></tr><tr><td>eval/runtime</td><td>17.1648</td></tr><tr><td>eval/samples_per_second</td><td>27.79</td></tr><tr><td>eval/steps_per_second</td><td>3.496</td></tr><tr><td>train/epoch</td><td>1.99</td></tr><tr><td>train/global_step</td><td>238</td></tr><tr><td>train/learning_rate</td><td>0.0</td></tr><tr><td>train/loss</td><td>0.8609</td></tr><tr><td>train/total_flos</td><td>5237978261913600.0</td></tr><tr><td>train/train_loss</td><td>1.29177</td></tr><tr><td>train/train_runtime</td><td>1108.3019</td></tr><tr><td>train/train_samples_per_second</td><td>6.888</td></tr><tr><td>train/train_steps_per_second</td><td>0.215</td></tr></table><br/></div></div>"
            ],
            "text/plain": [
              "<IPython.core.display.HTML object>"
            ]
          },
          "metadata": {},
          "output_type": "display_data"
        },
        {
          "data": {
            "text/html": [
              " View run <strong style=\"color:#cdcd00\">distilbert-base-uncased-3817-2epochs</strong> at: <a href='https://wandb.ai/akshat_patil/nlp_course-HW7-Part-B/runs/7ipg5eyv' target=\"_blank\">https://wandb.ai/akshat_patil/nlp_course-HW7-Part-B/runs/7ipg5eyv</a><br/>Synced 5 W&B file(s), 1 media file(s), 1 artifact file(s) and 0 other file(s)"
            ],
            "text/plain": [
              "<IPython.core.display.HTML object>"
            ]
          },
          "metadata": {},
          "output_type": "display_data"
        },
        {
          "data": {
            "text/html": [
              "Find logs at: <code>./wandb/run-20231110_053948-7ipg5eyv/logs</code>"
            ],
            "text/plain": [
              "<IPython.core.display.HTML object>"
            ]
          },
          "metadata": {},
          "output_type": "display_data"
        }
      ],
      "source": [
        "tokenize_train_evaluate_log(new_training_args, checkpoint, base_folder,train_val_dataset, class_tensor_weights)"
      ]
    },
    {
      "cell_type": "markdown",
      "id": "KMX8w6FqEi0x",
      "metadata": {
        "id": "KMX8w6FqEi0x"
      },
      "source": [
        "## Experiment 5 : bert-base-uncased"
      ]
    },
    {
      "cell_type": "markdown",
      "id": "dfPP0C-DEi0y",
      "metadata": {
        "id": "dfPP0C-DEi0y"
      },
      "source": [
        "### Trainer hyperparameters"
      ]
    },
    {
      "cell_type": "code",
      "execution_count": null,
      "id": "tJIQRan6Ei0y",
      "metadata": {
        "id": "tJIQRan6Ei0y"
      },
      "outputs": [],
      "source": [
        "checkpoint = \"bert-base-uncased\"\n",
        "training_args_dict = training_args.to_dict() # Convert TrainingArguments to dictionary\n",
        "training_args_dict['run_name'] = f'{checkpoint}-{3817}' # Update the run_name\n",
        "new_training_args = TrainingArguments(**training_args_dict)"
      ]
    },
    {
      "cell_type": "code",
      "execution_count": null,
      "id": "egTywK1FEi0y",
      "metadata": {
        "colab": {
          "base_uri": "https://localhost:8080/",
          "height": 1000,
          "referenced_widgets": [
            "014403f72ea143869889d98b851f4fb3",
            "f034bd62a7ee4ef788239825b5673aa2",
            "007d0f1b7dba47cabe477d0f66767de8",
            "883e3cf88bd64ec2b864b97ea0c56ec3",
            "7d4076615b1a4ea09e9300fd5dcfc341",
            "d55c58b98c9b4ecfbf68a0c89ca4d7e3",
            "31deb31b1b8d4ec1832e79c6b53b71dd",
            "9a3da0c21c2e446791d867adf6c44b92"
          ]
        },
        "id": "egTywK1FEi0y",
        "outputId": "6d79b90f-665e-4e29-d7e6-b0584cf4033b"
      },
      "outputs": [
        {
          "name": "stdout",
          "output_type": "stream",
          "text": [
            "env: WANDB_PROJECT=nlp_course-HW7-Part-B\n"
          ]
        },
        {
          "name": "stderr",
          "output_type": "stream",
          "text": [
            "Some weights of BertForSequenceClassification were not initialized from the model checkpoint at bert-base-uncased and are newly initialized: ['classifier.bias', 'classifier.weight']\n",
            "You should probably TRAIN this model on a down-stream task to be able to use it for predictions and inference.\n"
          ]
        },
        {
          "data": {
            "text/html": [
              "Changes to your `wandb` environment variables will be ignored because your `wandb` session has already started. For more information on how to modify your settings with `wandb.init()` arguments, please refer to <a href='https://wandb.me/wandb-init' target=\"_blank\">the W&B docs</a>."
            ],
            "text/plain": [
              "<IPython.core.display.HTML object>"
            ]
          },
          "metadata": {},
          "output_type": "display_data"
        },
        {
          "data": {
            "text/html": [
              "Tracking run with wandb version 0.16.0"
            ],
            "text/plain": [
              "<IPython.core.display.HTML object>"
            ]
          },
          "metadata": {},
          "output_type": "display_data"
        },
        {
          "data": {
            "text/html": [
              "Run data is saved locally in <code>/content/wandb/run-20231110_025313-1q66rjtw</code>"
            ],
            "text/plain": [
              "<IPython.core.display.HTML object>"
            ]
          },
          "metadata": {},
          "output_type": "display_data"
        },
        {
          "data": {
            "text/html": [
              "Syncing run <strong><a href='https://wandb.ai/akshat_patil/nlp_course-HW7-Part-B/runs/1q66rjtw' target=\"_blank\">bert-base-uncased-3817</a></strong> to <a href='https://wandb.ai/akshat_patil/nlp_course-HW7-Part-B' target=\"_blank\">Weights & Biases</a> (<a href='https://wandb.me/run' target=\"_blank\">docs</a>)<br/>"
            ],
            "text/plain": [
              "<IPython.core.display.HTML object>"
            ]
          },
          "metadata": {},
          "output_type": "display_data"
        },
        {
          "data": {
            "text/html": [
              " View project at <a href='https://wandb.ai/akshat_patil/nlp_course-HW7-Part-B' target=\"_blank\">https://wandb.ai/akshat_patil/nlp_course-HW7-Part-B</a>"
            ],
            "text/plain": [
              "<IPython.core.display.HTML object>"
            ]
          },
          "metadata": {},
          "output_type": "display_data"
        },
        {
          "data": {
            "text/html": [
              " View run at <a href='https://wandb.ai/akshat_patil/nlp_course-HW7-Part-B/runs/1q66rjtw' target=\"_blank\">https://wandb.ai/akshat_patil/nlp_course-HW7-Part-B/runs/1q66rjtw</a>"
            ],
            "text/plain": [
              "<IPython.core.display.HTML object>"
            ]
          },
          "metadata": {},
          "output_type": "display_data"
        },
        {
          "name": "stderr",
          "output_type": "stream",
          "text": [
            "/usr/local/lib/python3.10/dist-packages/torch/utils/checkpoint.py:429: UserWarning: torch.utils.checkpoint: please pass in use_reentrant=True or use_reentrant=False explicitly. The default value of use_reentrant will be updated to be False in the future. To maintain current behavior, pass use_reentrant=True. It is recommended that you use use_reentrant=False. Refer to docs for more details on the differences between the two variants.\n",
            "  warnings.warn(\n"
          ]
        },
        {
          "data": {
            "text/html": [
              "\n",
              "    <div>\n",
              "      \n",
              "      <progress value='478' max='478' style='width:300px; height:20px; vertical-align: middle;'></progress>\n",
              "      [478/478 44:06, Epoch 2/2]\n",
              "    </div>\n",
              "    <table border=\"1\" class=\"dataframe\">\n",
              "  <thead>\n",
              " <tr style=\"text-align: left;\">\n",
              "      <th>Step</th>\n",
              "      <th>Training Loss</th>\n",
              "      <th>Validation Loss</th>\n",
              "    </tr>\n",
              "  </thead>\n",
              "  <tbody>\n",
              "    <tr>\n",
              "      <td>20</td>\n",
              "      <td>2.268100</td>\n",
              "      <td>2.187834</td>\n",
              "    </tr>\n",
              "    <tr>\n",
              "      <td>40</td>\n",
              "      <td>2.129000</td>\n",
              "      <td>2.014537</td>\n",
              "    </tr>\n",
              "    <tr>\n",
              "      <td>60</td>\n",
              "      <td>2.001600</td>\n",
              "      <td>1.894193</td>\n",
              "    </tr>\n",
              "    <tr>\n",
              "      <td>80</td>\n",
              "      <td>1.904300</td>\n",
              "      <td>1.811869</td>\n",
              "    </tr>\n",
              "    <tr>\n",
              "      <td>100</td>\n",
              "      <td>1.801200</td>\n",
              "      <td>1.724657</td>\n",
              "    </tr>\n",
              "    <tr>\n",
              "      <td>120</td>\n",
              "      <td>1.642400</td>\n",
              "      <td>1.557206</td>\n",
              "    </tr>\n",
              "    <tr>\n",
              "      <td>140</td>\n",
              "      <td>1.586700</td>\n",
              "      <td>1.443697</td>\n",
              "    </tr>\n",
              "    <tr>\n",
              "      <td>160</td>\n",
              "      <td>1.486500</td>\n",
              "      <td>1.348230</td>\n",
              "    </tr>\n",
              "    <tr>\n",
              "      <td>180</td>\n",
              "      <td>1.419100</td>\n",
              "      <td>1.266024</td>\n",
              "    </tr>\n",
              "    <tr>\n",
              "      <td>200</td>\n",
              "      <td>1.263800</td>\n",
              "      <td>1.221861</td>\n",
              "    </tr>\n",
              "    <tr>\n",
              "      <td>220</td>\n",
              "      <td>1.273400</td>\n",
              "      <td>1.162059</td>\n",
              "    </tr>\n",
              "    <tr>\n",
              "      <td>240</td>\n",
              "      <td>1.192000</td>\n",
              "      <td>1.112999</td>\n",
              "    </tr>\n",
              "    <tr>\n",
              "      <td>260</td>\n",
              "      <td>1.110600</td>\n",
              "      <td>1.047297</td>\n",
              "    </tr>\n",
              "    <tr>\n",
              "      <td>280</td>\n",
              "      <td>1.108200</td>\n",
              "      <td>1.017636</td>\n",
              "    </tr>\n",
              "    <tr>\n",
              "      <td>300</td>\n",
              "      <td>1.069200</td>\n",
              "      <td>0.966078</td>\n",
              "    </tr>\n",
              "    <tr>\n",
              "      <td>320</td>\n",
              "      <td>0.961200</td>\n",
              "      <td>0.968775</td>\n",
              "    </tr>\n",
              "    <tr>\n",
              "      <td>340</td>\n",
              "      <td>1.018300</td>\n",
              "      <td>0.927057</td>\n",
              "    </tr>\n",
              "    <tr>\n",
              "      <td>360</td>\n",
              "      <td>0.963600</td>\n",
              "      <td>0.898091</td>\n",
              "    </tr>\n",
              "    <tr>\n",
              "      <td>380</td>\n",
              "      <td>0.900700</td>\n",
              "      <td>0.878045</td>\n",
              "    </tr>\n",
              "    <tr>\n",
              "      <td>400</td>\n",
              "      <td>0.936300</td>\n",
              "      <td>0.866876</td>\n",
              "    </tr>\n",
              "    <tr>\n",
              "      <td>420</td>\n",
              "      <td>0.971900</td>\n",
              "      <td>0.847937</td>\n",
              "    </tr>\n",
              "    <tr>\n",
              "      <td>440</td>\n",
              "      <td>0.893300</td>\n",
              "      <td>0.843712</td>\n",
              "    </tr>\n",
              "    <tr>\n",
              "      <td>460</td>\n",
              "      <td>0.912200</td>\n",
              "      <td>0.834071</td>\n",
              "    </tr>\n",
              "  </tbody>\n",
              "</table><p>"
            ],
            "text/plain": [
              "<IPython.core.display.HTML object>"
            ]
          },
          "metadata": {},
          "output_type": "display_data"
        },
        {
          "data": {
            "image/png": "[encoded data removed]",
            "text/plain": [
              "<Figure size 800x600 with 2 Axes>"
            ]
          },
          "metadata": {},
          "output_type": "display_data"
        },
        {
          "name": "stdout",
          "output_type": "stream",
          "text": [
            "Train Metrics: {'accuracy': 0.8878700550170291, 'f1_macro': 0.8366657763741212, 'f1_weighted': 0.8818913695990467}\n",
            "Validation Metrics: {'accuracy': 0.8878700550170291, 'f1_macro': 0.8366657763741212, 'f1_weighted': 0.8818913695990467}\n"
          ]
        },
        {
          "data": {
            "application/vnd.jupyter.widget-view+json": {
              "model_id": "014403f72ea143869889d98b851f4fb3",
              "version_major": 2,
              "version_minor": 0
            },
            "text/plain": [
              "VBox(children=(Label(value='0.004 MB of 0.007 MB uploaded\\r'), FloatProgress(value=0.6187963491158015, max=1.0…"
            ]
          },
          "metadata": {},
          "output_type": "display_data"
        },
        {
          "data": {
            "text/html": [
              "<style>\n",
              "    table.wandb td:nth-child(1) { padding: 0 10px; text-align: left ; width: auto;} td:nth-child(2) {text-align: left ; width: 100%}\n",
              "    .wandb-row { display: flex; flex-direction: row; flex-wrap: wrap; justify-content: flex-start; width: 100% }\n",
              "    .wandb-col { display: flex; flex-direction: column; flex-basis: 100%; flex: 1; padding: 10px; }\n",
              "    </style>\n",
              "<div class=\"wandb-row\"><div class=\"wandb-col\"><h3>Run history:</h3><br/><table class=\"wandb\"><tr><td>eval/loss</td><td>█▇▆▆▆▅▄▄▃▃▃▂▂▂▂▂▁▁▁▁▁▁▁</td></tr><tr><td>eval/runtime</td><td>▁▂▄▅▅▆▅▅▆█▅▆▆▅▆▆▆▆█▆▆▅▅</td></tr><tr><td>eval/samples_per_second</td><td>█▆▅▄▃▃▄▃▃▁▄▃▃▃▃▃▃▃▁▃▃▄▄</td></tr><tr><td>eval/steps_per_second</td><td>█▆▅▄▃▃▄▃▃▁▄▃▃▃▃▃▃▃▁▃▃▄▄</td></tr><tr><td>train/epoch</td><td>▁▁▁▁▂▂▂▂▂▃▃▃▃▃▃▃▄▄▄▄▄▅▅▅▅▅▆▆▆▆▆▇▇▇▇▇▇▇██</td></tr><tr><td>train/global_step</td><td>▁▁▁▁▂▂▂▂▂▃▃▃▃▃▃▄▄▄▄▄▅▅▅▅▅▆▆▆▆▆▇▇▇▇▇▇▇███</td></tr><tr><td>train/learning_rate</td><td>██▇▇▇▆▆▆▅▅▅▄▄▄▄▃▃▃▂▂▂▁▁</td></tr><tr><td>train/loss</td><td>█▇▇▆▆▅▅▄▄▃▃▃▂▂▂▁▂▁▁▁▁▁▁</td></tr><tr><td>train/total_flos</td><td>▁</td></tr><tr><td>train/train_loss</td><td>▁</td></tr><tr><td>train/train_runtime</td><td>▁</td></tr><tr><td>train/train_samples_per_second</td><td>▁</td></tr><tr><td>train/train_steps_per_second</td><td>▁</td></tr></table><br/></div><div class=\"wandb-col\"><h3>Run summary:</h3><br/><table class=\"wandb\"><tr><td>eval/loss</td><td>0.83407</td></tr><tr><td>eval/runtime</td><td>32.8699</td></tr><tr><td>eval/samples_per_second</td><td>14.512</td></tr><tr><td>eval/steps_per_second</td><td>1.825</td></tr><tr><td>train/epoch</td><td>2.0</td></tr><tr><td>train/global_step</td><td>478</td></tr><tr><td>train/learning_rate</td><td>0.0</td></tr><tr><td>train/loss</td><td>0.9122</td></tr><tr><td>train/total_flos</td><td>1.043573398769664e+16</td></tr><tr><td>train/train_loss</td><td>1.32508</td></tr><tr><td>train/train_runtime</td><td>2651.7595</td></tr><tr><td>train/train_samples_per_second</td><td>2.879</td></tr><tr><td>train/train_steps_per_second</td><td>0.18</td></tr></table><br/></div></div>"
            ],
            "text/plain": [
              "<IPython.core.display.HTML object>"
            ]
          },
          "metadata": {},
          "output_type": "display_data"
        },
        {
          "data": {
            "text/html": [
              " View run <strong style=\"color:#cdcd00\">bert-base-uncased-3817</strong> at: <a href='https://wandb.ai/akshat_patil/nlp_course-HW7-Part-B/runs/1q66rjtw' target=\"_blank\">https://wandb.ai/akshat_patil/nlp_course-HW7-Part-B/runs/1q66rjtw</a><br/>Synced 5 W&B file(s), 1 media file(s), 1 artifact file(s) and 0 other file(s)"
            ],
            "text/plain": [
              "<IPython.core.display.HTML object>"
            ]
          },
          "metadata": {},
          "output_type": "display_data"
        },
        {
          "data": {
            "text/html": [
              "Find logs at: <code>./wandb/run-20231110_025313-1q66rjtw/logs</code>"
            ],
            "text/plain": [
              "<IPython.core.display.HTML object>"
            ]
          },
          "metadata": {},
          "output_type": "display_data"
        }
      ],
      "source": [
        "tokenize_train_evaluate_log(new_training_args, checkpoint, base_folder,train_val_dataset, class_tensor_weights)"
      ]
    }
  ],
  "metadata": {
    "accelerator": "GPU",
    "colab": {
      "gpuType": "T4",
      "machine_shape": "hm",
      "provenance": [],
      "toc_visible": true
    },
    "kernelspec": {
      "display_name": "Python 3",
      "name": "python3"
    },
    "language_info": {
      "codemirror_mode": {
        "name": "ipython",
        "version": 3
      },
      "file_extension": ".py",
      "mimetype": "text/x-python",
      "name": "python",
      "nbconvert_exporter": "python",
      "pygments_lexer": "ipython3",
      "version": "3.10.10"
    },
    "widgets": {
      "application/vnd.jupyter.widget-state+json": {
        "007d0f1b7dba47cabe477d0f66767de8": {
          "model_module": "@jupyter-widgets/controls",
          "model_module_version": "1.5.0",
          "model_name": "FloatProgressModel",
          "state": {
            "_dom_classes": [],
            "_model_module": "@jupyter-widgets/controls",
            "_model_module_version": "1.5.0",
            "_model_name": "FloatProgressModel",
            "_view_count": null,
            "_view_module": "@jupyter-widgets/controls",
            "_view_module_version": "1.5.0",
            "_view_name": "ProgressView",
            "bar_style": "",
            "description": "",
            "description_tooltip": null,
            "layout": "IPY_MODEL_31deb31b1b8d4ec1832e79c6b53b71dd",
            "max": 1,
            "min": 0,
            "orientation": "horizontal",
            "style": "IPY_MODEL_9a3da0c21c2e446791d867adf6c44b92",
            "value": 1
          }
        },
        "014403f72ea143869889d98b851f4fb3": {
          "model_module": "@jupyter-widgets/controls",
          "model_module_version": "1.5.0",
          "model_name": "VBoxModel",
          "state": {
            "_dom_classes": [],
            "_model_module": "@jupyter-widgets/controls",
            "_model_module_version": "1.5.0",
            "_model_name": "VBoxModel",
            "_view_count": null,
            "_view_module": "@jupyter-widgets/controls",
            "_view_module_version": "1.5.0",
            "_view_name": "VBoxView",
            "box_style": "",
            "children": [
              "IPY_MODEL_f034bd62a7ee4ef788239825b5673aa2",
              "IPY_MODEL_007d0f1b7dba47cabe477d0f66767de8"
            ],
            "layout": "IPY_MODEL_883e3cf88bd64ec2b864b97ea0c56ec3"
          }
        },
        "0825c91e2f2a4d37870897dbd59f852e": {
          "model_module": "@jupyter-widgets/base",
          "model_module_version": "1.2.0",
          "model_name": "LayoutModel",
          "state": {
            "_model_module": "@jupyter-widgets/base",
            "_model_module_version": "1.2.0",
            "_model_name": "LayoutModel",
            "_view_count": null,
            "_view_module": "@jupyter-widgets/base",
            "_view_module_version": "1.2.0",
            "_view_name": "LayoutView",
            "align_content": null,
            "align_items": null,
            "align_self": null,
            "border": null,
            "bottom": null,
            "display": null,
            "flex": null,
            "flex_flow": null,
            "grid_area": null,
            "grid_auto_columns": null,
            "grid_auto_flow": null,
            "grid_auto_rows": null,
            "grid_column": null,
            "grid_gap": null,
            "grid_row": null,
            "grid_template_areas": null,
            "grid_template_columns": null,
            "grid_template_rows": null,
            "height": null,
            "justify_content": null,
            "justify_items": null,
            "left": null,
            "margin": null,
            "max_height": null,
            "max_width": null,
            "min_height": null,
            "min_width": null,
            "object_fit": null,
            "object_position": null,
            "order": null,
            "overflow": null,
            "overflow_x": null,
            "overflow_y": null,
            "padding": null,
            "right": null,
            "top": null,
            "visibility": null,
            "width": null
          }
        },
        "086934ea6fc447fda886f4baccfbcc5e": {
          "model_module": "@jupyter-widgets/base",
          "model_module_version": "1.2.0",
          "model_name": "LayoutModel",
          "state": {
            "_model_module": "@jupyter-widgets/base",
            "_model_module_version": "1.2.0",
            "_model_name": "LayoutModel",
            "_view_count": null,
            "_view_module": "@jupyter-widgets/base",
            "_view_module_version": "1.2.0",
            "_view_name": "LayoutView",
            "align_content": null,
            "align_items": null,
            "align_self": null,
            "border": null,
            "bottom": null,
            "display": null,
            "flex": null,
            "flex_flow": null,
            "grid_area": null,
            "grid_auto_columns": null,
            "grid_auto_flow": null,
            "grid_auto_rows": null,
            "grid_column": null,
            "grid_gap": null,
            "grid_row": null,
            "grid_template_areas": null,
            "grid_template_columns": null,
            "grid_template_rows": null,
            "height": null,
            "justify_content": null,
            "justify_items": null,
            "left": null,
            "margin": null,
            "max_height": null,
            "max_width": null,
            "min_height": null,
            "min_width": null,
            "object_fit": null,
            "object_position": null,
            "order": null,
            "overflow": null,
            "overflow_x": null,
            "overflow_y": null,
            "padding": null,
            "right": null,
            "top": null,
            "visibility": null,
            "width": null
          }
        },
        "08ce12e9e71c4701955820dc52d4aff7": {
          "model_module": "@jupyter-widgets/controls",
          "model_module_version": "1.5.0",
          "model_name": "FloatProgressModel",
          "state": {
            "_dom_classes": [],
            "_model_module": "@jupyter-widgets/controls",
            "_model_module_version": "1.5.0",
            "_model_name": "FloatProgressModel",
            "_view_count": null,
            "_view_module": "@jupyter-widgets/controls",
            "_view_module_version": "1.5.0",
            "_view_name": "ProgressView",
            "bar_style": "",
            "description": "",
            "description_tooltip": null,
            "layout": "IPY_MODEL_2021000b684047b9a8905d90d8fe8d28",
            "max": 1,
            "min": 0,
            "orientation": "horizontal",
            "style": "IPY_MODEL_cdc7b03bfd444f3f9cd5cf193bc47069",
            "value": 1
          }
        },
        "0c3d6972be5740c18bb30ffd7f861b60": {
          "model_module": "@jupyter-widgets/controls",
          "model_module_version": "1.5.0",
          "model_name": "HTMLModel",
          "state": {
            "_dom_classes": [],
            "_model_module": "@jupyter-widgets/controls",
            "_model_module_version": "1.5.0",
            "_model_name": "HTMLModel",
            "_view_count": null,
            "_view_module": "@jupyter-widgets/controls",
            "_view_module_version": "1.5.0",
            "_view_name": "HTMLView",
            "description": "",
            "description_tooltip": null,
            "layout": "IPY_MODEL_e61f898d0766491a8c7cc0f6ede11ad2",
            "placeholder": "​",
            "style": "IPY_MODEL_6940e9cd9cbd4ff4ab97877bbefc1594",
            "value": "Casting the dataset: 100%"
          }
        },
        "0d6588d585c247b19e63ac6f37c30cb8": {
          "model_module": "@jupyter-widgets/controls",
          "model_module_version": "1.5.0",
          "model_name": "ProgressStyleModel",
          "state": {
            "_model_module": "@jupyter-widgets/controls",
            "_model_module_version": "1.5.0",
            "_model_name": "ProgressStyleModel",
            "_view_count": null,
            "_view_module": "@jupyter-widgets/base",
            "_view_module_version": "1.2.0",
            "_view_name": "StyleView",
            "bar_color": null,
            "description_width": ""
          }
        },
        "19087984742e444bb708b592baa03240": {
          "model_module": "@jupyter-widgets/controls",
          "model_module_version": "1.5.0",
          "model_name": "DescriptionStyleModel",
          "state": {
            "_model_module": "@jupyter-widgets/controls",
            "_model_module_version": "1.5.0",
            "_model_name": "DescriptionStyleModel",
            "_view_count": null,
            "_view_module": "@jupyter-widgets/base",
            "_view_module_version": "1.2.0",
            "_view_name": "StyleView",
            "description_width": ""
          }
        },
        "2021000b684047b9a8905d90d8fe8d28": {
          "model_module": "@jupyter-widgets/base",
          "model_module_version": "1.2.0",
          "model_name": "LayoutModel",
          "state": {
            "_model_module": "@jupyter-widgets/base",
            "_model_module_version": "1.2.0",
            "_model_name": "LayoutModel",
            "_view_count": null,
            "_view_module": "@jupyter-widgets/base",
            "_view_module_version": "1.2.0",
            "_view_name": "LayoutView",
            "align_content": null,
            "align_items": null,
            "align_self": null,
            "border": null,
            "bottom": null,
            "display": null,
            "flex": null,
            "flex_flow": null,
            "grid_area": null,
            "grid_auto_columns": null,
            "grid_auto_flow": null,
            "grid_auto_rows": null,
            "grid_column": null,
            "grid_gap": null,
            "grid_row": null,
            "grid_template_areas": null,
            "grid_template_columns": null,
            "grid_template_rows": null,
            "height": null,
            "justify_content": null,
            "justify_items": null,
            "left": null,
            "margin": null,
            "max_height": null,
            "max_width": null,
            "min_height": null,
            "min_width": null,
            "object_fit": null,
            "object_position": null,
            "order": null,
            "overflow": null,
            "overflow_x": null,
            "overflow_y": null,
            "padding": null,
            "right": null,
            "top": null,
            "visibility": null,
            "width": null
          }
        },
        "22f2e784e8df42f78336c49804885660": {
          "model_module": "@jupyter-widgets/controls",
          "model_module_version": "1.5.0",
          "model_name": "FloatProgressModel",
          "state": {
            "_dom_classes": [],
            "_model_module": "@jupyter-widgets/controls",
            "_model_module_version": "1.5.0",
            "_model_name": "FloatProgressModel",
            "_view_count": null,
            "_view_module": "@jupyter-widgets/controls",
            "_view_module_version": "1.5.0",
            "_view_name": "ProgressView",
            "bar_style": "",
            "description": "",
            "description_tooltip": null,
            "layout": "IPY_MODEL_29f4d469de8246c0a0e3b3728f30dafe",
            "max": 1,
            "min": 0,
            "orientation": "horizontal",
            "style": "IPY_MODEL_6e8a56360e4e45d5849fbbfefd7705b6",
            "value": 1
          }
        },
        "274d5178abff4ca39b300673083fa3f5": {
          "model_module": "@jupyter-widgets/controls",
          "model_module_version": "1.5.0",
          "model_name": "FloatProgressModel",
          "state": {
            "_dom_classes": [],
            "_model_module": "@jupyter-widgets/controls",
            "_model_module_version": "1.5.0",
            "_model_name": "FloatProgressModel",
            "_view_count": null,
            "_view_module": "@jupyter-widgets/controls",
            "_view_module_version": "1.5.0",
            "_view_name": "ProgressView",
            "bar_style": "success",
            "description": "",
            "description_tooltip": null,
            "layout": "IPY_MODEL_0825c91e2f2a4d37870897dbd59f852e",
            "max": 188878,
            "min": 0,
            "orientation": "horizontal",
            "style": "IPY_MODEL_a29d66c43aeb44d8885389a3057f28c8",
            "value": 188878
          }
        },
        "29f4d469de8246c0a0e3b3728f30dafe": {
          "model_module": "@jupyter-widgets/base",
          "model_module_version": "1.2.0",
          "model_name": "LayoutModel",
          "state": {
            "_model_module": "@jupyter-widgets/base",
            "_model_module_version": "1.2.0",
            "_model_name": "LayoutModel",
            "_view_count": null,
            "_view_module": "@jupyter-widgets/base",
            "_view_module_version": "1.2.0",
            "_view_name": "LayoutView",
            "align_content": null,
            "align_items": null,
            "align_self": null,
            "border": null,
            "bottom": null,
            "display": null,
            "flex": null,
            "flex_flow": null,
            "grid_area": null,
            "grid_auto_columns": null,
            "grid_auto_flow": null,
            "grid_auto_rows": null,
            "grid_column": null,
            "grid_gap": null,
            "grid_row": null,
            "grid_template_areas": null,
            "grid_template_columns": null,
            "grid_template_rows": null,
            "height": null,
            "justify_content": null,
            "justify_items": null,
            "left": null,
            "margin": null,
            "max_height": null,
            "max_width": null,
            "min_height": null,
            "min_width": null,
            "object_fit": null,
            "object_position": null,
            "order": null,
            "overflow": null,
            "overflow_x": null,
            "overflow_y": null,
            "padding": null,
            "right": null,
            "top": null,
            "visibility": null,
            "width": null
          }
        },
        "31deb31b1b8d4ec1832e79c6b53b71dd": {
          "model_module": "@jupyter-widgets/base",
          "model_module_version": "1.2.0",
          "model_name": "LayoutModel",
          "state": {
            "_model_module": "@jupyter-widgets/base",
            "_model_module_version": "1.2.0",
            "_model_name": "LayoutModel",
            "_view_count": null,
            "_view_module": "@jupyter-widgets/base",
            "_view_module_version": "1.2.0",
            "_view_name": "LayoutView",
            "align_content": null,
            "align_items": null,
            "align_self": null,
            "border": null,
            "bottom": null,
            "display": null,
            "flex": null,
            "flex_flow": null,
            "grid_area": null,
            "grid_auto_columns": null,
            "grid_auto_flow": null,
            "grid_auto_rows": null,
            "grid_column": null,
            "grid_gap": null,
            "grid_row": null,
            "grid_template_areas": null,
            "grid_template_columns": null,
            "grid_template_rows": null,
            "height": null,
            "justify_content": null,
            "justify_items": null,
            "left": null,
            "margin": null,
            "max_height": null,
            "max_width": null,
            "min_height": null,
            "min_width": null,
            "object_fit": null,
            "object_position": null,
            "order": null,
            "overflow": null,
            "overflow_x": null,
            "overflow_y": null,
            "padding": null,
            "right": null,
            "top": null,
            "visibility": null,
            "width": null
          }
        },
        "32deb16b7ad746e2b8554defe1812efb": {
          "model_module": "@jupyter-widgets/controls",
          "model_module_version": "1.5.0",
          "model_name": "LabelModel",
          "state": {
            "_dom_classes": [],
            "_model_module": "@jupyter-widgets/controls",
            "_model_module_version": "1.5.0",
            "_model_name": "LabelModel",
            "_view_count": null,
            "_view_module": "@jupyter-widgets/controls",
            "_view_module_version": "1.5.0",
            "_view_name": "LabelView",
            "description": "",
            "description_tooltip": null,
            "layout": "IPY_MODEL_69b8b91561ec4f478baab4b5b501e1a7",
            "placeholder": "​",
            "style": "IPY_MODEL_d223f527a7d346859044cf1595f8d13f",
            "value": "0.028 MB of 0.028 MB uploaded\r"
          }
        },
        "41e74aaff2c045b19a4cfde07b5c9e8e": {
          "model_module": "@jupyter-widgets/base",
          "model_module_version": "1.2.0",
          "model_name": "LayoutModel",
          "state": {
            "_model_module": "@jupyter-widgets/base",
            "_model_module_version": "1.2.0",
            "_model_name": "LayoutModel",
            "_view_count": null,
            "_view_module": "@jupyter-widgets/base",
            "_view_module_version": "1.2.0",
            "_view_name": "LayoutView",
            "align_content": null,
            "align_items": null,
            "align_self": null,
            "border": null,
            "bottom": null,
            "display": null,
            "flex": null,
            "flex_flow": null,
            "grid_area": null,
            "grid_auto_columns": null,
            "grid_auto_flow": null,
            "grid_auto_rows": null,
            "grid_column": null,
            "grid_gap": null,
            "grid_row": null,
            "grid_template_areas": null,
            "grid_template_columns": null,
            "grid_template_rows": null,
            "height": null,
            "justify_content": null,
            "justify_items": null,
            "left": null,
            "margin": null,
            "max_height": null,
            "max_width": null,
            "min_height": null,
            "min_width": null,
            "object_fit": null,
            "object_position": null,
            "order": null,
            "overflow": null,
            "overflow_x": null,
            "overflow_y": null,
            "padding": null,
            "right": null,
            "top": null,
            "visibility": null,
            "width": null
          }
        },
        "4290550404ac4dcb8820a0e132bce857": {
          "model_module": "@jupyter-widgets/controls",
          "model_module_version": "1.5.0",
          "model_name": "VBoxModel",
          "state": {
            "_dom_classes": [],
            "_model_module": "@jupyter-widgets/controls",
            "_model_module_version": "1.5.0",
            "_model_name": "VBoxModel",
            "_view_count": null,
            "_view_module": "@jupyter-widgets/controls",
            "_view_module_version": "1.5.0",
            "_view_name": "VBoxView",
            "box_style": "",
            "children": [
              "IPY_MODEL_d459401c80104c37aa6cef45a27aff65",
              "IPY_MODEL_22f2e784e8df42f78336c49804885660"
            ],
            "layout": "IPY_MODEL_8255c296b55f450db6bc1383145a6735"
          }
        },
        "4e61db194d8f45d481ac39c0accd8778": {
          "model_module": "@jupyter-widgets/base",
          "model_module_version": "1.2.0",
          "model_name": "LayoutModel",
          "state": {
            "_model_module": "@jupyter-widgets/base",
            "_model_module_version": "1.2.0",
            "_model_name": "LayoutModel",
            "_view_count": null,
            "_view_module": "@jupyter-widgets/base",
            "_view_module_version": "1.2.0",
            "_view_name": "LayoutView",
            "align_content": null,
            "align_items": null,
            "align_self": null,
            "border": null,
            "bottom": null,
            "display": null,
            "flex": null,
            "flex_flow": null,
            "grid_area": null,
            "grid_auto_columns": null,
            "grid_auto_flow": null,
            "grid_auto_rows": null,
            "grid_column": null,
            "grid_gap": null,
            "grid_row": null,
            "grid_template_areas": null,
            "grid_template_columns": null,
            "grid_template_rows": null,
            "height": null,
            "justify_content": null,
            "justify_items": null,
            "left": null,
            "margin": null,
            "max_height": null,
            "max_width": null,
            "min_height": null,
            "min_width": null,
            "object_fit": null,
            "object_position": null,
            "order": null,
            "overflow": null,
            "overflow_x": null,
            "overflow_y": null,
            "padding": null,
            "right": null,
            "top": null,
            "visibility": null,
            "width": null
          }
        },
        "503e4fca8300416ebbbdd377ecfe80a5": {
          "model_module": "@jupyter-widgets/controls",
          "model_module_version": "1.5.0",
          "model_name": "ProgressStyleModel",
          "state": {
            "_model_module": "@jupyter-widgets/controls",
            "_model_module_version": "1.5.0",
            "_model_name": "ProgressStyleModel",
            "_view_count": null,
            "_view_module": "@jupyter-widgets/base",
            "_view_module_version": "1.2.0",
            "_view_name": "StyleView",
            "bar_color": null,
            "description_width": ""
          }
        },
        "6940e9cd9cbd4ff4ab97877bbefc1594": {
          "model_module": "@jupyter-widgets/controls",
          "model_module_version": "1.5.0",
          "model_name": "DescriptionStyleModel",
          "state": {
            "_model_module": "@jupyter-widgets/controls",
            "_model_module_version": "1.5.0",
            "_model_name": "DescriptionStyleModel",
            "_view_count": null,
            "_view_module": "@jupyter-widgets/base",
            "_view_module_version": "1.2.0",
            "_view_name": "StyleView",
            "description_width": ""
          }
        },
        "69b8b91561ec4f478baab4b5b501e1a7": {
          "model_module": "@jupyter-widgets/base",
          "model_module_version": "1.2.0",
          "model_name": "LayoutModel",
          "state": {
            "_model_module": "@jupyter-widgets/base",
            "_model_module_version": "1.2.0",
            "_model_name": "LayoutModel",
            "_view_count": null,
            "_view_module": "@jupyter-widgets/base",
            "_view_module_version": "1.2.0",
            "_view_name": "LayoutView",
            "align_content": null,
            "align_items": null,
            "align_self": null,
            "border": null,
            "bottom": null,
            "display": null,
            "flex": null,
            "flex_flow": null,
            "grid_area": null,
            "grid_auto_columns": null,
            "grid_auto_flow": null,
            "grid_auto_rows": null,
            "grid_column": null,
            "grid_gap": null,
            "grid_row": null,
            "grid_template_areas": null,
            "grid_template_columns": null,
            "grid_template_rows": null,
            "height": null,
            "justify_content": null,
            "justify_items": null,
            "left": null,
            "margin": null,
            "max_height": null,
            "max_width": null,
            "min_height": null,
            "min_width": null,
            "object_fit": null,
            "object_position": null,
            "order": null,
            "overflow": null,
            "overflow_x": null,
            "overflow_y": null,
            "padding": null,
            "right": null,
            "top": null,
            "visibility": null,
            "width": null
          }
        },
        "6e8a56360e4e45d5849fbbfefd7705b6": {
          "model_module": "@jupyter-widgets/controls",
          "model_module_version": "1.5.0",
          "model_name": "ProgressStyleModel",
          "state": {
            "_model_module": "@jupyter-widgets/controls",
            "_model_module_version": "1.5.0",
            "_model_name": "ProgressStyleModel",
            "_view_count": null,
            "_view_module": "@jupyter-widgets/base",
            "_view_module_version": "1.2.0",
            "_view_name": "StyleView",
            "bar_color": null,
            "description_width": ""
          }
        },
        "71175256ad384d66ae5e5ede77b1150c": {
          "model_module": "@jupyter-widgets/controls",
          "model_module_version": "1.5.0",
          "model_name": "DescriptionStyleModel",
          "state": {
            "_model_module": "@jupyter-widgets/controls",
            "_model_module_version": "1.5.0",
            "_model_name": "DescriptionStyleModel",
            "_view_count": null,
            "_view_module": "@jupyter-widgets/base",
            "_view_module_version": "1.2.0",
            "_view_name": "StyleView",
            "description_width": ""
          }
        },
        "73e700bb24db4c969bcf1433df6c4a90": {
          "model_module": "@jupyter-widgets/base",
          "model_module_version": "1.2.0",
          "model_name": "LayoutModel",
          "state": {
            "_model_module": "@jupyter-widgets/base",
            "_model_module_version": "1.2.0",
            "_model_name": "LayoutModel",
            "_view_count": null,
            "_view_module": "@jupyter-widgets/base",
            "_view_module_version": "1.2.0",
            "_view_name": "LayoutView",
            "align_content": null,
            "align_items": null,
            "align_self": null,
            "border": null,
            "bottom": null,
            "display": null,
            "flex": null,
            "flex_flow": null,
            "grid_area": null,
            "grid_auto_columns": null,
            "grid_auto_flow": null,
            "grid_auto_rows": null,
            "grid_column": null,
            "grid_gap": null,
            "grid_row": null,
            "grid_template_areas": null,
            "grid_template_columns": null,
            "grid_template_rows": null,
            "height": null,
            "justify_content": null,
            "justify_items": null,
            "left": null,
            "margin": null,
            "max_height": null,
            "max_width": null,
            "min_height": null,
            "min_width": null,
            "object_fit": null,
            "object_position": null,
            "order": null,
            "overflow": null,
            "overflow_x": null,
            "overflow_y": null,
            "padding": null,
            "right": null,
            "top": null,
            "visibility": null,
            "width": null
          }
        },
        "79e3718f75ae4ab8950a12509f749ec8": {
          "model_module": "@jupyter-widgets/controls",
          "model_module_version": "1.5.0",
          "model_name": "FloatProgressModel",
          "state": {
            "_dom_classes": [],
            "_model_module": "@jupyter-widgets/controls",
            "_model_module_version": "1.5.0",
            "_model_name": "FloatProgressModel",
            "_view_count": null,
            "_view_module": "@jupyter-widgets/controls",
            "_view_module_version": "1.5.0",
            "_view_name": "ProgressView",
            "bar_style": "",
            "description": "",
            "description_tooltip": null,
            "layout": "IPY_MODEL_f96de17bc5944b3da6a20659b2454a57",
            "max": 1,
            "min": 0,
            "orientation": "horizontal",
            "style": "IPY_MODEL_afd8d620646d498ebce6946ec9b1db81",
            "value": 1
          }
        },
        "7d4076615b1a4ea09e9300fd5dcfc341": {
          "model_module": "@jupyter-widgets/base",
          "model_module_version": "1.2.0",
          "model_name": "LayoutModel",
          "state": {
            "_model_module": "@jupyter-widgets/base",
            "_model_module_version": "1.2.0",
            "_model_name": "LayoutModel",
            "_view_count": null,
            "_view_module": "@jupyter-widgets/base",
            "_view_module_version": "1.2.0",
            "_view_name": "LayoutView",
            "align_content": null,
            "align_items": null,
            "align_self": null,
            "border": null,
            "bottom": null,
            "display": null,
            "flex": null,
            "flex_flow": null,
            "grid_area": null,
            "grid_auto_columns": null,
            "grid_auto_flow": null,
            "grid_auto_rows": null,
            "grid_column": null,
            "grid_gap": null,
            "grid_row": null,
            "grid_template_areas": null,
            "grid_template_columns": null,
            "grid_template_rows": null,
            "height": null,
            "justify_content": null,
            "justify_items": null,
            "left": null,
            "margin": null,
            "max_height": null,
            "max_width": null,
            "min_height": null,
            "min_width": null,
            "object_fit": null,
            "object_position": null,
            "order": null,
            "overflow": null,
            "overflow_x": null,
            "overflow_y": null,
            "padding": null,
            "right": null,
            "top": null,
            "visibility": null,
            "width": null
          }
        },
        "8255c296b55f450db6bc1383145a6735": {
          "model_module": "@jupyter-widgets/base",
          "model_module_version": "1.2.0",
          "model_name": "LayoutModel",
          "state": {
            "_model_module": "@jupyter-widgets/base",
            "_model_module_version": "1.2.0",
            "_model_name": "LayoutModel",
            "_view_count": null,
            "_view_module": "@jupyter-widgets/base",
            "_view_module_version": "1.2.0",
            "_view_name": "LayoutView",
            "align_content": null,
            "align_items": null,
            "align_self": null,
            "border": null,
            "bottom": null,
            "display": null,
            "flex": null,
            "flex_flow": null,
            "grid_area": null,
            "grid_auto_columns": null,
            "grid_auto_flow": null,
            "grid_auto_rows": null,
            "grid_column": null,
            "grid_gap": null,
            "grid_row": null,
            "grid_template_areas": null,
            "grid_template_columns": null,
            "grid_template_rows": null,
            "height": null,
            "justify_content": null,
            "justify_items": null,
            "left": null,
            "margin": null,
            "max_height": null,
            "max_width": null,
            "min_height": null,
            "min_width": null,
            "object_fit": null,
            "object_position": null,
            "order": null,
            "overflow": null,
            "overflow_x": null,
            "overflow_y": null,
            "padding": null,
            "right": null,
            "top": null,
            "visibility": null,
            "width": null
          }
        },
        "8536ed8ff4bc450b9f149ccf6af5ba7c": {
          "model_module": "@jupyter-widgets/base",
          "model_module_version": "1.2.0",
          "model_name": "LayoutModel",
          "state": {
            "_model_module": "@jupyter-widgets/base",
            "_model_module_version": "1.2.0",
            "_model_name": "LayoutModel",
            "_view_count": null,
            "_view_module": "@jupyter-widgets/base",
            "_view_module_version": "1.2.0",
            "_view_name": "LayoutView",
            "align_content": null,
            "align_items": null,
            "align_self": null,
            "border": null,
            "bottom": null,
            "display": null,
            "flex": null,
            "flex_flow": null,
            "grid_area": null,
            "grid_auto_columns": null,
            "grid_auto_flow": null,
            "grid_auto_rows": null,
            "grid_column": null,
            "grid_gap": null,
            "grid_row": null,
            "grid_template_areas": null,
            "grid_template_columns": null,
            "grid_template_rows": null,
            "height": null,
            "justify_content": null,
            "justify_items": null,
            "left": null,
            "margin": null,
            "max_height": null,
            "max_width": null,
            "min_height": null,
            "min_width": null,
            "object_fit": null,
            "object_position": null,
            "order": null,
            "overflow": null,
            "overflow_x": null,
            "overflow_y": null,
            "padding": null,
            "right": null,
            "top": null,
            "visibility": null,
            "width": null
          }
        },
        "883e3cf88bd64ec2b864b97ea0c56ec3": {
          "model_module": "@jupyter-widgets/base",
          "model_module_version": "1.2.0",
          "model_name": "LayoutModel",
          "state": {
            "_model_module": "@jupyter-widgets/base",
            "_model_module_version": "1.2.0",
            "_model_name": "LayoutModel",
            "_view_count": null,
            "_view_module": "@jupyter-widgets/base",
            "_view_module_version": "1.2.0",
            "_view_name": "LayoutView",
            "align_content": null,
            "align_items": null,
            "align_self": null,
            "border": null,
            "bottom": null,
            "display": null,
            "flex": null,
            "flex_flow": null,
            "grid_area": null,
            "grid_auto_columns": null,
            "grid_auto_flow": null,
            "grid_auto_rows": null,
            "grid_column": null,
            "grid_gap": null,
            "grid_row": null,
            "grid_template_areas": null,
            "grid_template_columns": null,
            "grid_template_rows": null,
            "height": null,
            "justify_content": null,
            "justify_items": null,
            "left": null,
            "margin": null,
            "max_height": null,
            "max_width": null,
            "min_height": null,
            "min_width": null,
            "object_fit": null,
            "object_position": null,
            "order": null,
            "overflow": null,
            "overflow_x": null,
            "overflow_y": null,
            "padding": null,
            "right": null,
            "top": null,
            "visibility": null,
            "width": null
          }
        },
        "8fd470e62bd446a79db5d58aa0587597": {
          "model_module": "@jupyter-widgets/controls",
          "model_module_version": "1.5.0",
          "model_name": "FloatProgressModel",
          "state": {
            "_dom_classes": [],
            "_model_module": "@jupyter-widgets/controls",
            "_model_module_version": "1.5.0",
            "_model_name": "FloatProgressModel",
            "_view_count": null,
            "_view_module": "@jupyter-widgets/controls",
            "_view_module_version": "1.5.0",
            "_view_name": "ProgressView",
            "bar_style": "success",
            "description": "",
            "description_tooltip": null,
            "layout": "IPY_MODEL_c101806b79714245a6439028e401ad68",
            "max": 188878,
            "min": 0,
            "orientation": "horizontal",
            "style": "IPY_MODEL_0d6588d585c247b19e63ac6f37c30cb8",
            "value": 188878
          }
        },
        "907467cdd10b41588491451fc0ff4196": {
          "model_module": "@jupyter-widgets/controls",
          "model_module_version": "1.5.0",
          "model_name": "LabelModel",
          "state": {
            "_dom_classes": [],
            "_model_module": "@jupyter-widgets/controls",
            "_model_module_version": "1.5.0",
            "_model_name": "LabelModel",
            "_view_count": null,
            "_view_module": "@jupyter-widgets/controls",
            "_view_module_version": "1.5.0",
            "_view_name": "LabelView",
            "description": "",
            "description_tooltip": null,
            "layout": "IPY_MODEL_8536ed8ff4bc450b9f149ccf6af5ba7c",
            "placeholder": "​",
            "style": "IPY_MODEL_71175256ad384d66ae5e5ede77b1150c",
            "value": "0.028 MB of 0.028 MB uploaded\r"
          }
        },
        "91a23b61279d47e284c89dc3b0c5ec17": {
          "model_module": "@jupyter-widgets/controls",
          "model_module_version": "1.5.0",
          "model_name": "DescriptionStyleModel",
          "state": {
            "_model_module": "@jupyter-widgets/controls",
            "_model_module_version": "1.5.0",
            "_model_name": "DescriptionStyleModel",
            "_view_count": null,
            "_view_module": "@jupyter-widgets/base",
            "_view_module_version": "1.2.0",
            "_view_name": "StyleView",
            "description_width": ""
          }
        },
        "962abf0edc5b43db8a5f273d3f00ed48": {
          "model_module": "@jupyter-widgets/base",
          "model_module_version": "1.2.0",
          "model_name": "LayoutModel",
          "state": {
            "_model_module": "@jupyter-widgets/base",
            "_model_module_version": "1.2.0",
            "_model_name": "LayoutModel",
            "_view_count": null,
            "_view_module": "@jupyter-widgets/base",
            "_view_module_version": "1.2.0",
            "_view_name": "LayoutView",
            "align_content": null,
            "align_items": null,
            "align_self": null,
            "border": null,
            "bottom": null,
            "display": null,
            "flex": null,
            "flex_flow": null,
            "grid_area": null,
            "grid_auto_columns": null,
            "grid_auto_flow": null,
            "grid_auto_rows": null,
            "grid_column": null,
            "grid_gap": null,
            "grid_row": null,
            "grid_template_areas": null,
            "grid_template_columns": null,
            "grid_template_rows": null,
            "height": null,
            "justify_content": null,
            "justify_items": null,
            "left": null,
            "margin": null,
            "max_height": null,
            "max_width": null,
            "min_height": null,
            "min_width": null,
            "object_fit": null,
            "object_position": null,
            "order": null,
            "overflow": null,
            "overflow_x": null,
            "overflow_y": null,
            "padding": null,
            "right": null,
            "top": null,
            "visibility": null,
            "width": null
          }
        },
        "97b046eaf5664e3a95da1b0175c1c7f4": {
          "model_module": "@jupyter-widgets/controls",
          "model_module_version": "1.5.0",
          "model_name": "HBoxModel",
          "state": {
            "_dom_classes": [],
            "_model_module": "@jupyter-widgets/controls",
            "_model_module_version": "1.5.0",
            "_model_name": "HBoxModel",
            "_view_count": null,
            "_view_module": "@jupyter-widgets/controls",
            "_view_module_version": "1.5.0",
            "_view_name": "HBoxView",
            "box_style": "",
            "children": [
              "IPY_MODEL_ed7c0151c7904b3cb8c9641955d31c4c",
              "IPY_MODEL_8fd470e62bd446a79db5d58aa0587597",
              "IPY_MODEL_c7b4fb376c214bb6892e4c1f43649653"
            ],
            "layout": "IPY_MODEL_ed058522087a4a66903c60d9ddd1feff"
          }
        },
        "98821d8b62e24f7d82487cdedace92b0": {
          "model_module": "@jupyter-widgets/controls",
          "model_module_version": "1.5.0",
          "model_name": "LabelModel",
          "state": {
            "_dom_classes": [],
            "_model_module": "@jupyter-widgets/controls",
            "_model_module_version": "1.5.0",
            "_model_name": "LabelModel",
            "_view_count": null,
            "_view_module": "@jupyter-widgets/controls",
            "_view_module_version": "1.5.0",
            "_view_name": "LabelView",
            "description": "",
            "description_tooltip": null,
            "layout": "IPY_MODEL_b306818af6234b3f9acbb77028e0775c",
            "placeholder": "​",
            "style": "IPY_MODEL_a283201dd7914b5c954b649d67df58e1",
            "value": "0.028 MB of 0.028 MB uploaded\r"
          }
        },
        "9a3da0c21c2e446791d867adf6c44b92": {
          "model_module": "@jupyter-widgets/controls",
          "model_module_version": "1.5.0",
          "model_name": "ProgressStyleModel",
          "state": {
            "_model_module": "@jupyter-widgets/controls",
            "_model_module_version": "1.5.0",
            "_model_name": "ProgressStyleModel",
            "_view_count": null,
            "_view_module": "@jupyter-widgets/base",
            "_view_module_version": "1.2.0",
            "_view_name": "StyleView",
            "bar_color": null,
            "description_width": ""
          }
        },
        "9b15a6de8a8f49eba38e4324695a4e2c": {
          "model_module": "@jupyter-widgets/controls",
          "model_module_version": "1.5.0",
          "model_name": "HBoxModel",
          "state": {
            "_dom_classes": [],
            "_model_module": "@jupyter-widgets/controls",
            "_model_module_version": "1.5.0",
            "_model_name": "HBoxModel",
            "_view_count": null,
            "_view_module": "@jupyter-widgets/controls",
            "_view_module_version": "1.5.0",
            "_view_name": "HBoxView",
            "box_style": "",
            "children": [
              "IPY_MODEL_0c3d6972be5740c18bb30ffd7f861b60",
              "IPY_MODEL_274d5178abff4ca39b300673083fa3f5",
              "IPY_MODEL_f6a754af598b467fa62d3f8945b5bc6d"
            ],
            "layout": "IPY_MODEL_086934ea6fc447fda886f4baccfbcc5e"
          }
        },
        "9becc2028b834ebd8538b99cc131861d": {
          "model_module": "@jupyter-widgets/controls",
          "model_module_version": "1.5.0",
          "model_name": "VBoxModel",
          "state": {
            "_dom_classes": [],
            "_model_module": "@jupyter-widgets/controls",
            "_model_module_version": "1.5.0",
            "_model_name": "VBoxModel",
            "_view_count": null,
            "_view_module": "@jupyter-widgets/controls",
            "_view_module_version": "1.5.0",
            "_view_name": "VBoxView",
            "box_style": "",
            "children": [
              "IPY_MODEL_32deb16b7ad746e2b8554defe1812efb",
              "IPY_MODEL_08ce12e9e71c4701955820dc52d4aff7"
            ],
            "layout": "IPY_MODEL_a58a11bca2814b6dbf13774e888f25ea"
          }
        },
        "9eed33268e344af0a7dad311df7ee8a4": {
          "model_module": "@jupyter-widgets/base",
          "model_module_version": "1.2.0",
          "model_name": "LayoutModel",
          "state": {
            "_model_module": "@jupyter-widgets/base",
            "_model_module_version": "1.2.0",
            "_model_name": "LayoutModel",
            "_view_count": null,
            "_view_module": "@jupyter-widgets/base",
            "_view_module_version": "1.2.0",
            "_view_name": "LayoutView",
            "align_content": null,
            "align_items": null,
            "align_self": null,
            "border": null,
            "bottom": null,
            "display": null,
            "flex": null,
            "flex_flow": null,
            "grid_area": null,
            "grid_auto_columns": null,
            "grid_auto_flow": null,
            "grid_auto_rows": null,
            "grid_column": null,
            "grid_gap": null,
            "grid_row": null,
            "grid_template_areas": null,
            "grid_template_columns": null,
            "grid_template_rows": null,
            "height": null,
            "justify_content": null,
            "justify_items": null,
            "left": null,
            "margin": null,
            "max_height": null,
            "max_width": null,
            "min_height": null,
            "min_width": null,
            "object_fit": null,
            "object_position": null,
            "order": null,
            "overflow": null,
            "overflow_x": null,
            "overflow_y": null,
            "padding": null,
            "right": null,
            "top": null,
            "visibility": null,
            "width": null
          }
        },
        "a283201dd7914b5c954b649d67df58e1": {
          "model_module": "@jupyter-widgets/controls",
          "model_module_version": "1.5.0",
          "model_name": "DescriptionStyleModel",
          "state": {
            "_model_module": "@jupyter-widgets/controls",
            "_model_module_version": "1.5.0",
            "_model_name": "DescriptionStyleModel",
            "_view_count": null,
            "_view_module": "@jupyter-widgets/base",
            "_view_module_version": "1.2.0",
            "_view_name": "StyleView",
            "description_width": ""
          }
        },
        "a29d66c43aeb44d8885389a3057f28c8": {
          "model_module": "@jupyter-widgets/controls",
          "model_module_version": "1.5.0",
          "model_name": "ProgressStyleModel",
          "state": {
            "_model_module": "@jupyter-widgets/controls",
            "_model_module_version": "1.5.0",
            "_model_name": "ProgressStyleModel",
            "_view_count": null,
            "_view_module": "@jupyter-widgets/base",
            "_view_module_version": "1.2.0",
            "_view_name": "StyleView",
            "bar_color": null,
            "description_width": ""
          }
        },
        "a58a11bca2814b6dbf13774e888f25ea": {
          "model_module": "@jupyter-widgets/base",
          "model_module_version": "1.2.0",
          "model_name": "LayoutModel",
          "state": {
            "_model_module": "@jupyter-widgets/base",
            "_model_module_version": "1.2.0",
            "_model_name": "LayoutModel",
            "_view_count": null,
            "_view_module": "@jupyter-widgets/base",
            "_view_module_version": "1.2.0",
            "_view_name": "LayoutView",
            "align_content": null,
            "align_items": null,
            "align_self": null,
            "border": null,
            "bottom": null,
            "display": null,
            "flex": null,
            "flex_flow": null,
            "grid_area": null,
            "grid_auto_columns": null,
            "grid_auto_flow": null,
            "grid_auto_rows": null,
            "grid_column": null,
            "grid_gap": null,
            "grid_row": null,
            "grid_template_areas": null,
            "grid_template_columns": null,
            "grid_template_rows": null,
            "height": null,
            "justify_content": null,
            "justify_items": null,
            "left": null,
            "margin": null,
            "max_height": null,
            "max_width": null,
            "min_height": null,
            "min_width": null,
            "object_fit": null,
            "object_position": null,
            "order": null,
            "overflow": null,
            "overflow_x": null,
            "overflow_y": null,
            "padding": null,
            "right": null,
            "top": null,
            "visibility": null,
            "width": null
          }
        },
        "a914cefc067049fabcb40cb16923b394": {
          "model_module": "@jupyter-widgets/controls",
          "model_module_version": "1.5.0",
          "model_name": "DescriptionStyleModel",
          "state": {
            "_model_module": "@jupyter-widgets/controls",
            "_model_module_version": "1.5.0",
            "_model_name": "DescriptionStyleModel",
            "_view_count": null,
            "_view_module": "@jupyter-widgets/base",
            "_view_module_version": "1.2.0",
            "_view_name": "StyleView",
            "description_width": ""
          }
        },
        "afd8d620646d498ebce6946ec9b1db81": {
          "model_module": "@jupyter-widgets/controls",
          "model_module_version": "1.5.0",
          "model_name": "ProgressStyleModel",
          "state": {
            "_model_module": "@jupyter-widgets/controls",
            "_model_module_version": "1.5.0",
            "_model_name": "ProgressStyleModel",
            "_view_count": null,
            "_view_module": "@jupyter-widgets/base",
            "_view_module_version": "1.2.0",
            "_view_name": "StyleView",
            "bar_color": null,
            "description_width": ""
          }
        },
        "b306818af6234b3f9acbb77028e0775c": {
          "model_module": "@jupyter-widgets/base",
          "model_module_version": "1.2.0",
          "model_name": "LayoutModel",
          "state": {
            "_model_module": "@jupyter-widgets/base",
            "_model_module_version": "1.2.0",
            "_model_name": "LayoutModel",
            "_view_count": null,
            "_view_module": "@jupyter-widgets/base",
            "_view_module_version": "1.2.0",
            "_view_name": "LayoutView",
            "align_content": null,
            "align_items": null,
            "align_self": null,
            "border": null,
            "bottom": null,
            "display": null,
            "flex": null,
            "flex_flow": null,
            "grid_area": null,
            "grid_auto_columns": null,
            "grid_auto_flow": null,
            "grid_auto_rows": null,
            "grid_column": null,
            "grid_gap": null,
            "grid_row": null,
            "grid_template_areas": null,
            "grid_template_columns": null,
            "grid_template_rows": null,
            "height": null,
            "justify_content": null,
            "justify_items": null,
            "left": null,
            "margin": null,
            "max_height": null,
            "max_width": null,
            "min_height": null,
            "min_width": null,
            "object_fit": null,
            "object_position": null,
            "order": null,
            "overflow": null,
            "overflow_x": null,
            "overflow_y": null,
            "padding": null,
            "right": null,
            "top": null,
            "visibility": null,
            "width": null
          }
        },
        "b364748e094644faab970ba63356e637": {
          "model_module": "@jupyter-widgets/base",
          "model_module_version": "1.2.0",
          "model_name": "LayoutModel",
          "state": {
            "_model_module": "@jupyter-widgets/base",
            "_model_module_version": "1.2.0",
            "_model_name": "LayoutModel",
            "_view_count": null,
            "_view_module": "@jupyter-widgets/base",
            "_view_module_version": "1.2.0",
            "_view_name": "LayoutView",
            "align_content": null,
            "align_items": null,
            "align_self": null,
            "border": null,
            "bottom": null,
            "display": null,
            "flex": null,
            "flex_flow": null,
            "grid_area": null,
            "grid_auto_columns": null,
            "grid_auto_flow": null,
            "grid_auto_rows": null,
            "grid_column": null,
            "grid_gap": null,
            "grid_row": null,
            "grid_template_areas": null,
            "grid_template_columns": null,
            "grid_template_rows": null,
            "height": null,
            "justify_content": null,
            "justify_items": null,
            "left": null,
            "margin": null,
            "max_height": null,
            "max_width": null,
            "min_height": null,
            "min_width": null,
            "object_fit": null,
            "object_position": null,
            "order": null,
            "overflow": null,
            "overflow_x": null,
            "overflow_y": null,
            "padding": null,
            "right": null,
            "top": null,
            "visibility": null,
            "width": null
          }
        },
        "c101806b79714245a6439028e401ad68": {
          "model_module": "@jupyter-widgets/base",
          "model_module_version": "1.2.0",
          "model_name": "LayoutModel",
          "state": {
            "_model_module": "@jupyter-widgets/base",
            "_model_module_version": "1.2.0",
            "_model_name": "LayoutModel",
            "_view_count": null,
            "_view_module": "@jupyter-widgets/base",
            "_view_module_version": "1.2.0",
            "_view_name": "LayoutView",
            "align_content": null,
            "align_items": null,
            "align_self": null,
            "border": null,
            "bottom": null,
            "display": null,
            "flex": null,
            "flex_flow": null,
            "grid_area": null,
            "grid_auto_columns": null,
            "grid_auto_flow": null,
            "grid_auto_rows": null,
            "grid_column": null,
            "grid_gap": null,
            "grid_row": null,
            "grid_template_areas": null,
            "grid_template_columns": null,
            "grid_template_rows": null,
            "height": null,
            "justify_content": null,
            "justify_items": null,
            "left": null,
            "margin": null,
            "max_height": null,
            "max_width": null,
            "min_height": null,
            "min_width": null,
            "object_fit": null,
            "object_position": null,
            "order": null,
            "overflow": null,
            "overflow_x": null,
            "overflow_y": null,
            "padding": null,
            "right": null,
            "top": null,
            "visibility": null,
            "width": null
          }
        },
        "c7b4fb376c214bb6892e4c1f43649653": {
          "model_module": "@jupyter-widgets/controls",
          "model_module_version": "1.5.0",
          "model_name": "HTMLModel",
          "state": {
            "_dom_classes": [],
            "_model_module": "@jupyter-widgets/controls",
            "_model_module_version": "1.5.0",
            "_model_name": "HTMLModel",
            "_view_count": null,
            "_view_module": "@jupyter-widgets/controls",
            "_view_module_version": "1.5.0",
            "_view_name": "HTMLView",
            "description": "",
            "description_tooltip": null,
            "layout": "IPY_MODEL_fcd90b38e07c4d059ff1d8d2cf60512d",
            "placeholder": "​",
            "style": "IPY_MODEL_19087984742e444bb708b592baa03240",
            "value": " 188878/188878 [00:04&lt;00:00, 43680.09 examples/s]"
          }
        },
        "caeb6fed5431445a92698a97319c0e47": {
          "model_module": "@jupyter-widgets/controls",
          "model_module_version": "1.5.0",
          "model_name": "DescriptionStyleModel",
          "state": {
            "_model_module": "@jupyter-widgets/controls",
            "_model_module_version": "1.5.0",
            "_model_name": "DescriptionStyleModel",
            "_view_count": null,
            "_view_module": "@jupyter-widgets/base",
            "_view_module_version": "1.2.0",
            "_view_name": "StyleView",
            "description_width": ""
          }
        },
        "cdc7b03bfd444f3f9cd5cf193bc47069": {
          "model_module": "@jupyter-widgets/controls",
          "model_module_version": "1.5.0",
          "model_name": "ProgressStyleModel",
          "state": {
            "_model_module": "@jupyter-widgets/controls",
            "_model_module_version": "1.5.0",
            "_model_name": "ProgressStyleModel",
            "_view_count": null,
            "_view_module": "@jupyter-widgets/base",
            "_view_module_version": "1.2.0",
            "_view_name": "StyleView",
            "bar_color": null,
            "description_width": ""
          }
        },
        "d223f527a7d346859044cf1595f8d13f": {
          "model_module": "@jupyter-widgets/controls",
          "model_module_version": "1.5.0",
          "model_name": "DescriptionStyleModel",
          "state": {
            "_model_module": "@jupyter-widgets/controls",
            "_model_module_version": "1.5.0",
            "_model_name": "DescriptionStyleModel",
            "_view_count": null,
            "_view_module": "@jupyter-widgets/base",
            "_view_module_version": "1.2.0",
            "_view_name": "StyleView",
            "description_width": ""
          }
        },
        "d459401c80104c37aa6cef45a27aff65": {
          "model_module": "@jupyter-widgets/controls",
          "model_module_version": "1.5.0",
          "model_name": "LabelModel",
          "state": {
            "_dom_classes": [],
            "_model_module": "@jupyter-widgets/controls",
            "_model_module_version": "1.5.0",
            "_model_name": "LabelModel",
            "_view_count": null,
            "_view_module": "@jupyter-widgets/controls",
            "_view_module_version": "1.5.0",
            "_view_name": "LabelView",
            "description": "",
            "description_tooltip": null,
            "layout": "IPY_MODEL_b364748e094644faab970ba63356e637",
            "placeholder": "​",
            "style": "IPY_MODEL_91a23b61279d47e284c89dc3b0c5ec17",
            "value": "0.028 MB of 0.028 MB uploaded\r"
          }
        },
        "d55c58b98c9b4ecfbf68a0c89ca4d7e3": {
          "model_module": "@jupyter-widgets/controls",
          "model_module_version": "1.5.0",
          "model_name": "DescriptionStyleModel",
          "state": {
            "_model_module": "@jupyter-widgets/controls",
            "_model_module_version": "1.5.0",
            "_model_name": "DescriptionStyleModel",
            "_view_count": null,
            "_view_module": "@jupyter-widgets/base",
            "_view_module_version": "1.2.0",
            "_view_name": "StyleView",
            "description_width": ""
          }
        },
        "dbaf1c2647c44049b06311f245887c2b": {
          "model_module": "@jupyter-widgets/controls",
          "model_module_version": "1.5.0",
          "model_name": "FloatProgressModel",
          "state": {
            "_dom_classes": [],
            "_model_module": "@jupyter-widgets/controls",
            "_model_module_version": "1.5.0",
            "_model_name": "FloatProgressModel",
            "_view_count": null,
            "_view_module": "@jupyter-widgets/controls",
            "_view_module_version": "1.5.0",
            "_view_name": "ProgressView",
            "bar_style": "",
            "description": "",
            "description_tooltip": null,
            "layout": "IPY_MODEL_73e700bb24db4c969bcf1433df6c4a90",
            "max": 1,
            "min": 0,
            "orientation": "horizontal",
            "style": "IPY_MODEL_503e4fca8300416ebbbdd377ecfe80a5",
            "value": 1
          }
        },
        "e61f898d0766491a8c7cc0f6ede11ad2": {
          "model_module": "@jupyter-widgets/base",
          "model_module_version": "1.2.0",
          "model_name": "LayoutModel",
          "state": {
            "_model_module": "@jupyter-widgets/base",
            "_model_module_version": "1.2.0",
            "_model_name": "LayoutModel",
            "_view_count": null,
            "_view_module": "@jupyter-widgets/base",
            "_view_module_version": "1.2.0",
            "_view_name": "LayoutView",
            "align_content": null,
            "align_items": null,
            "align_self": null,
            "border": null,
            "bottom": null,
            "display": null,
            "flex": null,
            "flex_flow": null,
            "grid_area": null,
            "grid_auto_columns": null,
            "grid_auto_flow": null,
            "grid_auto_rows": null,
            "grid_column": null,
            "grid_gap": null,
            "grid_row": null,
            "grid_template_areas": null,
            "grid_template_columns": null,
            "grid_template_rows": null,
            "height": null,
            "justify_content": null,
            "justify_items": null,
            "left": null,
            "margin": null,
            "max_height": null,
            "max_width": null,
            "min_height": null,
            "min_width": null,
            "object_fit": null,
            "object_position": null,
            "order": null,
            "overflow": null,
            "overflow_x": null,
            "overflow_y": null,
            "padding": null,
            "right": null,
            "top": null,
            "visibility": null,
            "width": null
          }
        },
        "e81a9ef7558d40be90954cf7dc2f7393": {
          "model_module": "@jupyter-widgets/controls",
          "model_module_version": "1.5.0",
          "model_name": "VBoxModel",
          "state": {
            "_dom_classes": [],
            "_model_module": "@jupyter-widgets/controls",
            "_model_module_version": "1.5.0",
            "_model_name": "VBoxModel",
            "_view_count": null,
            "_view_module": "@jupyter-widgets/controls",
            "_view_module_version": "1.5.0",
            "_view_name": "VBoxView",
            "box_style": "",
            "children": [
              "IPY_MODEL_907467cdd10b41588491451fc0ff4196",
              "IPY_MODEL_79e3718f75ae4ab8950a12509f749ec8"
            ],
            "layout": "IPY_MODEL_9eed33268e344af0a7dad311df7ee8a4"
          }
        },
        "ed058522087a4a66903c60d9ddd1feff": {
          "model_module": "@jupyter-widgets/base",
          "model_module_version": "1.2.0",
          "model_name": "LayoutModel",
          "state": {
            "_model_module": "@jupyter-widgets/base",
            "_model_module_version": "1.2.0",
            "_model_name": "LayoutModel",
            "_view_count": null,
            "_view_module": "@jupyter-widgets/base",
            "_view_module_version": "1.2.0",
            "_view_name": "LayoutView",
            "align_content": null,
            "align_items": null,
            "align_self": null,
            "border": null,
            "bottom": null,
            "display": null,
            "flex": null,
            "flex_flow": null,
            "grid_area": null,
            "grid_auto_columns": null,
            "grid_auto_flow": null,
            "grid_auto_rows": null,
            "grid_column": null,
            "grid_gap": null,
            "grid_row": null,
            "grid_template_areas": null,
            "grid_template_columns": null,
            "grid_template_rows": null,
            "height": null,
            "justify_content": null,
            "justify_items": null,
            "left": null,
            "margin": null,
            "max_height": null,
            "max_width": null,
            "min_height": null,
            "min_width": null,
            "object_fit": null,
            "object_position": null,
            "order": null,
            "overflow": null,
            "overflow_x": null,
            "overflow_y": null,
            "padding": null,
            "right": null,
            "top": null,
            "visibility": null,
            "width": null
          }
        },
        "ed7c0151c7904b3cb8c9641955d31c4c": {
          "model_module": "@jupyter-widgets/controls",
          "model_module_version": "1.5.0",
          "model_name": "HTMLModel",
          "state": {
            "_dom_classes": [],
            "_model_module": "@jupyter-widgets/controls",
            "_model_module_version": "1.5.0",
            "_model_name": "HTMLModel",
            "_view_count": null,
            "_view_module": "@jupyter-widgets/controls",
            "_view_module_version": "1.5.0",
            "_view_name": "HTMLView",
            "description": "",
            "description_tooltip": null,
            "layout": "IPY_MODEL_4e61db194d8f45d481ac39c0accd8778",
            "placeholder": "​",
            "style": "IPY_MODEL_caeb6fed5431445a92698a97319c0e47",
            "value": "Filter: 100%"
          }
        },
        "f034bd62a7ee4ef788239825b5673aa2": {
          "model_module": "@jupyter-widgets/controls",
          "model_module_version": "1.5.0",
          "model_name": "LabelModel",
          "state": {
            "_dom_classes": [],
            "_model_module": "@jupyter-widgets/controls",
            "_model_module_version": "1.5.0",
            "_model_name": "LabelModel",
            "_view_count": null,
            "_view_module": "@jupyter-widgets/controls",
            "_view_module_version": "1.5.0",
            "_view_name": "LabelView",
            "description": "",
            "description_tooltip": null,
            "layout": "IPY_MODEL_7d4076615b1a4ea09e9300fd5dcfc341",
            "placeholder": "​",
            "style": "IPY_MODEL_d55c58b98c9b4ecfbf68a0c89ca4d7e3",
            "value": "0.028 MB of 0.028 MB uploaded\r"
          }
        },
        "f48f550103a84099ab7fb3088e6f2c89": {
          "model_module": "@jupyter-widgets/controls",
          "model_module_version": "1.5.0",
          "model_name": "VBoxModel",
          "state": {
            "_dom_classes": [],
            "_model_module": "@jupyter-widgets/controls",
            "_model_module_version": "1.5.0",
            "_model_name": "VBoxModel",
            "_view_count": null,
            "_view_module": "@jupyter-widgets/controls",
            "_view_module_version": "1.5.0",
            "_view_name": "VBoxView",
            "box_style": "",
            "children": [
              "IPY_MODEL_98821d8b62e24f7d82487cdedace92b0",
              "IPY_MODEL_dbaf1c2647c44049b06311f245887c2b"
            ],
            "layout": "IPY_MODEL_962abf0edc5b43db8a5f273d3f00ed48"
          }
        },
        "f6a754af598b467fa62d3f8945b5bc6d": {
          "model_module": "@jupyter-widgets/controls",
          "model_module_version": "1.5.0",
          "model_name": "HTMLModel",
          "state": {
            "_dom_classes": [],
            "_model_module": "@jupyter-widgets/controls",
            "_model_module_version": "1.5.0",
            "_model_name": "HTMLModel",
            "_view_count": null,
            "_view_module": "@jupyter-widgets/controls",
            "_view_module_version": "1.5.0",
            "_view_name": "HTMLView",
            "description": "",
            "description_tooltip": null,
            "layout": "IPY_MODEL_41e74aaff2c045b19a4cfde07b5c9e8e",
            "placeholder": "​",
            "style": "IPY_MODEL_a914cefc067049fabcb40cb16923b394",
            "value": " 188878/188878 [00:00&lt;00:00, 598373.31 examples/s]"
          }
        },
        "f96de17bc5944b3da6a20659b2454a57": {
          "model_module": "@jupyter-widgets/base",
          "model_module_version": "1.2.0",
          "model_name": "LayoutModel",
          "state": {
            "_model_module": "@jupyter-widgets/base",
            "_model_module_version": "1.2.0",
            "_model_name": "LayoutModel",
            "_view_count": null,
            "_view_module": "@jupyter-widgets/base",
            "_view_module_version": "1.2.0",
            "_view_name": "LayoutView",
            "align_content": null,
            "align_items": null,
            "align_self": null,
            "border": null,
            "bottom": null,
            "display": null,
            "flex": null,
            "flex_flow": null,
            "grid_area": null,
            "grid_auto_columns": null,
            "grid_auto_flow": null,
            "grid_auto_rows": null,
            "grid_column": null,
            "grid_gap": null,
            "grid_row": null,
            "grid_template_areas": null,
            "grid_template_columns": null,
            "grid_template_rows": null,
            "height": null,
            "justify_content": null,
            "justify_items": null,
            "left": null,
            "margin": null,
            "max_height": null,
            "max_width": null,
            "min_height": null,
            "min_width": null,
            "object_fit": null,
            "object_position": null,
            "order": null,
            "overflow": null,
            "overflow_x": null,
            "overflow_y": null,
            "padding": null,
            "right": null,
            "top": null,
            "visibility": null,
            "width": null
          }
        },
        "fcd90b38e07c4d059ff1d8d2cf60512d": {
          "model_module": "@jupyter-widgets/base",
          "model_module_version": "1.2.0",
          "model_name": "LayoutModel",
          "state": {
            "_model_module": "@jupyter-widgets/base",
            "_model_module_version": "1.2.0",
            "_model_name": "LayoutModel",
            "_view_count": null,
            "_view_module": "@jupyter-widgets/base",
            "_view_module_version": "1.2.0",
            "_view_name": "LayoutView",
            "align_content": null,
            "align_items": null,
            "align_self": null,
            "border": null,
            "bottom": null,
            "display": null,
            "flex": null,
            "flex_flow": null,
            "grid_area": null,
            "grid_auto_columns": null,
            "grid_auto_flow": null,
            "grid_auto_rows": null,
            "grid_column": null,
            "grid_gap": null,
            "grid_row": null,
            "grid_template_areas": null,
            "grid_template_columns": null,
            "grid_template_rows": null,
            "height": null,
            "justify_content": null,
            "justify_items": null,
            "left": null,
            "margin": null,
            "max_height": null,
            "max_width": null,
            "min_height": null,
            "min_width": null,
            "object_fit": null,
            "object_position": null,
            "order": null,
            "overflow": null,
            "overflow_x": null,
            "overflow_y": null,
            "padding": null,
            "right": null,
            "top": null,
            "visibility": null,
            "width": null
          }
        }
      }
    }
  },
  "nbformat": 4,
  "nbformat_minor": 5
}
